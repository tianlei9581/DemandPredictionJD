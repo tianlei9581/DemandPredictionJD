{
 "cells": [
  {
   "cell_type": "code",
   "execution_count": 1,
   "id": "4cedd241",
   "metadata": {
    "executionInfo": {
     "elapsed": 173,
     "status": "ok",
     "timestamp": 1647236224020,
     "user": {
      "displayName": "Peng Xu",
      "photoUrl": "https://lh3.googleusercontent.com/a-/AOh14GihYc7h5im61ge3uVxyNDW7QWZ3KrL0gLMarQHM=s64",
      "userId": "13852652645537005974"
     },
     "user_tz": 420
    },
    "id": "4cedd241"
   },
   "outputs": [
    {
     "name": "stderr",
     "output_type": "stream",
     "text": [
      "/usr/local/lib/python3.9/site-packages/tqdm/auto.py:22: TqdmWarning: IProgress not found. Please update jupyter and ipywidgets. See https://ipywidgets.readthedocs.io/en/stable/user_install.html\n",
      "  from .autonotebook import tqdm as notebook_tqdm\n"
     ]
    }
   ],
   "source": [
    "import pandas as pd\n",
    "import json\n",
    "import numpy as np\n",
    "import torch\n",
    "from torch.autograd import Variable\n",
    "import matplotlib.pyplot as plt\n",
    "from sklearn.metrics import r2_score\n",
    "from sklearn.metrics import mean_squared_error\n",
    "from sklearn.preprocessing import StandardScaler\n",
    "from sklearn.linear_model import LinearRegression\n",
    "import seaborn as sns\n",
    "\n",
    "from sklearn.model_selection import KFold"
   ]
  },
  {
   "cell_type": "code",
   "execution_count": 2,
   "id": "0b97ec81",
   "metadata": {
    "executionInfo": {
     "elapsed": 387,
     "status": "ok",
     "timestamp": 1647236229200,
     "user": {
      "displayName": "Peng Xu",
      "photoUrl": "https://lh3.googleusercontent.com/a-/AOh14GihYc7h5im61ge3uVxyNDW7QWZ3KrL0gLMarQHM=s64",
      "userId": "13852652645537005974"
     },
     "user_tz": 420
    },
    "id": "0b97ec81"
   },
   "outputs": [],
   "source": [
    "with open('order_dict.json') as f:\n",
    "    data = json.load(f)\n",
    "with open('capstone_jd_msom_data-minus-click-data/warehouse_capacity.json') as f2:\n",
    "    warehouse_capacity = json.load(f2)"
   ]
  },
  {
   "cell_type": "code",
   "execution_count": 3,
   "id": "d244a6c4",
   "metadata": {},
   "outputs": [],
   "source": [
    "capacity = {int(k):v[1] for k, v in warehouse_capacity.items()}"
   ]
  },
  {
   "cell_type": "code",
   "execution_count": 4,
   "id": "faa5bbbc",
   "metadata": {
    "executionInfo": {
     "elapsed": 282,
     "status": "ok",
     "timestamp": 1647236229459,
     "user": {
      "displayName": "Peng Xu",
      "photoUrl": "https://lh3.googleusercontent.com/a-/AOh14GihYc7h5im61ge3uVxyNDW7QWZ3KrL0gLMarQHM=s64",
      "userId": "13852652645537005974"
     },
     "user_tz": 420
    },
    "id": "faa5bbbc"
   },
   "outputs": [],
   "source": [
    "order_dict = {int(k):pd.DataFrame(v).set_index('day_of_month') for k, v in data.items()}"
   ]
  },
  {
   "cell_type": "code",
   "execution_count": 5,
   "id": "6557eeab",
   "metadata": {},
   "outputs": [],
   "source": [
    "def preprocessing(df_i):\n",
    "    \n",
    "    df = df_i.copy()\n",
    "    df = df.fillna(0)\n",
    "    df.replace(np.inf,0, inplace = True)\n",
    "\n",
    "    # convert data type for categorical features\n",
    "    df['cluster_id'] = df['cluster_id'].astype('object')\n",
    "    df['dc_ori_mode'] = df['dc_ori_mode'].astype('object')\n",
    "    df['day_of_week'] = df['day_of_week'].astype('object')\n",
    "\n",
    "    cat = ['cluster_id','dc_ori_mode','day_of_week']\n",
    "    num = df.drop(cat+['demand'], axis = 1).columns\n",
    "    #print(num)\n",
    "    \n",
    "    \n",
    "    # train test split\n",
    "    df_enc = pd.get_dummies(df, columns = cat, drop_first = True)\n",
    "    train_enc = df_enc.query('1<= day_of_month <= 24')\n",
    "    test_enc = df_enc.query('24 < day_of_month <= 31')\n",
    "\n",
    "    # train = df.query('1<= day_of_month <= 24')\n",
    "    # test = df.query('24 < day_of_month <= 31')\n",
    "\n",
    "    # train_enc = pd.get_dummies(train, columns = cat, drop_first = True)\n",
    "    # test_enc = pd.get_dummies(test, columns = cat)\n",
    "\n",
    "    # print(train_enc.dtypes)\n",
    "    # print(test_enc.dtypes)\n",
    "\n",
    "    # standardize data\n",
    "    scaler = StandardScaler()\n",
    "\n",
    "    # x_train = train_enc[['quantity_discount_rate_mean','day_of_week_3','cluster_id_6','cluster_id_7','cluster_id_8','cluster_id_10','dc_ori_num','dc_ori_mode_7']].to_numpy()\n",
    "    # x_test = test_enc[['quantity_discount_rate_mean','day_of_week_3','cluster_id_6','cluster_id_7','cluster_id_8','cluster_id_10','dc_ori_num','dc_ori_mode_7']]\n",
    "\n",
    "    x_train = train_enc.drop(['demand', 'discount_rate_mean','type_1_percent'], axis = 1).to_numpy() # only remove highest vif column\n",
    "    x_train = scaler.fit_transform(x_train)\n",
    "\n",
    "    y_train = train_enc['demand'].to_numpy().reshape(len(train_enc), 1)\n",
    "\n",
    "\n",
    "    x_test = test_enc.drop(['demand', 'discount_rate_mean','type_1_percent'], axis = 1) \n",
    "    x_test = scaler.fit_transform(x_test)\n",
    "\n",
    "    y_test = test_enc['demand'].to_numpy().reshape(len(test_enc), 1)\n",
    "    \n",
    "    #print(x_train.shape, y_train.shape)\n",
    "    #print(x_test.shape, y_test.shape)\n",
    "\n",
    "    return x_train, y_train, x_test, y_test"
   ]
  },
  {
   "cell_type": "code",
   "execution_count": 6,
   "id": "32206393",
   "metadata": {},
   "outputs": [
    {
     "name": "stdout",
     "output_type": "stream",
     "text": [
      "tensor(-1.2944)\n",
      "tensor(-1.2944)\n"
     ]
    }
   ],
   "source": [
    "def r2_loss(outputs, targets):\n",
    "    target_mean = torch.mean(targets)\n",
    "    ss_tot = torch.sum((targets - target_mean) ** 2)\n",
    "    ss_res = torch.sum((targets - outputs) ** 2)\n",
    "    r2 = 1 - ss_res / ss_tot\n",
    "    return r2\n",
    "\n",
    "def r2_loss_2(outputs, targets):\n",
    "    ss_tot = 0.0\n",
    "    ss_res = 0.0\n",
    "    target_mean = torch.mean(targets)\n",
    "    for i in range(0,len(outputs)):\n",
    "        ss_tot += (targets[i] - target_mean) ** 2\n",
    "        ss_res += (targets[i] - outputs[i]) ** 2\n",
    "    r2 = 1 - ss_res / ss_tot\n",
    "    return r2\n",
    "\n",
    "# TODO: need to work with tensor objects.\n",
    "def SPOLoss (d_pred, d_actual):\n",
    "    # W: items to stock the warehouse\n",
    "    # h: inventory cost\n",
    "    # s: shipping cost\n",
    "    # ci: capacity limit for warehouse i = 1000 (per month)\n",
    "    cost = 0.0\n",
    "    max_capacity = capacity_i / 31 # capacity_i is defined outside of this function\n",
    "    for i in range(0, len(d_pred)):\n",
    "        if d_pred[i] <= max_capacity:\n",
    "            w = d_pred[i]\n",
    "        else:\n",
    "            w = max_capacity\n",
    "        if w > d_actual[i]:\n",
    "            h = 2.920 * (w - d_actual[i])  # average inventory cost per sku * (w - target)\n",
    "            s = 0\n",
    "        else:\n",
    "            h = 0\n",
    "            s = 0.803 * (d_actual[i] - w)\n",
    "        cost += h + s\n",
    "    return cost\n",
    "\n",
    "def SPO_MSE_Loss(d_pred, d_actual):\n",
    "    spo_loss = SPOLoss(d_pred, d_actual)\n",
    "    mse_loss = 0.0\n",
    "    for i in range(0, len(d_pred)):\n",
    "        mse_loss += (d_pred[i] - d_actual[i]) ** 2\n",
    "    mse_loss = mse_loss / len(d_pred)\n",
    "    # mse_loss = sum((d_pred - d_actual) ** 2) / len(d_pred)    # don't use this, because d_pred can is 1*N dimention but d_actual can be N*1 dimension\n",
    "    return spo_loss + 0.1 * mse_loss\n",
    " \n",
    "# print(torch.Tensor.float(1.0))\n",
    "outputs = torch.randn(5)\n",
    "targets = torch.randn(5)\n",
    "# print(outputs.size())\n",
    "# for i in range(0,len(outputs)):\n",
    "#   print(2)\n",
    "print(r2_loss(outputs,targets))\n",
    "print(r2_loss_2(outputs,targets))\n",
    "#print(SPOLoss(outputs,targets))\n",
    "# print(torch.randn(5))\n",
    "# print(SPOLoss(1, 2))"
   ]
  },
  {
   "cell_type": "code",
   "execution_count": 7,
   "id": "d696570d",
   "metadata": {},
   "outputs": [],
   "source": [
    "# define model structure\n",
    "class linearRegression(torch.nn.Module):\n",
    "    def __init__(self, inputSize, outputSize):\n",
    "        super(linearRegression, self).__init__()\n",
    "        self.linear = torch.nn.Linear(inputSize, outputSize)\n",
    "\n",
    "    def forward(self, x):\n",
    "        out = self.linear(x)\n",
    "        return out"
   ]
  },
  {
   "cell_type": "code",
   "execution_count": 8,
   "id": "a142e18e",
   "metadata": {
    "colab": {
     "base_uri": "https://localhost:8080/",
     "height": 1000
    },
    "executionInfo": {
     "elapsed": 1341,
     "status": "ok",
     "timestamp": 1647244512390,
     "user": {
      "displayName": "Peng Xu",
      "photoUrl": "https://lh3.googleusercontent.com/a-/AOh14GihYc7h5im61ge3uVxyNDW7QWZ3KrL0gLMarQHM=s64",
      "userId": "13852652645537005974"
     },
     "user_tz": 420
    },
    "id": "a142e18e",
    "outputId": "d8e7987d-40ba-4d35-aa11-58399b13dc29"
   },
   "outputs": [],
   "source": [
    "# define training and evaluation functions\n",
    "\n",
    "def predict(model, x):\n",
    "    \n",
    "    \"\"\"\n",
    "    takes in a pytorch model and a matrix of features\n",
    "    return a list of predictions\n",
    "    \"\"\"\n",
    "    \n",
    "    with torch.no_grad(): # we don't need gradients in the testing phase\n",
    "    # if torch.cuda.is_available():\n",
    "    #     pred_y_train = model(Variable(torch.from_numpy(x_train).float().cuda())).cpu().data.numpy()\n",
    "    # else:\n",
    "    #     pred_y_train = model(Variable(torch.from_numpy(x_train).float())).data.numpy()\n",
    "        pred_y = model(Variable(torch.from_numpy(x).float())).data.numpy()\n",
    "        pred_y = [pred_y[x].item() for x in range(len(pred_y))]\n",
    "    return pred_y\n",
    "\n",
    "def linearRegressionTrain(x_train, y_train, learningRate, epochs, loss_type = 'MSE', regularize = 'None', l1_penalty = 0, l2_penalty = 0, plot = True, verbose = True):\n",
    "    \"\"\"\n",
    "    input: \n",
    "        - x_train whose type is numpy.ndarray\n",
    "        - y_train whose type is numpy.ndarray\n",
    "        - learningRate\n",
    "        - epochs\n",
    "        - regularization can be either \"None\" or \"l1\" or \"l2\", default is none\n",
    "        - loss_type can be either \"MSE\" or \"SPO\" or \"SPO_MSE\", default is 'MSE'\n",
    "        - plot: whether you want to plot the loss against epochs, default is True\n",
    "        \n",
    "    output:\n",
    "        trained pytorch linear regression model\n",
    "    \"\"\"\n",
    "    _, inputDim = x_train.shape\n",
    "    outputDim = 1       # takes variable 'y'\n",
    "    \n",
    "    loss_list = []\n",
    "\n",
    "    model = linearRegression(inputDim, outputDim)\n",
    "    \n",
    "    ##### For GPU #######\n",
    "    # if torch.cuda.is_available():\n",
    "    #     model.cuda()\n",
    "    \n",
    "    # initialize the loss function and optimizer\n",
    "    if loss_type == 'MSE': \n",
    "        \n",
    "        criterion = torch.nn.MSELoss()  \n",
    "        # criterion = r2_loss\n",
    "        \n",
    "        if regularize == 'None' or regularize == 'l1':\n",
    "            optimizer = torch.optim.SGD(model.parameters(), lr=learningRate)\n",
    "        else: # regularize = 'l2'\n",
    "            optimizer = torch.optim.SGD(model.parameters(),weight_decay = l2_penalty, lr=learningRate)\n",
    "            \n",
    "    elif loss_type == 'SPO': # change loss function and switch to adam optimizer\n",
    "        \n",
    "        criterion = SPOLoss\n",
    "        \n",
    "        if regularize == 'None' or regularize == 'l1':\n",
    "            optimizer = torch.optim.Adam(model.parameters(), lr=learningRate)\n",
    "        else: # regularize = 'l2'\n",
    "            optimizer = torch.optim.Adam(model.parameters(),weight_decay = l2_penalty, lr=learningRate)\n",
    "\n",
    "    elif loss_type == 'SPO_MSE': # change loss function and switch to adam optimizer\n",
    "        \n",
    "        criterion = SPO_MSE_Loss\n",
    "        \n",
    "        if regularize == 'None' or regularize == 'l1':\n",
    "            optimizer = torch.optim.Adam(model.parameters(), lr=learningRate)\n",
    "        else: # regularize = 'l2'\n",
    "            optimizer = torch.optim.Adam(model.parameters(),weight_decay = l2_penalty, lr=learningRate)\n",
    "\n",
    "    else:\n",
    "        raise Exception('wrong loss_type')\n",
    "        \n",
    "    # model training\n",
    "\n",
    "    for epoch in range(epochs):\n",
    "        # Converting inputs and labels to Variable\n",
    "        # if torch.cuda.is_available():\n",
    "        #     inputs = Variable(torch.from_numpy(x_train).cuda())\n",
    "        #     labels = Variable(torch.from_numpy(y_train).cuda())\n",
    "        # else:\n",
    "        #     inputs = Variable(torch.from_numpy(x_train))\n",
    "        #     labels = Variable(torch.from_numpy(y_train))\n",
    "        inputs = Variable(torch.from_numpy(x_train))\n",
    "        labels = Variable(torch.from_numpy(y_train))\n",
    "\n",
    "        # Clear gradient buffers because we don't want any gradient from previous epoch to carry forward, dont want to cummulate gradients\n",
    "        optimizer.zero_grad()\n",
    "\n",
    "        # get output from the model, given the inputs\n",
    "        outputs = model(inputs.type(torch.FloatTensor))\n",
    "\n",
    "        # get loss for the predicted output\n",
    "        loss = criterion(outputs, labels.type(torch.FloatTensor))\n",
    "        \n",
    "        if regularize == 'l1':\n",
    "            l1_norm = l1_penalty * torch.norm(model.linear.weight, p=1) # double check\n",
    "            loss += l1_norm\n",
    "            \n",
    "        # get gradients w.r.t to parameters\n",
    "        loss.backward()\n",
    "\n",
    "        # update parameters\n",
    "        optimizer.step()\n",
    "\n",
    "        # break loop if percent changae in loss is less than 0.1%\n",
    "        if (len(loss_list) > 300) and (abs((loss.data - loss_list[-1])/loss_list[-1]) <0.0001):\n",
    "            loss_list.append(loss.data)\n",
    "            break\n",
    "            \n",
    "        # store loss\n",
    "        loss_list.append(loss.data)\n",
    "\n",
    "        # print loss\n",
    "        #if(epoch % 100 == 0):\n",
    "            #print('epoch {}, loss {}'.format(epoch, loss.data))\n",
    "    \n",
    "    if plot:\n",
    "        plt.plot(range(len(loss_list)),loss_list)\n",
    "        plt.xlabel(\"Number of Iterations\")\n",
    "        plt.ylabel(\"Loss\")\n",
    "        plt\n",
    "        \n",
    "    if verbose:\n",
    "        print('model trained using {} loss'.format(loss_type))\n",
    "        # bias b (offset or y-intercept)\n",
    "        print('y-intercept ', model.linear.bias.item())\n",
    "        # weight (w)\n",
    "        print('Coefficients ',  model.linear.weight.detach().numpy())\n",
    "    \n",
    "        pred_y_train = predict(model, x_train)\n",
    "        \n",
    "        print(\"Train MSE =\",mean_squared_error(y_train,pred_y_train))\n",
    "        print('Train R^2 =', r2_score(y_train, pred_y_train)) \n",
    "        print('Train SPO Loss =', SPOLoss(pred_y_train, y_train))\n",
    "\n",
    "    return model\n",
    "\n",
    "\n",
    "def generate_scores(y_true, y_pred):\n",
    "    MSE = mean_squared_error(y_true, y_pred)\n",
    "    R2 = r2_score(y_true, y_pred)\n",
    "    SPO = SPOLoss(y_pred, y_true)\n",
    "    SPO_mean = SPO / len(y_pred)\n",
    "    SPO_MSE = SPO_MSE_Loss(y_pred, y_true)\n",
    "    SPO_MSE_mean = SPO_MSE / len(y_pred)\n",
    "    #print(\"Train MSE =\", MSE)\n",
    "    #print('Train R^2 =', R2) \n",
    "    #print('Train SPO Loss =', SPO)\n",
    "    return pd.DataFrame({'MSE': MSE, 'R^2': R2, 'SPO Loss': SPO, 'SPO_MSE_Weighted_Loss':SPO_MSE, 'SPO_MSE_Weighted_Loss Ave': SPO_MSE_mean, 'SPO Loss Ave': SPO_mean})\n",
    "\n",
    "def evaluation(model, x_train, x_test, y_train, y_test, plot = True):\n",
    "    \n",
    "    \"\"\"\n",
    "    this function only works for pytorch model\n",
    "    \n",
    "    return a 2x4 dataframe: \n",
    "        - one row for training set, the other row for testing\n",
    "        - 4 columns are 4 scores: MSE, R2, SPO, SPO Ave\n",
    "    \"\"\"\n",
    "\n",
    "    pred_y_train = predict(model, x_train)\n",
    "    pred_y_test = predict(model, x_test)\n",
    "\n",
    "    # Comparing Actual and predicted values\n",
    "    if plot:\n",
    "        plt.figure(figsize=(7,7))\n",
    "        plt.scatter(y_train, pred_y_train, c='b', s=10)\n",
    "        plt.xlabel('Train Actual Demand'), plt.ylabel('Train Predicted Demand');\n",
    "        lim = 100\n",
    "        x = y = range(lim)\n",
    "        plt.plot(x,y, c='brown')\n",
    "        plt.xlim(0,lim), plt.ylim(0,lim);\n",
    "        plt\n",
    "\n",
    "        plt.figure(figsize=(7,7))\n",
    "        plt.scatter(y_test, pred_y_test, c='b', s=10)\n",
    "        plt.xlabel('Test Actual Demand'), plt.ylabel('Test Predicted Demand');\n",
    "        lim = 100\n",
    "        x = y = range(lim)\n",
    "        plt.plot(x,y, c='brown')\n",
    "        plt.xlim(0,lim), plt.ylim(0,lim);\n",
    "        plt\n",
    "\n",
    "    score_df = pd.concat([generate_scores(y_train, pred_y_train), generate_scores(y_test, pred_y_test)])\n",
    "    score_df.index = ['train', 'test']\n",
    "    \n",
    "    return score_df"
   ]
  },
  {
   "cell_type": "code",
   "execution_count": 10,
   "id": "d86ba545",
   "metadata": {},
   "outputs": [],
   "source": [
    "import timeit\n",
    "def cross_validate(x_train, y_train, loss_type, regularize, plot = True):\n",
    "    \n",
    "    # return the best penalty coefficient that minimize average validation error\n",
    "    start = timeit.default_timer()\n",
    "    \n",
    "    aveloss = dict()\n",
    "    kfold = KFold(n_splits = 5)\n",
    "    \n",
    "    if loss_type == 'MSE':\n",
    "        learningRate = 0.02\n",
    "        epochs = 301\n",
    "        grid = 10**-np.linspace(0,1,11) if regularize == 'l2' else 10**-np.linspace(0,5,11)\n",
    "        \n",
    "    elif loss_type == 'SPO':\n",
    "        learningRate = 0.05\n",
    "        epochs = 301\n",
    "        grid = 10**-np.linspace(-1,5,20)\n",
    "        \n",
    "\n",
    "    if regularize == 'l2':\n",
    "        \n",
    "        for i in grid:\n",
    "            loss = 0\n",
    "            \n",
    "            for train_index, test_index in kfold.split(x_train, y_train):\n",
    "                x_train_fold = x_train[train_index]\n",
    "                y_train_fold = y_train[train_index]\n",
    "                x_test_fold = x_train[test_index]\n",
    "                y_test_fold = y_train[test_index]\n",
    "\n",
    "                model_i = linearRegressionTrain(x_train_fold, y_train_fold, learningRate, epochs, loss_type, regularize, l2_penalty = i, plot = False, verbose = False)\n",
    "\n",
    "                pred_y_validate = predict(model_i, x_test_fold)\n",
    "                \n",
    "                loss_i = generate_scores(y_test_fold, pred_y_validate)['MSE'][0] if loss_type == 'MSE' else  generate_scores(y_test_fold, pred_y_validate)['SPO Loss'][0]\n",
    "                loss += loss_i\n",
    "                \n",
    "            aveloss[i]  = loss / 5\n",
    "            #print(i)\n",
    "            \n",
    "    elif regularize == 'l1':\n",
    "        \n",
    "        for i in grid:\n",
    "            loss = 0\n",
    "            \n",
    "            for train_index, test_index in kfold.split(x_train, y_train):\n",
    "                x_train_fold = x_train[train_index]\n",
    "                y_train_fold = y_train[train_index]\n",
    "                x_test_fold = x_train[test_index]\n",
    "                y_test_fold = y_train[test_index]\n",
    "\n",
    "                model_i = linearRegressionTrain(x_train_fold, y_train_fold, learningRate, epochs, loss_type, regularize, l1_penalty = i, plot = False, verbose = False)\n",
    "\n",
    "                pred_y_validate = predict(model_i, x_test_fold)\n",
    "                \n",
    "                loss_i = generate_scores(y_test_fold, pred_y_validate)['MSE'][0] if loss_type == 'MSE' else  generate_scores(y_test_fold, pred_y_validate)['SPO Loss'][0]\n",
    "                loss += loss_i\n",
    "                \n",
    "            aveloss[i]  = loss / 5\n",
    "    else:\n",
    "        raise Exception('wrong regularization type')\n",
    "        \n",
    "    if plot:\n",
    "        plt.plot(aveloss.keys(), aveloss.values())\n",
    "        plt.xlabel('penalty coefficient')\n",
    "        plt.ylabel('average {} error on validation sets'.format(loss_type))\n",
    "        plt.title('Cross Validation for {} Regularization'.format(regularize))\n",
    "        plt.show()\n",
    "        \n",
    "    best = min(aveloss, key = aveloss.get)\n",
    "    print('The best penalty coefficient is '+ str(best))\n",
    "    \n",
    "    stop = timeit.default_timer()\n",
    "    print('Time: ', stop - start)  \n",
    "    return best"
   ]
  },
  {
   "cell_type": "code",
   "execution_count": 32,
   "id": "17423fbe",
   "metadata": {},
   "outputs": [],
   "source": [
    "i = 2\n",
    "x_train, y_train, x_test, y_test = preprocessing(order_dict[i])\n",
    "capacity_i = capacity[i]\n",
    "#capacity_i = 1000"
   ]
  },
  {
   "cell_type": "code",
   "execution_count": 12,
   "id": "f96156b5",
   "metadata": {},
   "outputs": [],
   "source": [
    "#cross_validate(x_train, y_train, 'MSE', 'l2')"
   ]
  },
  {
   "cell_type": "code",
   "execution_count": 13,
   "id": "da87a468",
   "metadata": {},
   "outputs": [],
   "source": [
    "#cross_validate(x_train, y_train, 'MSE', 'l1')"
   ]
  },
  {
   "cell_type": "code",
   "execution_count": 22,
   "id": "6f102738",
   "metadata": {
    "scrolled": true
   },
   "outputs": [
    {
     "data": {
      "image/png": "[encoded data removed]",
      "text/plain": [
       "<Figure size 432x288 with 1 Axes>"
      ]
     },
     "metadata": {
      "needs_background": "light"
     },
     "output_type": "display_data"
    },
    {
     "name": "stdout",
     "output_type": "stream",
     "text": [
      "The best penalty coefficient is 3.72759372031494\n",
      "Time:  332.093205752\n"
     ]
    },
    {
     "data": {
      "text/plain": [
       "3.72759372031494"
      ]
     },
     "execution_count": 22,
     "metadata": {},
     "output_type": "execute_result"
    }
   ],
   "source": [
    "#cross_validate(x_train, y_train, 'SPO', 'l2')"
   ]
  },
  {
   "cell_type": "code",
   "execution_count": 13,
   "id": "c1452b3a",
   "metadata": {},
   "outputs": [
    {
     "data": {
      "image/png": "[encoded data removed]",
      "text/plain": [
       "<Figure size 432x288 with 1 Axes>"
      ]
     },
     "metadata": {
      "needs_background": "light"
     },
     "output_type": "display_data"
    },
    {
     "name": "stdout",
     "output_type": "stream",
     "text": [
      "The best penalty coefficient is 10.0\n",
      "Time:  153.40625797399997\n"
     ]
    },
    {
     "data": {
      "text/plain": [
       "10.0"
      ]
     },
     "execution_count": 13,
     "metadata": {},
     "output_type": "execute_result"
    }
   ],
   "source": [
    "#cross_validate(x_train, y_train, 'SPO', 'l1')"
   ]
  },
  {
   "cell_type": "markdown",
   "id": "d67e1c24",
   "metadata": {},
   "source": [
    "## MSE loss models"
   ]
  },
  {
   "cell_type": "markdown",
   "id": "38f36f6d",
   "metadata": {},
   "source": [
    "### MSE loss model training"
   ]
  },
  {
   "cell_type": "code",
   "execution_count": 33,
   "id": "aa517e1a",
   "metadata": {},
   "outputs": [
    {
     "name": "stdout",
     "output_type": "stream",
     "text": [
      "model trained using MSE loss\n",
      "y-intercept  169.4676513671875\n",
      "Coefficients  [[   1.6219991    6.679027    10.670816     4.6569605  -21.29677\n",
      "    19.607693    40.45418    -20.89286     17.653103     2.1329331\n",
      "    20.453857    86.04321     29.163877    -1.3270135   42.824368\n",
      "   -11.227254    77.055534   -28.921005   -20.223108    39.9114\n",
      "    49.209316    68.58258   -100.6786      -1.8636979    2.3761084\n",
      "     9.529948    35.122604    -7.031576    -9.8292675   -7.347579 ]]\n",
      "Train MSE = 12249.26849796271\n",
      "Train R^2 = 0.7570938236876896\n",
      "Train SPO Loss = [30825.20628213]\n"
     ]
    },
    {
     "data": {
      "image/png": "[encoded data removed]",
      "text/plain": [
       "<Figure size 432x288 with 1 Axes>"
      ]
     },
     "metadata": {
      "needs_background": "light"
     },
     "output_type": "display_data"
    }
   ],
   "source": [
    "# ols model training\n",
    "\n",
    "learningRate = 0.02\n",
    "epochs = 501\n",
    "\n",
    "model_ols = linearRegressionTrain(x_train, y_train, learningRate, epochs,'MSE','None')"
   ]
  },
  {
   "cell_type": "code",
   "execution_count": 34,
   "id": "dfe69765",
   "metadata": {
    "scrolled": false
   },
   "outputs": [
    {
     "data": {
      "image/png": "[encoded data removed]",
      "text/plain": [
       "<Figure size 432x288 with 1 Axes>"
      ]
     },
     "metadata": {
      "needs_background": "light"
     },
     "output_type": "display_data"
    },
    {
     "name": "stdout",
     "output_type": "stream",
     "text": [
      "The best penalty coefficient is 0.1\n",
      "Time:  5.245529220999742\n",
      "model trained using MSE loss\n",
      "y-intercept  161.39776611328125\n",
      "Coefficients  [[  2.1039493   5.8082495   7.9495444   3.3818426 -18.627052   15.247231\n",
      "   28.092873  -23.393858   21.954332   -1.1115478  13.159355   58.394867\n",
      "   21.290606    1.7343377  47.95897   -14.914113   70.52588   -25.530825\n",
      "  -17.063349   35.275772   38.58821    58.46743   -83.60651    -2.1429338\n",
      "    2.135015    9.108086   32.141285   -6.4556365 -10.54076    -8.392343 ]]\n",
      "Train MSE = 12747.189985615425\n",
      "Train R^2 = 0.7472199112422587\n",
      "Train SPO Loss = [28591.89362936]\n"
     ]
    },
    {
     "data": {
      "image/png": "[encoded data removed]",
      "text/plain": [
       "<Figure size 432x288 with 1 Axes>"
      ]
     },
     "metadata": {
      "needs_background": "light"
     },
     "output_type": "display_data"
    }
   ],
   "source": [
    "# ridge regression (l2 regrularization)\n",
    "\n",
    "learningRate = 0.02\n",
    "epochs = 501\n",
    "\n",
    "# model training \n",
    "\n",
    "best_l2 = cross_validate(x_train, y_train, 'MSE', 'l2')\n",
    "model_ridge = linearRegressionTrain(x_train, y_train, learningRate, epochs,'MSE','l2', l2_penalty = best_l2)"
   ]
  },
  {
   "cell_type": "code",
   "execution_count": 35,
   "id": "ff26e800",
   "metadata": {},
   "outputs": [
    {
     "data": {
      "image/png": "[encoded data removed]",
      "text/plain": [
       "<Figure size 432x288 with 1 Axes>"
      ]
     },
     "metadata": {
      "needs_background": "light"
     },
     "output_type": "display_data"
    },
    {
     "name": "stdout",
     "output_type": "stream",
     "text": [
      "The best penalty coefficient is 1.0\n",
      "Time:  5.5855708570006755\n",
      "model trained using MSE loss\n",
      "y-intercept  169.4676513671875\n",
      "Coefficients  [[  0.8643598    5.7559905    9.950113     4.2707353  -19.21589\n",
      "   16.783731    34.304134   -20.288685    17.704554     0.54558593\n",
      "   12.804857    80.86286     22.858723    -1.1114991   44.517437\n",
      "   -8.89727     77.39649    -22.929667   -14.88329     39.840294\n",
      "   46.75107     69.367676   -98.26445     -1.3065717    2.2315147\n",
      "    9.45919     34.502132    -6.4750237   -9.194968    -6.963995  ]]\n",
      "Train MSE = 12332.37839524689\n",
      "Train R^2 = 0.7554457328350508\n",
      "Train SPO Loss = [30622.14158083]\n"
     ]
    },
    {
     "data": {
      "image/png": "[encoded data removed]",
      "text/plain": [
       "<Figure size 432x288 with 1 Axes>"
      ]
     },
     "metadata": {
      "needs_background": "light"
     },
     "output_type": "display_data"
    }
   ],
   "source": [
    "# l1 regularization (lasso) - penalty coefficient set to be 0.1\n",
    "\n",
    "learningRate = 0.02\n",
    "epochs = 501\n",
    "\n",
    "best_l1 = cross_validate(x_train, y_train, 'MSE', 'l1')\n",
    "model_lasso = linearRegressionTrain(x_train, y_train, learningRate, epochs,'MSE', 'l1', l1_penalty = best_l1)"
   ]
  },
  {
   "cell_type": "markdown",
   "id": "b90a18a2",
   "metadata": {},
   "source": [
    "### MSE loss model evaluation"
   ]
  },
  {
   "cell_type": "code",
   "execution_count": 36,
   "id": "120d4a31",
   "metadata": {},
   "outputs": [
    {
     "data": {
      "text/html": [
       "<div>\n",
       "<style scoped>\n",
       "    .dataframe tbody tr th:only-of-type {\n",
       "        vertical-align: middle;\n",
       "    }\n",
       "\n",
       "    .dataframe tbody tr th {\n",
       "        vertical-align: top;\n",
       "    }\n",
       "\n",
       "    .dataframe thead th {\n",
       "        text-align: right;\n",
       "    }\n",
       "</style>\n",
       "<table border=\"1\" class=\"dataframe\">\n",
       "  <thead>\n",
       "    <tr style=\"text-align: right;\">\n",
       "      <th></th>\n",
       "      <th></th>\n",
       "      <th>MSE</th>\n",
       "      <th>R^2</th>\n",
       "      <th>SPO Loss</th>\n",
       "      <th>SPO_MSE_Weighted_Loss</th>\n",
       "      <th>SPO_MSE_Weighted_Loss Ave</th>\n",
       "      <th>SPO Loss Ave</th>\n",
       "    </tr>\n",
       "  </thead>\n",
       "  <tbody>\n",
       "    <tr>\n",
       "      <th rowspan=\"2\" valign=\"top\">mse_ols</th>\n",
       "      <th>train</th>\n",
       "      <td>12249.268498</td>\n",
       "      <td>0.757094</td>\n",
       "      <td>30825.206282</td>\n",
       "      <td>32050.133132</td>\n",
       "      <td>137.554219</td>\n",
       "      <td>132.297023</td>\n",
       "    </tr>\n",
       "    <tr>\n",
       "      <th>test</th>\n",
       "      <td>14086.590321</td>\n",
       "      <td>0.746939</td>\n",
       "      <td>7490.322395</td>\n",
       "      <td>8898.981427</td>\n",
       "      <td>132.820618</td>\n",
       "      <td>111.795857</td>\n",
       "    </tr>\n",
       "    <tr>\n",
       "      <th rowspan=\"2\" valign=\"top\">mse_ridge</th>\n",
       "      <th>train</th>\n",
       "      <td>12747.189986</td>\n",
       "      <td>0.747220</td>\n",
       "      <td>28591.893629</td>\n",
       "      <td>29866.612628</td>\n",
       "      <td>128.182887</td>\n",
       "      <td>122.711990</td>\n",
       "    </tr>\n",
       "    <tr>\n",
       "      <th>test</th>\n",
       "      <td>14483.327498</td>\n",
       "      <td>0.739812</td>\n",
       "      <td>6940.348005</td>\n",
       "      <td>8388.680755</td>\n",
       "      <td>125.204190</td>\n",
       "      <td>103.587284</td>\n",
       "    </tr>\n",
       "    <tr>\n",
       "      <th rowspan=\"2\" valign=\"top\">mse_lasso</th>\n",
       "      <th>train</th>\n",
       "      <td>12332.378395</td>\n",
       "      <td>0.755446</td>\n",
       "      <td>30622.141581</td>\n",
       "      <td>31855.379420</td>\n",
       "      <td>136.718367</td>\n",
       "      <td>131.425500</td>\n",
       "    </tr>\n",
       "    <tr>\n",
       "      <th>test</th>\n",
       "      <td>13974.740021</td>\n",
       "      <td>0.748949</td>\n",
       "      <td>7405.107777</td>\n",
       "      <td>8802.581779</td>\n",
       "      <td>131.381818</td>\n",
       "      <td>110.523997</td>\n",
       "    </tr>\n",
       "  </tbody>\n",
       "</table>\n",
       "</div>"
      ],
      "text/plain": [
       "                          MSE       R^2      SPO Loss  SPO_MSE_Weighted_Loss  \\\n",
       "mse_ols   train  12249.268498  0.757094  30825.206282           32050.133132   \n",
       "          test   14086.590321  0.746939   7490.322395            8898.981427   \n",
       "mse_ridge train  12747.189986  0.747220  28591.893629           29866.612628   \n",
       "          test   14483.327498  0.739812   6940.348005            8388.680755   \n",
       "mse_lasso train  12332.378395  0.755446  30622.141581           31855.379420   \n",
       "          test   13974.740021  0.748949   7405.107777            8802.581779   \n",
       "\n",
       "                 SPO_MSE_Weighted_Loss Ave  SPO Loss Ave  \n",
       "mse_ols   train                 137.554219    132.297023  \n",
       "          test                  132.820618    111.795857  \n",
       "mse_ridge train                 128.182887    122.711990  \n",
       "          test                  125.204190    103.587284  \n",
       "mse_lasso train                 136.718367    131.425500  \n",
       "          test                  131.381818    110.523997  "
      ]
     },
     "execution_count": 36,
     "metadata": {},
     "output_type": "execute_result"
    }
   ],
   "source": [
    "# compile results for models trained on MSE loss\n",
    "MSE_result = []\n",
    "\n",
    "for model, name in zip([model_ols, model_ridge, model_lasso],['mse_ols','mse_ridge','mse_lasso']):\n",
    "    score_df = evaluation(model, x_train, x_test, y_train, y_test, plot = False)\n",
    "    MSE_result.append(pd.concat({name:score_df}))\n",
    "    \n",
    "MSE_scores = pd.concat([MSE_result[0], MSE_result[1],MSE_result[2]])\n",
    "MSE_scores"
   ]
  },
  {
   "cell_type": "markdown",
   "id": "eedf5884",
   "metadata": {},
   "source": [
    "## SPO loss models"
   ]
  },
  {
   "cell_type": "markdown",
   "id": "e5bed1a9",
   "metadata": {},
   "source": [
    "### SPO loss model training"
   ]
  },
  {
   "cell_type": "code",
   "execution_count": null,
   "id": "c9487108",
   "metadata": {},
   "outputs": [],
   "source": [
    "parameter_dict = {}\n",
    "parameter_dict[2] = [0.05, 3001]\n"
   ]
  },
  {
   "cell_type": "code",
   "execution_count": 38,
   "id": "7c79bdd2",
   "metadata": {},
   "outputs": [
    {
     "name": "stdout",
     "output_type": "stream",
     "text": [
      "model trained using SPO loss\n",
      "y-intercept  106.64199829101562\n",
      "Coefficients  [[ -1.2931523    2.060813    -0.11849846   5.114387    -0.41079694\n",
      "   -1.821589     4.275653    -0.96795714   5.195992     0.5843031\n",
      "    7.4941173    3.3796506    0.800599    -6.983229    13.106564\n",
      "   -5.120176    68.3728      -3.9474018  -15.610575    52.680305\n",
      "   38.62494     49.331673   -18.205084    -5.99097      2.985737\n",
      "    4.3492703    4.7656193    0.6358823   -1.4973418   -2.133918  ]]\n",
      "Train MSE = 26702.16413314937\n",
      "Train R^2 = 0.4704891488070655\n",
      "Train SPO Loss = [13146.94070197]\n"
     ]
    },
    {
     "name": "stderr",
     "output_type": "stream",
     "text": [
      "/usr/local/lib/python3.9/site-packages/numpy/core/shape_base.py:65: FutureWarning: The input object of type 'Tensor' is an array-like implementing one of the corresponding protocols (`__array__`, `__array_interface__` or `__array_struct__`); but not a sequence (or 0-D). In the future, this object will be coerced as if it was first converted using `np.array(obj)`. To retain the old behaviour, you have to either modify the type 'Tensor', or assign to an empty array created with `np.empty(correct_shape, dtype=object)`.\n",
      "  ary = asanyarray(ary)\n",
      "/usr/local/lib/python3.9/site-packages/numpy/core/shape_base.py:65: VisibleDeprecationWarning: Creating an ndarray from ragged nested sequences (which is a list-or-tuple of lists-or-tuples-or ndarrays with different lengths or shapes) is deprecated. If you meant to do this, you must specify 'dtype=object' when creating the ndarray.\n",
      "  ary = asanyarray(ary)\n"
     ]
    },
    {
     "data": {
      "image/png": "[encoded data removed]",
      "text/plain": [
       "<Figure size 432x288 with 1 Axes>"
      ]
     },
     "metadata": {
      "needs_background": "light"
     },
     "output_type": "display_data"
    }
   ],
   "source": [
    "# ols\n",
    "\n",
    "learningRate = 0.05\n",
    "epochs = 3001\n",
    "\n",
    "# model training\n",
    "model_ols2 = linearRegressionTrain(x_train, y_train, learningRate, epochs,'SPO','None')"
   ]
  },
  {
   "cell_type": "code",
   "execution_count": 39,
   "id": "ad654a09",
   "metadata": {},
   "outputs": [
    {
     "data": {
      "text/plain": [
       "4"
      ]
     },
     "execution_count": 39,
     "metadata": {},
     "output_type": "execute_result"
    }
   ],
   "source": [
    "a = [1,5,4]\n",
    "a[-1]"
   ]
  },
  {
   "cell_type": "code",
   "execution_count": 23,
   "id": "df4d1e32",
   "metadata": {},
   "outputs": [
    {
     "data": {
      "image/png": "[encoded data removed]",
      "text/plain": [
       "<Figure size 432x288 with 1 Axes>"
      ]
     },
     "metadata": {
      "needs_background": "light"
     },
     "output_type": "display_data"
    },
    {
     "name": "stdout",
     "output_type": "stream",
     "text": [
      "The best penalty coefficient is 4.832930238571754\n",
      "Time:  500.78762094700005\n"
     ]
    },
    {
     "name": "stderr",
     "output_type": "stream",
     "text": [
      "/usr/local/lib/python3.9/site-packages/numpy/core/shape_base.py:65: FutureWarning: The input object of type 'Tensor' is an array-like implementing one of the corresponding protocols (`__array__`, `__array_interface__` or `__array_struct__`); but not a sequence (or 0-D). In the future, this object will be coerced as if it was first converted using `np.array(obj)`. To retain the old behaviour, you have to either modify the type 'Tensor', or assign to an empty array created with `np.empty(correct_shape, dtype=object)`.\n",
      "  ary = asanyarray(ary)\n",
      "/usr/local/lib/python3.9/site-packages/numpy/core/shape_base.py:65: VisibleDeprecationWarning: Creating an ndarray from ragged nested sequences (which is a list-or-tuple of lists-or-tuples-or ndarrays with different lengths or shapes) is deprecated. If you meant to do this, you must specify 'dtype=object' when creating the ndarray.\n",
      "  ary = asanyarray(ary)\n"
     ]
    },
    {
     "name": "stdout",
     "output_type": "stream",
     "text": [
      "model trained using SPO loss\n",
      "y-intercept  28.020341873168945\n",
      "Coefficients  [[-0.6761708   0.47779736 -0.74668926  0.09326307 -0.8806612   0.9020718\n",
      "  -0.04690744 -1.0221997   0.9189437  -0.16076487  0.63965493 -0.9240805\n",
      "  -0.63246477  1.01968     4.395547   -5.2422743   3.6694257   3.6694267\n",
      "  -5.540149    3.6694255   3.669427    3.669427   -5.5547905  -2.6867766\n",
      "  -0.02923956  0.75328285  0.25765723  0.5548283  -0.4442969  -0.9346424 ]]\n",
      "Train MSE = 65530.69478175168\n",
      "Train R^2 = -0.29949070045870996\n",
      "Train SPO Loss = [26538.08870736]\n"
     ]
    },
    {
     "data": {
      "image/png": "[encoded data removed]",
      "text/plain": [
       "<Figure size 432x288 with 1 Axes>"
      ]
     },
     "metadata": {
      "needs_background": "light"
     },
     "output_type": "display_data"
    }
   ],
   "source": [
    "# ridge regression (l2 regrularization)\n",
    "\n",
    "learningRate = 0.05\n",
    "epochs = 3001\n",
    "\n",
    "# model training\n",
    "best_l2_spo = cross_validate(x_train, y_train, 'SPO', 'l2')\n",
    "model_ridge2 = linearRegressionTrain(x_train, y_train, learningRate, epochs,'SPO','l2', l2_penalty = best_l2_spo)"
   ]
  },
  {
   "cell_type": "code",
   "execution_count": 26,
   "id": "ee8d1a54",
   "metadata": {},
   "outputs": [
    {
     "ename": "KeyboardInterrupt",
     "evalue": "",
     "output_type": "error",
     "traceback": [
      "\u001b[0;31m---------------------------------------------------------------------------\u001b[0m",
      "\u001b[0;31mKeyboardInterrupt\u001b[0m                         Traceback (most recent call last)",
      "Input \u001b[0;32mIn [26]\u001b[0m, in \u001b[0;36m<module>\u001b[0;34m\u001b[0m\n\u001b[1;32m      3\u001b[0m learningRate \u001b[38;5;241m=\u001b[39m \u001b[38;5;241m0.05\u001b[39m\n\u001b[1;32m      4\u001b[0m epochs \u001b[38;5;241m=\u001b[39m \u001b[38;5;241m1501\u001b[39m\n\u001b[0;32m----> 6\u001b[0m best_l1_spo \u001b[38;5;241m=\u001b[39m \u001b[43mcross_validate\u001b[49m\u001b[43m(\u001b[49m\u001b[43mx_train\u001b[49m\u001b[43m,\u001b[49m\u001b[43m \u001b[49m\u001b[43my_train\u001b[49m\u001b[43m,\u001b[49m\u001b[43m \u001b[49m\u001b[38;5;124;43m'\u001b[39;49m\u001b[38;5;124;43mSPO\u001b[39;49m\u001b[38;5;124;43m'\u001b[39;49m\u001b[43m,\u001b[49m\u001b[43m \u001b[49m\u001b[38;5;124;43m'\u001b[39;49m\u001b[38;5;124;43ml1\u001b[39;49m\u001b[38;5;124;43m'\u001b[39;49m\u001b[43m)\u001b[49m\n\u001b[1;32m      7\u001b[0m model_lasso2 \u001b[38;5;241m=\u001b[39m linearRegressionTrain(x_train, y_train, learningRate, epochs,\u001b[38;5;124m'\u001b[39m\u001b[38;5;124mSPO\u001b[39m\u001b[38;5;124m'\u001b[39m, \u001b[38;5;124m'\u001b[39m\u001b[38;5;124ml1\u001b[39m\u001b[38;5;124m'\u001b[39m, l1_penalty \u001b[38;5;241m=\u001b[39m best_l1_spo)\n",
      "Input \u001b[0;32mIn [10]\u001b[0m, in \u001b[0;36mcross_validate\u001b[0;34m(x_train, y_train, loss_type, regularize, plot)\u001b[0m\n\u001b[1;32m     50\u001b[0m x_test_fold \u001b[38;5;241m=\u001b[39m x_train[test_index]\n\u001b[1;32m     51\u001b[0m y_test_fold \u001b[38;5;241m=\u001b[39m y_train[test_index]\n\u001b[0;32m---> 53\u001b[0m model_i \u001b[38;5;241m=\u001b[39m \u001b[43mlinearRegressionTrain\u001b[49m\u001b[43m(\u001b[49m\u001b[43mx_train_fold\u001b[49m\u001b[43m,\u001b[49m\u001b[43m \u001b[49m\u001b[43my_train_fold\u001b[49m\u001b[43m,\u001b[49m\u001b[43m \u001b[49m\u001b[43mlearningRate\u001b[49m\u001b[43m,\u001b[49m\u001b[43m \u001b[49m\u001b[43mepochs\u001b[49m\u001b[43m,\u001b[49m\u001b[43m \u001b[49m\u001b[43mloss_type\u001b[49m\u001b[43m,\u001b[49m\u001b[43m \u001b[49m\u001b[43mregularize\u001b[49m\u001b[43m,\u001b[49m\u001b[43m \u001b[49m\u001b[43ml1_penalty\u001b[49m\u001b[43m \u001b[49m\u001b[38;5;241;43m=\u001b[39;49m\u001b[43m \u001b[49m\u001b[43mi\u001b[49m\u001b[43m,\u001b[49m\u001b[43m \u001b[49m\u001b[43mplot\u001b[49m\u001b[43m \u001b[49m\u001b[38;5;241;43m=\u001b[39;49m\u001b[43m \u001b[49m\u001b[38;5;28;43;01mFalse\u001b[39;49;00m\u001b[43m,\u001b[49m\u001b[43m \u001b[49m\u001b[43mverbose\u001b[49m\u001b[43m \u001b[49m\u001b[38;5;241;43m=\u001b[39;49m\u001b[43m \u001b[49m\u001b[38;5;28;43;01mFalse\u001b[39;49;00m\u001b[43m)\u001b[49m\n\u001b[1;32m     55\u001b[0m pred_y_validate \u001b[38;5;241m=\u001b[39m predict(model_i, x_test_fold)\n\u001b[1;32m     57\u001b[0m loss_i \u001b[38;5;241m=\u001b[39m generate_scores(y_test_fold, pred_y_validate)[\u001b[38;5;124m'\u001b[39m\u001b[38;5;124mMSE\u001b[39m\u001b[38;5;124m'\u001b[39m][\u001b[38;5;241m0\u001b[39m] \u001b[38;5;28;01mif\u001b[39;00m loss_type \u001b[38;5;241m==\u001b[39m \u001b[38;5;124m'\u001b[39m\u001b[38;5;124mMSE\u001b[39m\u001b[38;5;124m'\u001b[39m \u001b[38;5;28;01melse\u001b[39;00m  generate_scores(y_test_fold, pred_y_validate)[\u001b[38;5;124m'\u001b[39m\u001b[38;5;124mSPO Loss\u001b[39m\u001b[38;5;124m'\u001b[39m][\u001b[38;5;241m0\u001b[39m]\n",
      "Input \u001b[0;32mIn [8]\u001b[0m, in \u001b[0;36mlinearRegressionTrain\u001b[0;34m(x_train, y_train, learningRate, epochs, loss_type, regularize, l1_penalty, l2_penalty, plot, verbose)\u001b[0m\n\u001b[1;32m    100\u001b[0m     loss \u001b[38;5;241m+\u001b[39m\u001b[38;5;241m=\u001b[39m l1_norm\n\u001b[1;32m    102\u001b[0m \u001b[38;5;66;03m# get gradients w.r.t to parameters\u001b[39;00m\n\u001b[0;32m--> 103\u001b[0m \u001b[43mloss\u001b[49m\u001b[38;5;241;43m.\u001b[39;49m\u001b[43mbackward\u001b[49m\u001b[43m(\u001b[49m\u001b[43m)\u001b[49m\n\u001b[1;32m    105\u001b[0m \u001b[38;5;66;03m# update parameters\u001b[39;00m\n\u001b[1;32m    106\u001b[0m optimizer\u001b[38;5;241m.\u001b[39mstep()\n",
      "File \u001b[0;32m/usr/local/lib/python3.9/site-packages/torch/_tensor.py:307\u001b[0m, in \u001b[0;36mTensor.backward\u001b[0;34m(self, gradient, retain_graph, create_graph, inputs)\u001b[0m\n\u001b[1;32m    298\u001b[0m \u001b[38;5;28;01mif\u001b[39;00m has_torch_function_unary(\u001b[38;5;28mself\u001b[39m):\n\u001b[1;32m    299\u001b[0m     \u001b[38;5;28;01mreturn\u001b[39;00m handle_torch_function(\n\u001b[1;32m    300\u001b[0m         Tensor\u001b[38;5;241m.\u001b[39mbackward,\n\u001b[1;32m    301\u001b[0m         (\u001b[38;5;28mself\u001b[39m,),\n\u001b[0;32m   (...)\u001b[0m\n\u001b[1;32m    305\u001b[0m         create_graph\u001b[38;5;241m=\u001b[39mcreate_graph,\n\u001b[1;32m    306\u001b[0m         inputs\u001b[38;5;241m=\u001b[39minputs)\n\u001b[0;32m--> 307\u001b[0m \u001b[43mtorch\u001b[49m\u001b[38;5;241;43m.\u001b[39;49m\u001b[43mautograd\u001b[49m\u001b[38;5;241;43m.\u001b[39;49m\u001b[43mbackward\u001b[49m\u001b[43m(\u001b[49m\u001b[38;5;28;43mself\u001b[39;49m\u001b[43m,\u001b[49m\u001b[43m \u001b[49m\u001b[43mgradient\u001b[49m\u001b[43m,\u001b[49m\u001b[43m \u001b[49m\u001b[43mretain_graph\u001b[49m\u001b[43m,\u001b[49m\u001b[43m \u001b[49m\u001b[43mcreate_graph\u001b[49m\u001b[43m,\u001b[49m\u001b[43m \u001b[49m\u001b[43minputs\u001b[49m\u001b[38;5;241;43m=\u001b[39;49m\u001b[43minputs\u001b[49m\u001b[43m)\u001b[49m\n",
      "File \u001b[0;32m/usr/local/lib/python3.9/site-packages/torch/autograd/__init__.py:154\u001b[0m, in \u001b[0;36mbackward\u001b[0;34m(tensors, grad_tensors, retain_graph, create_graph, grad_variables, inputs)\u001b[0m\n\u001b[1;32m    151\u001b[0m \u001b[38;5;28;01mif\u001b[39;00m retain_graph \u001b[38;5;129;01mis\u001b[39;00m \u001b[38;5;28;01mNone\u001b[39;00m:\n\u001b[1;32m    152\u001b[0m     retain_graph \u001b[38;5;241m=\u001b[39m create_graph\n\u001b[0;32m--> 154\u001b[0m \u001b[43mVariable\u001b[49m\u001b[38;5;241;43m.\u001b[39;49m\u001b[43m_execution_engine\u001b[49m\u001b[38;5;241;43m.\u001b[39;49m\u001b[43mrun_backward\u001b[49m\u001b[43m(\u001b[49m\n\u001b[1;32m    155\u001b[0m \u001b[43m    \u001b[49m\u001b[43mtensors\u001b[49m\u001b[43m,\u001b[49m\u001b[43m \u001b[49m\u001b[43mgrad_tensors_\u001b[49m\u001b[43m,\u001b[49m\u001b[43m \u001b[49m\u001b[43mretain_graph\u001b[49m\u001b[43m,\u001b[49m\u001b[43m \u001b[49m\u001b[43mcreate_graph\u001b[49m\u001b[43m,\u001b[49m\u001b[43m \u001b[49m\u001b[43minputs\u001b[49m\u001b[43m,\u001b[49m\n\u001b[1;32m    156\u001b[0m \u001b[43m    \u001b[49m\u001b[43mallow_unreachable\u001b[49m\u001b[38;5;241;43m=\u001b[39;49m\u001b[38;5;28;43;01mTrue\u001b[39;49;00m\u001b[43m,\u001b[49m\u001b[43m \u001b[49m\u001b[43maccumulate_grad\u001b[49m\u001b[38;5;241;43m=\u001b[39;49m\u001b[38;5;28;43;01mTrue\u001b[39;49;00m\u001b[43m)\u001b[49m\n",
      "\u001b[0;31mKeyboardInterrupt\u001b[0m: "
     ]
    }
   ],
   "source": [
    "# l1 regularization (lasso)\n",
    "\n",
    "learningRate = 0.05\n",
    "epochs = 1501\n",
    "\n",
    "best_l1_spo = cross_validate(x_train, y_train, 'SPO', 'l1')\n",
    "model_lasso2 = linearRegressionTrain(x_train, y_train, learningRate, epochs,'SPO', 'l1', l1_penalty = best_l1_spo)"
   ]
  },
  {
   "cell_type": "markdown",
   "id": "b898dad2",
   "metadata": {},
   "source": [
    "### SPO loss model evaluation"
   ]
  },
  {
   "cell_type": "code",
   "execution_count": 25,
   "id": "6d389cf1",
   "metadata": {
    "scrolled": true
   },
   "outputs": [
    {
     "data": {
      "text/html": [
       "<div>\n",
       "<style scoped>\n",
       "    .dataframe tbody tr th:only-of-type {\n",
       "        vertical-align: middle;\n",
       "    }\n",
       "\n",
       "    .dataframe tbody tr th {\n",
       "        vertical-align: top;\n",
       "    }\n",
       "\n",
       "    .dataframe thead th {\n",
       "        text-align: right;\n",
       "    }\n",
       "</style>\n",
       "<table border=\"1\" class=\"dataframe\">\n",
       "  <thead>\n",
       "    <tr style=\"text-align: right;\">\n",
       "      <th></th>\n",
       "      <th></th>\n",
       "      <th>MSE</th>\n",
       "      <th>R^2</th>\n",
       "      <th>SPO Loss</th>\n",
       "      <th>SPO Loss Ave</th>\n",
       "    </tr>\n",
       "  </thead>\n",
       "  <tbody>\n",
       "    <tr>\n",
       "      <th rowspan=\"2\" valign=\"top\">spo_ols</th>\n",
       "      <th>train</th>\n",
       "      <td>26694.675978</td>\n",
       "      <td>0.470638</td>\n",
       "      <td>13147.826035</td>\n",
       "      <td>56.428438</td>\n",
       "    </tr>\n",
       "    <tr>\n",
       "      <th>test</th>\n",
       "      <td>31974.663154</td>\n",
       "      <td>0.425586</td>\n",
       "      <td>6548.700859</td>\n",
       "      <td>97.741804</td>\n",
       "    </tr>\n",
       "    <tr>\n",
       "      <th rowspan=\"2\" valign=\"top\">spo_ridge</th>\n",
       "      <th>train</th>\n",
       "      <td>65530.694782</td>\n",
       "      <td>-0.299491</td>\n",
       "      <td>26538.088707</td>\n",
       "      <td>113.897376</td>\n",
       "    </tr>\n",
       "    <tr>\n",
       "      <th>test</th>\n",
       "      <td>86989.229381</td>\n",
       "      <td>-0.562732</td>\n",
       "      <td>10476.449645</td>\n",
       "      <td>156.364920</td>\n",
       "    </tr>\n",
       "    <tr>\n",
       "      <th rowspan=\"2\" valign=\"top\">spo_lasso</th>\n",
       "      <th>train</th>\n",
       "      <td>27612.100660</td>\n",
       "      <td>0.452445</td>\n",
       "      <td>13299.887953</td>\n",
       "      <td>57.081064</td>\n",
       "    </tr>\n",
       "    <tr>\n",
       "      <th>test</th>\n",
       "      <td>33021.434128</td>\n",
       "      <td>0.406781</td>\n",
       "      <td>6580.095136</td>\n",
       "      <td>98.210375</td>\n",
       "    </tr>\n",
       "  </tbody>\n",
       "</table>\n",
       "</div>"
      ],
      "text/plain": [
       "                          MSE       R^2      SPO Loss  SPO Loss Ave\n",
       "spo_ols   train  26694.675978  0.470638  13147.826035     56.428438\n",
       "          test   31974.663154  0.425586   6548.700859     97.741804\n",
       "spo_ridge train  65530.694782 -0.299491  26538.088707    113.897376\n",
       "          test   86989.229381 -0.562732  10476.449645    156.364920\n",
       "spo_lasso train  27612.100660  0.452445  13299.887953     57.081064\n",
       "          test   33021.434128  0.406781   6580.095136     98.210375"
      ]
     },
     "execution_count": 25,
     "metadata": {},
     "output_type": "execute_result"
    }
   ],
   "source": [
    "# compile results for models trained on SPO loss\n",
    "SPO_result = []\n",
    "\n",
    "for model, name in zip([model_ols2, model_ridge2, model_lasso2],['spo_ols','spo_ridge','spo_lasso']):\n",
    "    score_df = evaluation(model, x_train, x_test, y_train, y_test, plot = False)\n",
    "    SPO_result.append(pd.concat({name:score_df}))\n",
    "    \n",
    "SPO_scores = pd.concat([SPO_result[0], SPO_result[1], SPO_result[2]])\n",
    "SPO_scores.iloc[:,[0,1,2,5]]"
   ]
  },
  {
   "cell_type": "code",
   "execution_count": 37,
   "id": "829d4e5c",
   "metadata": {},
   "outputs": [
    {
     "data": {
      "text/html": [
       "<div>\n",
       "<style scoped>\n",
       "    .dataframe tbody tr th:only-of-type {\n",
       "        vertical-align: middle;\n",
       "    }\n",
       "\n",
       "    .dataframe tbody tr th {\n",
       "        vertical-align: top;\n",
       "    }\n",
       "\n",
       "    .dataframe thead th {\n",
       "        text-align: right;\n",
       "    }\n",
       "</style>\n",
       "<table border=\"1\" class=\"dataframe\">\n",
       "  <thead>\n",
       "    <tr style=\"text-align: right;\">\n",
       "      <th></th>\n",
       "      <th></th>\n",
       "      <th>MSE</th>\n",
       "      <th>R^2</th>\n",
       "      <th>SPO Loss</th>\n",
       "      <th>SPO Loss Ave</th>\n",
       "    </tr>\n",
       "  </thead>\n",
       "  <tbody>\n",
       "    <tr>\n",
       "      <th rowspan=\"2\" valign=\"top\">mse_ols</th>\n",
       "      <th>train</th>\n",
       "      <td>12249.268498</td>\n",
       "      <td>0.757094</td>\n",
       "      <td>30825.206282</td>\n",
       "      <td>132.297023</td>\n",
       "    </tr>\n",
       "    <tr>\n",
       "      <th>test</th>\n",
       "      <td>14086.590321</td>\n",
       "      <td>0.746939</td>\n",
       "      <td>7490.322395</td>\n",
       "      <td>111.795857</td>\n",
       "    </tr>\n",
       "    <tr>\n",
       "      <th rowspan=\"2\" valign=\"top\">mse_ridge</th>\n",
       "      <th>train</th>\n",
       "      <td>12747.189986</td>\n",
       "      <td>0.747220</td>\n",
       "      <td>28591.893629</td>\n",
       "      <td>122.711990</td>\n",
       "    </tr>\n",
       "    <tr>\n",
       "      <th>test</th>\n",
       "      <td>14483.327498</td>\n",
       "      <td>0.739812</td>\n",
       "      <td>6940.348005</td>\n",
       "      <td>103.587284</td>\n",
       "    </tr>\n",
       "    <tr>\n",
       "      <th rowspan=\"2\" valign=\"top\">mse_lasso</th>\n",
       "      <th>train</th>\n",
       "      <td>12332.378395</td>\n",
       "      <td>0.755446</td>\n",
       "      <td>30622.141581</td>\n",
       "      <td>131.425500</td>\n",
       "    </tr>\n",
       "    <tr>\n",
       "      <th>test</th>\n",
       "      <td>13974.740021</td>\n",
       "      <td>0.748949</td>\n",
       "      <td>7405.107777</td>\n",
       "      <td>110.523997</td>\n",
       "    </tr>\n",
       "  </tbody>\n",
       "</table>\n",
       "</div>"
      ],
      "text/plain": [
       "                          MSE       R^2      SPO Loss  SPO Loss Ave\n",
       "mse_ols   train  12249.268498  0.757094  30825.206282    132.297023\n",
       "          test   14086.590321  0.746939   7490.322395    111.795857\n",
       "mse_ridge train  12747.189986  0.747220  28591.893629    122.711990\n",
       "          test   14483.327498  0.739812   6940.348005    103.587284\n",
       "mse_lasso train  12332.378395  0.755446  30622.141581    131.425500\n",
       "          test   13974.740021  0.748949   7405.107777    110.523997"
      ]
     },
     "execution_count": 37,
     "metadata": {},
     "output_type": "execute_result"
    }
   ],
   "source": [
    "MSE_scores.iloc[:,[0,1,2,5]]"
   ]
  },
  {
   "cell_type": "markdown",
   "id": "eb1ce3f6",
   "metadata": {},
   "source": [
    "# References"
   ]
  },
  {
   "cell_type": "code",
   "execution_count": 25,
   "id": "70b340dc",
   "metadata": {},
   "outputs": [],
   "source": [
    "%%script false --no-raise-error\n",
    "import time\n",
    "# Batch Gradient Descent Using Numpy - For comparison purpose\n",
    "\n",
    "\"\"\"\n",
    "code is based on Yuhan Cheng's code, approved use\n",
    "\"\"\"\n",
    "\n",
    "def multivariate_ols(xvalue_matrix, yvalues, R=0.01, MaxIterations=1000):\n",
    "    start_time = time.time()\n",
    "    alpha = 0.0\n",
    "    beta = np.zeros((xvalue_matrix.shape[1],))\n",
    "    epsilon = 0.00001\n",
    "    n = float(len(xvalue_matrix))\n",
    "    loss = []\n",
    "    for i in range(MaxIterations):\n",
    "        # compute new coefficients\n",
    "        y_pred = alpha + np.matmul(xvalue_matrix, beta)\n",
    "        loss.append(mean_squared_error(y_pred,yvalues))\n",
    "#         if i % 100 == 0:\n",
    "#             print('Current Loss:', loss)\n",
    "        d_alpha = np.mean(y_pred - yvalues)\n",
    "        d_beta = np.mean((y_pred - yvalues) * xvalue_matrix.T, axis = 1)\n",
    "        alpha_1 = alpha - (R * d_alpha)\n",
    "        beta_1 = beta - (R * d_beta)\n",
    "        \n",
    "        if np.isnan(alpha_1):\n",
    "            print('nan at iter', str(i))\n",
    "            break\n",
    "        \n",
    "        # check to see whether stopping criteria has been met\n",
    "        if (np.abs(alpha_1-alpha)<epsilon) and np.all(np.abs(beta_1-beta)<epsilon):\n",
    "            alpha, beta = alpha_1, beta_1\n",
    "            print('error < epsilon, criteria met')\n",
    "            break\n",
    "        alpha, beta = alpha_1, beta_1\n",
    "            \n",
    "    print(\"Time taken: {:.2f} seconds\".format(time.time() - start_time))\n",
    "    print('MSE:', str(loss[-1]))\n",
    "    print('R2:', str(r2_score(y_true=yvalues, y_pred = y_pred)))\n",
    "    \n",
    "    plt.plot(range(len(loss)),loss)\n",
    "    plt.xlabel(\"Number of Iterations\")\n",
    "    plt.ylabel(\"Loss\")\n",
    "    plt.show()\n",
    "    return alpha, beta"
   ]
  },
  {
   "cell_type": "markdown",
   "id": "70029af4",
   "metadata": {},
   "source": [
    "Ref:\n",
    "Lineary Regression with Pytorch\n",
    "  \n",
    "  https://medium.com/analytics-vidhya/linear-regression-with-pytorch-147fed55f138\n",
    "  \n",
    "  https://linuxhint.com/pytorch_linear_regression_tutorial/\n",
    "  \n",
    "  https://medium.com/biaslyai/pytorch-linear-and-logistic-regression-models-5c5f0da2cb9\n",
    "  \n",
    "  https://towardsdatascience.com/linear-regression-with-pytorch-eb6dedead817\n",
    "  \n",
    "  https://www.reneshbedre.com/blog/pytorch-regression.html\n",
    "  \n",
    "  https://www.kaggle.com/joseguzman/multiple-regression-explained-with-pytorch?scriptVersionId=73005237\n",
    "  \n",
    "  https://www.deeplearningwizard.com/deep_learning/practical_pytorch/pytorch_linear_regression/#building-a-linear-regression-model-with-pytorch-gpu\n",
    "  \n",
    "Evaluations:\n",
    "\n",
    "  https://www.analyticsvidhya.com/blog/2021/05/know-the-best-evaluation-metrics-for-your-regression-model/\n",
    "  \n",
    "Quick Ordinary Lineary Regression Calculator:\n",
    "\n",
    "  https://www.socscistatistics.com/tests/regression/default.aspx\n"
   ]
  }
 ],
 "metadata": {
  "colab": {
   "name": "PyTorch_models_Ben.ipynb",
   "provenance": []
  },
  "kernelspec": {
   "display_name": "Python 3 (ipykernel)",
   "language": "python",
   "name": "python3"
  },
  "language_info": {
   "codemirror_mode": {
    "name": "ipython",
    "version": 3
   },
   "file_extension": ".py",
   "mimetype": "text/x-python",
   "name": "python",
   "nbconvert_exporter": "python",
   "pygments_lexer": "ipython3",
   "version": "3.9.10"
  }
 },
 "nbformat": 4,
 "nbformat_minor": 5
}
