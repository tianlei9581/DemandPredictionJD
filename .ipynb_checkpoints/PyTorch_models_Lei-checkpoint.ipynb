{
 "cells": [
  {
   "cell_type": "code",
   "execution_count": 1,
   "id": "4cedd241",
   "metadata": {
    "executionInfo": {
     "elapsed": 173,
     "status": "ok",
     "timestamp": 1647236224020,
     "user": {
      "displayName": "Peng Xu",
      "photoUrl": "https://lh3.googleusercontent.com/a-/AOh14GihYc7h5im61ge3uVxyNDW7QWZ3KrL0gLMarQHM=s64",
      "userId": "13852652645537005974"
     },
     "user_tz": 420
    },
    "id": "4cedd241"
   },
   "outputs": [
    {
     "name": "stderr",
     "output_type": "stream",
     "text": [
      "/usr/local/lib/python3.9/site-packages/tqdm/auto.py:22: TqdmWarning: IProgress not found. Please update jupyter and ipywidgets. See https://ipywidgets.readthedocs.io/en/stable/user_install.html\n",
      "  from .autonotebook import tqdm as notebook_tqdm\n"
     ]
    }
   ],
   "source": [
    "import pandas as pd\n",
    "import json\n",
    "import numpy as np\n",
    "import torch\n",
    "from torch.autograd import Variable\n",
    "import matplotlib.pyplot as plt\n",
    "from sklearn.metrics import r2_score\n",
    "from sklearn.metrics import mean_squared_error\n",
    "from sklearn.preprocessing import StandardScaler\n",
    "from sklearn.linear_model import LinearRegression\n",
    "import seaborn as sns\n",
    "\n",
    "from sklearn.model_selection import KFold"
   ]
  },
  {
   "cell_type": "code",
   "execution_count": 2,
   "id": "0b97ec81",
   "metadata": {
    "executionInfo": {
     "elapsed": 387,
     "status": "ok",
     "timestamp": 1647236229200,
     "user": {
      "displayName": "Peng Xu",
      "photoUrl": "https://lh3.googleusercontent.com/a-/AOh14GihYc7h5im61ge3uVxyNDW7QWZ3KrL0gLMarQHM=s64",
      "userId": "13852652645537005974"
     },
     "user_tz": 420
    },
    "id": "0b97ec81"
   },
   "outputs": [],
   "source": [
    "with open('order_dict.json') as f:\n",
    "    data = json.load(f)\n",
    "with open('capstone_jd_msom_data-minus-click-data/warehouse_capacity.json') as f2:\n",
    "    warehouse_capacity = json.load(f2)"
   ]
  },
  {
   "cell_type": "code",
   "execution_count": 3,
   "id": "d244a6c4",
   "metadata": {},
   "outputs": [],
   "source": [
    "capacity = {int(k):v[1] for k, v in warehouse_capacity.items()}"
   ]
  },
  {
   "cell_type": "code",
   "execution_count": 4,
   "id": "faa5bbbc",
   "metadata": {
    "executionInfo": {
     "elapsed": 282,
     "status": "ok",
     "timestamp": 1647236229459,
     "user": {
      "displayName": "Peng Xu",
      "photoUrl": "https://lh3.googleusercontent.com/a-/AOh14GihYc7h5im61ge3uVxyNDW7QWZ3KrL0gLMarQHM=s64",
      "userId": "13852652645537005974"
     },
     "user_tz": 420
    },
    "id": "faa5bbbc"
   },
   "outputs": [],
   "source": [
    "order_dict = {int(k):pd.DataFrame(v).set_index('day_of_month') for k, v in data.items()}"
   ]
  },
  {
   "cell_type": "code",
   "execution_count": 5,
   "id": "6557eeab",
   "metadata": {},
   "outputs": [],
   "source": [
    "def preprocessing(df_i):\n",
    "    \n",
    "    df = df_i.copy()\n",
    "    df = df.fillna(0)\n",
    "    df.replace(np.inf,0, inplace = True)\n",
    "\n",
    "    # convert data type for categorical features\n",
    "    df['cluster_id'] = df['cluster_id'].astype('object')\n",
    "    df['dc_ori_mode'] = df['dc_ori_mode'].astype('object')\n",
    "    df['day_of_week'] = df['day_of_week'].astype('object')\n",
    "\n",
    "    cat = ['cluster_id','dc_ori_mode','day_of_week']\n",
    "    num = df.drop(cat+['demand'], axis = 1).columns\n",
    "    #print(num)\n",
    "    \n",
    "    \n",
    "    # train test split\n",
    "    df_enc = pd.get_dummies(df, columns = cat, drop_first = True)\n",
    "    train_enc = df_enc.query('1<= day_of_month <= 24')\n",
    "    test_enc = df_enc.query('24 < day_of_month <= 31')\n",
    "\n",
    "    # train = df.query('1<= day_of_month <= 24')\n",
    "    # test = df.query('24 < day_of_month <= 31')\n",
    "\n",
    "    # train_enc = pd.get_dummies(train, columns = cat, drop_first = True)\n",
    "    # test_enc = pd.get_dummies(test, columns = cat)\n",
    "\n",
    "    # print(train_enc.dtypes)\n",
    "    # print(test_enc.dtypes)\n",
    "\n",
    "    # standardize data\n",
    "    scaler = StandardScaler()\n",
    "\n",
    "    # x_train = train_enc[['quantity_discount_rate_mean','day_of_week_3','cluster_id_6','cluster_id_7','cluster_id_8','cluster_id_10','dc_ori_num','dc_ori_mode_7']].to_numpy()\n",
    "    # x_test = test_enc[['quantity_discount_rate_mean','day_of_week_3','cluster_id_6','cluster_id_7','cluster_id_8','cluster_id_10','dc_ori_num','dc_ori_mode_7']]\n",
    "\n",
    "    x_train = train_enc.drop(['demand', 'discount_rate_mean','type_1_percent'], axis = 1).to_numpy() # only remove highest vif column\n",
    "    x_train = scaler.fit_transform(x_train)\n",
    "\n",
    "    y_train = train_enc['demand'].to_numpy().reshape(len(train_enc), 1)\n",
    "\n",
    "\n",
    "    x_test = test_enc.drop(['demand', 'discount_rate_mean','type_1_percent'], axis = 1) \n",
    "    x_test = scaler.fit_transform(x_test)\n",
    "\n",
    "    y_test = test_enc['demand'].to_numpy().reshape(len(test_enc), 1)\n",
    "    \n",
    "    #print(x_train.shape, y_train.shape)\n",
    "    #print(x_test.shape, y_test.shape)\n",
    "\n",
    "    return x_train, y_train, x_test, y_test"
   ]
  },
  {
   "cell_type": "code",
   "execution_count": 51,
   "id": "32206393",
   "metadata": {},
   "outputs": [
    {
     "name": "stdout",
     "output_type": "stream",
     "text": [
      "tensor(-4.4453)\n",
      "tensor(-4.4453)\n"
     ]
    }
   ],
   "source": [
    "def r2_loss(outputs, targets):\n",
    "    target_mean = torch.mean(targets)\n",
    "    ss_tot = torch.sum((targets - target_mean) ** 2)\n",
    "    ss_res = torch.sum((targets - outputs) ** 2)\n",
    "    r2 = 1 - ss_res / ss_tot\n",
    "    return r2\n",
    "\n",
    "def r2_loss_2(outputs, targets):\n",
    "    ss_tot = 0.0\n",
    "    ss_res = 0.0\n",
    "    target_mean = torch.mean(targets)\n",
    "    for i in range(0,len(outputs)):\n",
    "        ss_tot += (targets[i] - target_mean) ** 2\n",
    "        ss_res += (targets[i] - outputs[i]) ** 2\n",
    "    r2 = 1 - ss_res / ss_tot\n",
    "    return r2\n",
    "\n",
    "# TODO: need to work with tensor objects.\n",
    "def SPOLoss (d_pred, d_actual):\n",
    "    # W: items to stock the warehouse\n",
    "    # h: inventory cost\n",
    "    # s: shipping cost\n",
    "    # ci: capacity limit for warehouse i = 1000 (per month)\n",
    "    cost = 0.0\n",
    "    max_capacity = capacity_i / 31 # capacity_i is defined outside of this function\n",
    "    for i in range(0, len(d_pred)):\n",
    "        if d_pred[i] <= max_capacity:\n",
    "            w = d_pred[i]\n",
    "        else:\n",
    "            w = max_capacity\n",
    "        if w > d_actual[i]:\n",
    "            h = 2.920 * (w - d_actual[i])  # average inventory cost per sku * (w - target)\n",
    "            s = 0\n",
    "        else:\n",
    "            h = 0\n",
    "            s = 0.803 * (d_actual[i] - w)\n",
    "        cost += h + s\n",
    "    return cost\n",
    "\n",
    "def SPO_MSE_Loss(d_pred, d_actual):\n",
    "    spo_loss = SPOLoss(d_pred, d_actual)\n",
    "    mse_loss = 0.0\n",
    "    for i in range(0, len(d_pred)):\n",
    "        mse_loss += (d_pred[i] - d_actual[i]) ** 2\n",
    "    mse_loss = mse_loss / len(d_pred)\n",
    "    # mse_loss = sum((d_pred - d_actual) ** 2) / len(d_pred)    # don't use this, because d_pred can is 1*N dimention but d_actual can be N*1 dimension\n",
    "    return spo_loss + 0.1 * mse_loss\n",
    " \n",
    "# print(torch.Tensor.float(1.0))\n",
    "outputs = torch.randn(5)\n",
    "targets = torch.randn(5)\n",
    "# print(outputs.size())\n",
    "# for i in range(0,len(outputs)):\n",
    "#   print(2)\n",
    "print(r2_loss(outputs,targets))\n",
    "print(r2_loss_2(outputs,targets))\n",
    "#print(SPOLoss(outputs,targets))\n",
    "# print(torch.randn(5))\n",
    "# print(SPOLoss(1, 2))"
   ]
  },
  {
   "cell_type": "code",
   "execution_count": 52,
   "id": "d696570d",
   "metadata": {},
   "outputs": [],
   "source": [
    "# define model structure\n",
    "class linearRegression(torch.nn.Module):\n",
    "    def __init__(self, inputSize, outputSize):\n",
    "        super(linearRegression, self).__init__()\n",
    "        self.linear = torch.nn.Linear(inputSize, outputSize)\n",
    "\n",
    "    def forward(self, x):\n",
    "        out = self.linear(x)\n",
    "        return out"
   ]
  },
  {
   "cell_type": "code",
   "execution_count": 53,
   "id": "a142e18e",
   "metadata": {
    "colab": {
     "base_uri": "https://localhost:8080/",
     "height": 1000
    },
    "executionInfo": {
     "elapsed": 1341,
     "status": "ok",
     "timestamp": 1647244512390,
     "user": {
      "displayName": "Peng Xu",
      "photoUrl": "https://lh3.googleusercontent.com/a-/AOh14GihYc7h5im61ge3uVxyNDW7QWZ3KrL0gLMarQHM=s64",
      "userId": "13852652645537005974"
     },
     "user_tz": 420
    },
    "id": "a142e18e",
    "outputId": "d8e7987d-40ba-4d35-aa11-58399b13dc29"
   },
   "outputs": [],
   "source": [
    "# define training and evaluation functions\n",
    "\n",
    "def predict(model, x):\n",
    "    \n",
    "    \"\"\"\n",
    "    takes in a pytorch model and a matrix of features\n",
    "    return a list of predictions\n",
    "    \"\"\"\n",
    "    \n",
    "    with torch.no_grad(): # we don't need gradients in the testing phase\n",
    "    # if torch.cuda.is_available():\n",
    "    #     pred_y_train = model(Variable(torch.from_numpy(x_train).float().cuda())).cpu().data.numpy()\n",
    "    # else:\n",
    "    #     pred_y_train = model(Variable(torch.from_numpy(x_train).float())).data.numpy()\n",
    "        pred_y = model(Variable(torch.from_numpy(x).float())).data.numpy()\n",
    "        pred_y = [pred_y[x].item() for x in range(len(pred_y))]\n",
    "    return pred_y\n",
    "\n",
    "def linearRegressionTrain(x_train, y_train, learningRate, epochs, loss_type = 'MSE', regularize = 'None', l1_penalty = 0, l2_penalty = 0, plot = True, verbose = True):\n",
    "    \"\"\"\n",
    "    input: \n",
    "        - x_train whose type is numpy.ndarray\n",
    "        - y_train whose type is numpy.ndarray\n",
    "        - learningRate\n",
    "        - epochs\n",
    "        - regularization can be either \"None\" or \"l1\" or \"l2\", default is none\n",
    "        - loss_type can be either \"MSE\" or \"SPO\" or \"SPO_MSE\", default is 'MSE'\n",
    "        - plot: whether you want to plot the loss against epochs, default is True\n",
    "        \n",
    "    output:\n",
    "        trained pytorch linear regression model\n",
    "    \"\"\"\n",
    "    _, inputDim = x_train.shape\n",
    "    outputDim = 1       # takes variable 'y'\n",
    "    \n",
    "    loss_list = []\n",
    "\n",
    "    model = linearRegression(inputDim, outputDim)\n",
    "    \n",
    "    ##### For GPU #######\n",
    "    # if torch.cuda.is_available():\n",
    "    #     model.cuda()\n",
    "    \n",
    "    # initialize the loss function and optimizer\n",
    "    if loss_type == 'MSE': \n",
    "        \n",
    "        criterion = torch.nn.MSELoss()  \n",
    "        # criterion = r2_loss\n",
    "        \n",
    "        if regularize == 'None' or regularize == 'l1':\n",
    "            optimizer = torch.optim.SGD(model.parameters(), lr=learningRate)\n",
    "        else: # regularize = 'l2'\n",
    "            optimizer = torch.optim.SGD(model.parameters(),weight_decay = l2_penalty, lr=learningRate)\n",
    "            \n",
    "    elif loss_type == 'SPO': # change loss function and switch to adam optimizer\n",
    "        \n",
    "        criterion = SPOLoss\n",
    "        \n",
    "        if regularize == 'None' or regularize == 'l1':\n",
    "            optimizer = torch.optim.Adam(model.parameters(), lr=learningRate)\n",
    "        else: # regularize = 'l2'\n",
    "            optimizer = torch.optim.Adam(model.parameters(),weight_decay = l2_penalty, lr=learningRate)\n",
    "\n",
    "    elif loss_type == 'SPO_MSE': # change loss function and switch to adam optimizer\n",
    "        \n",
    "        criterion = SPO_MSE_Loss\n",
    "        \n",
    "        if regularize == 'None' or regularize == 'l1':\n",
    "            optimizer = torch.optim.Adam(model.parameters(), lr=learningRate)\n",
    "        else: # regularize = 'l2'\n",
    "            optimizer = torch.optim.Adam(model.parameters(),weight_decay = l2_penalty, lr=learningRate)\n",
    "\n",
    "    else:\n",
    "        raise Exception('wrong loss_type')\n",
    "        \n",
    "    # model training\n",
    "\n",
    "    for epoch in range(epochs):\n",
    "        # Converting inputs and labels to Variable\n",
    "        # if torch.cuda.is_available():\n",
    "        #     inputs = Variable(torch.from_numpy(x_train).cuda())\n",
    "        #     labels = Variable(torch.from_numpy(y_train).cuda())\n",
    "        # else:\n",
    "        #     inputs = Variable(torch.from_numpy(x_train))\n",
    "        #     labels = Variable(torch.from_numpy(y_train))\n",
    "        inputs = Variable(torch.from_numpy(x_train))\n",
    "        labels = Variable(torch.from_numpy(y_train))\n",
    "\n",
    "        # Clear gradient buffers because we don't want any gradient from previous epoch to carry forward, dont want to cummulate gradients\n",
    "        optimizer.zero_grad()\n",
    "\n",
    "        # get output from the model, given the inputs\n",
    "        outputs = model(inputs.type(torch.FloatTensor))\n",
    "\n",
    "        # get loss for the predicted output\n",
    "        loss = criterion(outputs, labels.type(torch.FloatTensor))\n",
    "        \n",
    "        if regularize == 'l1':\n",
    "            l1_norm = l1_penalty * torch.norm(model.linear.weight, p=1) # double check\n",
    "            loss += l1_norm\n",
    "            \n",
    "        # get gradients w.r.t to parameters\n",
    "        loss.backward()\n",
    "\n",
    "        # update parameters\n",
    "        optimizer.step()\n",
    "\n",
    "        # break loop if percent changae in loss is less than 0.1%\n",
    "        if (len(loss_list) > 300) and (abs((loss.data - loss_list[-1])/loss_list[-1]) <0.0001):\n",
    "            loss_list.append(loss.data)\n",
    "            break\n",
    "            \n",
    "        # store loss\n",
    "        loss_list.append(loss.data)\n",
    "\n",
    "        # print loss\n",
    "        #if(epoch % 100 == 0):\n",
    "            #print('epoch {}, loss {}'.format(epoch, loss.data))\n",
    "    \n",
    "    if plot:\n",
    "        plt.plot(range(len(loss_list)),loss_list)\n",
    "        plt.xlabel(\"Number of Iterations\")\n",
    "        plt.ylabel(\"Loss\")\n",
    "        plt.show()\n",
    "        \n",
    "    if verbose:\n",
    "        print('model trained using {} loss'.format(loss_type))\n",
    "        # bias b (offset or y-intercept)\n",
    "        print('y-intercept ', model.linear.bias.item())\n",
    "        # weight (w)\n",
    "        print('Coefficients ',  model.linear.weight.detach().numpy())\n",
    "    \n",
    "        pred_y_train = predict(model, x_train)\n",
    "        \n",
    "        print(\"Train MSE =\",mean_squared_error(y_train,pred_y_train))\n",
    "        print('Train R^2 =', r2_score(y_train, pred_y_train)) \n",
    "        print('Train SPO Loss =', SPOLoss(pred_y_train, y_train))\n",
    "\n",
    "    return model\n",
    "\n",
    "\n",
    "def generate_scores(y_true, y_pred):\n",
    "    MSE = mean_squared_error(y_true, y_pred)\n",
    "    R2 = r2_score(y_true, y_pred)\n",
    "    SPO = SPOLoss(y_pred, y_true)\n",
    "    SPO_mean = SPO / len(y_pred)\n",
    "    SPO_MSE = SPO_MSE_Loss(y_pred, y_true)\n",
    "    SPO_MSE_mean = SPO_MSE / len(y_pred)\n",
    "    #print(\"Train MSE =\", MSE)\n",
    "    #print('Train R^2 =', R2) \n",
    "    #print('Train SPO Loss =', SPO)\n",
    "    return pd.DataFrame({'MSE': MSE, 'R^2': R2, 'SPO Loss': SPO, 'SPO_MSE_Weighted_Loss':SPO_MSE, 'SPO_MSE_Weighted_Loss Ave': SPO_MSE_mean, 'SPO Loss Ave': SPO_mean})\n",
    "\n",
    "def evaluation(model, x_train, x_test, y_train, y_test, plot = True):\n",
    "    \n",
    "    \"\"\"\n",
    "    this function only works for pytorch model\n",
    "    \n",
    "    return a 2x4 dataframe: \n",
    "        - one row for training set, the other row for testing\n",
    "        - 4 columns are 4 scores: MSE, R2, SPO, SPO Ave\n",
    "    \"\"\"\n",
    "\n",
    "    pred_y_train = predict(model, x_train)\n",
    "    pred_y_test = predict(model, x_test)\n",
    "\n",
    "    # Comparing Actual and predicted values\n",
    "    if plot:\n",
    "        plt.figure(figsize=(7,7))\n",
    "        plt.scatter(y_train, pred_y_train, c='b', s=10)\n",
    "        plt.xlabel('Train Actual Demand'), plt.ylabel('Train Predicted Demand');\n",
    "        lim = 100\n",
    "        x = y = range(lim)\n",
    "        plt.plot(x,y, c='brown')\n",
    "        plt.xlim(0,lim), plt.ylim(0,lim);\n",
    "        plt\n",
    "\n",
    "        plt.figure(figsize=(7,7))\n",
    "        plt.scatter(y_test, pred_y_test, c='b', s=10)\n",
    "        plt.xlabel('Test Actual Demand'), plt.ylabel('Test Predicted Demand');\n",
    "        lim = 100\n",
    "        x = y = range(lim)\n",
    "        plt.plot(x,y, c='brown')\n",
    "        plt.xlim(0,lim), plt.ylim(0,lim);\n",
    "        plt\n",
    "\n",
    "    score_df = pd.concat([generate_scores(y_train, pred_y_train), generate_scores(y_test, pred_y_test)])\n",
    "    score_df.index = ['train', 'test']\n",
    "    \n",
    "    return score_df"
   ]
  },
  {
   "cell_type": "code",
   "execution_count": 54,
   "id": "d86ba545",
   "metadata": {},
   "outputs": [],
   "source": [
    "import timeit\n",
    "def cross_validate(x_train, y_train, loss_type, regularize, plot = True):\n",
    "    \n",
    "    # return the best penalty coefficient that minimize average validation error\n",
    "    start = timeit.default_timer()\n",
    "    \n",
    "    aveloss = dict()\n",
    "    kfold = KFold(n_splits = 5)\n",
    "    \n",
    "    if loss_type == 'MSE':\n",
    "        learningRate = 0.02\n",
    "        epochs = 301\n",
    "        grid = 10**-np.linspace(0,1,11) if regularize == 'l2' else 10**-np.linspace(0,5,11)\n",
    "        #grid = 10**-np.linspace(-1,5,11)\n",
    "        \n",
    "    elif loss_type == 'SPO':\n",
    "        learningRate = 0.05\n",
    "        epochs = 3001\n",
    "        grid = 10**-np.linspace(-1,5,11)\n",
    "        \n",
    "\n",
    "    if regularize == 'l2':\n",
    "        \n",
    "        for i in grid:\n",
    "            loss = 0\n",
    "            \n",
    "            for train_index, test_index in kfold.split(x_train, y_train):\n",
    "                x_train_fold = x_train[train_index]\n",
    "                y_train_fold = y_train[train_index]\n",
    "                x_test_fold = x_train[test_index]\n",
    "                y_test_fold = y_train[test_index]\n",
    "\n",
    "                model_i = linearRegressionTrain(x_train_fold, y_train_fold, learningRate, epochs, loss_type, regularize, l2_penalty = i, plot = False, verbose = False)\n",
    "\n",
    "                pred_y_validate = predict(model_i, x_test_fold)\n",
    "                \n",
    "                loss_i = generate_scores(y_test_fold, pred_y_validate)['MSE'][0] if loss_type == 'MSE' else  generate_scores(y_test_fold, pred_y_validate)['SPO Loss'][0]\n",
    "                loss += loss_i\n",
    "                \n",
    "            aveloss[i]  = loss / 5\n",
    "            #print(i)\n",
    "            \n",
    "    elif regularize == 'l1':\n",
    "        \n",
    "        for i in grid:\n",
    "            loss = 0\n",
    "            \n",
    "            for train_index, test_index in kfold.split(x_train, y_train):\n",
    "                x_train_fold = x_train[train_index]\n",
    "                y_train_fold = y_train[train_index]\n",
    "                x_test_fold = x_train[test_index]\n",
    "                y_test_fold = y_train[test_index]\n",
    "\n",
    "                model_i = linearRegressionTrain(x_train_fold, y_train_fold, learningRate, epochs, loss_type, regularize, l1_penalty = i, plot = False, verbose = False)\n",
    "\n",
    "                pred_y_validate = predict(model_i, x_test_fold)\n",
    "                \n",
    "                loss_i = generate_scores(y_test_fold, pred_y_validate)['MSE'][0] if loss_type == 'MSE' else  generate_scores(y_test_fold, pred_y_validate)['SPO Loss'][0]\n",
    "                loss += loss_i\n",
    "                \n",
    "            aveloss[i]  = loss / 5\n",
    "    else:\n",
    "        raise Exception('wrong regularization type')\n",
    "        \n",
    "    if plot:\n",
    "        plt.plot(aveloss.keys(), aveloss.values())\n",
    "        plt.xlabel('penalty coefficient')\n",
    "        plt.ylabel('average {} error on validation sets'.format(loss_type))\n",
    "        plt.title('Cross Validation for {} Regularization'.format(regularize))\n",
    "        plt.show()\n",
    "        \n",
    "    best = min(aveloss, key = aveloss.get)\n",
    "    print('The best penalty coefficient is '+ str(best))\n",
    "    \n",
    "    stop = timeit.default_timer()\n",
    "    print('Time: ', stop - start)  \n",
    "    return best"
   ]
  },
  {
   "cell_type": "code",
   "execution_count": 7,
   "id": "b50684f7",
   "metadata": {},
   "outputs": [
    {
     "data": {
      "text/plain": [
       "(198, 35)"
      ]
     },
     "execution_count": 7,
     "metadata": {},
     "output_type": "execute_result"
    }
   ],
   "source": [
    "x_train.shape"
   ]
  },
  {
   "cell_type": "code",
   "execution_count": 6,
   "id": "17423fbe",
   "metadata": {},
   "outputs": [],
   "source": [
    "i = 1\n",
    "x_train, y_train, x_test, y_test = preprocessing(order_dict[i])\n",
    "capacity_i = capacity[i]\n",
    "#capacity_i = 1000"
   ]
  },
  {
   "cell_type": "code",
   "execution_count": 56,
   "id": "f96156b5",
   "metadata": {},
   "outputs": [],
   "source": [
    "#cross_validate(x_train, y_train, 'MSE', 'l2')"
   ]
  },
  {
   "cell_type": "code",
   "execution_count": 57,
   "id": "da87a468",
   "metadata": {},
   "outputs": [],
   "source": [
    "#cross_validate(x_train, y_train, 'MSE', 'l1')"
   ]
  },
  {
   "cell_type": "code",
   "execution_count": 58,
   "id": "6f102738",
   "metadata": {
    "scrolled": true
   },
   "outputs": [],
   "source": [
    "#cross_validate(x_train, y_train, 'SPO', 'l2')"
   ]
  },
  {
   "cell_type": "code",
   "execution_count": 59,
   "id": "c1452b3a",
   "metadata": {},
   "outputs": [],
   "source": [
    "#cross_validate(x_train, y_train, 'SPO', 'l1')"
   ]
  },
  {
   "cell_type": "markdown",
   "id": "d67e1c24",
   "metadata": {},
   "source": [
    "## MSE loss models"
   ]
  },
  {
   "cell_type": "markdown",
   "id": "38f36f6d",
   "metadata": {},
   "source": [
    "### MSE loss model training"
   ]
  },
  {
   "cell_type": "code",
   "execution_count": 60,
   "id": "aa517e1a",
   "metadata": {},
   "outputs": [
    {
     "data": {
      "image/png": "[encoded data removed]",
      "text/plain": [
       "<Figure size 432x288 with 1 Axes>"
      ]
     },
     "metadata": {
      "needs_background": "light"
     },
     "output_type": "display_data"
    },
    {
     "name": "stdout",
     "output_type": "stream",
     "text": [
      "model trained using MSE loss\n",
      "y-intercept  14.35352611541748\n",
      "Coefficients  [[-4.5238256e-01 -1.8270228e-02 -1.8397476e-01  3.6332741e-01\n",
      "   1.0044260e+00  1.8677975e-01 -7.3739010e-01 -4.3477136e-01\n",
      "   8.8502038e-01  2.6355931e-01  1.8804218e+00  4.5605860e+00\n",
      "  -4.7941390e-01  6.2032485e-01  6.1380620e+00 -1.9416740e-03\n",
      "   1.2038392e+00 -1.2678623e+00 -1.7226919e+00  5.5339832e+00\n",
      "   3.3456082e+00  2.1836693e+00  6.2636003e+00 -5.8838558e+00\n",
      "  -5.8950680e-01  2.6614521e+00  2.8250992e-02  6.5103751e-01\n",
      "   3.9755267e-01  4.7026398e-03  4.0982458e-01  2.2283196e+00\n",
      "   7.1649027e-01 -3.9202642e-01 -3.4012648e-01]]\n",
      "Train MSE = 58.55746738018209\n",
      "Train R^2 = 0.7616446693144752\n",
      "Train SPO Loss = [2062.07810249]\n"
     ]
    },
    {
     "data": {
      "image/png": "[encoded data removed]",
      "text/plain": [
       "<Figure size 432x288 with 1 Axes>"
      ]
     },
     "metadata": {
      "needs_background": "light"
     },
     "output_type": "display_data"
    },
    {
     "name": "stdout",
     "output_type": "stream",
     "text": [
      "The best penalty coefficient is 0.12589254117941673\n",
      "Time:  5.752538744000049\n"
     ]
    },
    {
     "data": {
      "image/png": "[encoded data removed]",
      "text/plain": [
       "<Figure size 432x288 with 1 Axes>"
      ]
     },
     "metadata": {
      "needs_background": "light"
     },
     "output_type": "display_data"
    },
    {
     "name": "stdout",
     "output_type": "stream",
     "text": [
      "model trained using MSE loss\n",
      "y-intercept  13.503510475158691\n",
      "Coefficients  [[-0.3862926   0.0212018  -0.18603489  0.22500859  0.52829766  0.2796471\n",
      "  -0.32264987 -0.6886177   1.0150278   0.05703975  1.4534254   3.1016212\n",
      "  -0.4409574   1.0018057   5.62726    -0.35537747  1.3497453  -1.061058\n",
      "  -1.5462581   5.209909    2.358627    1.5370315   5.914483   -4.5727963\n",
      "  -0.85449797  2.2331967  -0.06959698  0.36896908  0.16387735 -0.01752933\n",
      "   0.32964748  2.1166115   0.61370194 -0.4123073  -0.35924312]]\n",
      "Train MSE = 61.68002439680342\n",
      "Train R^2 = 0.748934452435576\n",
      "Train SPO Loss = [1902.41811267]\n"
     ]
    },
    {
     "data": {
      "image/png": "[encoded data removed]",
      "text/plain": [
       "<Figure size 432x288 with 1 Axes>"
      ]
     },
     "metadata": {
      "needs_background": "light"
     },
     "output_type": "display_data"
    },
    {
     "name": "stdout",
     "output_type": "stream",
     "text": [
      "The best penalty coefficient is 0.31622776601683794\n",
      "Time:  7.021645555999839\n"
     ]
    },
    {
     "data": {
      "image/png": "[encoded data removed]",
      "text/plain": [
       "<Figure size 432x288 with 1 Axes>"
      ]
     },
     "metadata": {
      "needs_background": "light"
     },
     "output_type": "display_data"
    },
    {
     "name": "stdout",
     "output_type": "stream",
     "text": [
      "model trained using MSE loss\n",
      "y-intercept  14.353471755981445\n",
      "Coefficients  [[-1.08553424e-01  5.74700953e-03  3.72485374e-03  4.32945555e-03\n",
      "  -1.17636321e-03  1.43182307e-01 -2.31009000e-03 -4.79550004e-01\n",
      "   1.05620801e+00 -5.97346923e-04  5.57779551e-01  3.13425374e+00\n",
      "  -3.98674935e-01  8.89998078e-01  6.45453167e+00 -2.88428366e-01\n",
      "   9.77120876e-01 -1.88627928e-01 -8.44556332e-01  5.68913031e+00\n",
      "   2.52462435e+00  1.40587807e+00  6.29742050e+00 -4.50524521e+00\n",
      "  -6.68465555e-01  1.87596309e+00 -7.11845560e-03  1.78929761e-01\n",
      "   1.11171687e-02 -1.86855870e-03  1.79230168e-01  2.00445223e+00\n",
      "   4.61708337e-01 -2.56064057e-01 -1.96511388e-01]]\n",
      "Train MSE = 61.407335953464\n",
      "Train R^2 = 0.7500444175176431\n",
      "Train SPO Loss = [2062.27837932]\n"
     ]
    }
   ],
   "source": [
    "# ols model training\n",
    "\n",
    "learningRate = 0.02\n",
    "epochs = 501\n",
    "\n",
    "model_ols = linearRegressionTrain(x_train, y_train, learningRate, epochs,'MSE','None')\n",
    "\n",
    "# ridge regression (l2 regrularization)\n",
    "\n",
    "best_l2 = cross_validate(x_train, y_train, 'MSE', 'l2')\n",
    "model_ridge = linearRegressionTrain(x_train, y_train, learningRate, epochs,'MSE','l2', l2_penalty = best_l2)\n",
    "\n",
    "# l1 regularization (lasso) - penalty coefficient set to be 0.1\n",
    "\n",
    "best_l1 = cross_validate(x_train, y_train, 'MSE', 'l1')\n",
    "model_lasso = linearRegressionTrain(x_train, y_train, learningRate, epochs,'MSE', 'l1', l1_penalty = best_l1)"
   ]
  },
  {
   "cell_type": "markdown",
   "id": "b90a18a2",
   "metadata": {},
   "source": [
    "### MSE loss model evaluation"
   ]
  },
  {
   "cell_type": "code",
   "execution_count": 61,
   "id": "120d4a31",
   "metadata": {
    "scrolled": true
   },
   "outputs": [
    {
     "data": {
      "text/html": [
       "<div>\n",
       "<style scoped>\n",
       "    .dataframe tbody tr th:only-of-type {\n",
       "        vertical-align: middle;\n",
       "    }\n",
       "\n",
       "    .dataframe tbody tr th {\n",
       "        vertical-align: top;\n",
       "    }\n",
       "\n",
       "    .dataframe thead th {\n",
       "        text-align: right;\n",
       "    }\n",
       "</style>\n",
       "<table border=\"1\" class=\"dataframe\">\n",
       "  <thead>\n",
       "    <tr style=\"text-align: right;\">\n",
       "      <th></th>\n",
       "      <th></th>\n",
       "      <th>MSE</th>\n",
       "      <th>R^2</th>\n",
       "      <th>SPO Loss</th>\n",
       "      <th>SPO_MSE_Weighted_Loss</th>\n",
       "      <th>SPO_MSE_Weighted_Loss Ave</th>\n",
       "      <th>SPO Loss Ave</th>\n",
       "    </tr>\n",
       "  </thead>\n",
       "  <tbody>\n",
       "    <tr>\n",
       "      <th rowspan=\"2\" valign=\"top\">mse_ols</th>\n",
       "      <th>train</th>\n",
       "      <td>58.557467</td>\n",
       "      <td>0.761645</td>\n",
       "      <td>2062.078102</td>\n",
       "      <td>2067.933849</td>\n",
       "      <td>10.444110</td>\n",
       "      <td>10.414536</td>\n",
       "    </tr>\n",
       "    <tr>\n",
       "      <th>test</th>\n",
       "      <td>63.244662</td>\n",
       "      <td>0.609349</td>\n",
       "      <td>625.132818</td>\n",
       "      <td>631.457284</td>\n",
       "      <td>11.078198</td>\n",
       "      <td>10.967242</td>\n",
       "    </tr>\n",
       "    <tr>\n",
       "      <th rowspan=\"2\" valign=\"top\">mse_ridge</th>\n",
       "      <th>train</th>\n",
       "      <td>61.680024</td>\n",
       "      <td>0.748934</td>\n",
       "      <td>1902.418113</td>\n",
       "      <td>1908.586115</td>\n",
       "      <td>9.639324</td>\n",
       "      <td>9.608172</td>\n",
       "    </tr>\n",
       "    <tr>\n",
       "      <th>test</th>\n",
       "      <td>60.306482</td>\n",
       "      <td>0.627497</td>\n",
       "      <td>558.579239</td>\n",
       "      <td>564.609888</td>\n",
       "      <td>9.905437</td>\n",
       "      <td>9.799636</td>\n",
       "    </tr>\n",
       "    <tr>\n",
       "      <th rowspan=\"2\" valign=\"top\">mse_lasso</th>\n",
       "      <th>train</th>\n",
       "      <td>61.407336</td>\n",
       "      <td>0.750044</td>\n",
       "      <td>2062.278379</td>\n",
       "      <td>2068.419113</td>\n",
       "      <td>10.446561</td>\n",
       "      <td>10.415547</td>\n",
       "    </tr>\n",
       "    <tr>\n",
       "      <th>test</th>\n",
       "      <td>58.225276</td>\n",
       "      <td>0.640352</td>\n",
       "      <td>580.293409</td>\n",
       "      <td>586.115937</td>\n",
       "      <td>10.282736</td>\n",
       "      <td>10.180586</td>\n",
       "    </tr>\n",
       "  </tbody>\n",
       "</table>\n",
       "</div>"
      ],
      "text/plain": [
       "                       MSE       R^2     SPO Loss  SPO_MSE_Weighted_Loss  \\\n",
       "mse_ols   train  58.557467  0.761645  2062.078102            2067.933849   \n",
       "          test   63.244662  0.609349   625.132818             631.457284   \n",
       "mse_ridge train  61.680024  0.748934  1902.418113            1908.586115   \n",
       "          test   60.306482  0.627497   558.579239             564.609888   \n",
       "mse_lasso train  61.407336  0.750044  2062.278379            2068.419113   \n",
       "          test   58.225276  0.640352   580.293409             586.115937   \n",
       "\n",
       "                 SPO_MSE_Weighted_Loss Ave  SPO Loss Ave  \n",
       "mse_ols   train                  10.444110     10.414536  \n",
       "          test                   11.078198     10.967242  \n",
       "mse_ridge train                   9.639324      9.608172  \n",
       "          test                    9.905437      9.799636  \n",
       "mse_lasso train                  10.446561     10.415547  \n",
       "          test                   10.282736     10.180586  "
      ]
     },
     "execution_count": 61,
     "metadata": {},
     "output_type": "execute_result"
    }
   ],
   "source": [
    "# compile results for models trained on MSE loss\n",
    "MSE_result = []\n",
    "\n",
    "for model, name in zip([model_ols, model_ridge, model_lasso],['mse_ols','mse_ridge','mse_lasso']):\n",
    "    score_df = evaluation(model, x_train, x_test, y_train, y_test, plot = False)\n",
    "    MSE_result.append(pd.concat({name:score_df}))\n",
    "    \n",
    "MSE_scores = pd.concat([MSE_result[0], MSE_result[1],MSE_result[2]])\n",
    "MSE_scores"
   ]
  },
  {
   "cell_type": "markdown",
   "id": "eedf5884",
   "metadata": {},
   "source": [
    "## SPO loss models"
   ]
  },
  {
   "cell_type": "markdown",
   "id": "e5bed1a9",
   "metadata": {},
   "source": [
    "### SPO loss model training"
   ]
  },
  {
   "cell_type": "code",
   "execution_count": 62,
   "id": "7c79bdd2",
   "metadata": {},
   "outputs": [
    {
     "name": "stderr",
     "output_type": "stream",
     "text": [
      "/usr/local/lib/python3.9/site-packages/numpy/core/shape_base.py:65: FutureWarning: The input object of type 'Tensor' is an array-like implementing one of the corresponding protocols (`__array__`, `__array_interface__` or `__array_struct__`); but not a sequence (or 0-D). In the future, this object will be coerced as if it was first converted using `np.array(obj)`. To retain the old behaviour, you have to either modify the type 'Tensor', or assign to an empty array created with `np.empty(correct_shape, dtype=object)`.\n",
      "  ary = asanyarray(ary)\n",
      "/usr/local/lib/python3.9/site-packages/numpy/core/shape_base.py:65: VisibleDeprecationWarning: Creating an ndarray from ragged nested sequences (which is a list-or-tuple of lists-or-tuples-or ndarrays with different lengths or shapes) is deprecated. If you meant to do this, you must specify 'dtype=object' when creating the ndarray.\n",
      "  ary = asanyarray(ary)\n"
     ]
    },
    {
     "data": {
      "image/png": "[encoded data removed]",
      "text/plain": [
       "<Figure size 432x288 with 1 Axes>"
      ]
     },
     "metadata": {
      "needs_background": "light"
     },
     "output_type": "display_data"
    },
    {
     "name": "stdout",
     "output_type": "stream",
     "text": [
      "model trained using SPO loss\n",
      "y-intercept  8.574921607971191\n",
      "Coefficients  [[ 1.9885336e-01  2.7711403e-01  4.3720147e-01  1.7921603e-01\n",
      "   1.1180153e-01  3.9024279e-02  1.5104985e-01  4.5787450e-02\n",
      "  -1.3691077e-01  3.1918734e-01  1.6444702e+00  2.0267265e+00\n",
      "   1.7420031e-01  2.9535666e+00  1.8428937e+00 -4.0865216e-01\n",
      "   2.4201727e+00 -1.1062562e+00 -1.2879194e+00  4.3685021e+00\n",
      "   5.3477782e-01  1.1789476e+00  1.9173539e+00 -2.4603162e+00\n",
      "  -2.9029906e-01  9.0227878e-01  2.8376013e-01  4.2334422e-01\n",
      "  -6.1530925e-02 -7.9660676e-04 -7.7515943e-03  2.8755349e-01\n",
      "  -1.4261276e-02 -6.5900660e-01 -1.2659153e+00]]\n",
      "Train MSE = 147.98802232246103\n",
      "Train R^2 = 0.3976219331831128\n",
      "Train SPO Loss = [1090.26217479]\n"
     ]
    },
    {
     "data": {
      "image/png": "[encoded data removed]",
      "text/plain": [
       "<Figure size 432x288 with 1 Axes>"
      ]
     },
     "metadata": {
      "needs_background": "light"
     },
     "output_type": "display_data"
    },
    {
     "name": "stdout",
     "output_type": "stream",
     "text": [
      "The best penalty coefficient is 2.51188643150958\n",
      "Time:  213.41711621500008\n"
     ]
    },
    {
     "name": "stderr",
     "output_type": "stream",
     "text": [
      "/usr/local/lib/python3.9/site-packages/numpy/core/shape_base.py:65: FutureWarning: The input object of type 'Tensor' is an array-like implementing one of the corresponding protocols (`__array__`, `__array_interface__` or `__array_struct__`); but not a sequence (or 0-D). In the future, this object will be coerced as if it was first converted using `np.array(obj)`. To retain the old behaviour, you have to either modify the type 'Tensor', or assign to an empty array created with `np.empty(correct_shape, dtype=object)`.\n",
      "  ary = asanyarray(ary)\n",
      "/usr/local/lib/python3.9/site-packages/numpy/core/shape_base.py:65: VisibleDeprecationWarning: Creating an ndarray from ragged nested sequences (which is a list-or-tuple of lists-or-tuples-or ndarrays with different lengths or shapes) is deprecated. If you meant to do this, you must specify 'dtype=object' when creating the ndarray.\n",
      "  ary = asanyarray(ary)\n"
     ]
    },
    {
     "data": {
      "image/png": "[encoded data removed]",
      "text/plain": [
       "<Figure size 432x288 with 1 Axes>"
      ]
     },
     "metadata": {
      "needs_background": "light"
     },
     "output_type": "display_data"
    },
    {
     "name": "stdout",
     "output_type": "stream",
     "text": [
      "model trained using SPO loss\n",
      "y-intercept  8.489365577697754\n",
      "Coefficients  [[ 9.7824894e-02 -5.3285219e-02  2.8763783e-01  1.0767711e-01\n",
      "  -1.1846708e-01  4.9346939e-02  2.3658793e-01 -3.4248978e-02\n",
      "  -5.5497233e-04  1.6410987e-01  1.3266059e+00  1.4080577e+00\n",
      "   1.2490339e-01  2.2963195e+00  1.9041829e+00 -5.2482516e-01\n",
      "   2.2085464e+00 -9.3084109e-01 -1.1648357e+00  4.2837925e+00\n",
      "   8.7748849e-01  1.1666000e+00  1.8484839e+00 -2.0476422e+00\n",
      "  -4.5093986e-01  8.0013883e-01  2.8647712e-01  3.5320356e-01\n",
      "   1.1513128e-01  1.1533878e-01  9.8868348e-02  3.4553045e-01\n",
      "   4.8498195e-02 -5.8635789e-01 -1.0570825e+00]]\n",
      "Train MSE = 151.95382859350764\n",
      "Train R^2 = 0.38147931111524047\n",
      "Train SPO Loss = [1101.59191141]\n"
     ]
    },
    {
     "data": {
      "image/png": "[encoded data removed]",
      "text/plain": [
       "<Figure size 432x288 with 1 Axes>"
      ]
     },
     "metadata": {
      "needs_background": "light"
     },
     "output_type": "display_data"
    },
    {
     "name": "stdout",
     "output_type": "stream",
     "text": [
      "The best penalty coefficient is 10.0\n",
      "Time:  252.12285222200035\n"
     ]
    },
    {
     "name": "stderr",
     "output_type": "stream",
     "text": [
      "/usr/local/lib/python3.9/site-packages/numpy/core/shape_base.py:65: FutureWarning: The input object of type 'Tensor' is an array-like implementing one of the corresponding protocols (`__array__`, `__array_interface__` or `__array_struct__`); but not a sequence (or 0-D). In the future, this object will be coerced as if it was first converted using `np.array(obj)`. To retain the old behaviour, you have to either modify the type 'Tensor', or assign to an empty array created with `np.empty(correct_shape, dtype=object)`.\n",
      "  ary = asanyarray(ary)\n",
      "/usr/local/lib/python3.9/site-packages/numpy/core/shape_base.py:65: VisibleDeprecationWarning: Creating an ndarray from ragged nested sequences (which is a list-or-tuple of lists-or-tuples-or ndarrays with different lengths or shapes) is deprecated. If you meant to do this, you must specify 'dtype=object' when creating the ndarray.\n",
      "  ary = asanyarray(ary)\n"
     ]
    },
    {
     "data": {
      "image/png": "[encoded data removed]",
      "text/plain": [
       "<Figure size 432x288 with 1 Axes>"
      ]
     },
     "metadata": {
      "needs_background": "light"
     },
     "output_type": "display_data"
    },
    {
     "name": "stdout",
     "output_type": "stream",
     "text": [
      "model trained using SPO loss\n",
      "y-intercept  8.505656242370605\n",
      "Coefficients  [[-6.1688242e-03  1.3743239e-02  5.1369406e-03  3.7343803e-01\n",
      "   5.4411311e-04  4.2296187e-03  1.5622042e-01 -2.2018435e-03\n",
      "   3.5908127e-01 -6.7636459e-03  1.9361426e-01  3.3536594e-02\n",
      "  -1.8208712e-02  2.8786047e+00  2.2200098e+00 -3.3976993e-01\n",
      "   2.0611582e+00 -2.5135975e-02 -6.0353827e-01  4.6598229e+00\n",
      "   1.6005258e-01  3.0379420e-02  5.0393629e-01 -1.0115447e+00\n",
      "  -4.7912779e-01  5.8015235e-02  1.7680451e-02  1.3205087e-02\n",
      "  -2.8358113e-02  2.7544270e-03  4.7779135e-02  1.6295989e-01\n",
      "   1.1991838e-01 -3.4924039e-01 -3.7070867e-01]]\n",
      "Train MSE = 174.7294978085698\n",
      "Train R^2 = 0.288772054291877\n",
      "Train SPO Loss = [1161.07971212]\n"
     ]
    }
   ],
   "source": [
    "# ols\n",
    "\n",
    "learningRate = 0.05\n",
    "epochs = 3001\n",
    "\n",
    "# model training\n",
    "model_ols2 = linearRegressionTrain(x_train, y_train, learningRate, epochs,'SPO','None')\n",
    "\n",
    "# ridge regression (l2 regrularization)\n",
    "\n",
    "best_l2_spo = cross_validate(x_train, y_train, 'SPO', 'l2')\n",
    "model_ridge2 = linearRegressionTrain(x_train, y_train, learningRate, epochs,'SPO','l2', l2_penalty = best_l2_spo) #2.3357\n",
    "\n",
    "# l1 regularization (lasso)\n",
    "\n",
    "best_l1_spo = cross_validate(x_train, y_train, 'SPO', 'l1')\n",
    "model_lasso2 = linearRegressionTrain(x_train, y_train, learningRate, epochs,'SPO', 'l1', l1_penalty = best_l1_spo) #10"
   ]
  },
  {
   "cell_type": "markdown",
   "id": "b898dad2",
   "metadata": {},
   "source": [
    "### SPO loss model evaluation"
   ]
  },
  {
   "cell_type": "code",
   "execution_count": 63,
   "id": "b23620a2",
   "metadata": {},
   "outputs": [
    {
     "data": {
      "text/plain": [
       "33.225806451612904"
      ]
     },
     "execution_count": 63,
     "metadata": {},
     "output_type": "execute_result"
    }
   ],
   "source": [
    "capacity[1]/31"
   ]
  },
  {
   "cell_type": "code",
   "execution_count": 64,
   "id": "6d389cf1",
   "metadata": {
    "scrolled": true
   },
   "outputs": [
    {
     "data": {
      "text/html": [
       "<div>\n",
       "<style scoped>\n",
       "    .dataframe tbody tr th:only-of-type {\n",
       "        vertical-align: middle;\n",
       "    }\n",
       "\n",
       "    .dataframe tbody tr th {\n",
       "        vertical-align: top;\n",
       "    }\n",
       "\n",
       "    .dataframe thead th {\n",
       "        text-align: right;\n",
       "    }\n",
       "</style>\n",
       "<table border=\"1\" class=\"dataframe\">\n",
       "  <thead>\n",
       "    <tr style=\"text-align: right;\">\n",
       "      <th></th>\n",
       "      <th></th>\n",
       "      <th>MSE</th>\n",
       "      <th>R^2</th>\n",
       "      <th>SPO Loss</th>\n",
       "      <th>SPO Loss Ave</th>\n",
       "    </tr>\n",
       "  </thead>\n",
       "  <tbody>\n",
       "    <tr>\n",
       "      <th rowspan=\"2\" valign=\"top\">spo_ols</th>\n",
       "      <th>train</th>\n",
       "      <td>147.988022</td>\n",
       "      <td>0.397622</td>\n",
       "      <td>1090.262175</td>\n",
       "      <td>5.506375</td>\n",
       "    </tr>\n",
       "    <tr>\n",
       "      <th>test</th>\n",
       "      <td>98.477910</td>\n",
       "      <td>0.391719</td>\n",
       "      <td>406.594952</td>\n",
       "      <td>7.133245</td>\n",
       "    </tr>\n",
       "    <tr>\n",
       "      <th rowspan=\"2\" valign=\"top\">spo_ridge</th>\n",
       "      <th>train</th>\n",
       "      <td>151.953829</td>\n",
       "      <td>0.381479</td>\n",
       "      <td>1101.591911</td>\n",
       "      <td>5.563596</td>\n",
       "    </tr>\n",
       "    <tr>\n",
       "      <th>test</th>\n",
       "      <td>98.609506</td>\n",
       "      <td>0.390906</td>\n",
       "      <td>394.510124</td>\n",
       "      <td>6.921230</td>\n",
       "    </tr>\n",
       "    <tr>\n",
       "      <th rowspan=\"2\" valign=\"top\">spo_lasso</th>\n",
       "      <th>train</th>\n",
       "      <td>174.729498</td>\n",
       "      <td>0.288772</td>\n",
       "      <td>1161.079712</td>\n",
       "      <td>5.864039</td>\n",
       "    </tr>\n",
       "    <tr>\n",
       "      <th>test</th>\n",
       "      <td>93.299365</td>\n",
       "      <td>0.423706</td>\n",
       "      <td>344.123264</td>\n",
       "      <td>6.037250</td>\n",
       "    </tr>\n",
       "  </tbody>\n",
       "</table>\n",
       "</div>"
      ],
      "text/plain": [
       "                        MSE       R^2     SPO Loss  SPO Loss Ave\n",
       "spo_ols   train  147.988022  0.397622  1090.262175      5.506375\n",
       "          test    98.477910  0.391719   406.594952      7.133245\n",
       "spo_ridge train  151.953829  0.381479  1101.591911      5.563596\n",
       "          test    98.609506  0.390906   394.510124      6.921230\n",
       "spo_lasso train  174.729498  0.288772  1161.079712      5.864039\n",
       "          test    93.299365  0.423706   344.123264      6.037250"
      ]
     },
     "execution_count": 64,
     "metadata": {},
     "output_type": "execute_result"
    }
   ],
   "source": [
    "# compile results for models trained on SPO loss\n",
    "SPO_result = []\n",
    "\n",
    "for model, name in zip([model_ols2, model_ridge2, model_lasso2],['spo_ols','spo_ridge','spo_lasso']):\n",
    "    score_df = evaluation(model, x_train, x_test, y_train, y_test, plot = False)\n",
    "    SPO_result.append(pd.concat({name:score_df}))\n",
    "    \n",
    "SPO_scores = pd.concat([SPO_result[0], SPO_result[1], SPO_result[2]])\n",
    "SPO_scores.iloc[:,[0,1,2,5]] # 43 47 43"
   ]
  },
  {
   "cell_type": "code",
   "execution_count": 65,
   "id": "829d4e5c",
   "metadata": {},
   "outputs": [
    {
     "data": {
      "text/html": [
       "<div>\n",
       "<style scoped>\n",
       "    .dataframe tbody tr th:only-of-type {\n",
       "        vertical-align: middle;\n",
       "    }\n",
       "\n",
       "    .dataframe tbody tr th {\n",
       "        vertical-align: top;\n",
       "    }\n",
       "\n",
       "    .dataframe thead th {\n",
       "        text-align: right;\n",
       "    }\n",
       "</style>\n",
       "<table border=\"1\" class=\"dataframe\">\n",
       "  <thead>\n",
       "    <tr style=\"text-align: right;\">\n",
       "      <th></th>\n",
       "      <th></th>\n",
       "      <th>MSE</th>\n",
       "      <th>R^2</th>\n",
       "      <th>SPO Loss</th>\n",
       "      <th>SPO Loss Ave</th>\n",
       "    </tr>\n",
       "  </thead>\n",
       "  <tbody>\n",
       "    <tr>\n",
       "      <th rowspan=\"2\" valign=\"top\">mse_ols</th>\n",
       "      <th>train</th>\n",
       "      <td>58.557467</td>\n",
       "      <td>0.761645</td>\n",
       "      <td>2062.078102</td>\n",
       "      <td>10.414536</td>\n",
       "    </tr>\n",
       "    <tr>\n",
       "      <th>test</th>\n",
       "      <td>63.244662</td>\n",
       "      <td>0.609349</td>\n",
       "      <td>625.132818</td>\n",
       "      <td>10.967242</td>\n",
       "    </tr>\n",
       "    <tr>\n",
       "      <th rowspan=\"2\" valign=\"top\">mse_ridge</th>\n",
       "      <th>train</th>\n",
       "      <td>61.680024</td>\n",
       "      <td>0.748934</td>\n",
       "      <td>1902.418113</td>\n",
       "      <td>9.608172</td>\n",
       "    </tr>\n",
       "    <tr>\n",
       "      <th>test</th>\n",
       "      <td>60.306482</td>\n",
       "      <td>0.627497</td>\n",
       "      <td>558.579239</td>\n",
       "      <td>9.799636</td>\n",
       "    </tr>\n",
       "    <tr>\n",
       "      <th rowspan=\"2\" valign=\"top\">mse_lasso</th>\n",
       "      <th>train</th>\n",
       "      <td>61.407336</td>\n",
       "      <td>0.750044</td>\n",
       "      <td>2062.278379</td>\n",
       "      <td>10.415547</td>\n",
       "    </tr>\n",
       "    <tr>\n",
       "      <th>test</th>\n",
       "      <td>58.225276</td>\n",
       "      <td>0.640352</td>\n",
       "      <td>580.293409</td>\n",
       "      <td>10.180586</td>\n",
       "    </tr>\n",
       "  </tbody>\n",
       "</table>\n",
       "</div>"
      ],
      "text/plain": [
       "                       MSE       R^2     SPO Loss  SPO Loss Ave\n",
       "mse_ols   train  58.557467  0.761645  2062.078102     10.414536\n",
       "          test   63.244662  0.609349   625.132818     10.967242\n",
       "mse_ridge train  61.680024  0.748934  1902.418113      9.608172\n",
       "          test   60.306482  0.627497   558.579239      9.799636\n",
       "mse_lasso train  61.407336  0.750044  2062.278379     10.415547\n",
       "          test   58.225276  0.640352   580.293409     10.180586"
      ]
     },
     "execution_count": 65,
     "metadata": {},
     "output_type": "execute_result"
    }
   ],
   "source": [
    "MSE_scores.iloc[:,[0,1,2,5]]"
   ]
  },
  {
   "cell_type": "markdown",
   "id": "eb1ce3f6",
   "metadata": {},
   "source": [
    "# References"
   ]
  },
  {
   "cell_type": "code",
   "execution_count": 66,
   "id": "70b340dc",
   "metadata": {},
   "outputs": [],
   "source": [
    "%%script false --no-raise-error\n",
    "import time\n",
    "# Batch Gradient Descent Using Numpy - For comparison purpose\n",
    "\n",
    "\"\"\"\n",
    "code is based on Yuhan Cheng's code, approved use\n",
    "\"\"\"\n",
    "\n",
    "def multivariate_ols(xvalue_matrix, yvalues, R=0.01, MaxIterations=1000):\n",
    "    start_time = time.time()\n",
    "    alpha = 0.0\n",
    "    beta = np.zeros((xvalue_matrix.shape[1],))\n",
    "    epsilon = 0.00001\n",
    "    n = float(len(xvalue_matrix))\n",
    "    loss = []\n",
    "    for i in range(MaxIterations):\n",
    "        # compute new coefficients\n",
    "        y_pred = alpha + np.matmul(xvalue_matrix, beta)\n",
    "        loss.append(mean_squared_error(y_pred,yvalues))\n",
    "#         if i % 100 == 0:\n",
    "#             print('Current Loss:', loss)\n",
    "        d_alpha = np.mean(y_pred - yvalues)\n",
    "        d_beta = np.mean((y_pred - yvalues) * xvalue_matrix.T, axis = 1)\n",
    "        alpha_1 = alpha - (R * d_alpha)\n",
    "        beta_1 = beta - (R * d_beta)\n",
    "        \n",
    "        if np.isnan(alpha_1):\n",
    "            print('nan at iter', str(i))\n",
    "            break\n",
    "        \n",
    "        # check to see whether stopping criteria has been met\n",
    "        if (np.abs(alpha_1-alpha)<epsilon) and np.all(np.abs(beta_1-beta)<epsilon):\n",
    "            alpha, beta = alpha_1, beta_1\n",
    "            print('error < epsilon, criteria met')\n",
    "            break\n",
    "        alpha, beta = alpha_1, beta_1\n",
    "            \n",
    "    print(\"Time taken: {:.2f} seconds\".format(time.time() - start_time))\n",
    "    print('MSE:', str(loss[-1]))\n",
    "    print('R2:', str(r2_score(y_true=yvalues, y_pred = y_pred)))\n",
    "    \n",
    "    plt.plot(range(len(loss)),loss)\n",
    "    plt.xlabel(\"Number of Iterations\")\n",
    "    plt.ylabel(\"Loss\")\n",
    "    plt.show()\n",
    "    return alpha, beta"
   ]
  },
  {
   "cell_type": "markdown",
   "id": "70029af4",
   "metadata": {},
   "source": [
    "Ref:\n",
    "Lineary Regression with Pytorch\n",
    "  \n",
    "  https://medium.com/analytics-vidhya/linear-regression-with-pytorch-147fed55f138\n",
    "  \n",
    "  https://linuxhint.com/pytorch_linear_regression_tutorial/\n",
    "  \n",
    "  https://medium.com/biaslyai/pytorch-linear-and-logistic-regression-models-5c5f0da2cb9\n",
    "  \n",
    "  https://towardsdatascience.com/linear-regression-with-pytorch-eb6dedead817\n",
    "  \n",
    "  https://www.reneshbedre.com/blog/pytorch-regression.html\n",
    "  \n",
    "  https://www.kaggle.com/joseguzman/multiple-regression-explained-with-pytorch?scriptVersionId=73005237\n",
    "  \n",
    "  https://www.deeplearningwizard.com/deep_learning/practical_pytorch/pytorch_linear_regression/#building-a-linear-regression-model-with-pytorch-gpu\n",
    "  \n",
    "Evaluations:\n",
    "\n",
    "  https://www.analyticsvidhya.com/blog/2021/05/know-the-best-evaluation-metrics-for-your-regression-model/\n",
    "  \n",
    "Quick Ordinary Lineary Regression Calculator:\n",
    "\n",
    "  https://www.socscistatistics.com/tests/regression/default.aspx\n"
   ]
  }
 ],
 "metadata": {
  "colab": {
   "name": "PyTorch_models_Ben.ipynb",
   "provenance": []
  },
  "kernelspec": {
   "display_name": "Python 3 (ipykernel)",
   "language": "python",
   "name": "python3"
  },
  "language_info": {
   "codemirror_mode": {
    "name": "ipython",
    "version": 3
   },
   "file_extension": ".py",
   "mimetype": "text/x-python",
   "name": "python",
   "nbconvert_exporter": "python",
   "pygments_lexer": "ipython3",
   "version": "3.9.10"
  }
 },
 "nbformat": 4,
 "nbformat_minor": 5
}
