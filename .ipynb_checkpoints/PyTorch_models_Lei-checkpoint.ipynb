{
 "cells": [
  {
   "cell_type": "code",
   "execution_count": 1,
   "id": "4cedd241",
   "metadata": {
    "executionInfo": {
     "elapsed": 173,
     "status": "ok",
     "timestamp": 1647236224020,
     "user": {
      "displayName": "Peng Xu",
      "photoUrl": "https://lh3.googleusercontent.com/a-/AOh14GihYc7h5im61ge3uVxyNDW7QWZ3KrL0gLMarQHM=s64",
      "userId": "13852652645537005974"
     },
     "user_tz": 420
    },
    "id": "4cedd241"
   },
   "outputs": [
    {
     "name": "stderr",
     "output_type": "stream",
     "text": [
      "/usr/local/lib/python3.9/site-packages/tqdm/auto.py:22: TqdmWarning: IProgress not found. Please update jupyter and ipywidgets. See https://ipywidgets.readthedocs.io/en/stable/user_install.html\n",
      "  from .autonotebook import tqdm as notebook_tqdm\n"
     ]
    }
   ],
   "source": [
    "import pandas as pd\n",
    "import json\n",
    "import numpy as np\n",
    "import torch\n",
    "from torch.autograd import Variable\n",
    "import matplotlib.pyplot as plt\n",
    "from sklearn.metrics import r2_score\n",
    "from sklearn.metrics import mean_squared_error\n",
    "from sklearn.preprocessing import StandardScaler\n",
    "from sklearn.linear_model import LinearRegression\n",
    "import seaborn as sns\n",
    "\n",
    "from sklearn.model_selection import KFold"
   ]
  },
  {
   "cell_type": "code",
   "execution_count": 2,
   "id": "0b97ec81",
   "metadata": {
    "executionInfo": {
     "elapsed": 387,
     "status": "ok",
     "timestamp": 1647236229200,
     "user": {
      "displayName": "Peng Xu",
      "photoUrl": "https://lh3.googleusercontent.com/a-/AOh14GihYc7h5im61ge3uVxyNDW7QWZ3KrL0gLMarQHM=s64",
      "userId": "13852652645537005974"
     },
     "user_tz": 420
    },
    "id": "0b97ec81"
   },
   "outputs": [],
   "source": [
    "with open('order_dict.json') as f:\n",
    "    data = json.load(f)\n",
    "with open('capstone_jd_msom_data-minus-click-data/warehouse_capacity.json') as f2:\n",
    "    warehouse_capacity = json.load(f2)"
   ]
  },
  {
   "cell_type": "code",
   "execution_count": 3,
   "id": "d244a6c4",
   "metadata": {},
   "outputs": [],
   "source": [
    "capacity = {int(k):v[1] for k, v in warehouse_capacity.items()}"
   ]
  },
  {
   "cell_type": "code",
   "execution_count": 4,
   "id": "faa5bbbc",
   "metadata": {
    "executionInfo": {
     "elapsed": 282,
     "status": "ok",
     "timestamp": 1647236229459,
     "user": {
      "displayName": "Peng Xu",
      "photoUrl": "https://lh3.googleusercontent.com/a-/AOh14GihYc7h5im61ge3uVxyNDW7QWZ3KrL0gLMarQHM=s64",
      "userId": "13852652645537005974"
     },
     "user_tz": 420
    },
    "id": "faa5bbbc"
   },
   "outputs": [],
   "source": [
    "order_dict = {int(k):pd.DataFrame(v).set_index('day_of_month') for k, v in data.items()}"
   ]
  },
  {
   "cell_type": "code",
   "execution_count": 5,
   "id": "6557eeab",
   "metadata": {},
   "outputs": [],
   "source": [
    "def preprocessing(df_i):\n",
    "    \n",
    "    df = df_i.copy()\n",
    "    df = df.fillna(0)\n",
    "    df.replace(np.inf,0, inplace = True)\n",
    "\n",
    "    # convert data type for categorical features\n",
    "    df['cluster_id'] = df['cluster_id'].astype('object')\n",
    "    df['dc_ori_mode'] = df['dc_ori_mode'].astype('object')\n",
    "    df['day_of_week'] = df['day_of_week'].astype('object')\n",
    "\n",
    "    cat = ['cluster_id','dc_ori_mode','day_of_week']\n",
    "    num = df.drop(cat+['demand'], axis = 1).columns\n",
    "    #print(num)\n",
    "    \n",
    "    \n",
    "    # train test split\n",
    "    df_enc = pd.get_dummies(df, columns = cat, drop_first = True)\n",
    "    train_enc = df_enc.query('1<= day_of_month <= 24')\n",
    "    test_enc = df_enc.query('24 < day_of_month <= 31')\n",
    "\n",
    "    # train = df.query('1<= day_of_month <= 24')\n",
    "    # test = df.query('24 < day_of_month <= 31')\n",
    "\n",
    "    # train_enc = pd.get_dummies(train, columns = cat, drop_first = True)\n",
    "    # test_enc = pd.get_dummies(test, columns = cat)\n",
    "\n",
    "    # print(train_enc.dtypes)\n",
    "    # print(test_enc.dtypes)\n",
    "\n",
    "    # standardize data\n",
    "    scaler = StandardScaler()\n",
    "\n",
    "    # x_train = train_enc[['quantity_discount_rate_mean','day_of_week_3','cluster_id_6','cluster_id_7','cluster_id_8','cluster_id_10','dc_ori_num','dc_ori_mode_7']].to_numpy()\n",
    "    # x_test = test_enc[['quantity_discount_rate_mean','day_of_week_3','cluster_id_6','cluster_id_7','cluster_id_8','cluster_id_10','dc_ori_num','dc_ori_mode_7']]\n",
    "\n",
    "    x_train = train_enc.drop(['demand', 'discount_rate_mean','type_1_percent'], axis = 1).to_numpy() # only remove highest vif column\n",
    "    x_train = scaler.fit_transform(x_train)\n",
    "\n",
    "    y_train = train_enc['demand'].to_numpy().reshape(len(train_enc), 1)\n",
    "\n",
    "\n",
    "    x_test = test_enc.drop(['demand', 'discount_rate_mean','type_1_percent'], axis = 1) \n",
    "    x_test = scaler.fit_transform(x_test)\n",
    "\n",
    "    y_test = test_enc['demand'].to_numpy().reshape(len(test_enc), 1)\n",
    "    \n",
    "    #print(x_train.shape, y_train.shape)\n",
    "    #print(x_test.shape, y_test.shape)\n",
    "\n",
    "    return x_train, y_train, x_test, y_test"
   ]
  },
  {
   "cell_type": "code",
   "execution_count": 6,
   "id": "32206393",
   "metadata": {},
   "outputs": [
    {
     "name": "stdout",
     "output_type": "stream",
     "text": [
      "tensor(-0.2521)\n",
      "tensor(-0.2521)\n"
     ]
    }
   ],
   "source": [
    "def r2_loss(outputs, targets):\n",
    "    target_mean = torch.mean(targets)\n",
    "    ss_tot = torch.sum((targets - target_mean) ** 2)\n",
    "    ss_res = torch.sum((targets - outputs) ** 2)\n",
    "    r2 = 1 - ss_res / ss_tot\n",
    "    return r2\n",
    "\n",
    "def r2_loss_2(outputs, targets):\n",
    "    ss_tot = 0.0\n",
    "    ss_res = 0.0\n",
    "    target_mean = torch.mean(targets)\n",
    "    for i in range(0,len(outputs)):\n",
    "        ss_tot += (targets[i] - target_mean) ** 2\n",
    "        ss_res += (targets[i] - outputs[i]) ** 2\n",
    "    r2 = 1 - ss_res / ss_tot\n",
    "    return r2\n",
    "\n",
    "# TODO: need to work with tensor objects.\n",
    "def SPOLoss (d_pred, d_actual):\n",
    "    # W: items to stock the warehouse\n",
    "    # h: inventory cost\n",
    "    # s: shipping cost\n",
    "    # ci: capacity limit for warehouse i = 1000 (per month)\n",
    "    cost = 0.0\n",
    "    max_capacity = capacity_i / 31 # capacity_i is defined outside of this function\n",
    "    for i in range(0, len(d_pred)):\n",
    "        if d_pred[i] <= max_capacity:\n",
    "            w = d_pred[i]\n",
    "        else:\n",
    "            w = max_capacity\n",
    "        if w > d_actual[i]:\n",
    "            h = 2.920 * (w - d_actual[i])  # average inventory cost per sku * (w - target)\n",
    "            s = 0\n",
    "        else:\n",
    "            h = 0\n",
    "            s = 0.803 * (d_actual[i] - w)\n",
    "        cost += h + s\n",
    "    return cost\n",
    "\n",
    "def SPO_MSE_Loss(d_pred, d_actual):\n",
    "    spo_loss = SPOLoss(d_pred, d_actual)\n",
    "    mse_loss = 0.0\n",
    "    for i in range(0, len(d_pred)):\n",
    "        mse_loss += (d_pred[i] - d_actual[i]) ** 2\n",
    "    mse_loss = mse_loss / len(d_pred)\n",
    "    # mse_loss = sum((d_pred - d_actual) ** 2) / len(d_pred)    # don't use this, because d_pred can is 1*N dimention but d_actual can be N*1 dimension\n",
    "    return spo_loss + 0.1 * mse_loss\n",
    " \n",
    "# print(torch.Tensor.float(1.0))\n",
    "outputs = torch.randn(5)\n",
    "targets = torch.randn(5)\n",
    "# print(outputs.size())\n",
    "# for i in range(0,len(outputs)):\n",
    "#   print(2)\n",
    "print(r2_loss(outputs,targets))\n",
    "print(r2_loss_2(outputs,targets))\n",
    "#print(SPOLoss(outputs,targets))\n",
    "# print(torch.randn(5))\n",
    "# print(SPOLoss(1, 2))"
   ]
  },
  {
   "cell_type": "code",
   "execution_count": 7,
   "id": "d696570d",
   "metadata": {},
   "outputs": [],
   "source": [
    "# define model structure\n",
    "class linearRegression(torch.nn.Module):\n",
    "    def __init__(self, inputSize, outputSize):\n",
    "        super(linearRegression, self).__init__()\n",
    "        self.linear = torch.nn.Linear(inputSize, outputSize)\n",
    "\n",
    "    def forward(self, x):\n",
    "        out = self.linear(x)\n",
    "        return out"
   ]
  },
  {
   "cell_type": "code",
   "execution_count": 8,
   "id": "a142e18e",
   "metadata": {
    "colab": {
     "base_uri": "https://localhost:8080/",
     "height": 1000
    },
    "executionInfo": {
     "elapsed": 1341,
     "status": "ok",
     "timestamp": 1647244512390,
     "user": {
      "displayName": "Peng Xu",
      "photoUrl": "https://lh3.googleusercontent.com/a-/AOh14GihYc7h5im61ge3uVxyNDW7QWZ3KrL0gLMarQHM=s64",
      "userId": "13852652645537005974"
     },
     "user_tz": 420
    },
    "id": "a142e18e",
    "outputId": "d8e7987d-40ba-4d35-aa11-58399b13dc29"
   },
   "outputs": [],
   "source": [
    "# define training and evaluation functions\n",
    "\n",
    "def predict(model, x):\n",
    "    \n",
    "    \"\"\"\n",
    "    takes in a pytorch model and a matrix of features\n",
    "    return a list of predictions\n",
    "    \"\"\"\n",
    "    \n",
    "    with torch.no_grad(): # we don't need gradients in the testing phase\n",
    "    # if torch.cuda.is_available():\n",
    "    #     pred_y_train = model(Variable(torch.from_numpy(x_train).float().cuda())).cpu().data.numpy()\n",
    "    # else:\n",
    "    #     pred_y_train = model(Variable(torch.from_numpy(x_train).float())).data.numpy()\n",
    "        pred_y = model(Variable(torch.from_numpy(x).float())).data.numpy()\n",
    "        pred_y = [pred_y[x].item() for x in range(len(pred_y))]\n",
    "    return pred_y\n",
    "\n",
    "def linearRegressionTrain(x_train, y_train, learningRate, epochs, loss_type = 'MSE', regularize = 'None', l1_penalty = 0, l2_penalty = 0, plot = True, verbose = True):\n",
    "    \"\"\"\n",
    "    input: \n",
    "        - x_train whose type is numpy.ndarray\n",
    "        - y_train whose type is numpy.ndarray\n",
    "        - learningRate\n",
    "        - epochs\n",
    "        - regularization can be either \"None\" or \"l1\" or \"l2\", default is none\n",
    "        - loss_type can be either \"MSE\" or \"SPO\" or \"SPO_MSE\", default is 'MSE'\n",
    "        - plot: whether you want to plot the loss against epochs, default is True\n",
    "        \n",
    "    output:\n",
    "        trained pytorch linear regression model\n",
    "    \"\"\"\n",
    "    _, inputDim = x_train.shape\n",
    "    outputDim = 1       # takes variable 'y'\n",
    "    \n",
    "    loss_list = []\n",
    "\n",
    "    model = linearRegression(inputDim, outputDim)\n",
    "    \n",
    "    ##### For GPU #######\n",
    "    # if torch.cuda.is_available():\n",
    "    #     model.cuda()\n",
    "    \n",
    "    # initialize the loss function and optimizer\n",
    "    if loss_type == 'MSE': \n",
    "        \n",
    "        criterion = torch.nn.MSELoss()  \n",
    "        # criterion = r2_loss\n",
    "        \n",
    "        if regularize == 'None' or regularize == 'l1':\n",
    "            optimizer = torch.optim.SGD(model.parameters(), lr=learningRate)\n",
    "        else: # regularize = 'l2'\n",
    "            optimizer = torch.optim.SGD(model.parameters(),weight_decay = l2_penalty, lr=learningRate)\n",
    "            \n",
    "    elif loss_type == 'SPO': # change loss function and switch to adam optimizer\n",
    "        \n",
    "        criterion = SPOLoss\n",
    "        \n",
    "        if regularize == 'None' or regularize == 'l1':\n",
    "            optimizer = torch.optim.Adam(model.parameters(), lr=learningRate)\n",
    "        else: # regularize = 'l2'\n",
    "            optimizer = torch.optim.Adam(model.parameters(),weight_decay = l2_penalty, lr=learningRate)\n",
    "\n",
    "    elif loss_type == 'SPO_MSE': # change loss function and switch to adam optimizer\n",
    "        \n",
    "        criterion = SPO_MSE_Loss\n",
    "        \n",
    "        if regularize == 'None' or regularize == 'l1':\n",
    "            optimizer = torch.optim.Adam(model.parameters(), lr=learningRate)\n",
    "        else: # regularize = 'l2'\n",
    "            optimizer = torch.optim.Adam(model.parameters(),weight_decay = l2_penalty, lr=learningRate)\n",
    "\n",
    "    else:\n",
    "        raise Exception('wrong loss_type')\n",
    "        \n",
    "    # model training\n",
    "\n",
    "    for epoch in range(epochs):\n",
    "        # Converting inputs and labels to Variable\n",
    "        # if torch.cuda.is_available():\n",
    "        #     inputs = Variable(torch.from_numpy(x_train).cuda())\n",
    "        #     labels = Variable(torch.from_numpy(y_train).cuda())\n",
    "        # else:\n",
    "        #     inputs = Variable(torch.from_numpy(x_train))\n",
    "        #     labels = Variable(torch.from_numpy(y_train))\n",
    "        inputs = Variable(torch.from_numpy(x_train))\n",
    "        labels = Variable(torch.from_numpy(y_train))\n",
    "\n",
    "        # Clear gradient buffers because we don't want any gradient from previous epoch to carry forward, dont want to cummulate gradients\n",
    "        optimizer.zero_grad()\n",
    "\n",
    "        # get output from the model, given the inputs\n",
    "        outputs = model(inputs.type(torch.FloatTensor))\n",
    "\n",
    "        # get loss for the predicted output\n",
    "        loss = criterion(outputs, labels.type(torch.FloatTensor))\n",
    "        \n",
    "        if regularize == 'l1':\n",
    "            l1_norm = l1_penalty * torch.norm(model.linear.weight, p=1) # double check\n",
    "            loss += l1_norm\n",
    "            \n",
    "        # get gradients w.r.t to parameters\n",
    "        loss.backward()\n",
    "\n",
    "        # update parameters\n",
    "        optimizer.step()\n",
    "\n",
    "        # break loop if percent changae in loss is less than 0.1%\n",
    "        if (len(loss_list) > 300) and (abs((loss.data - loss_list[-1])/loss_list[-1]) <0.0001):\n",
    "            loss_list.append(loss.data)\n",
    "            break\n",
    "            \n",
    "        # store loss\n",
    "        loss_list.append(loss.data)\n",
    "\n",
    "        # print loss\n",
    "        #if(epoch % 100 == 0):\n",
    "            #print('epoch {}, loss {}'.format(epoch, loss.data))\n",
    "    \n",
    "    if plot:\n",
    "        plt.plot(range(len(loss_list)),loss_list)\n",
    "        plt.xlabel(\"Number of Iterations\")\n",
    "        plt.ylabel(\"Loss\")\n",
    "        plt.show()\n",
    "        \n",
    "    if verbose:\n",
    "        print('model trained using {} loss'.format(loss_type))\n",
    "        # bias b (offset or y-intercept)\n",
    "        print('y-intercept ', model.linear.bias.item())\n",
    "        # weight (w)\n",
    "        print('Coefficients ',  model.linear.weight.detach().numpy())\n",
    "    \n",
    "        pred_y_train = predict(model, x_train)\n",
    "        \n",
    "        print(\"Train MSE =\",mean_squared_error(y_train,pred_y_train))\n",
    "        print('Train R^2 =', r2_score(y_train, pred_y_train)) \n",
    "        print('Train SPO Loss =', SPOLoss(pred_y_train, y_train))\n",
    "\n",
    "    return model\n",
    "\n",
    "\n",
    "def generate_scores(y_true, y_pred):\n",
    "    MSE = mean_squared_error(y_true, y_pred)\n",
    "    R2 = r2_score(y_true, y_pred)\n",
    "    SPO = SPOLoss(y_pred, y_true)\n",
    "    SPO_mean = SPO / len(y_pred)\n",
    "    SPO_MSE = SPO_MSE_Loss(y_pred, y_true)\n",
    "    SPO_MSE_mean = SPO_MSE / len(y_pred)\n",
    "    #print(\"Train MSE =\", MSE)\n",
    "    #print('Train R^2 =', R2) \n",
    "    #print('Train SPO Loss =', SPO)\n",
    "    return pd.DataFrame({'MSE': MSE, 'R^2': R2, 'SPO Loss': SPO, 'SPO_MSE_Weighted_Loss':SPO_MSE, 'SPO_MSE_Weighted_Loss Ave': SPO_MSE_mean, 'SPO Loss Ave': SPO_mean})\n",
    "\n",
    "def evaluation(model, x_train, x_test, y_train, y_test, plot = True):\n",
    "    \n",
    "    \"\"\"\n",
    "    this function only works for pytorch model\n",
    "    \n",
    "    return a 2x4 dataframe: \n",
    "        - one row for training set, the other row for testing\n",
    "        - 4 columns are 4 scores: MSE, R2, SPO, SPO Ave\n",
    "    \"\"\"\n",
    "\n",
    "    pred_y_train = predict(model, x_train)\n",
    "    pred_y_test = predict(model, x_test)\n",
    "\n",
    "    # Comparing Actual and predicted values\n",
    "    if plot:\n",
    "        plt.figure(figsize=(7,7))\n",
    "        plt.scatter(y_train, pred_y_train, c='b', s=10)\n",
    "        plt.xlabel('Train Actual Demand'), plt.ylabel('Train Predicted Demand');\n",
    "        lim = 100\n",
    "        x = y = range(lim)\n",
    "        plt.plot(x,y, c='brown')\n",
    "        plt.xlim(0,lim), plt.ylim(0,lim);\n",
    "        plt\n",
    "\n",
    "        plt.figure(figsize=(7,7))\n",
    "        plt.scatter(y_test, pred_y_test, c='b', s=10)\n",
    "        plt.xlabel('Test Actual Demand'), plt.ylabel('Test Predicted Demand');\n",
    "        lim = 100\n",
    "        x = y = range(lim)\n",
    "        plt.plot(x,y, c='brown')\n",
    "        plt.xlim(0,lim), plt.ylim(0,lim);\n",
    "        plt\n",
    "\n",
    "    score_df = pd.concat([generate_scores(y_train, pred_y_train), generate_scores(y_test, pred_y_test)])\n",
    "    score_df.index = ['train', 'test']\n",
    "    \n",
    "    return score_df"
   ]
  },
  {
   "cell_type": "code",
   "execution_count": 9,
   "id": "d86ba545",
   "metadata": {},
   "outputs": [],
   "source": [
    "import timeit\n",
    "def cross_validate(x_train, y_train, loss_type, regularize, plot = True):\n",
    "    \n",
    "    # return the best penalty coefficient that minimize average validation error\n",
    "    start = timeit.default_timer()\n",
    "    \n",
    "    aveloss = dict()\n",
    "    kfold = KFold(n_splits = 5)\n",
    "    \n",
    "    if loss_type == 'MSE':\n",
    "        learningRate = 0.02\n",
    "        epochs = 301\n",
    "        grid = 10**-np.linspace(0,1,11) if regularize == 'l2' else 10**-np.linspace(0,5,11)\n",
    "        \n",
    "    elif loss_type == 'SPO':\n",
    "        learningRate = 0.05\n",
    "        epochs = 301\n",
    "        grid = 10**-np.linspace(-1,5,20)\n",
    "        \n",
    "\n",
    "    if regularize == 'l2':\n",
    "        \n",
    "        for i in grid:\n",
    "            loss = 0\n",
    "            \n",
    "            for train_index, test_index in kfold.split(x_train, y_train):\n",
    "                x_train_fold = x_train[train_index]\n",
    "                y_train_fold = y_train[train_index]\n",
    "                x_test_fold = x_train[test_index]\n",
    "                y_test_fold = y_train[test_index]\n",
    "\n",
    "                model_i = linearRegressionTrain(x_train_fold, y_train_fold, learningRate, epochs, loss_type, regularize, l2_penalty = i, plot = False, verbose = False)\n",
    "\n",
    "                pred_y_validate = predict(model_i, x_test_fold)\n",
    "                \n",
    "                loss_i = generate_scores(y_test_fold, pred_y_validate)['MSE'][0] if loss_type == 'MSE' else  generate_scores(y_test_fold, pred_y_validate)['SPO Loss'][0]\n",
    "                loss += loss_i\n",
    "                \n",
    "            aveloss[i]  = loss / 5\n",
    "            #print(i)\n",
    "            \n",
    "    elif regularize == 'l1':\n",
    "        \n",
    "        for i in grid:\n",
    "            loss = 0\n",
    "            \n",
    "            for train_index, test_index in kfold.split(x_train, y_train):\n",
    "                x_train_fold = x_train[train_index]\n",
    "                y_train_fold = y_train[train_index]\n",
    "                x_test_fold = x_train[test_index]\n",
    "                y_test_fold = y_train[test_index]\n",
    "\n",
    "                model_i = linearRegressionTrain(x_train_fold, y_train_fold, learningRate, epochs, loss_type, regularize, l1_penalty = i, plot = False, verbose = False)\n",
    "\n",
    "                pred_y_validate = predict(model_i, x_test_fold)\n",
    "                \n",
    "                loss_i = generate_scores(y_test_fold, pred_y_validate)['MSE'][0] if loss_type == 'MSE' else  generate_scores(y_test_fold, pred_y_validate)['SPO Loss'][0]\n",
    "                loss += loss_i\n",
    "                \n",
    "            aveloss[i]  = loss / 5\n",
    "    else:\n",
    "        raise Exception('wrong regularization type')\n",
    "        \n",
    "    if plot:\n",
    "        plt.plot(aveloss.keys(), aveloss.values())\n",
    "        plt.xlabel('penalty coefficient')\n",
    "        plt.ylabel('average {} error on validation sets'.format(loss_type))\n",
    "        plt.title('Cross Validation for {} Regularization'.format(regularize))\n",
    "        plt.show()\n",
    "        \n",
    "    best = min(aveloss, key = aveloss.get)\n",
    "    print('The best penalty coefficient is '+ str(best))\n",
    "    \n",
    "    stop = timeit.default_timer()\n",
    "    print('Time: ', stop - start)  \n",
    "    return best"
   ]
  },
  {
   "cell_type": "code",
   "execution_count": 10,
   "id": "17423fbe",
   "metadata": {},
   "outputs": [],
   "source": [
    "i = 26\n",
    "x_train, y_train, x_test, y_test = preprocessing(order_dict[i])\n",
    "capacity_i = capacity[i]\n",
    "#capacity_i = 1000"
   ]
  },
  {
   "cell_type": "code",
   "execution_count": 11,
   "id": "f96156b5",
   "metadata": {},
   "outputs": [],
   "source": [
    "#cross_validate(x_train, y_train, 'MSE', 'l2')"
   ]
  },
  {
   "cell_type": "code",
   "execution_count": 12,
   "id": "da87a468",
   "metadata": {},
   "outputs": [],
   "source": [
    "#cross_validate(x_train, y_train, 'MSE', 'l1')"
   ]
  },
  {
   "cell_type": "code",
   "execution_count": 13,
   "id": "6f102738",
   "metadata": {
    "scrolled": true
   },
   "outputs": [],
   "source": [
    "#cross_validate(x_train, y_train, 'SPO', 'l2')"
   ]
  },
  {
   "cell_type": "code",
   "execution_count": 14,
   "id": "c1452b3a",
   "metadata": {},
   "outputs": [],
   "source": [
    "#cross_validate(x_train, y_train, 'SPO', 'l1')"
   ]
  },
  {
   "cell_type": "markdown",
   "id": "d67e1c24",
   "metadata": {},
   "source": [
    "## MSE loss models"
   ]
  },
  {
   "cell_type": "markdown",
   "id": "38f36f6d",
   "metadata": {},
   "source": [
    "### MSE loss model training"
   ]
  },
  {
   "cell_type": "code",
   "execution_count": 15,
   "id": "aa517e1a",
   "metadata": {},
   "outputs": [
    {
     "data": {
      "image/png": "[encoded data removed]",
      "text/plain": [
       "<Figure size 432x288 with 1 Axes>"
      ]
     },
     "metadata": {
      "needs_background": "light"
     },
     "output_type": "display_data"
    },
    {
     "name": "stdout",
     "output_type": "stream",
     "text": [
      "model trained using MSE loss\n",
      "y-intercept  51.908470153808594\n",
      "Coefficients  [[  2.6499143   -2.0664742   -1.0234641    2.4600196    0.04658227\n",
      "   -0.31948858   1.3591021    3.982872     3.1754076   -2.357848\n",
      "    2.4337924   12.415162     3.2876058    0.5403968   25.96532\n",
      "   -7.2278037   19.159477     0.70657647  -4.987931    21.110722\n",
      "   12.001343    -0.74674904 -15.1148205   -2.4089525    9.74471\n",
      "   -2.0561094   -0.288737     3.3536768    7.819403    -0.4389937\n",
      "    0.2552658   -3.76303   ]]\n",
      "Train MSE = 811.5471589377368\n",
      "Train R^2 = 0.8026036362002695\n",
      "Train SPO Loss = [7297.11707671]\n"
     ]
    },
    {
     "data": {
      "image/png": "[encoded data removed]",
      "text/plain": [
       "<Figure size 432x288 with 1 Axes>"
      ]
     },
     "metadata": {
      "needs_background": "light"
     },
     "output_type": "display_data"
    },
    {
     "name": "stdout",
     "output_type": "stream",
     "text": [
      "The best penalty coefficient is 0.1\n",
      "Time:  4.9367669020000005\n"
     ]
    },
    {
     "data": {
      "image/png": "[encoded data removed]",
      "text/plain": [
       "<Figure size 432x288 with 1 Axes>"
      ]
     },
     "metadata": {
      "needs_background": "light"
     },
     "output_type": "display_data"
    },
    {
     "name": "stdout",
     "output_type": "stream",
     "text": [
      "model trained using MSE loss\n",
      "y-intercept  49.43673324584961\n",
      "Coefficients  [[  2.5596101   -1.9624656   -0.8514536    1.5104659   -0.5957402\n",
      "    0.24333529   0.94223577   2.013616     3.6701765   -2.5072389\n",
      "    2.206492    10.069396     2.235968     0.85386574  24.476494\n",
      "   -7.261978    18.076275     0.29358196  -5.1968675   19.631449\n",
      "   10.443157    -1.0762159  -13.42806     -2.5709343    8.025494\n",
      "   -1.915346    -0.5006614    3.2104049    7.3366575   -0.6727876\n",
      "   -0.08144344  -3.684274  ]]\n",
      "Train MSE = 831.6749809911519\n",
      "Train R^2 = 0.7977078530768922\n",
      "Train SPO Loss = [6746.64016062]\n"
     ]
    },
    {
     "data": {
      "image/png": "[encoded data removed]",
      "text/plain": [
       "<Figure size 432x288 with 1 Axes>"
      ]
     },
     "metadata": {
      "needs_background": "light"
     },
     "output_type": "display_data"
    },
    {
     "name": "stdout",
     "output_type": "stream",
     "text": [
      "The best penalty coefficient is 1.0\n",
      "Time:  6.8805271910000005\n"
     ]
    },
    {
     "data": {
      "image/png": "[encoded data removed]",
      "text/plain": [
       "<Figure size 432x288 with 1 Axes>"
      ]
     },
     "metadata": {
      "needs_background": "light"
     },
     "output_type": "display_data"
    },
    {
     "name": "stdout",
     "output_type": "stream",
     "text": [
      "model trained using MSE loss\n",
      "y-intercept  51.90846633911133\n",
      "Coefficients  [[ 2.1359496e+00 -9.9975199e-01  4.0432622e-04  9.8968637e-01\n",
      "   1.0304746e-02  3.2593720e-03  2.1764539e-02  2.3880352e-01\n",
      "   2.0453583e-01 -1.2137409e+00  1.5337479e-01  8.7629681e+00\n",
      "   5.3399634e-01  1.1942113e-02  2.6778063e+01 -4.6052885e+00\n",
      "   1.8855179e+01  1.2763826e+00 -3.5977547e+00  2.0508852e+01\n",
      "   1.1907379e+01  1.4644550e-02 -1.2353730e+01 -2.3420994e+00\n",
      "   8.2257376e+00 -1.7620689e+00  1.3691343e-04  3.2047210e+00\n",
      "   7.4094081e+00 -2.7635980e-02 -7.4599488e-03 -2.8488886e+00]]\n",
      "Train MSE = 829.795133359739\n",
      "Train R^2 = 0.7981650970988221\n",
      "Train SPO Loss = [7176.54901937]\n"
     ]
    }
   ],
   "source": [
    "# ols model training\n",
    "\n",
    "learningRate = 0.02\n",
    "epochs = 501\n",
    "\n",
    "model_ols = linearRegressionTrain(x_train, y_train, learningRate, epochs,'MSE','None')\n",
    "\n",
    "# ridge regression (l2 regrularization)\n",
    "\n",
    "best_l2 = cross_validate(x_train, y_train, 'MSE', 'l2')\n",
    "model_ridge = linearRegressionTrain(x_train, y_train, learningRate, epochs,'MSE','l2', l2_penalty = best_l2)\n",
    "\n",
    "# l1 regularization (lasso) - penalty coefficient set to be 0.1\n",
    "\n",
    "best_l1 = cross_validate(x_train, y_train, 'MSE', 'l1')\n",
    "model_lasso = linearRegressionTrain(x_train, y_train, learningRate, epochs,'MSE', 'l1', l1_penalty = best_l1)"
   ]
  },
  {
   "cell_type": "markdown",
   "id": "b90a18a2",
   "metadata": {},
   "source": [
    "### MSE loss model evaluation"
   ]
  },
  {
   "cell_type": "code",
   "execution_count": 16,
   "id": "120d4a31",
   "metadata": {},
   "outputs": [
    {
     "data": {
      "text/html": [
       "<div>\n",
       "<style scoped>\n",
       "    .dataframe tbody tr th:only-of-type {\n",
       "        vertical-align: middle;\n",
       "    }\n",
       "\n",
       "    .dataframe tbody tr th {\n",
       "        vertical-align: top;\n",
       "    }\n",
       "\n",
       "    .dataframe thead th {\n",
       "        text-align: right;\n",
       "    }\n",
       "</style>\n",
       "<table border=\"1\" class=\"dataframe\">\n",
       "  <thead>\n",
       "    <tr style=\"text-align: right;\">\n",
       "      <th></th>\n",
       "      <th></th>\n",
       "      <th>MSE</th>\n",
       "      <th>R^2</th>\n",
       "      <th>SPO Loss</th>\n",
       "      <th>SPO_MSE_Weighted_Loss</th>\n",
       "      <th>SPO_MSE_Weighted_Loss Ave</th>\n",
       "      <th>SPO Loss Ave</th>\n",
       "    </tr>\n",
       "  </thead>\n",
       "  <tbody>\n",
       "    <tr>\n",
       "      <th rowspan=\"2\" valign=\"top\">mse_ols</th>\n",
       "      <th>train</th>\n",
       "      <td>811.547159</td>\n",
       "      <td>0.802604</td>\n",
       "      <td>7297.117077</td>\n",
       "      <td>7378.271793</td>\n",
       "      <td>32.079443</td>\n",
       "      <td>31.726596</td>\n",
       "    </tr>\n",
       "    <tr>\n",
       "      <th>test</th>\n",
       "      <td>3476.240294</td>\n",
       "      <td>0.605699</td>\n",
       "      <td>2467.563384</td>\n",
       "      <td>2815.187413</td>\n",
       "      <td>42.654355</td>\n",
       "      <td>37.387324</td>\n",
       "    </tr>\n",
       "    <tr>\n",
       "      <th rowspan=\"2\" valign=\"top\">mse_ridge</th>\n",
       "      <th>train</th>\n",
       "      <td>831.674981</td>\n",
       "      <td>0.797708</td>\n",
       "      <td>6746.640161</td>\n",
       "      <td>6829.807659</td>\n",
       "      <td>29.694816</td>\n",
       "      <td>29.333218</td>\n",
       "    </tr>\n",
       "    <tr>\n",
       "      <th>test</th>\n",
       "      <td>3693.400628</td>\n",
       "      <td>0.581068</td>\n",
       "      <td>2466.921318</td>\n",
       "      <td>2836.261381</td>\n",
       "      <td>42.973657</td>\n",
       "      <td>37.377596</td>\n",
       "    </tr>\n",
       "    <tr>\n",
       "      <th rowspan=\"2\" valign=\"top\">mse_lasso</th>\n",
       "      <th>train</th>\n",
       "      <td>829.795133</td>\n",
       "      <td>0.798165</td>\n",
       "      <td>7176.549019</td>\n",
       "      <td>7259.528533</td>\n",
       "      <td>31.563168</td>\n",
       "      <td>31.202387</td>\n",
       "    </tr>\n",
       "    <tr>\n",
       "      <th>test</th>\n",
       "      <td>3488.945126</td>\n",
       "      <td>0.604258</td>\n",
       "      <td>2455.801684</td>\n",
       "      <td>2804.696197</td>\n",
       "      <td>42.495397</td>\n",
       "      <td>37.209116</td>\n",
       "    </tr>\n",
       "  </tbody>\n",
       "</table>\n",
       "</div>"
      ],
      "text/plain": [
       "                         MSE       R^2     SPO Loss  SPO_MSE_Weighted_Loss  \\\n",
       "mse_ols   train   811.547159  0.802604  7297.117077            7378.271793   \n",
       "          test   3476.240294  0.605699  2467.563384            2815.187413   \n",
       "mse_ridge train   831.674981  0.797708  6746.640161            6829.807659   \n",
       "          test   3693.400628  0.581068  2466.921318            2836.261381   \n",
       "mse_lasso train   829.795133  0.798165  7176.549019            7259.528533   \n",
       "          test   3488.945126  0.604258  2455.801684            2804.696197   \n",
       "\n",
       "                 SPO_MSE_Weighted_Loss Ave  SPO Loss Ave  \n",
       "mse_ols   train                  32.079443     31.726596  \n",
       "          test                   42.654355     37.387324  \n",
       "mse_ridge train                  29.694816     29.333218  \n",
       "          test                   42.973657     37.377596  \n",
       "mse_lasso train                  31.563168     31.202387  \n",
       "          test                   42.495397     37.209116  "
      ]
     },
     "execution_count": 16,
     "metadata": {},
     "output_type": "execute_result"
    }
   ],
   "source": [
    "# compile results for models trained on MSE loss\n",
    "MSE_result = []\n",
    "\n",
    "for model, name in zip([model_ols, model_ridge, model_lasso],['mse_ols','mse_ridge','mse_lasso']):\n",
    "    score_df = evaluation(model, x_train, x_test, y_train, y_test, plot = False)\n",
    "    MSE_result.append(pd.concat({name:score_df}))\n",
    "    \n",
    "MSE_scores = pd.concat([MSE_result[0], MSE_result[1],MSE_result[2]])\n",
    "MSE_scores"
   ]
  },
  {
   "cell_type": "markdown",
   "id": "eedf5884",
   "metadata": {},
   "source": [
    "## SPO loss models"
   ]
  },
  {
   "cell_type": "markdown",
   "id": "e5bed1a9",
   "metadata": {},
   "source": [
    "### SPO loss model training"
   ]
  },
  {
   "cell_type": "code",
   "execution_count": 25,
   "id": "7c79bdd2",
   "metadata": {},
   "outputs": [
    {
     "name": "stderr",
     "output_type": "stream",
     "text": [
      "/usr/local/lib/python3.9/site-packages/numpy/core/shape_base.py:65: FutureWarning: The input object of type 'Tensor' is an array-like implementing one of the corresponding protocols (`__array__`, `__array_interface__` or `__array_struct__`); but not a sequence (or 0-D). In the future, this object will be coerced as if it was first converted using `np.array(obj)`. To retain the old behaviour, you have to either modify the type 'Tensor', or assign to an empty array created with `np.empty(correct_shape, dtype=object)`.\n",
      "  ary = asanyarray(ary)\n",
      "/usr/local/lib/python3.9/site-packages/numpy/core/shape_base.py:65: VisibleDeprecationWarning: Creating an ndarray from ragged nested sequences (which is a list-or-tuple of lists-or-tuples-or ndarrays with different lengths or shapes) is deprecated. If you meant to do this, you must specify 'dtype=object' when creating the ndarray.\n",
      "  ary = asanyarray(ary)\n"
     ]
    },
    {
     "data": {
      "image/png": "[encoded data removed]",
      "text/plain": [
       "<Figure size 432x288 with 1 Axes>"
      ]
     },
     "metadata": {
      "needs_background": "light"
     },
     "output_type": "display_data"
    },
    {
     "name": "stdout",
     "output_type": "stream",
     "text": [
      "model trained using SPO loss\n",
      "y-intercept  31.38335418701172\n",
      "Coefficients  [[ 0.28199095 -0.27097592  0.1510535   0.6732272  -1.1013738  -0.44336388\n",
      "   1.1500123  -0.8605998   0.17022546 -1.806959    0.10879026  1.4614267\n",
      "   0.3532266  -0.08842016  4.542423   -3.2283988  17.445505    3.202103\n",
      "  -3.3762007  22.215574    8.6945      4.8337073  -4.7382097  -2.2216752\n",
      "   3.0648968  -0.13739514  0.76377994  0.8057853   1.8108656   0.7570884\n",
      "   0.5754084  -1.7277702 ]]\n",
      "Train MSE = 2049.7972590974014\n",
      "Train R^2 = 0.5014183451740426\n",
      "Train SPO Loss = [4068.8117302]\n"
     ]
    },
    {
     "name": "stderr",
     "output_type": "stream",
     "text": [
      "/usr/local/lib/python3.9/site-packages/numpy/core/shape_base.py:65: FutureWarning: The input object of type 'Tensor' is an array-like implementing one of the corresponding protocols (`__array__`, `__array_interface__` or `__array_struct__`); but not a sequence (or 0-D). In the future, this object will be coerced as if it was first converted using `np.array(obj)`. To retain the old behaviour, you have to either modify the type 'Tensor', or assign to an empty array created with `np.empty(correct_shape, dtype=object)`.\n",
      "  ary = asanyarray(ary)\n",
      "/usr/local/lib/python3.9/site-packages/numpy/core/shape_base.py:65: VisibleDeprecationWarning: Creating an ndarray from ragged nested sequences (which is a list-or-tuple of lists-or-tuples-or ndarrays with different lengths or shapes) is deprecated. If you meant to do this, you must specify 'dtype=object' when creating the ndarray.\n",
      "  ary = asanyarray(ary)\n"
     ]
    },
    {
     "data": {
      "image/png": "[encoded data removed]",
      "text/plain": [
       "<Figure size 432x288 with 1 Axes>"
      ]
     },
     "metadata": {
      "needs_background": "light"
     },
     "output_type": "display_data"
    },
    {
     "name": "stdout",
     "output_type": "stream",
     "text": [
      "model trained using SPO loss\n",
      "y-intercept  18.255809783935547\n",
      "Coefficients  [[ 3.1322148e-01 -6.2377572e-01 -1.0241634e-01  5.2139886e-02\n",
      "  -7.5606573e-01  3.9072433e-01  6.3840115e-01 -6.7423975e-01\n",
      "   5.7726443e-01 -9.8424661e-01  3.4581441e-01  3.5099021e-01\n",
      "  -5.6383169e-01  1.8304769e+00  4.6675329e+00 -3.1447189e+00\n",
      "   3.7933419e+00  1.7973949e+00 -3.1172333e+00  3.7933407e+00\n",
      "   3.4052997e+00  2.6745782e+00 -3.4005611e+00 -2.1845691e+00\n",
      "   5.9716344e-01 -5.9117850e-02  3.1979864e-03  6.7539144e-01\n",
      "   5.4235208e-01 -5.5693072e-01  7.8646052e-01 -7.4529445e-01]]\n",
      "Train MSE = 3941.6702962724535\n",
      "Train R^2 = 0.04124932825834282\n",
      "Train SPO Loss = [6247.25357109]\n"
     ]
    },
    {
     "name": "stderr",
     "output_type": "stream",
     "text": [
      "/usr/local/lib/python3.9/site-packages/numpy/core/shape_base.py:65: FutureWarning: The input object of type 'Tensor' is an array-like implementing one of the corresponding protocols (`__array__`, `__array_interface__` or `__array_struct__`); but not a sequence (or 0-D). In the future, this object will be coerced as if it was first converted using `np.array(obj)`. To retain the old behaviour, you have to either modify the type 'Tensor', or assign to an empty array created with `np.empty(correct_shape, dtype=object)`.\n",
      "  ary = asanyarray(ary)\n",
      "/usr/local/lib/python3.9/site-packages/numpy/core/shape_base.py:65: VisibleDeprecationWarning: Creating an ndarray from ragged nested sequences (which is a list-or-tuple of lists-or-tuples-or ndarrays with different lengths or shapes) is deprecated. If you meant to do this, you must specify 'dtype=object' when creating the ndarray.\n",
      "  ary = asanyarray(ary)\n"
     ]
    },
    {
     "data": {
      "image/png": "[encoded data removed]",
      "text/plain": [
       "<Figure size 432x288 with 1 Axes>"
      ]
     },
     "metadata": {
      "needs_background": "light"
     },
     "output_type": "display_data"
    },
    {
     "name": "stdout",
     "output_type": "stream",
     "text": [
      "model trained using SPO loss\n",
      "y-intercept  29.355241775512695\n",
      "Coefficients  [[ 4.5109016e-01 -3.7749380e-01  4.4995733e-02  1.9544736e-01\n",
      "  -3.4467913e-03  2.6806113e-01  9.6039824e-02 -3.2864195e-01\n",
      "   4.1536774e-02 -1.0200255e-01  5.9879730e-03 -1.1428974e-03\n",
      "   2.8079823e-03  1.2912049e-02  1.1975371e+01 -2.7611408e+00\n",
      "   1.0410140e+01  1.6106110e+00 -3.1313612e+00  1.6708223e+01\n",
      "   7.7212200e+00  5.8874702e-01 -3.1261606e+00 -2.1619256e+00\n",
      "   1.0383505e+00 -6.3832915e-01  1.8734509e-02  3.9788447e-03\n",
      "   1.7489390e-01 -5.7291293e-01 -2.9770709e-03 -1.0884138e+00]]\n",
      "Train MSE = 2260.4138289034995\n",
      "Train R^2 = 0.4501891041153778\n",
      "Train SPO Loss = [4409.79600642]\n"
     ]
    }
   ],
   "source": [
    "# ols\n",
    "\n",
    "learningRate = 0.02\n",
    "epochs = 5001\n",
    "\n",
    "# model training\n",
    "model_ols2 = linearRegressionTrain(x_train, y_train, learningRate, epochs,'SPO','None')\n",
    "\n",
    "# ridge regression (l2 regrularization)\n",
    "\n",
    "#best_l2_spo = cross_validate(x_train, y_train, 'SPO', 'l2')\n",
    "model_ridge2 = linearRegressionTrain(x_train, y_train, learningRate, epochs,'SPO','l2', l2_penalty = 2.3357) #2.3357\n",
    "\n",
    "# l1 regularization (lasso)\n",
    "\n",
    "#best_l1_spo = cross_validate(x_train, y_train, 'SPO', 'l1')\n",
    "model_lasso2 = linearRegressionTrain(x_train, y_train, learningRate, epochs,'SPO', 'l1', l1_penalty = 10) #10"
   ]
  },
  {
   "cell_type": "markdown",
   "id": "b898dad2",
   "metadata": {},
   "source": [
    "### SPO loss model evaluation"
   ]
  },
  {
   "cell_type": "code",
   "execution_count": 26,
   "id": "6d389cf1",
   "metadata": {
    "scrolled": true
   },
   "outputs": [
    {
     "data": {
      "text/html": [
       "<div>\n",
       "<style scoped>\n",
       "    .dataframe tbody tr th:only-of-type {\n",
       "        vertical-align: middle;\n",
       "    }\n",
       "\n",
       "    .dataframe tbody tr th {\n",
       "        vertical-align: top;\n",
       "    }\n",
       "\n",
       "    .dataframe thead th {\n",
       "        text-align: right;\n",
       "    }\n",
       "</style>\n",
       "<table border=\"1\" class=\"dataframe\">\n",
       "  <thead>\n",
       "    <tr style=\"text-align: right;\">\n",
       "      <th></th>\n",
       "      <th></th>\n",
       "      <th>MSE</th>\n",
       "      <th>R^2</th>\n",
       "      <th>SPO Loss</th>\n",
       "      <th>SPO Loss Ave</th>\n",
       "    </tr>\n",
       "  </thead>\n",
       "  <tbody>\n",
       "    <tr>\n",
       "      <th rowspan=\"2\" valign=\"top\">spo_ols</th>\n",
       "      <th>train</th>\n",
       "      <td>2049.797259</td>\n",
       "      <td>0.501418</td>\n",
       "      <td>4068.811730</td>\n",
       "      <td>17.690486</td>\n",
       "    </tr>\n",
       "    <tr>\n",
       "      <th>test</th>\n",
       "      <td>6984.704726</td>\n",
       "      <td>0.207744</td>\n",
       "      <td>2887.100605</td>\n",
       "      <td>43.743949</td>\n",
       "    </tr>\n",
       "    <tr>\n",
       "      <th rowspan=\"2\" valign=\"top\">spo_ridge</th>\n",
       "      <th>train</th>\n",
       "      <td>3941.670296</td>\n",
       "      <td>0.041249</td>\n",
       "      <td>6247.253571</td>\n",
       "      <td>27.161972</td>\n",
       "    </tr>\n",
       "    <tr>\n",
       "      <th>test</th>\n",
       "      <td>11199.809482</td>\n",
       "      <td>-0.270364</td>\n",
       "      <td>3578.223812</td>\n",
       "      <td>54.215512</td>\n",
       "    </tr>\n",
       "    <tr>\n",
       "      <th rowspan=\"2\" valign=\"top\">spo_lasso</th>\n",
       "      <th>train</th>\n",
       "      <td>2260.413829</td>\n",
       "      <td>0.450189</td>\n",
       "      <td>4409.796006</td>\n",
       "      <td>19.173026</td>\n",
       "    </tr>\n",
       "    <tr>\n",
       "      <th>test</th>\n",
       "      <td>7551.015173</td>\n",
       "      <td>0.143509</td>\n",
       "      <td>2986.550169</td>\n",
       "      <td>45.250760</td>\n",
       "    </tr>\n",
       "  </tbody>\n",
       "</table>\n",
       "</div>"
      ],
      "text/plain": [
       "                          MSE       R^2     SPO Loss  SPO Loss Ave\n",
       "spo_ols   train   2049.797259  0.501418  4068.811730     17.690486\n",
       "          test    6984.704726  0.207744  2887.100605     43.743949\n",
       "spo_ridge train   3941.670296  0.041249  6247.253571     27.161972\n",
       "          test   11199.809482 -0.270364  3578.223812     54.215512\n",
       "spo_lasso train   2260.413829  0.450189  4409.796006     19.173026\n",
       "          test    7551.015173  0.143509  2986.550169     45.250760"
      ]
     },
     "execution_count": 26,
     "metadata": {},
     "output_type": "execute_result"
    }
   ],
   "source": [
    "# compile results for models trained on SPO loss\n",
    "SPO_result = []\n",
    "\n",
    "for model, name in zip([model_ols2, model_ridge2, model_lasso2],['spo_ols','spo_ridge','spo_lasso']):\n",
    "    score_df = evaluation(model, x_train, x_test, y_train, y_test, plot = False)\n",
    "    SPO_result.append(pd.concat({name:score_df}))\n",
    "    \n",
    "SPO_scores = pd.concat([SPO_result[0], SPO_result[1], SPO_result[2]])\n",
    "SPO_scores.iloc[:,[0,1,2,5]] # 43 47 43"
   ]
  },
  {
   "cell_type": "code",
   "execution_count": 19,
   "id": "829d4e5c",
   "metadata": {},
   "outputs": [
    {
     "data": {
      "text/html": [
       "<div>\n",
       "<style scoped>\n",
       "    .dataframe tbody tr th:only-of-type {\n",
       "        vertical-align: middle;\n",
       "    }\n",
       "\n",
       "    .dataframe tbody tr th {\n",
       "        vertical-align: top;\n",
       "    }\n",
       "\n",
       "    .dataframe thead th {\n",
       "        text-align: right;\n",
       "    }\n",
       "</style>\n",
       "<table border=\"1\" class=\"dataframe\">\n",
       "  <thead>\n",
       "    <tr style=\"text-align: right;\">\n",
       "      <th></th>\n",
       "      <th></th>\n",
       "      <th>MSE</th>\n",
       "      <th>R^2</th>\n",
       "      <th>SPO Loss</th>\n",
       "      <th>SPO Loss Ave</th>\n",
       "    </tr>\n",
       "  </thead>\n",
       "  <tbody>\n",
       "    <tr>\n",
       "      <th rowspan=\"2\" valign=\"top\">mse_ols</th>\n",
       "      <th>train</th>\n",
       "      <td>811.547159</td>\n",
       "      <td>0.802604</td>\n",
       "      <td>7297.117077</td>\n",
       "      <td>31.726596</td>\n",
       "    </tr>\n",
       "    <tr>\n",
       "      <th>test</th>\n",
       "      <td>3476.240294</td>\n",
       "      <td>0.605699</td>\n",
       "      <td>2467.563384</td>\n",
       "      <td>37.387324</td>\n",
       "    </tr>\n",
       "    <tr>\n",
       "      <th rowspan=\"2\" valign=\"top\">mse_ridge</th>\n",
       "      <th>train</th>\n",
       "      <td>831.674981</td>\n",
       "      <td>0.797708</td>\n",
       "      <td>6746.640161</td>\n",
       "      <td>29.333218</td>\n",
       "    </tr>\n",
       "    <tr>\n",
       "      <th>test</th>\n",
       "      <td>3693.400628</td>\n",
       "      <td>0.581068</td>\n",
       "      <td>2466.921318</td>\n",
       "      <td>37.377596</td>\n",
       "    </tr>\n",
       "    <tr>\n",
       "      <th rowspan=\"2\" valign=\"top\">mse_lasso</th>\n",
       "      <th>train</th>\n",
       "      <td>829.795133</td>\n",
       "      <td>0.798165</td>\n",
       "      <td>7176.549019</td>\n",
       "      <td>31.202387</td>\n",
       "    </tr>\n",
       "    <tr>\n",
       "      <th>test</th>\n",
       "      <td>3488.945126</td>\n",
       "      <td>0.604258</td>\n",
       "      <td>2455.801684</td>\n",
       "      <td>37.209116</td>\n",
       "    </tr>\n",
       "  </tbody>\n",
       "</table>\n",
       "</div>"
      ],
      "text/plain": [
       "                         MSE       R^2     SPO Loss  SPO Loss Ave\n",
       "mse_ols   train   811.547159  0.802604  7297.117077     31.726596\n",
       "          test   3476.240294  0.605699  2467.563384     37.387324\n",
       "mse_ridge train   831.674981  0.797708  6746.640161     29.333218\n",
       "          test   3693.400628  0.581068  2466.921318     37.377596\n",
       "mse_lasso train   829.795133  0.798165  7176.549019     31.202387\n",
       "          test   3488.945126  0.604258  2455.801684     37.209116"
      ]
     },
     "execution_count": 19,
     "metadata": {},
     "output_type": "execute_result"
    }
   ],
   "source": [
    "MSE_scores.iloc[:,[0,1,2,5]]"
   ]
  },
  {
   "cell_type": "markdown",
   "id": "eb1ce3f6",
   "metadata": {},
   "source": [
    "# References"
   ]
  },
  {
   "cell_type": "code",
   "execution_count": 20,
   "id": "70b340dc",
   "metadata": {},
   "outputs": [],
   "source": [
    "%%script false --no-raise-error\n",
    "import time\n",
    "# Batch Gradient Descent Using Numpy - For comparison purpose\n",
    "\n",
    "\"\"\"\n",
    "code is based on Yuhan Cheng's code, approved use\n",
    "\"\"\"\n",
    "\n",
    "def multivariate_ols(xvalue_matrix, yvalues, R=0.01, MaxIterations=1000):\n",
    "    start_time = time.time()\n",
    "    alpha = 0.0\n",
    "    beta = np.zeros((xvalue_matrix.shape[1],))\n",
    "    epsilon = 0.00001\n",
    "    n = float(len(xvalue_matrix))\n",
    "    loss = []\n",
    "    for i in range(MaxIterations):\n",
    "        # compute new coefficients\n",
    "        y_pred = alpha + np.matmul(xvalue_matrix, beta)\n",
    "        loss.append(mean_squared_error(y_pred,yvalues))\n",
    "#         if i % 100 == 0:\n",
    "#             print('Current Loss:', loss)\n",
    "        d_alpha = np.mean(y_pred - yvalues)\n",
    "        d_beta = np.mean((y_pred - yvalues) * xvalue_matrix.T, axis = 1)\n",
    "        alpha_1 = alpha - (R * d_alpha)\n",
    "        beta_1 = beta - (R * d_beta)\n",
    "        \n",
    "        if np.isnan(alpha_1):\n",
    "            print('nan at iter', str(i))\n",
    "            break\n",
    "        \n",
    "        # check to see whether stopping criteria has been met\n",
    "        if (np.abs(alpha_1-alpha)<epsilon) and np.all(np.abs(beta_1-beta)<epsilon):\n",
    "            alpha, beta = alpha_1, beta_1\n",
    "            print('error < epsilon, criteria met')\n",
    "            break\n",
    "        alpha, beta = alpha_1, beta_1\n",
    "            \n",
    "    print(\"Time taken: {:.2f} seconds\".format(time.time() - start_time))\n",
    "    print('MSE:', str(loss[-1]))\n",
    "    print('R2:', str(r2_score(y_true=yvalues, y_pred = y_pred)))\n",
    "    \n",
    "    plt.plot(range(len(loss)),loss)\n",
    "    plt.xlabel(\"Number of Iterations\")\n",
    "    plt.ylabel(\"Loss\")\n",
    "    plt.show()\n",
    "    return alpha, beta"
   ]
  },
  {
   "cell_type": "markdown",
   "id": "70029af4",
   "metadata": {},
   "source": [
    "Ref:\n",
    "Lineary Regression with Pytorch\n",
    "  \n",
    "  https://medium.com/analytics-vidhya/linear-regression-with-pytorch-147fed55f138\n",
    "  \n",
    "  https://linuxhint.com/pytorch_linear_regression_tutorial/\n",
    "  \n",
    "  https://medium.com/biaslyai/pytorch-linear-and-logistic-regression-models-5c5f0da2cb9\n",
    "  \n",
    "  https://towardsdatascience.com/linear-regression-with-pytorch-eb6dedead817\n",
    "  \n",
    "  https://www.reneshbedre.com/blog/pytorch-regression.html\n",
    "  \n",
    "  https://www.kaggle.com/joseguzman/multiple-regression-explained-with-pytorch?scriptVersionId=73005237\n",
    "  \n",
    "  https://www.deeplearningwizard.com/deep_learning/practical_pytorch/pytorch_linear_regression/#building-a-linear-regression-model-with-pytorch-gpu\n",
    "  \n",
    "Evaluations:\n",
    "\n",
    "  https://www.analyticsvidhya.com/blog/2021/05/know-the-best-evaluation-metrics-for-your-regression-model/\n",
    "  \n",
    "Quick Ordinary Lineary Regression Calculator:\n",
    "\n",
    "  https://www.socscistatistics.com/tests/regression/default.aspx\n"
   ]
  }
 ],
 "metadata": {
  "colab": {
   "name": "PyTorch_models_Ben.ipynb",
   "provenance": []
  },
  "kernelspec": {
   "display_name": "Python 3 (ipykernel)",
   "language": "python",
   "name": "python3"
  },
  "language_info": {
   "codemirror_mode": {
    "name": "ipython",
    "version": 3
   },
   "file_extension": ".py",
   "mimetype": "text/x-python",
   "name": "python",
   "nbconvert_exporter": "python",
   "pygments_lexer": "ipython3",
   "version": "3.9.10"
  }
 },
 "nbformat": 4,
 "nbformat_minor": 5
}
