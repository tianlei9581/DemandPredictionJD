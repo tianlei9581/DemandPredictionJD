{
 "cells": [
  {
   "cell_type": "code",
   "execution_count": 2,
   "id": "4cedd241",
   "metadata": {
    "executionInfo": {
     "elapsed": 173,
     "status": "ok",
     "timestamp": 1647236224020,
     "user": {
      "displayName": "Peng Xu",
      "photoUrl": "https://lh3.googleusercontent.com/a-/AOh14GihYc7h5im61ge3uVxyNDW7QWZ3KrL0gLMarQHM=s64",
      "userId": "13852652645537005974"
     },
     "user_tz": 420
    },
    "id": "4cedd241"
   },
   "outputs": [],
   "source": [
    "import pandas as pd\n",
    "import json\n",
    "import numpy as np\n",
    "import torch\n",
    "from torch.autograd import Variable\n",
    "import matplotlib.pyplot as plt\n",
    "from sklearn.metrics import r2_score\n",
    "from sklearn.metrics import mean_squared_error\n",
    "from sklearn.preprocessing import StandardScaler\n",
    "from sklearn.linear_model import LinearRegression\n",
    "import seaborn as sns\n",
    "\n",
    "from sklearn.model_selection import KFold"
   ]
  },
  {
   "cell_type": "code",
   "execution_count": 3,
   "id": "0b97ec81",
   "metadata": {
    "executionInfo": {
     "elapsed": 387,
     "status": "ok",
     "timestamp": 1647236229200,
     "user": {
      "displayName": "Peng Xu",
      "photoUrl": "https://lh3.googleusercontent.com/a-/AOh14GihYc7h5im61ge3uVxyNDW7QWZ3KrL0gLMarQHM=s64",
      "userId": "13852652645537005974"
     },
     "user_tz": 420
    },
    "id": "0b97ec81"
   },
   "outputs": [],
   "source": [
    "with open('order_dict.json') as f:\n",
    "    data = json.load(f)"
   ]
  },
  {
   "cell_type": "code",
   "execution_count": 196,
   "id": "faa5bbbc",
   "metadata": {
    "executionInfo": {
     "elapsed": 282,
     "status": "ok",
     "timestamp": 1647236229459,
     "user": {
      "displayName": "Peng Xu",
      "photoUrl": "https://lh3.googleusercontent.com/a-/AOh14GihYc7h5im61ge3uVxyNDW7QWZ3KrL0gLMarQHM=s64",
      "userId": "13852652645537005974"
     },
     "user_tz": 420
    },
    "id": "faa5bbbc"
   },
   "outputs": [],
   "source": [
    "order_dict = {int(k):pd.DataFrame(v).set_index('day_of_month') for k, v in data.items()}"
   ]
  },
  {
   "cell_type": "code",
   "execution_count": 197,
   "id": "6557eeab",
   "metadata": {},
   "outputs": [],
   "source": [
    "def preprocessing(df_i):\n",
    "    \n",
    "    df = df_i.copy()\n",
    "    df = df.fillna(0)\n",
    "    df.replace(np.inf,0, inplace = True)\n",
    "\n",
    "    # convert data type for categorical features\n",
    "    df['cluster_id'] = df['cluster_id'].astype('object')\n",
    "    df['dc_ori_mode'] = df['dc_ori_mode'].astype('object')\n",
    "    df['day_of_week'] = df['day_of_week'].astype('object')\n",
    "\n",
    "    cat = ['cluster_id','dc_ori_mode','day_of_week']\n",
    "    num = df.drop(cat+['demand'], axis = 1).columns\n",
    "    #print(num)\n",
    "    \n",
    "    \n",
    "    # train test split\n",
    "    df_enc = pd.get_dummies(df, columns = cat, drop_first = True)\n",
    "    train_enc = df_enc.query('1<= day_of_month <= 24')\n",
    "    test_enc = df_enc.query('24 < day_of_month <= 31')\n",
    "\n",
    "    # train = df.query('1<= day_of_month <= 24')\n",
    "    # test = df.query('24 < day_of_month <= 31')\n",
    "\n",
    "    # train_enc = pd.get_dummies(train, columns = cat, drop_first = True)\n",
    "    # test_enc = pd.get_dummies(test, columns = cat)\n",
    "\n",
    "    # print(train_enc.dtypes)\n",
    "    # print(test_enc.dtypes)\n",
    "\n",
    "    # standardize data\n",
    "    scaler = StandardScaler()\n",
    "\n",
    "    # x_train = train_enc[['quantity_discount_rate_mean','day_of_week_3','cluster_id_6','cluster_id_7','cluster_id_8','cluster_id_10','dc_ori_num','dc_ori_mode_7']].to_numpy()\n",
    "    # x_test = test_enc[['quantity_discount_rate_mean','day_of_week_3','cluster_id_6','cluster_id_7','cluster_id_8','cluster_id_10','dc_ori_num','dc_ori_mode_7']]\n",
    "\n",
    "    x_train = train_enc.drop(['demand', 'discount_rate_mean','type_1_percent'], axis = 1).to_numpy() # only remove highest vif column\n",
    "    x_train = scaler.fit_transform(x_train)\n",
    "\n",
    "    y_train = train_enc['demand'].to_numpy().reshape(len(train_enc), 1)\n",
    "\n",
    "\n",
    "    x_test = test_enc.drop(['demand', 'discount_rate_mean','type_1_percent'], axis = 1) \n",
    "    x_test = scaler.fit_transform(x_test)\n",
    "\n",
    "    y_test = test_enc['demand'].to_numpy().reshape(len(test_enc), 1)\n",
    "    \n",
    "    #print(x_train.shape, y_train.shape)\n",
    "    #print(x_test.shape, y_test.shape)\n",
    "\n",
    "    return x_train, y_train, x_test, y_test"
   ]
  },
  {
   "cell_type": "code",
   "execution_count": 104,
   "id": "32206393",
   "metadata": {},
   "outputs": [
    {
     "name": "stdout",
     "output_type": "stream",
     "text": [
      "tensor(0.3622)\n",
      "tensor(0.3622)\n",
      "tensor(4.9646)\n"
     ]
    }
   ],
   "source": [
    "def r2_loss(outputs, targets):\n",
    "    target_mean = torch.mean(targets)\n",
    "    ss_tot = torch.sum((targets - target_mean) ** 2)\n",
    "    ss_res = torch.sum((targets - outputs) ** 2)\n",
    "    r2 = 1 - ss_res / ss_tot\n",
    "    return r2\n",
    "\n",
    "def r2_loss_2(outputs, targets):\n",
    "    ss_tot = 0.0\n",
    "    ss_res = 0.0\n",
    "    target_mean = torch.mean(targets)\n",
    "    for i in range(0,len(outputs)):\n",
    "        ss_tot += (targets[i] - target_mean) ** 2\n",
    "        ss_res += (targets[i] - outputs[i]) ** 2\n",
    "    r2 = 1 - ss_res / ss_tot\n",
    "    return r2\n",
    "\n",
    "# TODO: need to work with tensor objects.\n",
    "def SPOLoss (d_pred, d_actual):\n",
    "    # W: items to stock the warehouse\n",
    "    # h: inventory cost\n",
    "    # s: shipping cost\n",
    "    # ci: capacity limit for warehouse i = 1000 (per month)\n",
    "    cost = 0.0\n",
    "    max_capacity = 1000.0 / 31\n",
    "    for i in range(0, len(d_pred)):\n",
    "        if d_pred[i] <= max_capacity:\n",
    "            w = d_pred[i]\n",
    "        else:\n",
    "            w = max_capacity\n",
    "        if w > d_actual[i]:\n",
    "            h = 2.920 * (w - d_actual[i])  # average inventory cost per sku * (w - target)\n",
    "            s = 0\n",
    "        else:\n",
    "            h = 0\n",
    "            s = 0.803 * (d_actual[i] - w)\n",
    "        cost += h + s\n",
    "    return cost\n",
    " \n",
    "# print(torch.Tensor.float(1.0))\n",
    "outputs = torch.randn(5)\n",
    "targets = torch.randn(5)\n",
    "# print(outputs.size())\n",
    "# for i in range(0,len(outputs)):\n",
    "#   print(2)\n",
    "print(r2_loss(outputs,targets))\n",
    "print(r2_loss_2(outputs,targets))\n",
    "print(SPOLoss(outputs,targets))\n",
    "# print(torch.randn(5))\n",
    "# print(SPOLoss(1, 2))"
   ]
  },
  {
   "cell_type": "code",
   "execution_count": 105,
   "id": "d696570d",
   "metadata": {},
   "outputs": [],
   "source": [
    "# define model structure\n",
    "class linearRegression(torch.nn.Module):\n",
    "    def __init__(self, inputSize, outputSize):\n",
    "        super(linearRegression, self).__init__()\n",
    "        self.linear = torch.nn.Linear(inputSize, outputSize)\n",
    "\n",
    "    def forward(self, x):\n",
    "        out = self.linear(x)\n",
    "        return out"
   ]
  },
  {
   "cell_type": "code",
   "execution_count": 106,
   "id": "a142e18e",
   "metadata": {
    "colab": {
     "base_uri": "https://localhost:8080/",
     "height": 1000
    },
    "executionInfo": {
     "elapsed": 1341,
     "status": "ok",
     "timestamp": 1647244512390,
     "user": {
      "displayName": "Peng Xu",
      "photoUrl": "https://lh3.googleusercontent.com/a-/AOh14GihYc7h5im61ge3uVxyNDW7QWZ3KrL0gLMarQHM=s64",
      "userId": "13852652645537005974"
     },
     "user_tz": 420
    },
    "id": "a142e18e",
    "outputId": "d8e7987d-40ba-4d35-aa11-58399b13dc29"
   },
   "outputs": [],
   "source": [
    "# define training and evaluation functions\n",
    "\n",
    "def predict(model, x):\n",
    "    \n",
    "    \"\"\"\n",
    "    takes in a pytorch model and a matrix of features\n",
    "    return a list of predictions\n",
    "    \"\"\"\n",
    "    \n",
    "    with torch.no_grad(): # we don't need gradients in the testing phase\n",
    "    # if torch.cuda.is_available():\n",
    "    #     pred_y_train = model(Variable(torch.from_numpy(x_train).float().cuda())).cpu().data.numpy()\n",
    "    # else:\n",
    "    #     pred_y_train = model(Variable(torch.from_numpy(x_train).float())).data.numpy()\n",
    "        pred_y = model(Variable(torch.from_numpy(x).float())).data.numpy()\n",
    "        pred_y = [pred_y[x].item() for x in range(len(pred_y))]\n",
    "    return pred_y\n",
    "\n",
    "def linearRegressionTrain(x_train, y_train, learningRate, epochs, loss_type = 'MSE', regularize = 'None', l1_penalty = 0, l2_penalty = 0, plot = True, verbose = True):\n",
    "    \"\"\"\n",
    "    input: \n",
    "        - x_train whose type is numpy.ndarray\n",
    "        - y_train whose type is numpy.ndarray\n",
    "        - learningRate\n",
    "        - epochs\n",
    "        - regularization can be either \"None\" or \"l1\" or \"l2\", default is none\n",
    "        - loss_type can be either \"MSE\" or \"SPO\", default is 'MSE'\n",
    "        - plot: whether you want to plot the loss against epochs, default is True\n",
    "        \n",
    "    output:\n",
    "        trained pytorch linear regression model\n",
    "    \"\"\"\n",
    "    _, inputDim = x_train.shape\n",
    "    outputDim = 1       # takes variable 'y'\n",
    "    \n",
    "    loss_list = []\n",
    "\n",
    "    model = linearRegression(inputDim, outputDim)\n",
    "    \n",
    "    ##### For GPU #######\n",
    "    # if torch.cuda.is_available():\n",
    "    #     model.cuda()\n",
    "    \n",
    "    # initialize the loss function and optimizer\n",
    "    if loss_type == 'MSE': \n",
    "        \n",
    "        criterion = torch.nn.MSELoss()  \n",
    "        # criterion = r2_loss\n",
    "        \n",
    "        if regularize == 'None' or regularize == 'l1':\n",
    "            optimizer = torch.optim.SGD(model.parameters(), lr=learningRate)\n",
    "        else: # regularize = 'l2'\n",
    "            optimizer = torch.optim.SGD(model.parameters(),weight_decay = l2_penalty, lr=learningRate)\n",
    "            \n",
    "    elif loss_type == 'SPO': # change loss function and switch to adam optimizer\n",
    "        \n",
    "        criterion = SPOLoss\n",
    "        \n",
    "        if regularize == 'None' or regularize == 'l1':\n",
    "            optimizer = torch.optim.Adam(model.parameters(), lr=learningRate)\n",
    "        else: # regularize = 'l2'\n",
    "            optimizer = torch.optim.Adam(model.parameters(),weight_decay = l2_penalty, lr=learningRate)\n",
    "\n",
    "    else:\n",
    "        raise Exception('wrong loss_type')\n",
    "        \n",
    "    # model training\n",
    "\n",
    "    for epoch in range(epochs):\n",
    "        # Converting inputs and labels to Variable\n",
    "        # if torch.cuda.is_available():\n",
    "        #     inputs = Variable(torch.from_numpy(x_train).cuda())\n",
    "        #     labels = Variable(torch.from_numpy(y_train).cuda())\n",
    "        # else:\n",
    "        #     inputs = Variable(torch.from_numpy(x_train))\n",
    "        #     labels = Variable(torch.from_numpy(y_train))\n",
    "        inputs = Variable(torch.from_numpy(x_train))\n",
    "        labels = Variable(torch.from_numpy(y_train))\n",
    "\n",
    "        # Clear gradient buffers because we don't want any gradient from previous epoch to carry forward, dont want to cummulate gradients\n",
    "        optimizer.zero_grad()\n",
    "\n",
    "        # get output from the model, given the inputs\n",
    "        outputs = model(inputs.type(torch.FloatTensor))\n",
    "\n",
    "        # get loss for the predicted output\n",
    "        loss = criterion(outputs, labels.type(torch.FloatTensor))\n",
    "        \n",
    "        if regularize == 'l1':\n",
    "            l1_norm = l1_penalty * torch.norm(model.linear.weight, p=1) # double check\n",
    "            loss += l1_norm\n",
    "            \n",
    "        # get gradients w.r.t to parameters\n",
    "        loss.backward()\n",
    "\n",
    "        # update parameters\n",
    "        optimizer.step()\n",
    "\n",
    "        # store loss\n",
    "        loss_list.append(loss.data)\n",
    "\n",
    "        # print loss\n",
    "        #if(epoch % 100 == 0):\n",
    "            #print('epoch {}, loss {}'.format(epoch, loss.data))\n",
    "    \n",
    "    if plot:\n",
    "        plt.plot(range(epochs),loss_list)\n",
    "        plt.xlabel(\"Number of Iterations\")\n",
    "        plt.ylabel(\"Loss\")\n",
    "        plt\n",
    "        \n",
    "    if verbose:\n",
    "        print('model trained using {} loss'.format(loss_type))\n",
    "        # bias b (offset or y-intercept)\n",
    "        print('y-intercept ', model.linear.bias.item())\n",
    "        # weight (w)\n",
    "        print('Coefficients ',  model.linear.weight.detach().numpy())\n",
    "    \n",
    "        pred_y_train = predict(model, x_train)\n",
    "        \n",
    "        print(\"Train MSE =\",mean_squared_error(y_train,pred_y_train))\n",
    "        print('Train R^2 =', r2_score(y_train, pred_y_train)) \n",
    "        print('Train SPO Loss =', SPOLoss(pred_y_train, y_train))\n",
    "\n",
    "    return model\n",
    "\n",
    "\n",
    "def generate_scores(y_true, y_pred):\n",
    "    MSE = mean_squared_error(y_true, y_pred)\n",
    "    R2 = r2_score(y_true, y_pred)\n",
    "    SPO = SPOLoss(y_pred, y_true)\n",
    "    SPO_mean = SPO / len(y_pred)\n",
    "    #print(\"Train MSE =\", MSE)\n",
    "    #print('Train R^2 =', R2) \n",
    "    #print('Train SPO Loss =', SPO)\n",
    "    return pd.DataFrame({'MSE': MSE, 'R^2': R2, 'SPO Loss': SPO, 'SPO Loss Ave': SPO_mean})\n",
    "\n",
    "def evaluation(model, x_train, x_test, y_train, y_test, plot = True):\n",
    "    \n",
    "    \"\"\"\n",
    "    this function only works for pytorch model\n",
    "    \n",
    "    return a 2x4 dataframe: \n",
    "        - one row for training set, the other row for testing\n",
    "        - 4 columns are 4 scores: MSE, R2, SPO, SPO Ave\n",
    "    \"\"\"\n",
    "\n",
    "    pred_y_train = predict(model, x_train)\n",
    "    pred_y_test = predict(model, x_test)\n",
    "\n",
    "    # Comparing Actual and predicted values\n",
    "    if plot:\n",
    "        plt.figure(figsize=(7,7))\n",
    "        plt.scatter(y_train, pred_y_train, c='b', s=10)\n",
    "        plt.xlabel('Train Actual Demand'), plt.ylabel('Train Predicted Demand');\n",
    "        lim = 100\n",
    "        x = y = range(lim)\n",
    "        plt.plot(x,y, c='brown')\n",
    "        plt.xlim(0,lim), plt.ylim(0,lim);\n",
    "        plt\n",
    "\n",
    "        plt.figure(figsize=(7,7))\n",
    "        plt.scatter(y_test, pred_y_test, c='b', s=10)\n",
    "        plt.xlabel('Test Actual Demand'), plt.ylabel('Test Predicted Demand');\n",
    "        lim = 100\n",
    "        x = y = range(lim)\n",
    "        plt.plot(x,y, c='brown')\n",
    "        plt.xlim(0,lim), plt.ylim(0,lim);\n",
    "        plt\n",
    "\n",
    "    score_df = pd.concat([generate_scores(y_train, pred_y_train), generate_scores(y_test, pred_y_test)])\n",
    "    score_df.index = ['train', 'test']\n",
    "    \n",
    "    return score_df"
   ]
  },
  {
   "cell_type": "code",
   "execution_count": 211,
   "id": "d86ba545",
   "metadata": {},
   "outputs": [],
   "source": [
    "import timeit\n",
    "def cross_validate(x_train, y_train, loss_type, regularize, plot = True):\n",
    "    \n",
    "    # return the best penalty coefficient that minimize average validation error\n",
    "    start = timeit.default_timer()\n",
    "    \n",
    "    aveloss = dict()\n",
    "    kfold = KFold(n_splits = 5)\n",
    "    \n",
    "    if loss_type == 'MSE':\n",
    "        learningRate = 0.02\n",
    "        epochs = 501\n",
    "        grid = np.linspace(0,0.5,11) if regularize == 'l2' else np.linspace(0,1,11)\n",
    "        \n",
    "    elif loss_type == 'SPO':\n",
    "        learningRate = 0.05\n",
    "        epochs = 301\n",
    "        grid = np.linspace(3,4,6) if regularize == 'l2' else np.linspace(10,20,5)\n",
    "        \n",
    "\n",
    "    if regularize == 'l2':\n",
    "        \n",
    "        for i in grid:\n",
    "            loss = 0\n",
    "            \n",
    "            for train_index, test_index in kfold.split(x_train, y_train):\n",
    "                x_train_fold = x_train[train_index]\n",
    "                y_train_fold = y_train[train_index]\n",
    "                x_test_fold = x_train[test_index]\n",
    "                y_test_fold = y_train[test_index]\n",
    "\n",
    "                model_i = linearRegressionTrain(x_train_fold, y_train_fold, learningRate, epochs, loss_type, regularize, l2_penalty = i, plot = False, verbose = False)\n",
    "\n",
    "                pred_y_validate = predict(model_i, x_test_fold)\n",
    "                \n",
    "                loss_i = generate_scores(y_test_fold, pred_y_validate)['MSE'][0] if loss_type == 'MSE' else  generate_scores(y_test_fold, pred_y_validate)['SPO Loss'][0]\n",
    "                loss += loss_i\n",
    "                \n",
    "            aveloss[i]  = loss / 5\n",
    "            #print(i)\n",
    "            \n",
    "    elif regularize == 'l1':\n",
    "        \n",
    "        for i in grid:\n",
    "            loss = 0\n",
    "            \n",
    "            for train_index, test_index in kfold.split(x_train, y_train):\n",
    "                x_train_fold = x_train[train_index]\n",
    "                y_train_fold = y_train[train_index]\n",
    "                x_test_fold = x_train[test_index]\n",
    "                y_test_fold = y_train[test_index]\n",
    "\n",
    "                model_i = linearRegressionTrain(x_train_fold, y_train_fold, learningRate, epochs, loss_type, regularize, l1_penalty = i, plot = False, verbose = False)\n",
    "\n",
    "                pred_y_validate = predict(model_i, x_test_fold)\n",
    "                \n",
    "                loss_i = generate_scores(y_test_fold, pred_y_validate)['MSE'][0] if loss_type == 'MSE' else  generate_scores(y_test_fold, pred_y_validate)['SPO Loss'][0]\n",
    "                loss += loss_i\n",
    "                \n",
    "            aveloss[i]  = loss / 5\n",
    "    else:\n",
    "        raise Exception('wrong regularization type')\n",
    "        \n",
    "    if plot:\n",
    "        plt.plot(aveloss.keys(), aveloss.values())\n",
    "        plt.xlabel('penalty coefficient')\n",
    "        plt.ylabel('average {} error on validation sets'.format(loss_type))\n",
    "        plt.title('Cross Validation for {} Regularization'.format(regularize))\n",
    "        plt.show()\n",
    "        \n",
    "    best = min(aveloss, key = aveloss.get)\n",
    "    print('The best penalty coefficient is '+ str(best))\n",
    "    \n",
    "    stop = timeit.default_timer()\n",
    "    print('Time: ', stop - start)  \n",
    "    return best"
   ]
  },
  {
   "cell_type": "code",
   "execution_count": 198,
   "id": "17423fbe",
   "metadata": {},
   "outputs": [],
   "source": [
    "x_train, y_train, x_test, y_test = preprocessing(order_dict[1])"
   ]
  },
  {
   "cell_type": "code",
   "execution_count": 205,
   "id": "f96156b5",
   "metadata": {},
   "outputs": [
    {
     "data": {
      "image/png": "[encoded data removed]",
      "text/plain": [
       "<Figure size 432x288 with 1 Axes>"
      ]
     },
     "metadata": {
      "needs_background": "light"
     },
     "output_type": "display_data"
    },
    {
     "name": "stdout",
     "output_type": "stream",
     "text": [
      "The best penalty coefficient is 0.05\n",
      "Time:  8.041322527002194\n"
     ]
    },
    {
     "data": {
      "text/plain": [
       "0.05"
      ]
     },
     "execution_count": 205,
     "metadata": {},
     "output_type": "execute_result"
    }
   ],
   "source": [
    "cross_validate(x_train, y_train, 'MSE', 'l2')"
   ]
  },
  {
   "cell_type": "code",
   "execution_count": 206,
   "id": "da87a468",
   "metadata": {},
   "outputs": [
    {
     "data": {
      "image/png": "[encoded data removed]",
      "text/plain": [
       "<Figure size 432x288 with 1 Axes>"
      ]
     },
     "metadata": {
      "needs_background": "light"
     },
     "output_type": "display_data"
    },
    {
     "name": "stdout",
     "output_type": "stream",
     "text": [
      "The best penalty coefficient is 0.30000000000000004\n",
      "Time:  10.060815410000941\n"
     ]
    },
    {
     "data": {
      "text/plain": [
       "0.30000000000000004"
      ]
     },
     "execution_count": 206,
     "metadata": {},
     "output_type": "execute_result"
    }
   ],
   "source": [
    "cross_validate(x_train, y_train, 'MSE', 'l1')"
   ]
  },
  {
   "cell_type": "code",
   "execution_count": 212,
   "id": "6f102738",
   "metadata": {},
   "outputs": [
    {
     "data": {
      "image/png": "[encoded data removed]",
      "text/plain": [
       "<Figure size 432x288 with 1 Axes>"
      ]
     },
     "metadata": {
      "needs_background": "light"
     },
     "output_type": "display_data"
    },
    {
     "name": "stdout",
     "output_type": "stream",
     "text": [
      "The best penalty coefficient is 3.0\n",
      "Time:  102.73145820599893\n"
     ]
    },
    {
     "data": {
      "text/plain": [
       "3.0"
      ]
     },
     "execution_count": 212,
     "metadata": {},
     "output_type": "execute_result"
    }
   ],
   "source": [
    "cross_validate(x_train, y_train, 'SPO', 'l2')"
   ]
  },
  {
   "cell_type": "code",
   "execution_count": 210,
   "id": "c1452b3a",
   "metadata": {},
   "outputs": [
    {
     "data": {
      "image/png": "[encoded data removed]",
      "text/plain": [
       "<Figure size 432x288 with 1 Axes>"
      ]
     },
     "metadata": {
      "needs_background": "light"
     },
     "output_type": "display_data"
    },
    {
     "name": "stdout",
     "output_type": "stream",
     "text": [
      "The best penalty coefficient is 17.5\n",
      "Time:  111.31176604899883\n"
     ]
    },
    {
     "data": {
      "text/plain": [
       "17.5"
      ]
     },
     "execution_count": 210,
     "metadata": {},
     "output_type": "execute_result"
    }
   ],
   "source": [
    "cross_validate(x_train, y_train, 'SPO', 'l1')"
   ]
  },
  {
   "cell_type": "markdown",
   "id": "d67e1c24",
   "metadata": {},
   "source": [
    "## MSE loss models"
   ]
  },
  {
   "cell_type": "markdown",
   "id": "38f36f6d",
   "metadata": {},
   "source": [
    "### MSE loss model training"
   ]
  },
  {
   "cell_type": "code",
   "execution_count": 111,
   "id": "aa517e1a",
   "metadata": {},
   "outputs": [
    {
     "name": "stdout",
     "output_type": "stream",
     "text": [
      "model trained using MSE loss\n",
      "y-intercept  13.838532447814941\n",
      "Coefficients  [[ 0.31867886 -0.18344955 -0.19022281  0.72641     0.2382852   0.34507665\n",
      "   0.19801816  1.3135399   0.9029326  -0.7067063   0.10893532  2.532603\n",
      "   1.1460198   1.0606462   6.4908695  -2.2859523   1.9684976   1.2002523\n",
      "  -0.59964406  6.844775    1.6603242  -1.4699643  -2.4255095  -0.5605618\n",
      "  -1.6582637  -0.00870996 -0.51997024 -0.67949015  0.45030305  0.46204844\n",
      "  -0.19574057  1.1164544   1.0676038   0.5405364  -0.01111847 -0.79706025]]\n",
      "Train MSE = 43.73786427470924\n",
      "Train R^2 = 0.7711806230923226\n",
      "Train SPO Loss = [1658.21898051]\n"
     ]
    },
    {
     "data": {
      "image/png": "[encoded data removed]",
      "text/plain": [
       "<Figure size 432x288 with 1 Axes>"
      ]
     },
     "metadata": {
      "needs_background": "light"
     },
     "output_type": "display_data"
    }
   ],
   "source": [
    "# ols model training\n",
    "\n",
    "learningRate = 0.02\n",
    "epochs = 501\n",
    "\n",
    "model_ols = linearRegressionTrain(x_train, y_train, learningRate, epochs,'MSE','None')"
   ]
  },
  {
   "cell_type": "code",
   "execution_count": 112,
   "id": "dfe69765",
   "metadata": {},
   "outputs": [
    {
     "data": {
      "image/png": "[encoded data removed]",
      "text/plain": [
       "<Figure size 432x288 with 1 Axes>"
      ]
     },
     "metadata": {
      "needs_background": "light"
     },
     "output_type": "display_data"
    },
    {
     "name": "stdout",
     "output_type": "stream",
     "text": [
      "The best penalty coefficient is 0.1\n",
      "model trained using MSE loss\n",
      "y-intercept  13.179553985595703\n",
      "Coefficients  [[ 3.3957955e-01 -1.1480511e-03 -1.0877017e-01  6.4755940e-01\n",
      "   1.7492956e-01  3.9244437e-01  1.8584807e-01  7.8288066e-01\n",
      "   7.2388697e-01 -8.1093657e-01  3.2559422e-01  2.2899120e+00\n",
      "   8.3455414e-01  7.6761514e-01  5.7114882e+00 -2.0320041e+00\n",
      "   2.2548382e+00  7.1182287e-01 -8.5477710e-01  6.3908057e+00\n",
      "   1.5175744e+00 -1.2126235e+00 -2.2699492e+00 -7.3552030e-01\n",
      "  -1.2695397e+00  3.0936103e-02 -4.8578173e-01 -6.2424868e-01\n",
      "   5.1558644e-01  3.6853555e-01 -1.7684430e-01  9.9023610e-01\n",
      "   9.8678064e-01  4.3356919e-01 -4.8201714e-02 -8.1002569e-01]]\n",
      "Train MSE = 44.87786888186891\n",
      "Train R^2 = 0.7652165654455254\n",
      "Train SPO Loss = [1531.90592762]\n"
     ]
    },
    {
     "data": {
      "image/png": "[encoded data removed]",
      "text/plain": [
       "<Figure size 432x288 with 1 Axes>"
      ]
     },
     "metadata": {
      "needs_background": "light"
     },
     "output_type": "display_data"
    }
   ],
   "source": [
    "# ridge regression (l2 regrularization)\n",
    "\n",
    "learningRate = 0.02\n",
    "epochs = 501\n",
    "\n",
    "# model training \n",
    "\n",
    "best_l2 = cross_validate(x_train, y_train, 'MSE', 'l2')\n",
    "model_ridge = linearRegressionTrain(x_train, y_train, learningRate, epochs,'MSE','l2', l2_penalty = best_l2)"
   ]
  },
  {
   "cell_type": "code",
   "execution_count": 113,
   "id": "ff26e800",
   "metadata": {},
   "outputs": [
    {
     "data": {
      "image/png": "[encoded data removed]",
      "text/plain": [
       "<Figure size 432x288 with 1 Axes>"
      ]
     },
     "metadata": {
      "needs_background": "light"
     },
     "output_type": "display_data"
    },
    {
     "name": "stdout",
     "output_type": "stream",
     "text": [
      "The best penalty coefficient is 0.5\n",
      "model trained using MSE loss\n",
      "y-intercept  13.838532447814941\n",
      "Coefficients  [[ 2.5149151e-03  1.5626604e-03 -1.1802859e-02  4.4930279e-01\n",
      "   2.4023622e-03  1.5369080e-01 -6.2764045e-03 -6.0134177e-04\n",
      "   3.6221263e-03 -3.7466860e-01  4.5556189e-03  1.7007803e+00\n",
      "   6.0201739e-03  8.5980199e-02  6.2192998e+00 -6.5281808e-01\n",
      "   3.0095274e+00  8.2670230e-01 -4.6876636e-01  6.5797367e+00\n",
      "   2.2884212e+00 -8.1834234e-03 -1.4859641e+00 -4.1290393e-01\n",
      "  -5.1666290e-02  8.9791678e-03 -3.4356233e-01 -3.4198010e-01\n",
      "   2.6568320e-01  2.3623115e-01 -2.6681698e-03  6.9028145e-01\n",
      "   5.8916909e-01  4.0779222e-02  1.2914324e-04 -7.0817482e-01]]\n",
      "Train MSE = 46.794596833163375\n",
      "Train R^2 = 0.7551889954489188\n",
      "Train SPO Loss = [1683.31478398]\n"
     ]
    },
    {
     "data": {
      "image/png": "[encoded data removed]",
      "text/plain": [
       "<Figure size 432x288 with 1 Axes>"
      ]
     },
     "metadata": {
      "needs_background": "light"
     },
     "output_type": "display_data"
    }
   ],
   "source": [
    "# l1 regularization (lasso) - penalty coefficient set to be 0.1\n",
    "\n",
    "learningRate = 0.02\n",
    "epochs = 501\n",
    "\n",
    "best_l1 = cross_validate(x_train, y_train, 'MSE', 'l1')\n",
    "model_lasso = linearRegressionTrain(x_train, y_train, learningRate, epochs,'MSE', 'l1', l1_penalty = best_l1)"
   ]
  },
  {
   "cell_type": "markdown",
   "id": "b90a18a2",
   "metadata": {},
   "source": [
    "### MSE loss model evaluation"
   ]
  },
  {
   "cell_type": "code",
   "execution_count": 115,
   "id": "120d4a31",
   "metadata": {},
   "outputs": [
    {
     "data": {
      "text/html": [
       "<div>\n",
       "<style scoped>\n",
       "    .dataframe tbody tr th:only-of-type {\n",
       "        vertical-align: middle;\n",
       "    }\n",
       "\n",
       "    .dataframe tbody tr th {\n",
       "        vertical-align: top;\n",
       "    }\n",
       "\n",
       "    .dataframe thead th {\n",
       "        text-align: right;\n",
       "    }\n",
       "</style>\n",
       "<table border=\"1\" class=\"dataframe\">\n",
       "  <thead>\n",
       "    <tr style=\"text-align: right;\">\n",
       "      <th></th>\n",
       "      <th></th>\n",
       "      <th>MSE</th>\n",
       "      <th>R^2</th>\n",
       "      <th>SPO Loss</th>\n",
       "      <th>SPO Loss Ave</th>\n",
       "    </tr>\n",
       "  </thead>\n",
       "  <tbody>\n",
       "    <tr>\n",
       "      <th rowspan=\"2\" valign=\"top\">mse_ols</th>\n",
       "      <th>train</th>\n",
       "      <td>43.737864</td>\n",
       "      <td>0.771181</td>\n",
       "      <td>1658.218981</td>\n",
       "      <td>8.636557</td>\n",
       "    </tr>\n",
       "    <tr>\n",
       "      <th>test</th>\n",
       "      <td>221.112820</td>\n",
       "      <td>0.589588</td>\n",
       "      <td>540.964146</td>\n",
       "      <td>9.168884</td>\n",
       "    </tr>\n",
       "    <tr>\n",
       "      <th rowspan=\"2\" valign=\"top\">mse_ridge</th>\n",
       "      <th>train</th>\n",
       "      <td>44.877869</td>\n",
       "      <td>0.765217</td>\n",
       "      <td>1531.905928</td>\n",
       "      <td>7.978677</td>\n",
       "    </tr>\n",
       "    <tr>\n",
       "      <th>test</th>\n",
       "      <td>242.758955</td>\n",
       "      <td>0.549410</td>\n",
       "      <td>531.444914</td>\n",
       "      <td>9.007541</td>\n",
       "    </tr>\n",
       "    <tr>\n",
       "      <th rowspan=\"2\" valign=\"top\">mse_lasso</th>\n",
       "      <th>train</th>\n",
       "      <td>46.794597</td>\n",
       "      <td>0.755189</td>\n",
       "      <td>1683.314784</td>\n",
       "      <td>8.767264</td>\n",
       "    </tr>\n",
       "    <tr>\n",
       "      <th>test</th>\n",
       "      <td>235.804884</td>\n",
       "      <td>0.562317</td>\n",
       "      <td>536.096649</td>\n",
       "      <td>9.086384</td>\n",
       "    </tr>\n",
       "  </tbody>\n",
       "</table>\n",
       "</div>"
      ],
      "text/plain": [
       "                        MSE       R^2     SPO Loss  SPO Loss Ave\n",
       "mse_ols   train   43.737864  0.771181  1658.218981      8.636557\n",
       "          test   221.112820  0.589588   540.964146      9.168884\n",
       "mse_ridge train   44.877869  0.765217  1531.905928      7.978677\n",
       "          test   242.758955  0.549410   531.444914      9.007541\n",
       "mse_lasso train   46.794597  0.755189  1683.314784      8.767264\n",
       "          test   235.804884  0.562317   536.096649      9.086384"
      ]
     },
     "execution_count": 115,
     "metadata": {},
     "output_type": "execute_result"
    }
   ],
   "source": [
    "# compile results for models trained on MSE loss\n",
    "MSE_result = []\n",
    "\n",
    "for model, name in zip([model_ols, model_ridge, model_lasso],['mse_ols','mse_ridge','mse_lasso']):\n",
    "    score_df = evaluation(model, x_train, x_test, y_train, y_test, plot = False)\n",
    "    MSE_result.append(pd.concat({name:score_df}))\n",
    "    \n",
    "MSE_scores = pd.concat([MSE_result[0], MSE_result[1],MSE_result[2]])\n",
    "MSE_scores"
   ]
  },
  {
   "cell_type": "markdown",
   "id": "eedf5884",
   "metadata": {},
   "source": [
    "## SPO loss models"
   ]
  },
  {
   "cell_type": "markdown",
   "id": "e5bed1a9",
   "metadata": {},
   "source": [
    "### SPO loss model training"
   ]
  },
  {
   "cell_type": "code",
   "execution_count": 123,
   "id": "7c79bdd2",
   "metadata": {},
   "outputs": [
    {
     "name": "stdout",
     "output_type": "stream",
     "text": [
      "model trained using SPO loss\n",
      "y-intercept  9.122785568237305\n",
      "Coefficients  [[-2.91656941e-01 -4.28944439e-01 -4.11016375e-01  3.23425949e-01\n",
      "   5.12647256e-03  3.53025466e-01  4.17890668e-01 -5.53118289e-02\n",
      "  -3.93575519e-01 -5.19987524e-01 -2.84575641e-01  5.33743799e-01\n",
      "   2.64985025e-01 -7.23649204e-01  4.66887903e+00 -6.37334406e-01\n",
      "   1.54531825e+00  1.13303506e+00 -9.68005583e-02  5.79338980e+00\n",
      "   1.99371386e+00 -1.60100237e-01 -9.26178217e-01 -6.76563442e-01\n",
      "  -6.02194905e-01  1.03804074e-01 -2.35527426e-01 -1.24321640e-01\n",
      "  -6.81726098e-01 -2.21744850e-01 -1.65371418e-01  4.16376889e-01\n",
      "   2.96780318e-01  3.78255010e-01  2.16924474e-01 -4.19394150e-02]]\n",
      "Train MSE = 87.79846639062892\n",
      "Train R^2 = 0.5406728081926464\n",
      "Train SPO Loss = [982.95374077]\n"
     ]
    },
    {
     "name": "stderr",
     "output_type": "stream",
     "text": [
      "/usr/local/lib/python3.9/site-packages/numpy/core/shape_base.py:65: FutureWarning: The input object of type 'Tensor' is an array-like implementing one of the corresponding protocols (`__array__`, `__array_interface__` or `__array_struct__`); but not a sequence (or 0-D). In the future, this object will be coerced as if it was first converted using `np.array(obj)`. To retain the old behaviour, you have to either modify the type 'Tensor', or assign to an empty array created with `np.empty(correct_shape, dtype=object)`.\n",
      "  ary = asanyarray(ary)\n",
      "/usr/local/lib/python3.9/site-packages/numpy/core/shape_base.py:65: VisibleDeprecationWarning: Creating an ndarray from ragged nested sequences (which is a list-or-tuple of lists-or-tuples-or ndarrays with different lengths or shapes) is deprecated. If you meant to do this, you must specify 'dtype=object' when creating the ndarray.\n",
      "  ary = asanyarray(ary)\n"
     ]
    },
    {
     "data": {
      "image/png": "[encoded data removed]",
      "text/plain": [
       "<Figure size 432x288 with 1 Axes>"
      ]
     },
     "metadata": {
      "needs_background": "light"
     },
     "output_type": "display_data"
    }
   ],
   "source": [
    "# ols\n",
    "\n",
    "learningRate = 0.02\n",
    "epochs = 1001\n",
    "\n",
    "# model training\n",
    "model_ols2 = linearRegressionTrain(x_train, y_train, learningRate, epochs,'SPO','None')"
   ]
  },
  {
   "cell_type": "code",
   "execution_count": 154,
   "id": "df4d1e32",
   "metadata": {},
   "outputs": [
    {
     "name": "stdout",
     "output_type": "stream",
     "text": [
      "model trained using SPO loss\n",
      "y-intercept  8.249285697937012\n",
      "Coefficients  [[-0.12689535 -0.24495596 -0.29234144  0.2469986  -0.01032807  0.07309524\n",
      "   0.2473092  -0.12205236  0.06699432 -0.3722347   0.07600203  0.5972582\n",
      "   0.30081213 -0.06162968  3.1955118  -0.8838903   1.55226     0.4453658\n",
      "  -0.4429141   5.2531137   0.79289615  0.18547514 -1.0605696  -0.6684468\n",
      "  -0.25197527  0.11354567 -0.24337521 -0.07005256 -0.26481754 -0.1707083\n",
      "  -0.07355672  0.26679292  0.1132177   0.20380749  0.25470084  0.04721127]]\n",
      "Train MSE = 105.89460789898145\n",
      "Train R^2 = 0.44600088277884187\n",
      "Train SPO Loss = [1025.35774143]\n"
     ]
    },
    {
     "name": "stderr",
     "output_type": "stream",
     "text": [
      "/usr/local/lib/python3.9/site-packages/numpy/core/shape_base.py:65: FutureWarning: The input object of type 'Tensor' is an array-like implementing one of the corresponding protocols (`__array__`, `__array_interface__` or `__array_struct__`); but not a sequence (or 0-D). In the future, this object will be coerced as if it was first converted using `np.array(obj)`. To retain the old behaviour, you have to either modify the type 'Tensor', or assign to an empty array created with `np.empty(correct_shape, dtype=object)`.\n",
      "  ary = asanyarray(ary)\n",
      "/usr/local/lib/python3.9/site-packages/numpy/core/shape_base.py:65: VisibleDeprecationWarning: Creating an ndarray from ragged nested sequences (which is a list-or-tuple of lists-or-tuples-or ndarrays with different lengths or shapes) is deprecated. If you meant to do this, you must specify 'dtype=object' when creating the ndarray.\n",
      "  ary = asanyarray(ary)\n"
     ]
    },
    {
     "data": {
      "image/png": "[encoded data removed]",
      "text/plain": [
       "<Figure size 432x288 with 1 Axes>"
      ]
     },
     "metadata": {
      "needs_background": "light"
     },
     "output_type": "display_data"
    }
   ],
   "source": [
    "# ridge regression (l2 regrularization)\n",
    "\n",
    "learningRate = 0.05\n",
    "epochs = 501\n",
    "\n",
    "# model training\n",
    "best_l2_spo = 3.75\n",
    "model_ridge2 = linearRegressionTrain(x_train, y_train, learningRate, epochs,'SPO','l2', l2_penalty = best_l2_spo)"
   ]
  },
  {
   "cell_type": "code",
   "execution_count": 166,
   "id": "ee8d1a54",
   "metadata": {},
   "outputs": [
    {
     "name": "stdout",
     "output_type": "stream",
     "text": [
      "model trained using SPO loss\n",
      "y-intercept  8.37286376953125\n",
      "Coefficients  [[ 2.0463907e-03  1.0111672e-02 -2.4202563e-02  6.2928237e-02\n",
      "  -4.7333986e-03  4.4409111e-02 -2.7620750e-03  2.1307904e-03\n",
      "   6.6921944e-03 -7.5976276e-03  1.3877848e-02  2.3876955e-03\n",
      "  -2.6805704e-03 -6.6404807e-04  4.1314020e+00 -5.2809030e-01\n",
      "   9.8741132e-01  2.8435448e-03 -4.1769707e-01  5.5373602e+00\n",
      "   6.3484287e-01  1.1800818e-02 -4.8612374e-01 -5.4730940e-01\n",
      "  -8.7415529e-03  4.0988106e-01 -2.7531588e-01 -6.8623520e-02\n",
      "   1.9703275e-03  6.9962326e-04 -9.3305126e-02  1.2306077e-02\n",
      "  -3.3790804e-04 -3.1646201e-03 -3.7415079e-03 -5.1746215e-04]]\n",
      "Train MSE = 105.4574516977359\n",
      "Train R^2 = 0.4482879128210968\n",
      "Train SPO Loss = [1031.19530546]\n"
     ]
    },
    {
     "name": "stderr",
     "output_type": "stream",
     "text": [
      "/usr/local/lib/python3.9/site-packages/numpy/core/shape_base.py:65: FutureWarning: The input object of type 'Tensor' is an array-like implementing one of the corresponding protocols (`__array__`, `__array_interface__` or `__array_struct__`); but not a sequence (or 0-D). In the future, this object will be coerced as if it was first converted using `np.array(obj)`. To retain the old behaviour, you have to either modify the type 'Tensor', or assign to an empty array created with `np.empty(correct_shape, dtype=object)`.\n",
      "  ary = asanyarray(ary)\n",
      "/usr/local/lib/python3.9/site-packages/numpy/core/shape_base.py:65: VisibleDeprecationWarning: Creating an ndarray from ragged nested sequences (which is a list-or-tuple of lists-or-tuples-or ndarrays with different lengths or shapes) is deprecated. If you meant to do this, you must specify 'dtype=object' when creating the ndarray.\n",
      "  ary = asanyarray(ary)\n"
     ]
    },
    {
     "data": {
      "image/png": "[encoded data removed]",
      "text/plain": [
       "<Figure size 432x288 with 1 Axes>"
      ]
     },
     "metadata": {
      "needs_background": "light"
     },
     "output_type": "display_data"
    }
   ],
   "source": [
    "# l1 regularization (lasso)\n",
    "\n",
    "learningRate = 0.02\n",
    "epochs = 1001\n",
    "\n",
    "best_l1_spo = 3.75\n",
    "model_lasso2 = linearRegressionTrain(x_train, y_train, learningRate, epochs,'SPO', 'l1', l1_penalty = 15)"
   ]
  },
  {
   "cell_type": "markdown",
   "id": "b898dad2",
   "metadata": {},
   "source": [
    "### SPO loss model evaluation"
   ]
  },
  {
   "cell_type": "code",
   "execution_count": 167,
   "id": "6d389cf1",
   "metadata": {
    "scrolled": true
   },
   "outputs": [
    {
     "data": {
      "text/html": [
       "<div>\n",
       "<style scoped>\n",
       "    .dataframe tbody tr th:only-of-type {\n",
       "        vertical-align: middle;\n",
       "    }\n",
       "\n",
       "    .dataframe tbody tr th {\n",
       "        vertical-align: top;\n",
       "    }\n",
       "\n",
       "    .dataframe thead th {\n",
       "        text-align: right;\n",
       "    }\n",
       "</style>\n",
       "<table border=\"1\" class=\"dataframe\">\n",
       "  <thead>\n",
       "    <tr style=\"text-align: right;\">\n",
       "      <th></th>\n",
       "      <th></th>\n",
       "      <th>MSE</th>\n",
       "      <th>R^2</th>\n",
       "      <th>SPO Loss</th>\n",
       "      <th>SPO Loss Ave</th>\n",
       "    </tr>\n",
       "  </thead>\n",
       "  <tbody>\n",
       "    <tr>\n",
       "      <th rowspan=\"2\" valign=\"top\">spo_ols</th>\n",
       "      <th>train</th>\n",
       "      <td>87.798466</td>\n",
       "      <td>0.540673</td>\n",
       "      <td>982.953741</td>\n",
       "      <td>5.119551</td>\n",
       "    </tr>\n",
       "    <tr>\n",
       "      <th>test</th>\n",
       "      <td>385.251923</td>\n",
       "      <td>0.284926</td>\n",
       "      <td>619.508822</td>\n",
       "      <td>10.500150</td>\n",
       "    </tr>\n",
       "    <tr>\n",
       "      <th rowspan=\"2\" valign=\"top\">spo_ridge</th>\n",
       "      <th>train</th>\n",
       "      <td>105.894608</td>\n",
       "      <td>0.446001</td>\n",
       "      <td>1025.357741</td>\n",
       "      <td>5.340405</td>\n",
       "    </tr>\n",
       "    <tr>\n",
       "      <th>test</th>\n",
       "      <td>437.544558</td>\n",
       "      <td>0.187864</td>\n",
       "      <td>654.981048</td>\n",
       "      <td>11.101374</td>\n",
       "    </tr>\n",
       "    <tr>\n",
       "      <th rowspan=\"2\" valign=\"top\">spo_lasso</th>\n",
       "      <th>train</th>\n",
       "      <td>105.457452</td>\n",
       "      <td>0.448288</td>\n",
       "      <td>1031.195305</td>\n",
       "      <td>5.370809</td>\n",
       "    </tr>\n",
       "    <tr>\n",
       "      <th>test</th>\n",
       "      <td>425.562467</td>\n",
       "      <td>0.210104</td>\n",
       "      <td>641.061809</td>\n",
       "      <td>10.865454</td>\n",
       "    </tr>\n",
       "  </tbody>\n",
       "</table>\n",
       "</div>"
      ],
      "text/plain": [
       "                        MSE       R^2     SPO Loss  SPO Loss Ave\n",
       "spo_ols   train   87.798466  0.540673   982.953741      5.119551\n",
       "          test   385.251923  0.284926   619.508822     10.500150\n",
       "spo_ridge train  105.894608  0.446001  1025.357741      5.340405\n",
       "          test   437.544558  0.187864   654.981048     11.101374\n",
       "spo_lasso train  105.457452  0.448288  1031.195305      5.370809\n",
       "          test   425.562467  0.210104   641.061809     10.865454"
      ]
     },
     "execution_count": 167,
     "metadata": {},
     "output_type": "execute_result"
    }
   ],
   "source": [
    "# compile results for models trained on SPO loss\n",
    "SPO_result = []\n",
    "\n",
    "for model, name in zip([model_ols2, model_ridge2, model_lasso2],['spo_ols','spo_ridge','spo_lasso']):\n",
    "    score_df = evaluation(model, x_train, x_test, y_train, y_test, plot = False)\n",
    "    SPO_result.append(pd.concat({name:score_df}))\n",
    "    \n",
    "SPO_scores = pd.concat([SPO_result[0], SPO_result[1], SPO_result[2]])\n",
    "SPO_scores"
   ]
  },
  {
   "cell_type": "code",
   "execution_count": 119,
   "id": "829d4e5c",
   "metadata": {},
   "outputs": [
    {
     "data": {
      "text/html": [
       "<div>\n",
       "<style scoped>\n",
       "    .dataframe tbody tr th:only-of-type {\n",
       "        vertical-align: middle;\n",
       "    }\n",
       "\n",
       "    .dataframe tbody tr th {\n",
       "        vertical-align: top;\n",
       "    }\n",
       "\n",
       "    .dataframe thead th {\n",
       "        text-align: right;\n",
       "    }\n",
       "</style>\n",
       "<table border=\"1\" class=\"dataframe\">\n",
       "  <thead>\n",
       "    <tr style=\"text-align: right;\">\n",
       "      <th></th>\n",
       "      <th></th>\n",
       "      <th>MSE</th>\n",
       "      <th>R^2</th>\n",
       "      <th>SPO Loss</th>\n",
       "      <th>SPO Loss Ave</th>\n",
       "    </tr>\n",
       "  </thead>\n",
       "  <tbody>\n",
       "    <tr>\n",
       "      <th rowspan=\"2\" valign=\"top\">mse_ols</th>\n",
       "      <th>train</th>\n",
       "      <td>43.737864</td>\n",
       "      <td>0.771181</td>\n",
       "      <td>1658.218981</td>\n",
       "      <td>8.636557</td>\n",
       "    </tr>\n",
       "    <tr>\n",
       "      <th>test</th>\n",
       "      <td>221.112820</td>\n",
       "      <td>0.589588</td>\n",
       "      <td>540.964146</td>\n",
       "      <td>9.168884</td>\n",
       "    </tr>\n",
       "    <tr>\n",
       "      <th rowspan=\"2\" valign=\"top\">mse_ridge</th>\n",
       "      <th>train</th>\n",
       "      <td>44.877869</td>\n",
       "      <td>0.765217</td>\n",
       "      <td>1531.905928</td>\n",
       "      <td>7.978677</td>\n",
       "    </tr>\n",
       "    <tr>\n",
       "      <th>test</th>\n",
       "      <td>242.758955</td>\n",
       "      <td>0.549410</td>\n",
       "      <td>531.444914</td>\n",
       "      <td>9.007541</td>\n",
       "    </tr>\n",
       "    <tr>\n",
       "      <th rowspan=\"2\" valign=\"top\">mse_lasso</th>\n",
       "      <th>train</th>\n",
       "      <td>46.794597</td>\n",
       "      <td>0.755189</td>\n",
       "      <td>1683.314784</td>\n",
       "      <td>8.767264</td>\n",
       "    </tr>\n",
       "    <tr>\n",
       "      <th>test</th>\n",
       "      <td>235.804884</td>\n",
       "      <td>0.562317</td>\n",
       "      <td>536.096649</td>\n",
       "      <td>9.086384</td>\n",
       "    </tr>\n",
       "  </tbody>\n",
       "</table>\n",
       "</div>"
      ],
      "text/plain": [
       "                        MSE       R^2     SPO Loss  SPO Loss Ave\n",
       "mse_ols   train   43.737864  0.771181  1658.218981      8.636557\n",
       "          test   221.112820  0.589588   540.964146      9.168884\n",
       "mse_ridge train   44.877869  0.765217  1531.905928      7.978677\n",
       "          test   242.758955  0.549410   531.444914      9.007541\n",
       "mse_lasso train   46.794597  0.755189  1683.314784      8.767264\n",
       "          test   235.804884  0.562317   536.096649      9.086384"
      ]
     },
     "execution_count": 119,
     "metadata": {},
     "output_type": "execute_result"
    }
   ],
   "source": [
    "MSE_scores"
   ]
  },
  {
   "cell_type": "code",
   "execution_count": null,
   "id": "ed6871b4",
   "metadata": {},
   "outputs": [],
   "source": []
  },
  {
   "cell_type": "code",
   "execution_count": null,
   "id": "93df3bba",
   "metadata": {},
   "outputs": [],
   "source": []
  },
  {
   "cell_type": "markdown",
   "id": "eb1ce3f6",
   "metadata": {},
   "source": [
    "# References"
   ]
  },
  {
   "cell_type": "code",
   "execution_count": 23,
   "id": "70b340dc",
   "metadata": {},
   "outputs": [],
   "source": [
    "%%script false --no-raise-error\n",
    "import time\n",
    "# Batch Gradient Descent Using Numpy - For comparison purpose\n",
    "\n",
    "\"\"\"\n",
    "code is based on Yuhan Cheng's code, approved use\n",
    "\"\"\"\n",
    "\n",
    "def multivariate_ols(xvalue_matrix, yvalues, R=0.01, MaxIterations=1000):\n",
    "    start_time = time.time()\n",
    "    alpha = 0.0\n",
    "    beta = np.zeros((xvalue_matrix.shape[1],))\n",
    "    epsilon = 0.00001\n",
    "    n = float(len(xvalue_matrix))\n",
    "    loss = []\n",
    "    for i in range(MaxIterations):\n",
    "        # compute new coefficients\n",
    "        y_pred = alpha + np.matmul(xvalue_matrix, beta)\n",
    "        loss.append(mean_squared_error(y_pred,yvalues))\n",
    "#         if i % 100 == 0:\n",
    "#             print('Current Loss:', loss)\n",
    "        d_alpha = np.mean(y_pred - yvalues)\n",
    "        d_beta = np.mean((y_pred - yvalues) * xvalue_matrix.T, axis = 1)\n",
    "        alpha_1 = alpha - (R * d_alpha)\n",
    "        beta_1 = beta - (R * d_beta)\n",
    "        \n",
    "        if np.isnan(alpha_1):\n",
    "            print('nan at iter', str(i))\n",
    "            break\n",
    "        \n",
    "        # check to see whether stopping criteria has been met\n",
    "        if (np.abs(alpha_1-alpha)<epsilon) and np.all(np.abs(beta_1-beta)<epsilon):\n",
    "            alpha, beta = alpha_1, beta_1\n",
    "            print('error < epsilon, criteria met')\n",
    "            break\n",
    "        alpha, beta = alpha_1, beta_1\n",
    "            \n",
    "    print(\"Time taken: {:.2f} seconds\".format(time.time() - start_time))\n",
    "    print('MSE:', str(loss[-1]))\n",
    "    print('R2:', str(r2_score(y_true=yvalues, y_pred = y_pred)))\n",
    "    \n",
    "    plt.plot(range(len(loss)),loss)\n",
    "    plt.xlabel(\"Number of Iterations\")\n",
    "    plt.ylabel(\"Loss\")\n",
    "    plt.show()\n",
    "    return alpha, beta"
   ]
  },
  {
   "cell_type": "markdown",
   "id": "70029af4",
   "metadata": {},
   "source": [
    "Ref:\n",
    "Lineary Regression with Pytorch\n",
    "  \n",
    "  https://medium.com/analytics-vidhya/linear-regression-with-pytorch-147fed55f138\n",
    "  \n",
    "  https://linuxhint.com/pytorch_linear_regression_tutorial/\n",
    "  \n",
    "  https://medium.com/biaslyai/pytorch-linear-and-logistic-regression-models-5c5f0da2cb9\n",
    "  \n",
    "  https://towardsdatascience.com/linear-regression-with-pytorch-eb6dedead817\n",
    "  \n",
    "  https://www.reneshbedre.com/blog/pytorch-regression.html\n",
    "  \n",
    "  https://www.kaggle.com/joseguzman/multiple-regression-explained-with-pytorch?scriptVersionId=73005237\n",
    "  \n",
    "  https://www.deeplearningwizard.com/deep_learning/practical_pytorch/pytorch_linear_regression/#building-a-linear-regression-model-with-pytorch-gpu\n",
    "  \n",
    "Evaluations:\n",
    "\n",
    "  https://www.analyticsvidhya.com/blog/2021/05/know-the-best-evaluation-metrics-for-your-regression-model/\n",
    "  \n",
    "Quick Ordinary Lineary Regression Calculator:\n",
    "\n",
    "  https://www.socscistatistics.com/tests/regression/default.aspx\n"
   ]
  }
 ],
 "metadata": {
  "colab": {
   "name": "PyTorch_models_Ben.ipynb",
   "provenance": []
  },
  "kernelspec": {
   "display_name": "Python 3 (ipykernel)",
   "language": "python",
   "name": "python3"
  },
  "language_info": {
   "codemirror_mode": {
    "name": "ipython",
    "version": 3
   },
   "file_extension": ".py",
   "mimetype": "text/x-python",
   "name": "python",
   "nbconvert_exporter": "python",
   "pygments_lexer": "ipython3",
   "version": "3.9.10"
  }
 },
 "nbformat": 4,
 "nbformat_minor": 5
}
