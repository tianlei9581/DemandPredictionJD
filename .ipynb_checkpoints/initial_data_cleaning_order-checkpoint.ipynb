{
 "cells": [
  {
   "cell_type": "markdown",
   "metadata": {},
   "source": [
    "# JD.com dataset"
   ]
  },
  {
   "cell_type": "code",
   "execution_count": 1,
   "metadata": {},
   "outputs": [],
   "source": [
    "import numpy as np\n",
    "import pandas as pd\n",
    "import matplotlib.pyplot as plt\n",
    "import seaborn as sns"
   ]
  },
  {
   "cell_type": "code",
   "execution_count": 2,
   "metadata": {},
   "outputs": [
    {
     "data": {
      "text/html": [
       "<div>\n",
       "<style scoped>\n",
       "    .dataframe tbody tr th:only-of-type {\n",
       "        vertical-align: middle;\n",
       "    }\n",
       "\n",
       "    .dataframe tbody tr th {\n",
       "        vertical-align: top;\n",
       "    }\n",
       "\n",
       "    .dataframe thead th {\n",
       "        text-align: right;\n",
       "    }\n",
       "</style>\n",
       "<table border=\"1\" class=\"dataframe\">\n",
       "  <thead>\n",
       "    <tr style=\"text-align: right;\">\n",
       "      <th></th>\n",
       "      <th>order_ID</th>\n",
       "      <th>user_ID</th>\n",
       "      <th>sku_ID</th>\n",
       "      <th>order_date</th>\n",
       "      <th>order_time</th>\n",
       "      <th>quantity</th>\n",
       "      <th>type</th>\n",
       "      <th>promise</th>\n",
       "      <th>original_unit_price</th>\n",
       "      <th>final_unit_price</th>\n",
       "      <th>direct_discount_per_unit</th>\n",
       "      <th>quantity_discount_per_unit</th>\n",
       "      <th>bundle_discount_per_unit</th>\n",
       "      <th>coupon_discount_per_unit</th>\n",
       "      <th>gift_item</th>\n",
       "      <th>dc_ori</th>\n",
       "      <th>dc_des</th>\n",
       "    </tr>\n",
       "  </thead>\n",
       "  <tbody>\n",
       "    <tr>\n",
       "      <th>0</th>\n",
       "      <td>d0cf5cc6db</td>\n",
       "      <td>0abe9ef2ce</td>\n",
       "      <td>581d5b54c1</td>\n",
       "      <td>2018-03-01</td>\n",
       "      <td>2018-03-01 17:14:25.0</td>\n",
       "      <td>1</td>\n",
       "      <td>2</td>\n",
       "      <td>-</td>\n",
       "      <td>89.0</td>\n",
       "      <td>79.0</td>\n",
       "      <td>0.0</td>\n",
       "      <td>10.0</td>\n",
       "      <td>0.0</td>\n",
       "      <td>0.0</td>\n",
       "      <td>0</td>\n",
       "      <td>4</td>\n",
       "      <td>28</td>\n",
       "    </tr>\n",
       "    <tr>\n",
       "      <th>1</th>\n",
       "      <td>7444318d01</td>\n",
       "      <td>33a9e56257</td>\n",
       "      <td>067b673f2b</td>\n",
       "      <td>2018-03-01</td>\n",
       "      <td>2018-03-01 11:10:40.0</td>\n",
       "      <td>1</td>\n",
       "      <td>1</td>\n",
       "      <td>2</td>\n",
       "      <td>99.9</td>\n",
       "      <td>53.9</td>\n",
       "      <td>5.0</td>\n",
       "      <td>41.0</td>\n",
       "      <td>0.0</td>\n",
       "      <td>0.0</td>\n",
       "      <td>0</td>\n",
       "      <td>28</td>\n",
       "      <td>28</td>\n",
       "    </tr>\n",
       "    <tr>\n",
       "      <th>2</th>\n",
       "      <td>f973b01694</td>\n",
       "      <td>4ea3cf408f</td>\n",
       "      <td>623d0a582a</td>\n",
       "      <td>2018-03-01</td>\n",
       "      <td>2018-03-01 09:13:26.0</td>\n",
       "      <td>1</td>\n",
       "      <td>1</td>\n",
       "      <td>2</td>\n",
       "      <td>78.0</td>\n",
       "      <td>58.5</td>\n",
       "      <td>19.5</td>\n",
       "      <td>0.0</td>\n",
       "      <td>0.0</td>\n",
       "      <td>0.0</td>\n",
       "      <td>0</td>\n",
       "      <td>28</td>\n",
       "      <td>28</td>\n",
       "    </tr>\n",
       "    <tr>\n",
       "      <th>3</th>\n",
       "      <td>8c1cec8d4b</td>\n",
       "      <td>b87cb736cb</td>\n",
       "      <td>fc5289b139</td>\n",
       "      <td>2018-03-01</td>\n",
       "      <td>2018-03-01 21:29:50.0</td>\n",
       "      <td>1</td>\n",
       "      <td>1</td>\n",
       "      <td>2</td>\n",
       "      <td>61.0</td>\n",
       "      <td>35.0</td>\n",
       "      <td>0.0</td>\n",
       "      <td>26.0</td>\n",
       "      <td>0.0</td>\n",
       "      <td>0.0</td>\n",
       "      <td>0</td>\n",
       "      <td>4</td>\n",
       "      <td>28</td>\n",
       "    </tr>\n",
       "    <tr>\n",
       "      <th>4</th>\n",
       "      <td>d43a33c38a</td>\n",
       "      <td>4829223b6f</td>\n",
       "      <td>623d0a582a</td>\n",
       "      <td>2018-03-01</td>\n",
       "      <td>2018-03-01 19:13:37.0</td>\n",
       "      <td>1</td>\n",
       "      <td>1</td>\n",
       "      <td>1</td>\n",
       "      <td>78.0</td>\n",
       "      <td>53.0</td>\n",
       "      <td>19.0</td>\n",
       "      <td>0.0</td>\n",
       "      <td>0.0</td>\n",
       "      <td>6.0</td>\n",
       "      <td>0</td>\n",
       "      <td>3</td>\n",
       "      <td>16</td>\n",
       "    </tr>\n",
       "  </tbody>\n",
       "</table>\n",
       "</div>"
      ],
      "text/plain": [
       "     order_ID     user_ID      sku_ID  order_date             order_time  \\\n",
       "0  d0cf5cc6db  0abe9ef2ce  581d5b54c1  2018-03-01  2018-03-01 17:14:25.0   \n",
       "1  7444318d01  33a9e56257  067b673f2b  2018-03-01  2018-03-01 11:10:40.0   \n",
       "2  f973b01694  4ea3cf408f  623d0a582a  2018-03-01  2018-03-01 09:13:26.0   \n",
       "3  8c1cec8d4b  b87cb736cb  fc5289b139  2018-03-01  2018-03-01 21:29:50.0   \n",
       "4  d43a33c38a  4829223b6f  623d0a582a  2018-03-01  2018-03-01 19:13:37.0   \n",
       "\n",
       "   quantity  type promise  original_unit_price  final_unit_price  \\\n",
       "0         1     2       -                 89.0              79.0   \n",
       "1         1     1       2                 99.9              53.9   \n",
       "2         1     1       2                 78.0              58.5   \n",
       "3         1     1       2                 61.0              35.0   \n",
       "4         1     1       1                 78.0              53.0   \n",
       "\n",
       "   direct_discount_per_unit  quantity_discount_per_unit  \\\n",
       "0                       0.0                        10.0   \n",
       "1                       5.0                        41.0   \n",
       "2                      19.5                         0.0   \n",
       "3                       0.0                        26.0   \n",
       "4                      19.0                         0.0   \n",
       "\n",
       "   bundle_discount_per_unit  coupon_discount_per_unit  gift_item  dc_ori  \\\n",
       "0                       0.0                       0.0          0       4   \n",
       "1                       0.0                       0.0          0      28   \n",
       "2                       0.0                       0.0          0      28   \n",
       "3                       0.0                       0.0          0       4   \n",
       "4                       0.0                       6.0          0       3   \n",
       "\n",
       "   dc_des  \n",
       "0      28  \n",
       "1      28  \n",
       "2      28  \n",
       "3      28  \n",
       "4      16  "
      ]
     },
     "execution_count": 2,
     "metadata": {},
     "output_type": "execute_result"
    }
   ],
   "source": [
    "order = pd.read_csv('./capstone_jd_msom_data-minus-click-data/JD_order_data.csv')\n",
    "order.head()"
   ]
  },
  {
   "cell_type": "code",
   "execution_count": 3,
   "metadata": {},
   "outputs": [
    {
     "name": "stdout",
     "output_type": "stream",
     "text": [
      "<class 'pandas.core.frame.DataFrame'>\n",
      "RangeIndex: 549989 entries, 0 to 549988\n",
      "Data columns (total 17 columns):\n",
      " #   Column                      Non-Null Count   Dtype  \n",
      "---  ------                      --------------   -----  \n",
      " 0   order_ID                    549989 non-null  object \n",
      " 1   user_ID                     549989 non-null  object \n",
      " 2   sku_ID                      549989 non-null  object \n",
      " 3   order_date                  549989 non-null  object \n",
      " 4   order_time                  549989 non-null  object \n",
      " 5   quantity                    549989 non-null  int64  \n",
      " 6   type                        549989 non-null  int64  \n",
      " 7   promise                     549989 non-null  object \n",
      " 8   original_unit_price         549989 non-null  float64\n",
      " 9   final_unit_price            549989 non-null  float64\n",
      " 10  direct_discount_per_unit    549989 non-null  float64\n",
      " 11  quantity_discount_per_unit  549989 non-null  float64\n",
      " 12  bundle_discount_per_unit    549989 non-null  float64\n",
      " 13  coupon_discount_per_unit    549989 non-null  float64\n",
      " 14  gift_item                   549989 non-null  int64  \n",
      " 15  dc_ori                      549989 non-null  int64  \n",
      " 16  dc_des                      549989 non-null  int64  \n",
      "dtypes: float64(6), int64(5), object(6)\n",
      "memory usage: 71.3+ MB\n"
     ]
    }
   ],
   "source": [
    "order.info()"
   ]
  },
  {
   "cell_type": "code",
   "execution_count": 4,
   "metadata": {},
   "outputs": [
    {
     "data": {
      "text/html": [
       "<div>\n",
       "<style scoped>\n",
       "    .dataframe tbody tr th:only-of-type {\n",
       "        vertical-align: middle;\n",
       "    }\n",
       "\n",
       "    .dataframe tbody tr th {\n",
       "        vertical-align: top;\n",
       "    }\n",
       "\n",
       "    .dataframe thead th {\n",
       "        text-align: right;\n",
       "    }\n",
       "</style>\n",
       "<table border=\"1\" class=\"dataframe\">\n",
       "  <thead>\n",
       "    <tr style=\"text-align: right;\">\n",
       "      <th></th>\n",
       "      <th>sku_ID</th>\n",
       "      <th>type</th>\n",
       "      <th>brand_ID</th>\n",
       "      <th>attribute1</th>\n",
       "      <th>attribute2</th>\n",
       "      <th>activate_date</th>\n",
       "      <th>deactivate_date</th>\n",
       "    </tr>\n",
       "  </thead>\n",
       "  <tbody>\n",
       "    <tr>\n",
       "      <th>0</th>\n",
       "      <td>a234e08c57</td>\n",
       "      <td>1</td>\n",
       "      <td>c3ab4bf4d9</td>\n",
       "      <td>3.0</td>\n",
       "      <td>60.0</td>\n",
       "      <td>NaN</td>\n",
       "      <td>NaN</td>\n",
       "    </tr>\n",
       "    <tr>\n",
       "      <th>1</th>\n",
       "      <td>6449e1fd87</td>\n",
       "      <td>1</td>\n",
       "      <td>1d8b4b4c63</td>\n",
       "      <td>2.0</td>\n",
       "      <td>50.0</td>\n",
       "      <td>NaN</td>\n",
       "      <td>NaN</td>\n",
       "    </tr>\n",
       "    <tr>\n",
       "      <th>2</th>\n",
       "      <td>09b70fcd83</td>\n",
       "      <td>2</td>\n",
       "      <td>eb7d2a675a</td>\n",
       "      <td>3.0</td>\n",
       "      <td>70.0</td>\n",
       "      <td>NaN</td>\n",
       "      <td>NaN</td>\n",
       "    </tr>\n",
       "    <tr>\n",
       "      <th>3</th>\n",
       "      <td>acad9fed04</td>\n",
       "      <td>2</td>\n",
       "      <td>9b0d3a5fc6</td>\n",
       "      <td>3.0</td>\n",
       "      <td>70.0</td>\n",
       "      <td>NaN</td>\n",
       "      <td>NaN</td>\n",
       "    </tr>\n",
       "    <tr>\n",
       "      <th>4</th>\n",
       "      <td>2fa77e3b4d</td>\n",
       "      <td>2</td>\n",
       "      <td>b681299668</td>\n",
       "      <td>-</td>\n",
       "      <td>-</td>\n",
       "      <td>NaN</td>\n",
       "      <td>NaN</td>\n",
       "    </tr>\n",
       "  </tbody>\n",
       "</table>\n",
       "</div>"
      ],
      "text/plain": [
       "       sku_ID  type    brand_ID attribute1 attribute2 activate_date  \\\n",
       "0  a234e08c57     1  c3ab4bf4d9        3.0       60.0           NaN   \n",
       "1  6449e1fd87     1  1d8b4b4c63        2.0       50.0           NaN   \n",
       "2  09b70fcd83     2  eb7d2a675a        3.0       70.0           NaN   \n",
       "3  acad9fed04     2  9b0d3a5fc6        3.0       70.0           NaN   \n",
       "4  2fa77e3b4d     2  b681299668          -          -           NaN   \n",
       "\n",
       "  deactivate_date  \n",
       "0             NaN  \n",
       "1             NaN  \n",
       "2             NaN  \n",
       "3             NaN  \n",
       "4             NaN  "
      ]
     },
     "execution_count": 4,
     "metadata": {},
     "output_type": "execute_result"
    }
   ],
   "source": [
    "sku = pd.read_csv('./capstone_jd_msom_data-minus-click-data/JD_sku_data.csv')\n",
    "sku.head()"
   ]
  },
  {
   "cell_type": "code",
   "execution_count": 5,
   "metadata": {},
   "outputs": [
    {
     "name": "stdout",
     "output_type": "stream",
     "text": [
      "<class 'pandas.core.frame.DataFrame'>\n",
      "RangeIndex: 31868 entries, 0 to 31867\n",
      "Data columns (total 7 columns):\n",
      " #   Column           Non-Null Count  Dtype \n",
      "---  ------           --------------  ----- \n",
      " 0   sku_ID           31868 non-null  object\n",
      " 1   type             31868 non-null  int64 \n",
      " 2   brand_ID         31868 non-null  object\n",
      " 3   attribute1       31868 non-null  object\n",
      " 4   attribute2       31868 non-null  object\n",
      " 5   activate_date    3058 non-null   object\n",
      " 6   deactivate_date  1141 non-null   object\n",
      "dtypes: int64(1), object(6)\n",
      "memory usage: 1.7+ MB\n"
     ]
    }
   ],
   "source": [
    "sku.info()"
   ]
  },
  {
   "cell_type": "markdown",
   "metadata": {},
   "source": [
    "# Data Cleaning and Exploration"
   ]
  },
  {
   "cell_type": "code",
   "execution_count": 6,
   "metadata": {},
   "outputs": [],
   "source": [
    "# convert feature types\n",
    "order['order_date'] =  pd.to_datetime(order['order_date'])\n",
    "order['order_time'] = pd.to_datetime(order['order_time'])"
   ]
  },
  {
   "cell_type": "code",
   "execution_count": 7,
   "metadata": {},
   "outputs": [
    {
     "data": {
      "text/plain": [
       "Index(['order_ID', 'user_ID', 'sku_ID', 'order_date', 'order_time', 'quantity',\n",
       "       'type_x', 'promise', 'original_unit_price', 'final_unit_price',\n",
       "       'direct_discount_per_unit', 'quantity_discount_per_unit',\n",
       "       'bundle_discount_per_unit', 'coupon_discount_per_unit', 'gift_item',\n",
       "       'dc_ori', 'dc_des', 'brand_ID', 'attribute1', 'attribute2',\n",
       "       'activate_date', 'deactivate_date'],\n",
       "      dtype='object')"
      ]
     },
     "execution_count": 7,
     "metadata": {},
     "output_type": "execute_result"
    }
   ],
   "source": [
    "# merge order table and sku table\n",
    "order_sku = pd.merge(order, sku, how = 'left', left_on = 'sku_ID', right_on = 'sku_ID')\n",
    "order_sku.drop(columns = 'type_y', inplace = True)\n",
    "order_sku.columns"
   ]
  },
  {
   "cell_type": "code",
   "execution_count": 8,
   "metadata": {},
   "outputs": [
    {
     "data": {
      "image/png": "[encoded data removed]",
      "text/plain": [
       "<Figure size 432x288 with 1 Axes>"
      ]
     },
     "metadata": {
      "needs_background": "light"
     },
     "output_type": "display_data"
    }
   ],
   "source": [
    "# plot sku cout perday\n",
    "sku_count_perday = order[['sku_ID','order_date']].groupby(['order_date']).count()\n",
    "plt.bar(x = sku_count_perday.index, height = sku_count_perday.unstack().values )\n",
    "plt.xticks(sku_count_perday.index, range(1,32))\n",
    "plt.show()"
   ]
  },
  {
   "cell_type": "code",
   "execution_count": 9,
   "metadata": {},
   "outputs": [
    {
     "data": {
      "text/plain": [
       "sku_ID      137.679032\n",
       "brand_ID     63.226344\n",
       "dtype: float64"
      ]
     },
     "execution_count": 9,
     "metadata": {},
     "output_type": "execute_result"
    }
   ],
   "source": [
    "order_sku[['sku_ID','brand_ID','dc_des','order_date']].groupby(['order_date','dc_des']).nunique().mean()"
   ]
  },
  {
   "cell_type": "code",
   "execution_count": 10,
   "metadata": {},
   "outputs": [
    {
     "data": {
      "text/plain": [
       "sku_ID      4547.0\n",
       "brand_ID     728.4\n",
       "dc_des        60.0\n",
       "dtype: float64"
      ]
     },
     "execution_count": 10,
     "metadata": {},
     "output_type": "execute_result"
    }
   ],
   "source": [
    "order_sku[['sku_ID','brand_ID','dc_des','order_date']].groupby([pd.Grouper(key = 'order_date',freq = 'W-MON')]).nunique().mean()"
   ]
  },
  {
   "cell_type": "markdown",
   "metadata": {},
   "source": [
    "### Impute missing values for price related features"
   ]
  },
  {
   "cell_type": "code",
   "execution_count": 11,
   "metadata": {},
   "outputs": [
    {
     "data": {
      "text/plain": [
       "count    549989.000000\n",
       "mean         71.572599\n",
       "std          75.879057\n",
       "min         -32.000000\n",
       "25%          33.000000\n",
       "50%          58.000000\n",
       "75%          95.000000\n",
       "max       12158.000000\n",
       "Name: final_unit_price, dtype: float64"
      ]
     },
     "execution_count": 11,
     "metadata": {},
     "output_type": "execute_result"
    }
   ],
   "source": [
    "order_sku['final_unit_price'].describe()"
   ]
  },
  {
   "cell_type": "code",
   "execution_count": 12,
   "metadata": {},
   "outputs": [
    {
     "data": {
      "text/plain": [
       "count    549989.000000\n",
       "mean        102.813542\n",
       "std          95.035563\n",
       "min           0.000000\n",
       "25%          59.000000\n",
       "50%          79.000000\n",
       "75%         139.000000\n",
       "max       12158.000000\n",
       "Name: original_unit_price, dtype: float64"
      ]
     },
     "execution_count": 12,
     "metadata": {},
     "output_type": "execute_result"
    }
   ],
   "source": [
    "order_sku['original_unit_price'].describe()"
   ]
  },
  {
   "cell_type": "code",
   "execution_count": 13,
   "metadata": {},
   "outputs": [
    {
     "data": {
      "text/html": [
       "<div>\n",
       "<style scoped>\n",
       "    .dataframe tbody tr th:only-of-type {\n",
       "        vertical-align: middle;\n",
       "    }\n",
       "\n",
       "    .dataframe tbody tr th {\n",
       "        vertical-align: top;\n",
       "    }\n",
       "\n",
       "    .dataframe thead th {\n",
       "        text-align: right;\n",
       "    }\n",
       "</style>\n",
       "<table border=\"1\" class=\"dataframe\">\n",
       "  <thead>\n",
       "    <tr style=\"text-align: right;\">\n",
       "      <th></th>\n",
       "      <th>final_unit_price</th>\n",
       "      <th>original_unit_price</th>\n",
       "    </tr>\n",
       "  </thead>\n",
       "  <tbody>\n",
       "    <tr>\n",
       "      <th>101</th>\n",
       "      <td>-1.333333</td>\n",
       "      <td>0.0</td>\n",
       "    </tr>\n",
       "    <tr>\n",
       "      <th>114</th>\n",
       "      <td>-1.333333</td>\n",
       "      <td>0.0</td>\n",
       "    </tr>\n",
       "    <tr>\n",
       "      <th>116</th>\n",
       "      <td>-0.500000</td>\n",
       "      <td>0.0</td>\n",
       "    </tr>\n",
       "    <tr>\n",
       "      <th>117</th>\n",
       "      <td>-0.500000</td>\n",
       "      <td>0.0</td>\n",
       "    </tr>\n",
       "    <tr>\n",
       "      <th>147</th>\n",
       "      <td>-0.500000</td>\n",
       "      <td>0.0</td>\n",
       "    </tr>\n",
       "    <tr>\n",
       "      <th>...</th>\n",
       "      <td>...</td>\n",
       "      <td>...</td>\n",
       "    </tr>\n",
       "    <tr>\n",
       "      <th>549761</th>\n",
       "      <td>-1.000000</td>\n",
       "      <td>0.0</td>\n",
       "    </tr>\n",
       "    <tr>\n",
       "      <th>549904</th>\n",
       "      <td>-14.000000</td>\n",
       "      <td>0.0</td>\n",
       "    </tr>\n",
       "    <tr>\n",
       "      <th>549980</th>\n",
       "      <td>-3.000000</td>\n",
       "      <td>0.0</td>\n",
       "    </tr>\n",
       "    <tr>\n",
       "      <th>549983</th>\n",
       "      <td>-1.000000</td>\n",
       "      <td>0.0</td>\n",
       "    </tr>\n",
       "    <tr>\n",
       "      <th>549984</th>\n",
       "      <td>-1.000000</td>\n",
       "      <td>0.0</td>\n",
       "    </tr>\n",
       "  </tbody>\n",
       "</table>\n",
       "<p>8537 rows × 2 columns</p>\n",
       "</div>"
      ],
      "text/plain": [
       "        final_unit_price  original_unit_price\n",
       "101            -1.333333                  0.0\n",
       "114            -1.333333                  0.0\n",
       "116            -0.500000                  0.0\n",
       "117            -0.500000                  0.0\n",
       "147            -0.500000                  0.0\n",
       "...                  ...                  ...\n",
       "549761         -1.000000                  0.0\n",
       "549904        -14.000000                  0.0\n",
       "549980         -3.000000                  0.0\n",
       "549983         -1.000000                  0.0\n",
       "549984         -1.000000                  0.0\n",
       "\n",
       "[8537 rows x 2 columns]"
      ]
     },
     "execution_count": 13,
     "metadata": {},
     "output_type": "execute_result"
    }
   ],
   "source": [
    "order.loc[order['final_unit_price']<0,['final_unit_price','original_unit_price']]"
   ]
  },
  {
   "cell_type": "code",
   "execution_count": 14,
   "metadata": {},
   "outputs": [
    {
     "data": {
      "text/plain": [
       "0.1720034400688014"
      ]
     },
     "execution_count": 14,
     "metadata": {},
     "output_type": "execute_result"
    }
   ],
   "source": [
    "sum(order['original_unit_price']==0)/len(order)"
   ]
  },
  {
   "cell_type": "code",
   "execution_count": 15,
   "metadata": {},
   "outputs": [
    {
     "data": {
      "text/plain": [
       "0.015522128624390669"
      ]
     },
     "execution_count": 15,
     "metadata": {},
     "output_type": "execute_result"
    }
   ],
   "source": [
    "sum(order['final_unit_price']<0)/len(order)"
   ]
  },
  {
   "cell_type": "markdown",
   "metadata": {},
   "source": [
    "1.56% rows has missing price values"
   ]
  },
  {
   "cell_type": "code",
   "execution_count": 16,
   "metadata": {},
   "outputs": [
    {
     "data": {
      "text/plain": [
       "485"
      ]
     },
     "execution_count": 16,
     "metadata": {},
     "output_type": "execute_result"
    }
   ],
   "source": [
    "sum(order[['sku_ID','original_unit_price']].groupby(['sku_ID']).min().unstack() ==0)"
   ]
  },
  {
   "cell_type": "code",
   "execution_count": 17,
   "metadata": {},
   "outputs": [
    {
     "data": {
      "text/plain": [
       "345"
      ]
     },
     "execution_count": 17,
     "metadata": {},
     "output_type": "execute_result"
    }
   ],
   "source": [
    "sum(order[['sku_ID','original_unit_price']].groupby(['sku_ID']).max().unstack() ==0)"
   ]
  },
  {
   "cell_type": "markdown",
   "metadata": {},
   "source": [
    "485 skus has min original price = 0\n",
    "\n",
    "345 skus has max original price = 0"
   ]
  },
  {
   "cell_type": "markdown",
   "metadata": {},
   "source": [
    "# Part 2 Feature Engineering"
   ]
  },
  {
   "cell_type": "code",
   "execution_count": 18,
   "metadata": {},
   "outputs": [],
   "source": [
    "# make a copy of original dataset\n",
    "order2 = order.copy()"
   ]
  },
  {
   "cell_type": "code",
   "execution_count": 19,
   "metadata": {},
   "outputs": [],
   "source": [
    "# convert 'order_date' to 'day_of_month'\n",
    "order2['day_of_month'] = [x.strftime('%d') for x in order2['order_date']]\n",
    "\n",
    "# convert 'order_date' to 'day_of_week'\n",
    "order2['day_of_week'] = order2['order_date'].dt.day_of_week"
   ]
  },
  {
   "cell_type": "code",
   "execution_count": 20,
   "metadata": {},
   "outputs": [
    {
     "data": {
      "image/png": "[encoded data removed]",
      "text/plain": [
       "<Figure size 432x288 with 1 Axes>"
      ]
     },
     "metadata": {
      "needs_background": "light"
     },
     "output_type": "display_data"
    }
   ],
   "source": [
    "# leave only the hour in 'order_time'\n",
    "\n",
    "order2['order_hour'] = order2['order_time'].dt.hour\n",
    "\n",
    "# plot\n",
    "plt.hist(order2['order_hour'],bins = range(0,24),density = True)\n",
    "plt.title('hour of order')\n",
    "plt.show()"
   ]
  },
  {
   "cell_type": "code",
   "execution_count": 21,
   "metadata": {},
   "outputs": [],
   "source": [
    "# divide 'order_hour' into 10 bins (reduce 24 categories into 10)\n",
    "#bins = np.percentile(order2['order_hour'], range(0,101,10))\n",
    "#order2['order_hour'] = pd.cut(order2['order_hour'], bins)\n",
    "\n",
    "# convert bins to dummies?\n",
    "#hour_d = pd.get_dummies(order_sku['order_hour']).astype(np.int64)\n",
    "#order_sku = pd.concat([order_sku, hour_d], axis = 1).drop('order_hour', axis = 1)"
   ]
  },
  {
   "cell_type": "code",
   "execution_count": 22,
   "metadata": {},
   "outputs": [
    {
     "name": "stdout",
     "output_type": "stream",
     "text": [
      "[1]\n",
      "[1]\n"
     ]
    },
    {
     "data": {
      "text/plain": [
       "True"
      ]
     },
     "execution_count": 22,
     "metadata": {},
     "output_type": "execute_result"
    }
   ],
   "source": [
    "print(order2.loc[order['original_unit_price'] <= 0, 'gift_item'].unique())\n",
    "print(order2.loc[order['final_unit_price'] <= 0, 'gift_item'].unique())\n",
    "(order2.loc[order['gift_item'] == 1 ,'final_unit_price']<=0).all()"
   ]
  },
  {
   "cell_type": "markdown",
   "metadata": {},
   "source": [
    "all orders that have original_unit_price <= 0 or final_unit_price <= 0 are gift_item and all gift_items have final_unit_price <= 0 so we mark the discount rate for all gift_item as 100% off"
   ]
  },
  {
   "cell_type": "code",
   "execution_count": 23,
   "metadata": {},
   "outputs": [
    {
     "data": {
      "text/plain": [
       "array([ 0., 69., 65.])"
      ]
     },
     "execution_count": 23,
     "metadata": {},
     "output_type": "execute_result"
    }
   ],
   "source": [
    "order2.loc[order_sku['gift_item'] == 1 ,'original_unit_price'].unique()"
   ]
  },
  {
   "cell_type": "code",
   "execution_count": 24,
   "metadata": {},
   "outputs": [],
   "source": [
    "# add discount rate feature\n",
    "\n",
    "gift_index = set(order2[order2['gift_item'] == 1].index)\n",
    "discount_rate = [-float('inf')]*len(order2)\n",
    "for i in range(len(order2)):\n",
    "    if i in gift_index:\n",
    "        discount_rate[i] = 1\n",
    "    else:\n",
    "        discount_rate[i] = 1 - (order2['final_unit_price'][i]/order2['original_unit_price'][i])\n",
    "    \n",
    "order2['discount_rate'] = discount_rate\n"
   ]
  },
  {
   "cell_type": "code",
   "execution_count": 25,
   "metadata": {},
   "outputs": [
    {
     "data": {
      "text/plain": [
       "count    549989.000000\n",
       "mean          0.412199\n",
       "std           0.332919\n",
       "min           0.000000\n",
       "25%           0.162791\n",
       "50%           0.328125\n",
       "75%           0.576364\n",
       "max           1.000000\n",
       "Name: discount_rate, dtype: float64"
      ]
     },
     "execution_count": 25,
     "metadata": {},
     "output_type": "execute_result"
    }
   ],
   "source": [
    "order2['discount_rate'].describe()"
   ]
  },
  {
   "cell_type": "code",
   "execution_count": 26,
   "metadata": {},
   "outputs": [
    {
     "data": {
      "text/plain": [
       "Index(['order_ID', 'user_ID', 'sku_ID', 'order_date', 'order_time', 'quantity',\n",
       "       'type', 'promise', 'original_unit_price', 'final_unit_price',\n",
       "       'direct_discount_per_unit', 'quantity_discount_per_unit',\n",
       "       'bundle_discount_per_unit', 'coupon_discount_per_unit', 'gift_item',\n",
       "       'dc_ori', 'dc_des', 'day_of_month', 'day_of_week', 'order_hour',\n",
       "       'discount_rate'],\n",
       "      dtype='object')"
      ]
     },
     "execution_count": 26,
     "metadata": {},
     "output_type": "execute_result"
    }
   ],
   "source": [
    "order2.columns"
   ]
  },
  {
   "cell_type": "code",
   "execution_count": 27,
   "metadata": {},
   "outputs": [],
   "source": [
    "# create three sub-category discount rate columns, ignore fourth category to avoid multicollinearity\n",
    "order2['direct_discount_rate'] = order2['direct_discount_per_unit']/order2['original_unit_price']\n",
    "order2['quantity_discount_rate'] = order2['quantity_discount_per_unit']/order2['original_unit_price']\n",
    "order2['bundle_discount_rate'] = order2['bundle_discount_per_unit']/order2['original_unit_price']"
   ]
  },
  {
   "cell_type": "code",
   "execution_count": 43,
   "metadata": {},
   "outputs": [],
   "source": [
    "# only direct_discount_rate, quantity_discount_rate, bundle_discount_rate have missing value\n",
    "# all corresponds to gift_item\n",
    "order2 = order2.fillna(0)"
   ]
  },
  {
   "cell_type": "code",
   "execution_count": 46,
   "metadata": {},
   "outputs": [],
   "source": [
    "# keep only the features that we think best describe each sku\n",
    "order_new = order2[['sku_ID','order_ID','quantity','type', 'promise','original_unit_price','discount_rate','direct_discount_rate'\n",
    "                          ,'quantity_discount_rate','bundle_discount_rate','gift_item','dc_ori', 'dc_des'\n",
    "                          ,'day_of_month', 'day_of_week', 'order_hour']]\n",
    "#order_new.to_csv('order_after_engineer.csv', index = False)"
   ]
  },
  {
   "cell_type": "code",
   "execution_count": 54,
   "metadata": {},
   "outputs": [],
   "source": [
    "def group_mode(x):\n",
    "    return x.value_counts().index[0]\n",
    "\n",
    "# order table group by sku\n",
    "group = order_new.groupby('sku_ID')\n",
    "order_to_sku = group.agg({'quantity':['mean', 'sum'], # average quantity, sum quantity per order for each sku\n",
    "            'order_ID':'nunique', # number of orders for each sku\n",
    "           'order_hour': ['nunique', group_mode], # how many different hours interval, hour interval that has most orders\n",
    "           'day_of_month': ['nunique', group_mode], # how many different days, day that has most orders\n",
    "           'original_unit_price': 'mean', # average original price\n",
    "           'discount_rate':'mean',  # average discount rate\n",
    "           'direct_discount_rate': 'mean',\n",
    "           'quantity_discount_rate':'mean',\n",
    "           'bundle_discount_rate':'mean',\n",
    "           'gift_item':'mean', # take average instead of mode to capture more information\n",
    "            'dc_ori':['nunique', group_mode], # how many different dc_ori, the dc_ori that has most orders\n",
    "           'dc_des':['nunique', group_mode], # how many different dc_des, the dc_des that has most orders\n",
    "            'promise':group_mode, # expected delivery days: 9 categories 1-8 and missing\n",
    "            'type':group_mode # 2 category: 1, 2\n",
    "})"
   ]
  },
  {
   "cell_type": "code",
   "execution_count": 57,
   "metadata": {},
   "outputs": [
    {
     "name": "stderr",
     "output_type": "stream",
     "text": [
      "/Users/tianlei/anaconda3/lib/python3.7/site-packages/ipykernel_launcher.py:2: FutureWarning: merging between different levels is deprecated and will be removed in a future version. (2 levels on the left,1 on the right)\n",
      "  \n"
     ]
    }
   ],
   "source": [
    "# merge \n",
    "sku_new = pd.merge(order_to_sku, sku[['sku_ID', 'brand_ID', 'attribute1', 'attribute2']], how = 'left', left_on = 'sku_ID', right_on = 'sku_ID'  )"
   ]
  },
  {
   "cell_type": "code",
   "execution_count": 58,
   "metadata": {},
   "outputs": [
    {
     "data": {
      "text/html": [
       "<div>\n",
       "<style scoped>\n",
       "    .dataframe tbody tr th:only-of-type {\n",
       "        vertical-align: middle;\n",
       "    }\n",
       "\n",
       "    .dataframe tbody tr th {\n",
       "        vertical-align: top;\n",
       "    }\n",
       "\n",
       "    .dataframe thead th {\n",
       "        text-align: right;\n",
       "    }\n",
       "</style>\n",
       "<table border=\"1\" class=\"dataframe\">\n",
       "  <thead>\n",
       "    <tr style=\"text-align: right;\">\n",
       "      <th></th>\n",
       "      <th>sku_ID</th>\n",
       "      <th>(quantity, mean)</th>\n",
       "      <th>(quantity, sum)</th>\n",
       "      <th>(order_ID, nunique)</th>\n",
       "      <th>(order_hour, nunique)</th>\n",
       "      <th>(order_hour, group_mode)</th>\n",
       "      <th>(day_of_month, nunique)</th>\n",
       "      <th>(day_of_month, group_mode)</th>\n",
       "      <th>(original_unit_price, mean)</th>\n",
       "      <th>(discount_rate, mean)</th>\n",
       "      <th>...</th>\n",
       "      <th>(gift_item, mean)</th>\n",
       "      <th>(dc_ori, nunique)</th>\n",
       "      <th>(dc_ori, group_mode)</th>\n",
       "      <th>(dc_des, nunique)</th>\n",
       "      <th>(dc_des, group_mode)</th>\n",
       "      <th>(promise, group_mode)</th>\n",
       "      <th>(type, group_mode)</th>\n",
       "      <th>brand_ID</th>\n",
       "      <th>attribute1</th>\n",
       "      <th>attribute2</th>\n",
       "    </tr>\n",
       "  </thead>\n",
       "  <tbody>\n",
       "    <tr>\n",
       "      <th>0</th>\n",
       "      <td>000aa92b82</td>\n",
       "      <td>1.166667</td>\n",
       "      <td>14</td>\n",
       "      <td>12</td>\n",
       "      <td>7</td>\n",
       "      <td>(20.0, 22.0]</td>\n",
       "      <td>10</td>\n",
       "      <td>11</td>\n",
       "      <td>83.333333</td>\n",
       "      <td>0.012929</td>\n",
       "      <td>...</td>\n",
       "      <td>0.0</td>\n",
       "      <td>6</td>\n",
       "      <td>2</td>\n",
       "      <td>9</td>\n",
       "      <td>4</td>\n",
       "      <td>-</td>\n",
       "      <td>2</td>\n",
       "      <td>9d3465eacc</td>\n",
       "      <td>4.0</td>\n",
       "      <td>100.0</td>\n",
       "    </tr>\n",
       "    <tr>\n",
       "      <th>1</th>\n",
       "      <td>000d4af39d</td>\n",
       "      <td>1.000000</td>\n",
       "      <td>1</td>\n",
       "      <td>1</td>\n",
       "      <td>1</td>\n",
       "      <td>(8.0, 10.0]</td>\n",
       "      <td>1</td>\n",
       "      <td>12</td>\n",
       "      <td>159.000000</td>\n",
       "      <td>0.509434</td>\n",
       "      <td>...</td>\n",
       "      <td>0.0</td>\n",
       "      <td>1</td>\n",
       "      <td>9</td>\n",
       "      <td>1</td>\n",
       "      <td>9</td>\n",
       "      <td>-</td>\n",
       "      <td>2</td>\n",
       "      <td>42e6445fca</td>\n",
       "      <td>4.0</td>\n",
       "      <td>100.0</td>\n",
       "    </tr>\n",
       "    <tr>\n",
       "      <th>2</th>\n",
       "      <td>000dc27e13</td>\n",
       "      <td>1.000000</td>\n",
       "      <td>1</td>\n",
       "      <td>1</td>\n",
       "      <td>1</td>\n",
       "      <td>(13.0, 15.0]</td>\n",
       "      <td>1</td>\n",
       "      <td>12</td>\n",
       "      <td>116.000000</td>\n",
       "      <td>0.206897</td>\n",
       "      <td>...</td>\n",
       "      <td>0.0</td>\n",
       "      <td>1</td>\n",
       "      <td>5</td>\n",
       "      <td>1</td>\n",
       "      <td>5</td>\n",
       "      <td>-</td>\n",
       "      <td>2</td>\n",
       "      <td>4f65703579</td>\n",
       "      <td>3.0</td>\n",
       "      <td>100.0</td>\n",
       "    </tr>\n",
       "    <tr>\n",
       "      <th>3</th>\n",
       "      <td>000e84e3a7</td>\n",
       "      <td>1.000000</td>\n",
       "      <td>1</td>\n",
       "      <td>1</td>\n",
       "      <td>1</td>\n",
       "      <td>(0.0, 8.0]</td>\n",
       "      <td>1</td>\n",
       "      <td>19</td>\n",
       "      <td>75.000000</td>\n",
       "      <td>0.000000</td>\n",
       "      <td>...</td>\n",
       "      <td>0.0</td>\n",
       "      <td>1</td>\n",
       "      <td>9</td>\n",
       "      <td>1</td>\n",
       "      <td>9</td>\n",
       "      <td>-</td>\n",
       "      <td>2</td>\n",
       "      <td>137b63c785</td>\n",
       "      <td>3.0</td>\n",
       "      <td>100.0</td>\n",
       "    </tr>\n",
       "    <tr>\n",
       "      <th>4</th>\n",
       "      <td>00104dbcd7</td>\n",
       "      <td>1.072289</td>\n",
       "      <td>89</td>\n",
       "      <td>83</td>\n",
       "      <td>10</td>\n",
       "      <td>(18.0, 20.0]</td>\n",
       "      <td>26</td>\n",
       "      <td>14</td>\n",
       "      <td>79.000000</td>\n",
       "      <td>0.260027</td>\n",
       "      <td>...</td>\n",
       "      <td>0.0</td>\n",
       "      <td>7</td>\n",
       "      <td>5</td>\n",
       "      <td>36</td>\n",
       "      <td>4</td>\n",
       "      <td>2</td>\n",
       "      <td>2</td>\n",
       "      <td>5a0b271e15</td>\n",
       "      <td>2.0</td>\n",
       "      <td>100.0</td>\n",
       "    </tr>\n",
       "    <tr>\n",
       "      <th>...</th>\n",
       "      <td>...</td>\n",
       "      <td>...</td>\n",
       "      <td>...</td>\n",
       "      <td>...</td>\n",
       "      <td>...</td>\n",
       "      <td>...</td>\n",
       "      <td>...</td>\n",
       "      <td>...</td>\n",
       "      <td>...</td>\n",
       "      <td>...</td>\n",
       "      <td>...</td>\n",
       "      <td>...</td>\n",
       "      <td>...</td>\n",
       "      <td>...</td>\n",
       "      <td>...</td>\n",
       "      <td>...</td>\n",
       "      <td>...</td>\n",
       "      <td>...</td>\n",
       "      <td>...</td>\n",
       "      <td>...</td>\n",
       "      <td>...</td>\n",
       "    </tr>\n",
       "    <tr>\n",
       "      <th>9154</th>\n",
       "      <td>fff33f1633</td>\n",
       "      <td>1.500000</td>\n",
       "      <td>3</td>\n",
       "      <td>2</td>\n",
       "      <td>2</td>\n",
       "      <td>(10.0, 11.0]</td>\n",
       "      <td>2</td>\n",
       "      <td>11</td>\n",
       "      <td>109.000000</td>\n",
       "      <td>0.091743</td>\n",
       "      <td>...</td>\n",
       "      <td>0.0</td>\n",
       "      <td>1</td>\n",
       "      <td>5</td>\n",
       "      <td>2</td>\n",
       "      <td>16</td>\n",
       "      <td>-</td>\n",
       "      <td>2</td>\n",
       "      <td>603dc9ab6b</td>\n",
       "      <td>3.0</td>\n",
       "      <td>100.0</td>\n",
       "    </tr>\n",
       "    <tr>\n",
       "      <th>9155</th>\n",
       "      <td>fff4328ec0</td>\n",
       "      <td>1.000000</td>\n",
       "      <td>1</td>\n",
       "      <td>1</td>\n",
       "      <td>1</td>\n",
       "      <td>(16.0, 18.0]</td>\n",
       "      <td>1</td>\n",
       "      <td>10</td>\n",
       "      <td>109.000000</td>\n",
       "      <td>0.000000</td>\n",
       "      <td>...</td>\n",
       "      <td>0.0</td>\n",
       "      <td>1</td>\n",
       "      <td>10</td>\n",
       "      <td>1</td>\n",
       "      <td>10</td>\n",
       "      <td>-</td>\n",
       "      <td>2</td>\n",
       "      <td>bd97f9a5fa</td>\n",
       "      <td>4.0</td>\n",
       "      <td>100.0</td>\n",
       "    </tr>\n",
       "    <tr>\n",
       "      <th>9156</th>\n",
       "      <td>fff84ed7ec</td>\n",
       "      <td>1.230769</td>\n",
       "      <td>16</td>\n",
       "      <td>13</td>\n",
       "      <td>7</td>\n",
       "      <td>(13.0, 15.0]</td>\n",
       "      <td>4</td>\n",
       "      <td>30</td>\n",
       "      <td>69.000000</td>\n",
       "      <td>0.002787</td>\n",
       "      <td>...</td>\n",
       "      <td>0.0</td>\n",
       "      <td>6</td>\n",
       "      <td>5</td>\n",
       "      <td>8</td>\n",
       "      <td>5</td>\n",
       "      <td>1</td>\n",
       "      <td>1</td>\n",
       "      <td>ab56426464</td>\n",
       "      <td>1.0</td>\n",
       "      <td>-</td>\n",
       "    </tr>\n",
       "    <tr>\n",
       "      <th>9157</th>\n",
       "      <td>fffe1bd280</td>\n",
       "      <td>1.207392</td>\n",
       "      <td>588</td>\n",
       "      <td>486</td>\n",
       "      <td>10</td>\n",
       "      <td>(20.0, 22.0]</td>\n",
       "      <td>29</td>\n",
       "      <td>08</td>\n",
       "      <td>68.051253</td>\n",
       "      <td>0.391008</td>\n",
       "      <td>...</td>\n",
       "      <td>0.0</td>\n",
       "      <td>25</td>\n",
       "      <td>2</td>\n",
       "      <td>40</td>\n",
       "      <td>2</td>\n",
       "      <td>1</td>\n",
       "      <td>1</td>\n",
       "      <td>adbd559b78</td>\n",
       "      <td>3.0</td>\n",
       "      <td>70.0</td>\n",
       "    </tr>\n",
       "    <tr>\n",
       "      <th>9158</th>\n",
       "      <td>fffe6eb4df</td>\n",
       "      <td>1.000000</td>\n",
       "      <td>8</td>\n",
       "      <td>8</td>\n",
       "      <td>7</td>\n",
       "      <td>(20.0, 22.0]</td>\n",
       "      <td>7</td>\n",
       "      <td>24</td>\n",
       "      <td>129.000000</td>\n",
       "      <td>0.387597</td>\n",
       "      <td>...</td>\n",
       "      <td>0.0</td>\n",
       "      <td>5</td>\n",
       "      <td>10</td>\n",
       "      <td>7</td>\n",
       "      <td>44</td>\n",
       "      <td>-</td>\n",
       "      <td>2</td>\n",
       "      <td>042c8894a9</td>\n",
       "      <td>3.0</td>\n",
       "      <td>100.0</td>\n",
       "    </tr>\n",
       "  </tbody>\n",
       "</table>\n",
       "<p>9159 rows × 23 columns</p>\n",
       "</div>"
      ],
      "text/plain": [
       "          sku_ID  (quantity, mean)  (quantity, sum)  (order_ID, nunique)  \\\n",
       "0     000aa92b82          1.166667               14                   12   \n",
       "1     000d4af39d          1.000000                1                    1   \n",
       "2     000dc27e13          1.000000                1                    1   \n",
       "3     000e84e3a7          1.000000                1                    1   \n",
       "4     00104dbcd7          1.072289               89                   83   \n",
       "...          ...               ...              ...                  ...   \n",
       "9154  fff33f1633          1.500000                3                    2   \n",
       "9155  fff4328ec0          1.000000                1                    1   \n",
       "9156  fff84ed7ec          1.230769               16                   13   \n",
       "9157  fffe1bd280          1.207392              588                  486   \n",
       "9158  fffe6eb4df          1.000000                8                    8   \n",
       "\n",
       "      (order_hour, nunique) (order_hour, group_mode)  (day_of_month, nunique)  \\\n",
       "0                         7             (20.0, 22.0]                       10   \n",
       "1                         1              (8.0, 10.0]                        1   \n",
       "2                         1             (13.0, 15.0]                        1   \n",
       "3                         1               (0.0, 8.0]                        1   \n",
       "4                        10             (18.0, 20.0]                       26   \n",
       "...                     ...                      ...                      ...   \n",
       "9154                      2             (10.0, 11.0]                        2   \n",
       "9155                      1             (16.0, 18.0]                        1   \n",
       "9156                      7             (13.0, 15.0]                        4   \n",
       "9157                     10             (20.0, 22.0]                       29   \n",
       "9158                      7             (20.0, 22.0]                        7   \n",
       "\n",
       "     (day_of_month, group_mode)  (original_unit_price, mean)  \\\n",
       "0                            11                    83.333333   \n",
       "1                            12                   159.000000   \n",
       "2                            12                   116.000000   \n",
       "3                            19                    75.000000   \n",
       "4                            14                    79.000000   \n",
       "...                         ...                          ...   \n",
       "9154                         11                   109.000000   \n",
       "9155                         10                   109.000000   \n",
       "9156                         30                    69.000000   \n",
       "9157                         08                    68.051253   \n",
       "9158                         24                   129.000000   \n",
       "\n",
       "      (discount_rate, mean)  ...  (gift_item, mean)  (dc_ori, nunique)  \\\n",
       "0                  0.012929  ...                0.0                  6   \n",
       "1                  0.509434  ...                0.0                  1   \n",
       "2                  0.206897  ...                0.0                  1   \n",
       "3                  0.000000  ...                0.0                  1   \n",
       "4                  0.260027  ...                0.0                  7   \n",
       "...                     ...  ...                ...                ...   \n",
       "9154               0.091743  ...                0.0                  1   \n",
       "9155               0.000000  ...                0.0                  1   \n",
       "9156               0.002787  ...                0.0                  6   \n",
       "9157               0.391008  ...                0.0                 25   \n",
       "9158               0.387597  ...                0.0                  5   \n",
       "\n",
       "      (dc_ori, group_mode)  (dc_des, nunique)  (dc_des, group_mode)  \\\n",
       "0                        2                  9                     4   \n",
       "1                        9                  1                     9   \n",
       "2                        5                  1                     5   \n",
       "3                        9                  1                     9   \n",
       "4                        5                 36                     4   \n",
       "...                    ...                ...                   ...   \n",
       "9154                     5                  2                    16   \n",
       "9155                    10                  1                    10   \n",
       "9156                     5                  8                     5   \n",
       "9157                     2                 40                     2   \n",
       "9158                    10                  7                    44   \n",
       "\n",
       "      (promise, group_mode)  (type, group_mode)    brand_ID attribute1  \\\n",
       "0                         -                   2  9d3465eacc        4.0   \n",
       "1                         -                   2  42e6445fca        4.0   \n",
       "2                         -                   2  4f65703579        3.0   \n",
       "3                         -                   2  137b63c785        3.0   \n",
       "4                         2                   2  5a0b271e15        2.0   \n",
       "...                     ...                 ...         ...        ...   \n",
       "9154                      -                   2  603dc9ab6b        3.0   \n",
       "9155                      -                   2  bd97f9a5fa        4.0   \n",
       "9156                      1                   1  ab56426464        1.0   \n",
       "9157                      1                   1  adbd559b78        3.0   \n",
       "9158                      -                   2  042c8894a9        3.0   \n",
       "\n",
       "      attribute2  \n",
       "0          100.0  \n",
       "1          100.0  \n",
       "2          100.0  \n",
       "3          100.0  \n",
       "4          100.0  \n",
       "...          ...  \n",
       "9154       100.0  \n",
       "9155       100.0  \n",
       "9156           -  \n",
       "9157        70.0  \n",
       "9158       100.0  \n",
       "\n",
       "[9159 rows x 23 columns]"
      ]
     },
     "execution_count": 58,
     "metadata": {},
     "output_type": "execute_result"
    }
   ],
   "source": [
    "sku_new"
   ]
  },
  {
   "cell_type": "code",
   "execution_count": 59,
   "metadata": {},
   "outputs": [
    {
     "data": {
      "text/html": [
       "<div>\n",
       "<style scoped>\n",
       "    .dataframe tbody tr th:only-of-type {\n",
       "        vertical-align: middle;\n",
       "    }\n",
       "\n",
       "    .dataframe tbody tr th {\n",
       "        vertical-align: top;\n",
       "    }\n",
       "\n",
       "    .dataframe thead th {\n",
       "        text-align: right;\n",
       "    }\n",
       "</style>\n",
       "<table border=\"1\" class=\"dataframe\">\n",
       "  <thead>\n",
       "    <tr style=\"text-align: right;\">\n",
       "      <th></th>\n",
       "      <th>(quantity, mean)</th>\n",
       "      <th>(quantity, sum)</th>\n",
       "      <th>(order_ID, nunique)</th>\n",
       "      <th>(order_hour, nunique)</th>\n",
       "      <th>(day_of_month, nunique)</th>\n",
       "      <th>(original_unit_price, mean)</th>\n",
       "      <th>(discount_rate, mean)</th>\n",
       "      <th>(direct_discount_rate, mean)</th>\n",
       "      <th>(quantity_discount_rate, mean)</th>\n",
       "      <th>(bundle_discount_rate, mean)</th>\n",
       "      <th>(gift_item, mean)</th>\n",
       "      <th>(dc_ori, nunique)</th>\n",
       "      <th>(dc_ori, group_mode)</th>\n",
       "      <th>(dc_des, nunique)</th>\n",
       "      <th>(dc_des, group_mode)</th>\n",
       "      <th>(type, group_mode)</th>\n",
       "    </tr>\n",
       "  </thead>\n",
       "  <tbody>\n",
       "    <tr>\n",
       "      <th>count</th>\n",
       "      <td>9159.000000</td>\n",
       "      <td>9159.000000</td>\n",
       "      <td>9159.000000</td>\n",
       "      <td>9159.000000</td>\n",
       "      <td>9159.000000</td>\n",
       "      <td>9159.000000</td>\n",
       "      <td>9159.000000</td>\n",
       "      <td>8814.000000</td>\n",
       "      <td>8809.000000</td>\n",
       "      <td>8814.000000</td>\n",
       "      <td>9159.000000</td>\n",
       "      <td>9159.000000</td>\n",
       "      <td>9159.000000</td>\n",
       "      <td>9159.000000</td>\n",
       "      <td>9159.000000</td>\n",
       "      <td>9159.000000</td>\n",
       "    </tr>\n",
       "    <tr>\n",
       "      <th>mean</th>\n",
       "      <td>1.139453</td>\n",
       "      <td>73.059832</td>\n",
       "      <td>59.078284</td>\n",
       "      <td>3.938203</td>\n",
       "      <td>6.425592</td>\n",
       "      <td>142.755108</td>\n",
       "      <td>0.189379</td>\n",
       "      <td>0.103533</td>\n",
       "      <td>inf</td>\n",
       "      <td>0.000626</td>\n",
       "      <td>0.048552</td>\n",
       "      <td>3.639917</td>\n",
       "      <td>6.873349</td>\n",
       "      <td>8.649962</td>\n",
       "      <td>18.684900</td>\n",
       "      <td>1.964188</td>\n",
       "    </tr>\n",
       "    <tr>\n",
       "      <th>std</th>\n",
       "      <td>1.638115</td>\n",
       "      <td>565.733306</td>\n",
       "      <td>452.051972</td>\n",
       "      <td>3.262670</td>\n",
       "      <td>7.994505</td>\n",
       "      <td>316.116001</td>\n",
       "      <td>0.263067</td>\n",
       "      <td>0.175904</td>\n",
       "      <td>NaN</td>\n",
       "      <td>0.014247</td>\n",
       "      <td>0.211170</td>\n",
       "      <td>4.469772</td>\n",
       "      <td>5.820316</td>\n",
       "      <td>13.071676</td>\n",
       "      <td>16.340036</td>\n",
       "      <td>0.185831</td>\n",
       "    </tr>\n",
       "    <tr>\n",
       "      <th>min</th>\n",
       "      <td>1.000000</td>\n",
       "      <td>1.000000</td>\n",
       "      <td>1.000000</td>\n",
       "      <td>0.000000</td>\n",
       "      <td>1.000000</td>\n",
       "      <td>0.000000</td>\n",
       "      <td>0.000000</td>\n",
       "      <td>0.000000</td>\n",
       "      <td>0.000000</td>\n",
       "      <td>0.000000</td>\n",
       "      <td>0.000000</td>\n",
       "      <td>1.000000</td>\n",
       "      <td>2.000000</td>\n",
       "      <td>1.000000</td>\n",
       "      <td>1.000000</td>\n",
       "      <td>1.000000</td>\n",
       "    </tr>\n",
       "    <tr>\n",
       "      <th>25%</th>\n",
       "      <td>1.000000</td>\n",
       "      <td>1.000000</td>\n",
       "      <td>1.000000</td>\n",
       "      <td>1.000000</td>\n",
       "      <td>1.000000</td>\n",
       "      <td>68.000000</td>\n",
       "      <td>0.000000</td>\n",
       "      <td>0.000000</td>\n",
       "      <td>0.000000</td>\n",
       "      <td>0.000000</td>\n",
       "      <td>0.000000</td>\n",
       "      <td>1.000000</td>\n",
       "      <td>4.000000</td>\n",
       "      <td>1.000000</td>\n",
       "      <td>5.000000</td>\n",
       "      <td>2.000000</td>\n",
       "    </tr>\n",
       "    <tr>\n",
       "      <th>50%</th>\n",
       "      <td>1.000000</td>\n",
       "      <td>3.000000</td>\n",
       "      <td>3.000000</td>\n",
       "      <td>3.000000</td>\n",
       "      <td>3.000000</td>\n",
       "      <td>100.000000</td>\n",
       "      <td>0.048351</td>\n",
       "      <td>0.000000</td>\n",
       "      <td>0.000000</td>\n",
       "      <td>0.000000</td>\n",
       "      <td>0.000000</td>\n",
       "      <td>2.000000</td>\n",
       "      <td>5.000000</td>\n",
       "      <td>3.000000</td>\n",
       "      <td>9.000000</td>\n",
       "      <td>2.000000</td>\n",
       "    </tr>\n",
       "    <tr>\n",
       "      <th>75%</th>\n",
       "      <td>1.055556</td>\n",
       "      <td>13.000000</td>\n",
       "      <td>12.000000</td>\n",
       "      <td>6.000000</td>\n",
       "      <td>8.000000</td>\n",
       "      <td>169.000000</td>\n",
       "      <td>0.309362</td>\n",
       "      <td>0.159304</td>\n",
       "      <td>0.005087</td>\n",
       "      <td>0.000000</td>\n",
       "      <td>0.000000</td>\n",
       "      <td>5.000000</td>\n",
       "      <td>9.000000</td>\n",
       "      <td>9.000000</td>\n",
       "      <td>31.000000</td>\n",
       "      <td>2.000000</td>\n",
       "    </tr>\n",
       "    <tr>\n",
       "      <th>max</th>\n",
       "      <td>101.000000</td>\n",
       "      <td>25769.000000</td>\n",
       "      <td>23625.000000</td>\n",
       "      <td>10.000000</td>\n",
       "      <td>31.000000</td>\n",
       "      <td>12158.000000</td>\n",
       "      <td>1.000000</td>\n",
       "      <td>0.915254</td>\n",
       "      <td>inf</td>\n",
       "      <td>0.912418</td>\n",
       "      <td>1.000000</td>\n",
       "      <td>50.000000</td>\n",
       "      <td>65.000000</td>\n",
       "      <td>60.000000</td>\n",
       "      <td>67.000000</td>\n",
       "      <td>2.000000</td>\n",
       "    </tr>\n",
       "  </tbody>\n",
       "</table>\n",
       "</div>"
      ],
      "text/plain": [
       "       (quantity, mean)  (quantity, sum)  (order_ID, nunique)  \\\n",
       "count       9159.000000      9159.000000          9159.000000   \n",
       "mean           1.139453        73.059832            59.078284   \n",
       "std            1.638115       565.733306           452.051972   \n",
       "min            1.000000         1.000000             1.000000   \n",
       "25%            1.000000         1.000000             1.000000   \n",
       "50%            1.000000         3.000000             3.000000   \n",
       "75%            1.055556        13.000000            12.000000   \n",
       "max          101.000000     25769.000000         23625.000000   \n",
       "\n",
       "       (order_hour, nunique)  (day_of_month, nunique)  \\\n",
       "count            9159.000000              9159.000000   \n",
       "mean                3.938203                 6.425592   \n",
       "std                 3.262670                 7.994505   \n",
       "min                 0.000000                 1.000000   \n",
       "25%                 1.000000                 1.000000   \n",
       "50%                 3.000000                 3.000000   \n",
       "75%                 6.000000                 8.000000   \n",
       "max                10.000000                31.000000   \n",
       "\n",
       "       (original_unit_price, mean)  (discount_rate, mean)  \\\n",
       "count                  9159.000000            9159.000000   \n",
       "mean                    142.755108               0.189379   \n",
       "std                     316.116001               0.263067   \n",
       "min                       0.000000               0.000000   \n",
       "25%                      68.000000               0.000000   \n",
       "50%                     100.000000               0.048351   \n",
       "75%                     169.000000               0.309362   \n",
       "max                   12158.000000               1.000000   \n",
       "\n",
       "       (direct_discount_rate, mean)  (quantity_discount_rate, mean)  \\\n",
       "count                   8814.000000                     8809.000000   \n",
       "mean                       0.103533                             inf   \n",
       "std                        0.175904                             NaN   \n",
       "min                        0.000000                        0.000000   \n",
       "25%                        0.000000                        0.000000   \n",
       "50%                        0.000000                        0.000000   \n",
       "75%                        0.159304                        0.005087   \n",
       "max                        0.915254                             inf   \n",
       "\n",
       "       (bundle_discount_rate, mean)  (gift_item, mean)  (dc_ori, nunique)  \\\n",
       "count                   8814.000000        9159.000000        9159.000000   \n",
       "mean                       0.000626           0.048552           3.639917   \n",
       "std                        0.014247           0.211170           4.469772   \n",
       "min                        0.000000           0.000000           1.000000   \n",
       "25%                        0.000000           0.000000           1.000000   \n",
       "50%                        0.000000           0.000000           2.000000   \n",
       "75%                        0.000000           0.000000           5.000000   \n",
       "max                        0.912418           1.000000          50.000000   \n",
       "\n",
       "       (dc_ori, group_mode)  (dc_des, nunique)  (dc_des, group_mode)  \\\n",
       "count           9159.000000        9159.000000           9159.000000   \n",
       "mean               6.873349           8.649962             18.684900   \n",
       "std                5.820316          13.071676             16.340036   \n",
       "min                2.000000           1.000000              1.000000   \n",
       "25%                4.000000           1.000000              5.000000   \n",
       "50%                5.000000           3.000000              9.000000   \n",
       "75%                9.000000           9.000000             31.000000   \n",
       "max               65.000000          60.000000             67.000000   \n",
       "\n",
       "       (type, group_mode)  \n",
       "count         9159.000000  \n",
       "mean             1.964188  \n",
       "std              0.185831  \n",
       "min              1.000000  \n",
       "25%              2.000000  \n",
       "50%              2.000000  \n",
       "75%              2.000000  \n",
       "max              2.000000  "
      ]
     },
     "execution_count": 59,
     "metadata": {},
     "output_type": "execute_result"
    }
   ],
   "source": [
    "sku_new.describe()"
   ]
  },
  {
   "cell_type": "code",
   "execution_count": 61,
   "metadata": {},
   "outputs": [],
   "source": [
    "# sku_new.to_csv('sku_clustering.csv', index = False)"
   ]
  },
  {
   "cell_type": "code",
   "execution_count": null,
   "metadata": {},
   "outputs": [],
   "source": []
  },
  {
   "cell_type": "code",
   "execution_count": null,
   "metadata": {},
   "outputs": [],
   "source": []
  }
 ],
 "metadata": {
  "kernelspec": {
   "display_name": "Python 3 (ipykernel)",
   "language": "python",
   "name": "python3"
  },
  "language_info": {
   "codemirror_mode": {
    "name": "ipython",
    "version": 3
   },
   "file_extension": ".py",
   "mimetype": "text/x-python",
   "name": "python",
   "nbconvert_exporter": "python",
   "pygments_lexer": "ipython3",
   "version": "3.9.10"
  }
 },
 "nbformat": 4,
 "nbformat_minor": 2
}
