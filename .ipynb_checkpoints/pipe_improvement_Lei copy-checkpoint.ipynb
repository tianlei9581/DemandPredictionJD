{
 "cells": [
  {
   "cell_type": "markdown",
   "id": "e5caa17e",
   "metadata": {},
   "source": [
    "This file improve upon the Pytorch_Pipe_Lei file by retraining the selected warehouses that have negative cost save in the original file and perform cv on regularization coefficient for each warehouse."
   ]
  },
  {
   "cell_type": "code",
   "execution_count": 2,
   "id": "4cedd241",
   "metadata": {
    "executionInfo": {
     "elapsed": 173,
     "status": "ok",
     "timestamp": 1647236224020,
     "user": {
      "displayName": "Peng Xu",
      "photoUrl": "https://lh3.googleusercontent.com/a-/AOh14GihYc7h5im61ge3uVxyNDW7QWZ3KrL0gLMarQHM=s64",
      "userId": "13852652645537005974"
     },
     "user_tz": 420
    },
    "id": "4cedd241"
   },
   "outputs": [
    {
     "name": "stderr",
     "output_type": "stream",
     "text": [
      "/usr/local/lib/python3.9/site-packages/tqdm/auto.py:22: TqdmWarning: IProgress not found. Please update jupyter and ipywidgets. See https://ipywidgets.readthedocs.io/en/stable/user_install.html\n",
      "  from .autonotebook import tqdm as notebook_tqdm\n"
     ]
    }
   ],
   "source": [
    "import pandas as pd\n",
    "import json\n",
    "import numpy as np\n",
    "import torch\n",
    "from torch.autograd import Variable\n",
    "import matplotlib.pyplot as plt\n",
    "from sklearn.metrics import r2_score\n",
    "from sklearn.metrics import mean_squared_error\n",
    "from sklearn.preprocessing import StandardScaler\n",
    "from sklearn.linear_model import LinearRegression\n",
    "import seaborn as sns\n",
    "\n",
    "from sklearn.model_selection import KFold"
   ]
  },
  {
   "cell_type": "code",
   "execution_count": 2,
   "id": "0b97ec81",
   "metadata": {
    "executionInfo": {
     "elapsed": 387,
     "status": "ok",
     "timestamp": 1647236229200,
     "user": {
      "displayName": "Peng Xu",
      "photoUrl": "https://lh3.googleusercontent.com/a-/AOh14GihYc7h5im61ge3uVxyNDW7QWZ3KrL0gLMarQHM=s64",
      "userId": "13852652645537005974"
     },
     "user_tz": 420
    },
    "id": "0b97ec81",
    "scrolled": true
   },
   "outputs": [],
   "source": [
    "with open('order_dict.json') as f:\n",
    "    data = json.load(f)\n",
    "with open('capstone_jd_msom_data-minus-click-data/warehouse_capacity.json') as f2:\n",
    "    warehouse_capacity = json.load(f2)"
   ]
  },
  {
   "cell_type": "code",
   "execution_count": 3,
   "id": "faa5bbbc",
   "metadata": {
    "executionInfo": {
     "elapsed": 282,
     "status": "ok",
     "timestamp": 1647236229459,
     "user": {
      "displayName": "Peng Xu",
      "photoUrl": "https://lh3.googleusercontent.com/a-/AOh14GihYc7h5im61ge3uVxyNDW7QWZ3KrL0gLMarQHM=s64",
      "userId": "13852652645537005974"
     },
     "user_tz": 420
    },
    "id": "faa5bbbc"
   },
   "outputs": [],
   "source": [
    "order_dict = {int(k):pd.DataFrame(v).set_index('day_of_month') for k, v in data.items()}\n",
    "capacity = {int(k):v[1] for k, v in warehouse_capacity.items()}"
   ]
  },
  {
   "cell_type": "code",
   "execution_count": 4,
   "id": "ac7562ab",
   "metadata": {},
   "outputs": [],
   "source": [
    "def preprocessing(df_i):\n",
    "    \n",
    "    df = df_i.copy()\n",
    "    df = df.fillna(0)\n",
    "    df.replace(np.inf,0, inplace = True)\n",
    "\n",
    "    # convert data type for categorical features\n",
    "    df['cluster_id'] = df['cluster_id'].astype('object')\n",
    "    df['dc_ori_mode'] = df['dc_ori_mode'].astype('object')\n",
    "    df['day_of_week'] = df['day_of_week'].astype('object')\n",
    "\n",
    "    cat = ['cluster_id','dc_ori_mode','day_of_week']\n",
    "    num = df.drop(cat+['demand'], axis = 1).columns\n",
    "    #print(num)\n",
    "    \n",
    "    \n",
    "    # train test split\n",
    "    df_enc = pd.get_dummies(df, columns = cat, drop_first = True)\n",
    "    train_enc = df_enc.query('1<= day_of_month <= 24')\n",
    "    test_enc = df_enc.query('24 < day_of_month <= 31')\n",
    "\n",
    "    # train = df.query('1<= day_of_month <= 24')\n",
    "    # test = df.query('24 < day_of_month <= 31')\n",
    "\n",
    "    # train_enc = pd.get_dummies(train, columns = cat, drop_first = True)\n",
    "    # test_enc = pd.get_dummies(test, columns = cat)\n",
    "\n",
    "    # print(train_enc.dtypes)\n",
    "    # print(test_enc.dtypes)\n",
    "\n",
    "    # standardize data\n",
    "    scaler = StandardScaler()\n",
    "\n",
    "    # x_train = train_enc[['quantity_discount_rate_mean','day_of_week_3','cluster_id_6','cluster_id_7','cluster_id_8','cluster_id_10','dc_ori_num','dc_ori_mode_7']].to_numpy()\n",
    "    # x_test = test_enc[['quantity_discount_rate_mean','day_of_week_3','cluster_id_6','cluster_id_7','cluster_id_8','cluster_id_10','dc_ori_num','dc_ori_mode_7']]\n",
    "\n",
    "    x_train = train_enc.drop(['demand', 'discount_rate_mean','type_1_percent'], axis = 1).to_numpy() # only remove highest vif column\n",
    "    x_train = scaler.fit_transform(x_train)\n",
    "\n",
    "    y_train = train_enc['demand'].to_numpy().reshape(len(train_enc), 1)\n",
    "\n",
    "\n",
    "    x_test = test_enc.drop(['demand', 'discount_rate_mean','type_1_percent'], axis = 1) \n",
    "    x_test = scaler.fit_transform(x_test)\n",
    "\n",
    "    y_test = test_enc['demand'].to_numpy().reshape(len(test_enc), 1)\n",
    "    \n",
    "    #print(x_train.shape, y_train.shape)\n",
    "    #print(x_test.shape, y_test.shape)\n",
    "\n",
    "    return x_train, y_train, x_test, y_test"
   ]
  },
  {
   "cell_type": "code",
   "execution_count": 5,
   "id": "32206393",
   "metadata": {},
   "outputs": [],
   "source": [
    "def r2_loss(outputs, targets):\n",
    "    target_mean = torch.mean(targets)\n",
    "    ss_tot = torch.sum((targets - target_mean) ** 2)\n",
    "    ss_res = torch.sum((targets - outputs) ** 2)\n",
    "    r2 = 1 - ss_res / ss_tot\n",
    "    return r2\n",
    "\n",
    "def r2_loss_2(outputs, targets):\n",
    "    ss_tot = 0.0\n",
    "    ss_res = 0.0\n",
    "    target_mean = torch.mean(targets)\n",
    "    for i in range(0,len(outputs)):\n",
    "        ss_tot += (targets[i] - target_mean) ** 2\n",
    "        ss_res += (targets[i] - outputs[i]) ** 2\n",
    "    r2 = 1 - ss_res / ss_tot\n",
    "    return r2\n",
    "\n",
    "# TODO: need to work with tensor objects.\n",
    "def SPOLoss (d_pred, d_actual):\n",
    "    # W: items to stock the warehouse\n",
    "    # h: inventory cost\n",
    "    # s: shipping cost\n",
    "    # ci: capacity limit for warehouse i = 1000 (per month)\n",
    "    cost = 0.0\n",
    "    max_capacity = capacity_i / 31\n",
    "    for i in range(0, len(d_pred)):\n",
    "        if d_pred[i] <= max_capacity:\n",
    "            w = d_pred[i]\n",
    "        else:\n",
    "            w = max_capacity\n",
    "        if w > d_actual[i]:\n",
    "            h = 2.920 * (w - d_actual[i])  # average inventory cost per sku * (w - target)\n",
    "            s = 0\n",
    "        else:\n",
    "            h = 0\n",
    "            s = 0.803 * (d_actual[i] - w)\n",
    "        cost += h + s\n",
    "    return cost\n",
    "\n",
    "def SPO_MSE_Loss(d_pred, d_actual):\n",
    "    spo_loss = SPOLoss(d_pred, d_actual)\n",
    "    mse_loss = 0.0\n",
    "    for i in range(0, len(d_pred)):\n",
    "        mse_loss += (d_pred[i] - d_actual[i]) ** 2\n",
    "    mse_loss = mse_loss / len(d_pred)\n",
    "    # mse_loss = sum((d_pred - d_actual) ** 2) / len(d_pred)    # don't use this, because d_pred can is 1*N dimention but d_actual can be N*1 dimension\n",
    "    return spo_loss + 0.1 * mse_loss"
   ]
  },
  {
   "cell_type": "code",
   "execution_count": 6,
   "id": "d696570d",
   "metadata": {},
   "outputs": [],
   "source": [
    "# define model structure\n",
    "class linearRegression(torch.nn.Module):\n",
    "    def __init__(self, inputSize, outputSize):\n",
    "        super(linearRegression, self).__init__()\n",
    "        self.linear = torch.nn.Linear(inputSize, outputSize)\n",
    "\n",
    "    def forward(self, x):\n",
    "        out = self.linear(x)\n",
    "        return out"
   ]
  },
  {
   "cell_type": "code",
   "execution_count": 7,
   "id": "a142e18e",
   "metadata": {
    "colab": {
     "base_uri": "https://localhost:8080/",
     "height": 1000
    },
    "executionInfo": {
     "elapsed": 1341,
     "status": "ok",
     "timestamp": 1647244512390,
     "user": {
      "displayName": "Peng Xu",
      "photoUrl": "https://lh3.googleusercontent.com/a-/AOh14GihYc7h5im61ge3uVxyNDW7QWZ3KrL0gLMarQHM=s64",
      "userId": "13852652645537005974"
     },
     "user_tz": 420
    },
    "id": "a142e18e",
    "outputId": "d8e7987d-40ba-4d35-aa11-58399b13dc29"
   },
   "outputs": [],
   "source": [
    "# define training and evaluation functions\n",
    "\n",
    "def predict(model, x):\n",
    "    \n",
    "    \"\"\"\n",
    "    takes in a pytorch model and a matrix of features\n",
    "    return a list of predictions\n",
    "    \"\"\"\n",
    "    \n",
    "    with torch.no_grad(): # we don't need gradients in the testing phase\n",
    "    # if torch.cuda.is_available():\n",
    "    #     pred_y_train = model(Variable(torch.from_numpy(x_train).float().cuda())).cpu().data.numpy()\n",
    "    # else:\n",
    "    #     pred_y_train = model(Variable(torch.from_numpy(x_train).float())).data.numpy()\n",
    "        pred_y = model(Variable(torch.from_numpy(x).float())).data.numpy()\n",
    "        pred_y = [pred_y[x].item() for x in range(len(pred_y))]\n",
    "    return pred_y\n",
    "\n",
    "def linearRegressionTrain(x_train, y_train, learningRate, epochs, loss_type = 'MSE', regularize = 'None', l1_penalty = 0, l2_penalty = 0, plot = True, verbose = True):\n",
    "    \"\"\"\n",
    "    input: \n",
    "        - x_train whose type is numpy.ndarray\n",
    "        - y_train whose type is numpy.ndarray\n",
    "        - learningRate\n",
    "        - epochs\n",
    "        - regularization can be either \"None\" or \"l1\" or \"l2\", default is none\n",
    "        - loss_type can be either \"MSE\" or \"SPO\", default is 'MSE'\n",
    "        - plot: whether you want to plot the loss against epochs, default is True\n",
    "        \n",
    "    output:\n",
    "        trained pytorch linear regression model\n",
    "    \"\"\"\n",
    "    _, inputDim = x_train.shape\n",
    "    outputDim = 1       # takes variable 'y'\n",
    "    \n",
    "    loss_list = []\n",
    "\n",
    "    model = linearRegression(inputDim, outputDim)\n",
    "    \n",
    "    ##### For GPU #######\n",
    "    # if torch.cuda.is_available():\n",
    "    #     model.cuda()\n",
    "    \n",
    "    # initialize the loss function and optimizer\n",
    "    if loss_type == 'MSE': \n",
    "        \n",
    "        criterion = torch.nn.MSELoss()  \n",
    "        # criterion = r2_loss\n",
    "        \n",
    "        if regularize == 'None' or regularize == 'l1':\n",
    "            optimizer = torch.optim.SGD(model.parameters(), lr=learningRate)\n",
    "        else: # regularize = 'l2'\n",
    "            optimizer = torch.optim.SGD(model.parameters(),weight_decay = l2_penalty, lr=learningRate)\n",
    "            \n",
    "    elif loss_type == 'SPO': # change loss function and switch to adam optimizer\n",
    "        \n",
    "        criterion = SPOLoss\n",
    "        \n",
    "        if regularize == 'None' or regularize == 'l1':\n",
    "            optimizer = torch.optim.Adam(model.parameters(), lr=learningRate)\n",
    "        else: # regularize = 'l2'\n",
    "            optimizer = torch.optim.Adam(model.parameters(),weight_decay = l2_penalty, lr=learningRate)\n",
    "\n",
    "    elif loss_type == 'SPO_MSE': # change loss function and switch to adam optimizer\n",
    "        \n",
    "        criterion = SPO_MSE_Loss\n",
    "        \n",
    "        if regularize == 'None' or regularize == 'l1':\n",
    "            optimizer = torch.optim.Adam(model.parameters(), lr=learningRate)\n",
    "        else: # regularize = 'l2'\n",
    "            optimizer = torch.optim.Adam(model.parameters(),weight_decay = l2_penalty, lr=learningRate)\n",
    "            \n",
    "    else:\n",
    "        raise Exception('wrong loss_type')\n",
    "        \n",
    "    # model training\n",
    "\n",
    "    for epoch in range(epochs):\n",
    "        # Converting inputs and labels to Variable\n",
    "        # if torch.cuda.is_available():\n",
    "        #     inputs = Variable(torch.from_numpy(x_train).cuda())\n",
    "        #     labels = Variable(torch.from_numpy(y_train).cuda())\n",
    "        # else:\n",
    "        #     inputs = Variable(torch.from_numpy(x_train))\n",
    "        #     labels = Variable(torch.from_numpy(y_train))\n",
    "        inputs = Variable(torch.from_numpy(x_train))\n",
    "        labels = Variable(torch.from_numpy(y_train))\n",
    "\n",
    "        # Clear gradient buffers because we don't want any gradient from previous epoch to carry forward, dont want to cummulate gradients\n",
    "        optimizer.zero_grad()\n",
    "\n",
    "        # get output from the model, given the inputs\n",
    "        outputs = model(inputs.type(torch.FloatTensor))\n",
    "\n",
    "        # get loss for the predicted output\n",
    "        loss = criterion(outputs, labels.type(torch.FloatTensor))\n",
    "        \n",
    "        if regularize == 'l1':\n",
    "            l1_norm = l1_penalty * torch.norm(model.linear.weight, p=1) # double check\n",
    "            loss += l1_norm\n",
    "            \n",
    "        # get gradients w.r.t to parameters\n",
    "        loss.backward()\n",
    "\n",
    "        # update parameters\n",
    "        optimizer.step()\n",
    "\n",
    "        \n",
    "        # break loop if percent changae in loss is less than 0.1%\n",
    "        if (len(loss_list) > 300) and (abs((loss.data - loss_list[-1])/loss_list[-1]) <0.0001):\n",
    "            loss_list.append(loss.data)\n",
    "            break\n",
    "        \n",
    "        # store loss\n",
    "        loss_list.append(loss.data)\n",
    "\n",
    "        # print loss\n",
    "        #if(epoch % 100 == 0):\n",
    "            #print('epoch {}, loss {}'.format(epoch, loss.data))\n",
    "    \n",
    "    if plot:\n",
    "        plt.plot(range(len(loss_list)),loss_list)\n",
    "        plt.xlabel(\"Number of Iterations\")\n",
    "        plt.ylabel(\"Loss\")\n",
    "        plt.title('Gradient descend for {} loss'.format(loss_type))\n",
    "        plt.show()\n",
    "        \n",
    "    if verbose:\n",
    "        print('model trained using {} loss'.format(loss_type))\n",
    "        # bias b (offset or y-intercept)\n",
    "        print('y-intercept ', model.linear.bias.item())\n",
    "        # weight (w)\n",
    "        print('Coefficients ',  model.linear.weight.detach().numpy())\n",
    "    \n",
    "        pred_y_train = predict(model, x_train)\n",
    "        \n",
    "        print(\"Train MSE =\",mean_squared_error(y_train,pred_y_train))\n",
    "        print('Train R^2 =', r2_score(y_train, pred_y_train)) \n",
    "        print('Train SPO Loss =', SPOLoss(pred_y_train, y_train))\n",
    "\n",
    "    return model\n",
    "\n",
    "\n",
    "def generate_scores(y_true, y_pred):\n",
    "    MSE = mean_squared_error(y_true, y_pred)\n",
    "    R2 = r2_score(y_true, y_pred)\n",
    "    SPO = SPOLoss(y_pred, y_true)\n",
    "    SPO_mean = SPO / len(y_pred)\n",
    "    return pd.DataFrame({'MSE': MSE, 'R^2': R2, 'SPO Loss': SPO, 'SPO Loss/day': SPO_mean})\n",
    "    \n",
    "\n",
    "def evaluation(model, x_train, x_test, y_train, y_test, plot = True):\n",
    "    \n",
    "    \"\"\"\n",
    "    this function only works for pytorch model\n",
    "    \n",
    "    return a 2x4 dataframe: \n",
    "        - one row for training set, the other row for testing\n",
    "        - 4 columns are 4 scores: MSE, R2, SPO, SPO Ave\n",
    "    \"\"\"\n",
    "\n",
    "    pred_y_train = predict(model, x_train)\n",
    "    pred_y_test = predict(model, x_test)\n",
    "\n",
    "    # Comparing Actual and predicted values\n",
    "    #if plot:\n",
    "        #plt.figure(figsize=(7,7))\n",
    "        #plt.scatter(y_train, pred_y_train, c='b', s=10)\n",
    "        #plt.xlabel('Train Actual Demand'), plt.ylabel('Train Predicted Demand');\n",
    "        #lim = 100\n",
    "        #x = y = range(lim)\n",
    "        #plt.plot(x,y, c='brown')\n",
    "        #plt.xlim(0,lim), plt.ylim(0,lim);\n",
    "        #plt.show()\n",
    "\n",
    "        #plt.figure(figsize=(7,7))\n",
    "        #plt.scatter(y_test, pred_y_test, c='b', s=10)\n",
    "        #plt.xlabel('Test Actual Demand'), plt.ylabel('Test Predicted Demand');\n",
    "        #lim = 100\n",
    "        #x = y = range(lim)\n",
    "        #plt.plot(x,y, c='brown')\n",
    "        #plt.xlim(0,lim), plt.ylim(0,lim);\n",
    "        #plt.show()\n",
    "\n",
    "    score_df = pd.concat([generate_scores(y_train, pred_y_train), generate_scores(y_test, pred_y_test)])\n",
    "    score_df.index = ['train', 'test']\n",
    "    \n",
    "    return score_df"
   ]
  },
  {
   "cell_type": "code",
   "execution_count": 8,
   "id": "3730833e",
   "metadata": {},
   "outputs": [],
   "source": [
    "#import timeit\n",
    "def cross_validate(x_train, y_train, loss_type, regularize, plot = True):\n",
    "    # return the best penalty coefficient that minimize average validation error\n",
    "    \n",
    "    #start = timeit.default_timer()\n",
    "    \n",
    "    aveloss = dict()\n",
    "    kfold = KFold(n_splits = 5)\n",
    "    \n",
    "    if loss_type == 'MSE':\n",
    "        learningRate = 0.02\n",
    "        epochs = 301\n",
    "        grid = 10**-np.linspace(0,1,11) if regularize == 'l2' else 10**-np.linspace(0,5,11)\n",
    "        \n",
    "    elif loss_type == 'SPO':\n",
    "        learningRate = 0.05\n",
    "        epochs = 3001\n",
    "        grid = 10**-np.linspace(-1,2,10) if regularize == 'l2' else (5,20,10)\n",
    "        \n",
    "\n",
    "    if regularize == 'l2':\n",
    "        \n",
    "        for i in grid:\n",
    "            loss = 0\n",
    "            \n",
    "            for train_index, test_index in kfold.split(x_train, y_train):\n",
    "                x_train_fold = x_train[train_index]\n",
    "                y_train_fold = y_train[train_index]\n",
    "                x_test_fold = x_train[test_index]\n",
    "                y_test_fold = y_train[test_index]\n",
    "\n",
    "                model_i = linearRegressionTrain(x_train_fold, y_train_fold, learningRate, epochs, loss_type, regularize, l2_penalty = i, plot = False, verbose = False)\n",
    "\n",
    "                pred_y_validate = predict(model_i, x_test_fold)\n",
    "                \n",
    "                loss_i = generate_scores(y_test_fold, pred_y_validate)['MSE'][0] if loss_type == 'MSE' else  generate_scores(y_test_fold, pred_y_validate)['SPO Loss'][0]\n",
    "                loss += loss_i\n",
    "                \n",
    "            aveloss[i]  = loss / 5\n",
    "            #print(i)\n",
    "            \n",
    "    elif regularize == 'l1':\n",
    "        \n",
    "        for i in grid:\n",
    "            loss = 0\n",
    "            \n",
    "            for train_index, test_index in kfold.split(x_train, y_train):\n",
    "                x_train_fold = x_train[train_index]\n",
    "                y_train_fold = y_train[train_index]\n",
    "                x_test_fold = x_train[test_index]\n",
    "                y_test_fold = y_train[test_index]\n",
    "\n",
    "                model_i = linearRegressionTrain(x_train_fold, y_train_fold, learningRate, epochs, loss_type, regularize, l1_penalty = i, plot = False, verbose = False)\n",
    "\n",
    "                pred_y_validate = predict(model_i, x_test_fold)\n",
    "                \n",
    "                loss_i = generate_scores(y_test_fold, pred_y_validate)['MSE'][0] if loss_type == 'MSE' else  generate_scores(y_test_fold, pred_y_validate)['SPO Loss'][0]\n",
    "                loss += loss_i\n",
    "                \n",
    "            aveloss[i]  = loss / 5\n",
    "    else:\n",
    "        raise Exception('wrong regularization type')\n",
    "        \n",
    "    if plot:\n",
    "        plt.plot(aveloss.keys(), aveloss.values())\n",
    "        plt.xlabel('penalty coefficient')\n",
    "        plt.ylabel('average {} error on validation sets'.format(loss_type))\n",
    "        plt.title('Cross Validation for {} Regularization'.format(regularize))\n",
    "        plt.show()\n",
    "        \n",
    "    best = min(aveloss, key = aveloss.get)\n",
    "    #print('The best penalty coefficient is '+ str(best))\n",
    "    \n",
    "    #stop = timeit.default_timer()\n",
    "    #print('Time: ', stop - start)  \n",
    "    return best"
   ]
  },
  {
   "cell_type": "markdown",
   "id": "5d8aa7bc",
   "metadata": {},
   "source": [
    "# Model Training"
   ]
  },
  {
   "cell_type": "code",
   "execution_count": 9,
   "id": "7f0d596d",
   "metadata": {},
   "outputs": [],
   "source": [
    "def model_pipeline(x_train, y_train, x_test, y_test, plot_all = False):\n",
    "    # MSE loss models\n",
    "    learningRate = 0.02\n",
    "    epochs = 501\n",
    "\n",
    "    # ols model training\n",
    "    model_ols = linearRegressionTrain(x_train, y_train, learningRate, epochs,'MSE','None', plot = plot_all, verbose = False)\n",
    "\n",
    "\n",
    "    # ridge regression (l2 regrularization)\n",
    "    best_l2 = cross_validate(x_train, y_train, 'MSE', 'l2', plot = plot_all)\n",
    "    model_ridge = linearRegressionTrain(x_train, y_train, learningRate, epochs,'MSE','l2', l2_penalty = best_l2, plot = plot_all, verbose = False)\n",
    "\n",
    "    # l1 regularization (lasso)\n",
    "    best_l1 = cross_validate(x_train, y_train, 'MSE', 'l1', plot = plot_all)\n",
    "    model_lasso = linearRegressionTrain(x_train, y_train, learningRate, epochs,'MSE', 'l1', l1_penalty = best_l1, plot = plot_all, verbose = False)\n",
    "\n",
    "    # compile results for models trained on MSE loss\n",
    "    MSE_result = []\n",
    "\n",
    "    for model, name in zip([model_ols, model_ridge, model_lasso],['mse_ols','mse_ridge','mse_lasso']):\n",
    "        score_df = evaluation(model, x_train, x_test, y_train, y_test, plot = plot_all)\n",
    "        MSE_result.append(pd.concat({name:score_df}))\n",
    "\n",
    "    MSE_scores = pd.concat([MSE_result[0], MSE_result[1],MSE_result[2]])\n",
    "\n",
    "    # SPO loss models\n",
    "    learningRate = 0.05\n",
    "    epochs = 3001\n",
    "\n",
    "    # ols model\n",
    "    model_ols2 = linearRegressionTrain(x_train, y_train, learningRate, epochs,'SPO','None', plot = plot_all, verbose = False)\n",
    "\n",
    "    # ridge regression\n",
    "    best_l2_spo = cross_validate(x_train, y_train, 'SPO', 'l2', plot = plot_all)\n",
    "    #print('best l2 for spo loss: ', str(best_l2_spo))\n",
    "    model_ridge2 = linearRegressionTrain(x_train, y_train, learningRate, epochs,'SPO','l2', l2_penalty = best_l2_spo, plot = plot_all, verbose = False)\n",
    "    #model_ridge2 = linearRegressionTrain(x_train, y_train, learningRate, epochs,'SPO','l2', l2_penalty = 2.3357, plot = plot_all, verbose = False)\n",
    "\n",
    "    # lasso regression\n",
    "    best_l1_spo = cross_validate(x_train, y_train, 'SPO', 'l1', plot = plot_all)\n",
    "    #print('best l1 for spo loss: ', str(best_l1_spo))\n",
    "    model_lasso2 = linearRegressionTrain(x_train, y_train, learningRate, epochs,'SPO', 'l1', l1_penalty = best_l1_spo, plot = plot_all, verbose = False)\n",
    "    #model_lasso2 = linearRegressionTrain(x_train, y_train, learningRate, epochs,'SPO', 'l1', l1_penalty = 10, plot = plot_all, verbose = False)\n",
    "\n",
    "    # compile results for models trained on SPO loss\n",
    "    SPO_result = []\n",
    "\n",
    "    for model, name in zip([model_ols2, model_ridge2, model_lasso2],['spo_ols','spo_ridge','spo_lasso']):\n",
    "        score_df = evaluation(model, x_train, x_test, y_train, y_test, plot = plot_all)\n",
    "        SPO_result.append(pd.concat({name:score_df}))\n",
    "\n",
    "    SPO_scores = pd.concat([SPO_result[0], SPO_result[1], SPO_result[2]])\n",
    "\n",
    "    return MSE_scores, SPO_scores"
   ]
  },
  {
   "cell_type": "code",
   "execution_count": 10,
   "id": "5b2dc07e",
   "metadata": {},
   "outputs": [
    {
     "name": "stdout",
     "output_type": "stream",
     "text": [
      "skipping\n"
     ]
    }
   ],
   "source": [
    "%%script echo skipping\n",
    "\n",
    "# check individual result with plot\n",
    "i = 2\n",
    "x_train, y_train, x_test, y_test = preprocessing(order_dict[i])\n",
    "capacity_i = capacity[i]\n",
    "MSE_score, SPO_score = model_pipeline(x_train, y_train, x_test, y_test, plot_all = True)\n",
    "MSE_score, SPO_score"
   ]
  },
  {
   "cell_type": "code",
   "execution_count": 11,
   "id": "eec11ad8",
   "metadata": {},
   "outputs": [],
   "source": [
    "#MSE_score"
   ]
  },
  {
   "cell_type": "code",
   "execution_count": 12,
   "id": "a762d857",
   "metadata": {},
   "outputs": [],
   "source": [
    "#SPO_score"
   ]
  },
  {
   "cell_type": "code",
   "execution_count": 13,
   "id": "b93139b8",
   "metadata": {},
   "outputs": [
    {
     "name": "stdout",
     "output_type": "stream",
     "text": [
      "3 done.\n",
      "6 done.\n",
      "10 done.\n",
      "11 done.\n",
      "15 done.\n",
      "16 done.\n",
      "17 done.\n",
      "26 done.\n",
      "33 done.\n",
      "34 done.\n",
      "42 done.\n",
      "43 done.\n",
      "47 done.\n",
      "49 done.\n",
      "53 done.\n",
      "64 done.\n",
      "67 done.\n"
     ]
    }
   ],
   "source": [
    "improved_results = dict()\n",
    "for dc_i in [3, 6, 10, 11, 15, 16, 17, 26, 33, 34, 42, 43, 47, 49, 53, 64, 67]:\n",
    "    x_train, y_train, x_test, y_test = preprocessing(order_dict[dc_i])  \n",
    "    capacity_i = capacity[dc_i]\n",
    "    MSE_i, SPO_i = model_pipeline(x_train, y_train, x_test, y_test)\n",
    "    improved_results[dc_i] = {'MSE result': MSE_i, 'SPO result': SPO_i}\n",
    "    print(str(dc_i)+' done.')"
   ]
  },
  {
   "cell_type": "code",
   "execution_count": 14,
   "id": "146b9525",
   "metadata": {},
   "outputs": [],
   "source": [
    "#final_results.values()"
   ]
  },
  {
   "cell_type": "code",
   "execution_count": 15,
   "id": "61097710",
   "metadata": {},
   "outputs": [],
   "source": [
    "%%script echo skipping\n",
    "\n",
    "\n",
    "improved_results = {int(k): {k2: {k3: {'_'.join(k4):v4 for k4, v4 in v3.items()} \n",
    "                                     for k3, v3 in v2.items()} \n",
    "                                for k2, v2 in v.items()}  \n",
    "                       for k, v in improved_results.items()}\n",
    "\n",
    "with open('improved_results_capacity.json','w') as f:\n",
    "    json.dump(improved_results, f)"
   ]
  },
  {
   "cell_type": "code",
   "execution_count": 4,
   "id": "a31f5b78",
   "metadata": {},
   "outputs": [],
   "source": [
    "with open('final_results_capacity.json') as f:\n",
    "    data = json.load(f)\n",
    "    \n",
    "with open('improved_results_capacity.json') as f:\n",
    "    improved_results = json.load(f)"
   ]
  },
  {
   "cell_type": "code",
   "execution_count": 5,
   "id": "9ded01dc",
   "metadata": {},
   "outputs": [],
   "source": [
    "improved_results_df = {int(k): {k2: pd.DataFrame(v2) for k2, v2 in v.items()} for k, v in improved_results.items()}"
   ]
  },
  {
   "cell_type": "code",
   "execution_count": 6,
   "id": "48de0793",
   "metadata": {},
   "outputs": [],
   "source": [
    "final_results = {int(k): {k2: pd.DataFrame(v2) for k2, v2 in v.items()} for k, v in data.items()}"
   ]
  },
  {
   "cell_type": "code",
   "execution_count": 9,
   "id": "20788198",
   "metadata": {},
   "outputs": [],
   "source": [
    "combined_results = improved_results_df.copy()\n",
    "for k in final_results.keys():\n",
    "    if k not in improved_results_df:\n",
    "        combined_results[k] = final_results[k]\n",
    "combined_results = dict(sorted(combined_results.items()))"
   ]
  },
  {
   "cell_type": "code",
   "execution_count": 20,
   "id": "7ea20900",
   "metadata": {},
   "outputs": [],
   "source": [
    "def generate_overall_result(result_dict):\n",
    "    i = list(result_dict.keys())[0]\n",
    "    MSE_columns, MSE_index = result_dict[i]['MSE result'].columns, result_dict[3]['MSE result'].index\n",
    "    SPO_columns, SPO_index = result_dict[i]['SPO result'].columns, result_dict[3]['SPO result'].index\n",
    "    mse_ave = sum([results['MSE result'].to_numpy() for results in result_dict.values()])/len(result_dict)\n",
    "\n",
    "    mse_df = pd.DataFrame(mse_ave, columns = MSE_columns, index = MSE_index)\n",
    "    \n",
    "    spo_ave = sum([results['SPO result'].to_numpy() for results in improved_results_df.values()])/len(result_dict)\n",
    "\n",
    "    spo_df = pd.DataFrame(spo_ave, columns = SPO_columns, index = SPO_index)\n",
    "    \n",
    "    # for each warehouse, select the model that has lowest test SPO Loss/day\n",
    "    spo_loss_ave = {dc: results['SPO result'].iloc[[1,3,5],[3]].min()[0] for dc, results in result_dict.items()}\n",
    "    mse_loss_ave = {dc: results['MSE result'].iloc[[1,3,5],[3]].min()[0] for dc, results in result_dict.items()}\n",
    "\n",
    "    plt.plot(pd.Series(spo_loss_ave), color = 'red', label = 'trained using SPO loss')\n",
    "    plt.plot(pd.Series(mse_loss_ave), label = 'trained using MSE loss')\n",
    "    plt.ylabel('SPO loss')\n",
    "    plt.xlabel('distribution centers')\n",
    "    plt.legend(loc = 'upper right')\n",
    "    plt.title('SPO loss across all distribution centers')\n",
    "    plt.show()\n",
    "    \n",
    "    cost_saved_percent = (1- pd.Series(spo_loss_ave) / pd.Series(mse_loss_ave))*100\n",
    "    plt.plot(cost_saved_percent)\n",
    "    plt.ylabel('cost saving percentage')\n",
    "    plt.xlabel('distribution centers')\n",
    "    plt.title('cost saved across all distribution centers')\n",
    "    plt.plot(np.repeat(0,70))\n",
    "    plt.show()\n",
    "    \n",
    "    percent = round(sum(cost_saved_percent >= 0)/len(cost_saved_percent),4)*100\n",
    "    print('Percentage of wareshouses that have improved SPO loss: {}%'.format(percent)) \n",
    "    return mse_df, spo_df, cost_saved_percent"
   ]
  },
  {
   "cell_type": "code",
   "execution_count": 21,
   "id": "a5e86563",
   "metadata": {},
   "outputs": [
    {
     "data": {
      "image/png": "[encoded data removed]",
      "text/plain": [
       "<Figure size 432x288 with 1 Axes>"
      ]
     },
     "metadata": {
      "needs_background": "light"
     },
     "output_type": "display_data"
    },
    {
     "data": {
      "image/png": "[encoded data removed]",
      "text/plain": [
       "<Figure size 432x288 with 1 Axes>"
      ]
     },
     "metadata": {
      "needs_background": "light"
     },
     "output_type": "display_data"
    },
    {
     "name": "stdout",
     "output_type": "stream",
     "text": [
      "Percentage of wareshouses that have improved SPO loss: 71.67%\n"
     ]
    }
   ],
   "source": [
    "# final_results\n",
    "ave_mse, ave_spo, cost_saved_percent = generate_overall_result(final_results)"
   ]
  },
  {
   "cell_type": "code",
   "execution_count": 16,
   "id": "af97c5ce",
   "metadata": {},
   "outputs": [
    {
     "data": {
      "text/html": [
       "<div>\n",
       "<style scoped>\n",
       "    .dataframe tbody tr th:only-of-type {\n",
       "        vertical-align: middle;\n",
       "    }\n",
       "\n",
       "    .dataframe tbody tr th {\n",
       "        vertical-align: top;\n",
       "    }\n",
       "\n",
       "    .dataframe thead th {\n",
       "        text-align: right;\n",
       "    }\n",
       "</style>\n",
       "<table border=\"1\" class=\"dataframe\">\n",
       "  <thead>\n",
       "    <tr style=\"text-align: right;\">\n",
       "      <th></th>\n",
       "      <th>MSE</th>\n",
       "      <th>R^2</th>\n",
       "      <th>SPO Loss</th>\n",
       "      <th>SPO Loss/day</th>\n",
       "    </tr>\n",
       "  </thead>\n",
       "  <tbody>\n",
       "    <tr>\n",
       "      <th>mse_ols_train</th>\n",
       "      <td>1522.821202</td>\n",
       "      <td>0.686822</td>\n",
       "      <td>6017.756441</td>\n",
       "      <td>27.040304</td>\n",
       "    </tr>\n",
       "    <tr>\n",
       "      <th>mse_ols_test</th>\n",
       "      <td>1842.280619</td>\n",
       "      <td>0.532318</td>\n",
       "      <td>1673.258123</td>\n",
       "      <td>26.334050</td>\n",
       "    </tr>\n",
       "    <tr>\n",
       "      <th>mse_ridge_train</th>\n",
       "      <td>1606.301728</td>\n",
       "      <td>0.672166</td>\n",
       "      <td>5515.605778</td>\n",
       "      <td>24.733661</td>\n",
       "    </tr>\n",
       "    <tr>\n",
       "      <th>mse_ridge_test</th>\n",
       "      <td>1843.118500</td>\n",
       "      <td>0.546835</td>\n",
       "      <td>1533.337545</td>\n",
       "      <td>24.099670</td>\n",
       "    </tr>\n",
       "    <tr>\n",
       "      <th>mse_lasso_train</th>\n",
       "      <td>1543.915438</td>\n",
       "      <td>0.667799</td>\n",
       "      <td>5971.257007</td>\n",
       "      <td>26.836682</td>\n",
       "    </tr>\n",
       "    <tr>\n",
       "      <th>mse_lasso_test</th>\n",
       "      <td>1810.314426</td>\n",
       "      <td>0.566381</td>\n",
       "      <td>1603.761824</td>\n",
       "      <td>25.196540</td>\n",
       "    </tr>\n",
       "  </tbody>\n",
       "</table>\n",
       "</div>"
      ],
      "text/plain": [
       "                         MSE       R^2     SPO Loss  SPO Loss/day\n",
       "mse_ols_train    1522.821202  0.686822  6017.756441     27.040304\n",
       "mse_ols_test     1842.280619  0.532318  1673.258123     26.334050\n",
       "mse_ridge_train  1606.301728  0.672166  5515.605778     24.733661\n",
       "mse_ridge_test   1843.118500  0.546835  1533.337545     24.099670\n",
       "mse_lasso_train  1543.915438  0.667799  5971.257007     26.836682\n",
       "mse_lasso_test   1810.314426  0.566381  1603.761824     25.196540"
      ]
     },
     "execution_count": 16,
     "metadata": {},
     "output_type": "execute_result"
    }
   ],
   "source": [
    "ave_mse"
   ]
  },
  {
   "cell_type": "code",
   "execution_count": 17,
   "id": "28269d79",
   "metadata": {},
   "outputs": [
    {
     "data": {
      "text/html": [
       "<div>\n",
       "<style scoped>\n",
       "    .dataframe tbody tr th:only-of-type {\n",
       "        vertical-align: middle;\n",
       "    }\n",
       "\n",
       "    .dataframe tbody tr th {\n",
       "        vertical-align: top;\n",
       "    }\n",
       "\n",
       "    .dataframe thead th {\n",
       "        text-align: right;\n",
       "    }\n",
       "</style>\n",
       "<table border=\"1\" class=\"dataframe\">\n",
       "  <thead>\n",
       "    <tr style=\"text-align: right;\">\n",
       "      <th></th>\n",
       "      <th>MSE</th>\n",
       "      <th>R^2</th>\n",
       "      <th>SPO Loss</th>\n",
       "      <th>SPO Loss/day</th>\n",
       "    </tr>\n",
       "  </thead>\n",
       "  <tbody>\n",
       "    <tr>\n",
       "      <th>spo_ols_train</th>\n",
       "      <td>277.441878</td>\n",
       "      <td>0.129697</td>\n",
       "      <td>694.216947</td>\n",
       "      <td>3.182921</td>\n",
       "    </tr>\n",
       "    <tr>\n",
       "      <th>spo_ols_test</th>\n",
       "      <td>682.485254</td>\n",
       "      <td>0.062483</td>\n",
       "      <td>411.001993</td>\n",
       "      <td>6.470884</td>\n",
       "    </tr>\n",
       "    <tr>\n",
       "      <th>spo_ridge_train</th>\n",
       "      <td>302.723399</td>\n",
       "      <td>0.106830</td>\n",
       "      <td>727.699262</td>\n",
       "      <td>3.336231</td>\n",
       "    </tr>\n",
       "    <tr>\n",
       "      <th>spo_ridge_test</th>\n",
       "      <td>729.615570</td>\n",
       "      <td>0.038485</td>\n",
       "      <td>423.849967</td>\n",
       "      <td>6.677125</td>\n",
       "    </tr>\n",
       "    <tr>\n",
       "      <th>spo_lasso_train</th>\n",
       "      <td>297.519260</td>\n",
       "      <td>0.112148</td>\n",
       "      <td>719.409657</td>\n",
       "      <td>3.299539</td>\n",
       "    </tr>\n",
       "    <tr>\n",
       "      <th>spo_lasso_test</th>\n",
       "      <td>712.544959</td>\n",
       "      <td>0.046390</td>\n",
       "      <td>414.612542</td>\n",
       "      <td>6.530590</td>\n",
       "    </tr>\n",
       "  </tbody>\n",
       "</table>\n",
       "</div>"
      ],
      "text/plain": [
       "                        MSE       R^2    SPO Loss  SPO Loss/day\n",
       "spo_ols_train    277.441878  0.129697  694.216947      3.182921\n",
       "spo_ols_test     682.485254  0.062483  411.001993      6.470884\n",
       "spo_ridge_train  302.723399  0.106830  727.699262      3.336231\n",
       "spo_ridge_test   729.615570  0.038485  423.849967      6.677125\n",
       "spo_lasso_train  297.519260  0.112148  719.409657      3.299539\n",
       "spo_lasso_test   712.544959  0.046390  414.612542      6.530590"
      ]
     },
     "execution_count": 17,
     "metadata": {},
     "output_type": "execute_result"
    }
   ],
   "source": [
    "ave_spo"
   ]
  },
  {
   "cell_type": "code",
   "execution_count": 19,
   "id": "cb43efc8",
   "metadata": {},
   "outputs": [
    {
     "data": {
      "text/plain": [
       "3    -21.577600\n",
       "6    -32.498436\n",
       "10    -1.739713\n",
       "11   -31.304049\n",
       "15    -7.250615\n",
       "16   -24.028764\n",
       "17   -30.467998\n",
       "26   -16.905325\n",
       "33   -18.668340\n",
       "34    -6.596778\n",
       "42   -16.919590\n",
       "43   -14.265965\n",
       "47   -17.209218\n",
       "49   -21.070771\n",
       "53   -21.986041\n",
       "64   -15.147008\n",
       "67   -10.993749\n",
       "dtype: float64"
      ]
     },
     "execution_count": 19,
     "metadata": {},
     "output_type": "execute_result"
    }
   ],
   "source": [
    "cost_saved_percent[cost_saved_percent < 0]"
   ]
  },
  {
   "cell_type": "code",
   "execution_count": 24,
   "id": "96d44c86",
   "metadata": {
    "scrolled": true
   },
   "outputs": [
    {
     "data": {
      "image/png": "[encoded data removed]",
      "text/plain": [
       "<Figure size 432x288 with 1 Axes>"
      ]
     },
     "metadata": {
      "needs_background": "light"
     },
     "output_type": "display_data"
    },
    {
     "data": {
      "image/png": "[encoded data removed]",
      "text/plain": [
       "<Figure size 432x288 with 1 Axes>"
      ]
     },
     "metadata": {
      "needs_background": "light"
     },
     "output_type": "display_data"
    },
    {
     "name": "stdout",
     "output_type": "stream",
     "text": [
      "Percentage of wareshouses that have improved SPO loss: 71.67%\n"
     ]
    }
   ],
   "source": [
    "ave_msei, ave_spoi, cost_saved_percenti = generate_overall_result(combined_results)"
   ]
  },
  {
   "cell_type": "code",
   "execution_count": 25,
   "id": "ef67214c",
   "metadata": {},
   "outputs": [
    {
     "data": {
      "text/html": [
       "<div>\n",
       "<style scoped>\n",
       "    .dataframe tbody tr th:only-of-type {\n",
       "        vertical-align: middle;\n",
       "    }\n",
       "\n",
       "    .dataframe tbody tr th {\n",
       "        vertical-align: top;\n",
       "    }\n",
       "\n",
       "    .dataframe thead th {\n",
       "        text-align: right;\n",
       "    }\n",
       "</style>\n",
       "<table border=\"1\" class=\"dataframe\">\n",
       "  <thead>\n",
       "    <tr style=\"text-align: right;\">\n",
       "      <th></th>\n",
       "      <th>MSE</th>\n",
       "      <th>R^2</th>\n",
       "      <th>SPO Loss</th>\n",
       "      <th>SPO Loss/day</th>\n",
       "    </tr>\n",
       "  </thead>\n",
       "  <tbody>\n",
       "    <tr>\n",
       "      <th>mse_ols_train</th>\n",
       "      <td>1522.822884</td>\n",
       "      <td>0.686822</td>\n",
       "      <td>6017.763653</td>\n",
       "      <td>27.040371</td>\n",
       "    </tr>\n",
       "    <tr>\n",
       "      <th>mse_ols_test</th>\n",
       "      <td>1842.235466</td>\n",
       "      <td>0.532305</td>\n",
       "      <td>1673.132485</td>\n",
       "      <td>26.332137</td>\n",
       "    </tr>\n",
       "    <tr>\n",
       "      <th>mse_ridge_train</th>\n",
       "      <td>1606.418498</td>\n",
       "      <td>0.672043</td>\n",
       "      <td>5513.827654</td>\n",
       "      <td>24.725164</td>\n",
       "    </tr>\n",
       "    <tr>\n",
       "      <th>mse_ridge_test</th>\n",
       "      <td>1843.605543</td>\n",
       "      <td>0.546514</td>\n",
       "      <td>1533.279778</td>\n",
       "      <td>24.098840</td>\n",
       "    </tr>\n",
       "    <tr>\n",
       "      <th>mse_lasso_train</th>\n",
       "      <td>1543.945502</td>\n",
       "      <td>0.667805</td>\n",
       "      <td>5971.418886</td>\n",
       "      <td>26.837277</td>\n",
       "    </tr>\n",
       "    <tr>\n",
       "      <th>mse_lasso_test</th>\n",
       "      <td>1810.232671</td>\n",
       "      <td>0.566433</td>\n",
       "      <td>1603.677018</td>\n",
       "      <td>25.195118</td>\n",
       "    </tr>\n",
       "  </tbody>\n",
       "</table>\n",
       "</div>"
      ],
      "text/plain": [
       "                         MSE       R^2     SPO Loss  SPO Loss/day\n",
       "mse_ols_train    1522.822884  0.686822  6017.763653     27.040371\n",
       "mse_ols_test     1842.235466  0.532305  1673.132485     26.332137\n",
       "mse_ridge_train  1606.418498  0.672043  5513.827654     24.725164\n",
       "mse_ridge_test   1843.605543  0.546514  1533.279778     24.098840\n",
       "mse_lasso_train  1543.945502  0.667805  5971.418886     26.837277\n",
       "mse_lasso_test   1810.232671  0.566433  1603.677018     25.195118"
      ]
     },
     "execution_count": 25,
     "metadata": {},
     "output_type": "execute_result"
    }
   ],
   "source": [
    "ave_msei"
   ]
  },
  {
   "cell_type": "code",
   "execution_count": 26,
   "id": "89f279a1",
   "metadata": {},
   "outputs": [
    {
     "data": {
      "text/html": [
       "<div>\n",
       "<style scoped>\n",
       "    .dataframe tbody tr th:only-of-type {\n",
       "        vertical-align: middle;\n",
       "    }\n",
       "\n",
       "    .dataframe tbody tr th {\n",
       "        vertical-align: top;\n",
       "    }\n",
       "\n",
       "    .dataframe thead th {\n",
       "        text-align: right;\n",
       "    }\n",
       "</style>\n",
       "<table border=\"1\" class=\"dataframe\">\n",
       "  <thead>\n",
       "    <tr style=\"text-align: right;\">\n",
       "      <th></th>\n",
       "      <th>MSE</th>\n",
       "      <th>R^2</th>\n",
       "      <th>SPO Loss</th>\n",
       "      <th>SPO Loss/day</th>\n",
       "    </tr>\n",
       "  </thead>\n",
       "  <tbody>\n",
       "    <tr>\n",
       "      <th>spo_ols_train</th>\n",
       "      <td>277.441878</td>\n",
       "      <td>0.129697</td>\n",
       "      <td>694.216947</td>\n",
       "      <td>3.182921</td>\n",
       "    </tr>\n",
       "    <tr>\n",
       "      <th>spo_ols_test</th>\n",
       "      <td>682.485254</td>\n",
       "      <td>0.062483</td>\n",
       "      <td>411.001993</td>\n",
       "      <td>6.470884</td>\n",
       "    </tr>\n",
       "    <tr>\n",
       "      <th>spo_ridge_train</th>\n",
       "      <td>302.723399</td>\n",
       "      <td>0.106830</td>\n",
       "      <td>727.699262</td>\n",
       "      <td>3.336231</td>\n",
       "    </tr>\n",
       "    <tr>\n",
       "      <th>spo_ridge_test</th>\n",
       "      <td>729.615570</td>\n",
       "      <td>0.038485</td>\n",
       "      <td>423.849967</td>\n",
       "      <td>6.677125</td>\n",
       "    </tr>\n",
       "    <tr>\n",
       "      <th>spo_lasso_train</th>\n",
       "      <td>297.519260</td>\n",
       "      <td>0.112148</td>\n",
       "      <td>719.409657</td>\n",
       "      <td>3.299539</td>\n",
       "    </tr>\n",
       "    <tr>\n",
       "      <th>spo_lasso_test</th>\n",
       "      <td>712.544959</td>\n",
       "      <td>0.046390</td>\n",
       "      <td>414.612542</td>\n",
       "      <td>6.530590</td>\n",
       "    </tr>\n",
       "  </tbody>\n",
       "</table>\n",
       "</div>"
      ],
      "text/plain": [
       "                        MSE       R^2    SPO Loss  SPO Loss/day\n",
       "spo_ols_train    277.441878  0.129697  694.216947      3.182921\n",
       "spo_ols_test     682.485254  0.062483  411.001993      6.470884\n",
       "spo_ridge_train  302.723399  0.106830  727.699262      3.336231\n",
       "spo_ridge_test   729.615570  0.038485  423.849967      6.677125\n",
       "spo_lasso_train  297.519260  0.112148  719.409657      3.299539\n",
       "spo_lasso_test   712.544959  0.046390  414.612542      6.530590"
      ]
     },
     "execution_count": 26,
     "metadata": {},
     "output_type": "execute_result"
    }
   ],
   "source": [
    "ave_spoi"
   ]
  },
  {
   "cell_type": "code",
   "execution_count": 30,
   "id": "47f2f1f3",
   "metadata": {},
   "outputs": [
    {
     "data": {
      "text/plain": [
       "3    -21.443929\n",
       "6    -32.957998\n",
       "10    -1.263364\n",
       "11   -31.380756\n",
       "15    -7.240512\n",
       "16   -26.202485\n",
       "17   -26.519397\n",
       "26   -15.443382\n",
       "33   -20.537583\n",
       "34    -6.620968\n",
       "42   -18.674143\n",
       "43   -15.170225\n",
       "47   -17.791227\n",
       "49   -20.563193\n",
       "53   -18.874997\n",
       "64   -15.166827\n",
       "67   -10.814777\n",
       "dtype: float64"
      ]
     },
     "execution_count": 30,
     "metadata": {},
     "output_type": "execute_result"
    }
   ],
   "source": [
    "cost_saved_percenti[cost_saved_percenti < 0]"
   ]
  },
  {
   "cell_type": "code",
   "execution_count": 37,
   "id": "8a1df2a2",
   "metadata": {},
   "outputs": [
    {
     "data": {
      "text/plain": [
       "3      0.619491\n",
       "6     -1.414105\n",
       "10    27.380893\n",
       "11    -0.245037\n",
       "15     0.139336\n",
       "16    -9.046328\n",
       "17    12.959831\n",
       "26     8.647823\n",
       "33   -10.012902\n",
       "34    -0.366689\n",
       "42   -10.369946\n",
       "43    -6.338585\n",
       "47    -3.381959\n",
       "49     2.408920\n",
       "53    14.150086\n",
       "64    -0.130840\n",
       "67     1.627941\n",
       "dtype: float64"
      ]
     },
     "execution_count": 37,
     "metadata": {},
     "output_type": "execute_result"
    }
   ],
   "source": [
    "improvement = (cost_saved_percenti[cost_saved_percenti < 0] - cost_saved_percent[cost_saved_percent < 0])*100 / abs(cost_saved_percent[cost_saved_percent < 0])\n",
    "improvement # in percentage change of 'percent saved'"
   ]
  },
  {
   "cell_type": "code",
   "execution_count": 39,
   "id": "5c225418",
   "metadata": {},
   "outputs": [
    {
     "data": {
      "text/plain": [
       "1.5663488765217837"
      ]
     },
     "execution_count": 39,
     "metadata": {},
     "output_type": "execute_result"
    }
   ],
   "source": [
    "sum(improvement)/len(improvement)"
   ]
  },
  {
   "cell_type": "markdown",
   "id": "70029af4",
   "metadata": {},
   "source": [
    "Ref:\n",
    "Lineary Regression with Pytorch\n",
    "  \n",
    "  https://medium.com/analytics-vidhya/linear-regression-with-pytorch-147fed55f138\n",
    "  \n",
    "  https://linuxhint.com/pytorch_linear_regression_tutorial/\n",
    "  \n",
    "  https://medium.com/biaslyai/pytorch-linear-and-logistic-regression-models-5c5f0da2cb9\n",
    "  \n",
    "  https://towardsdatascience.com/linear-regression-with-pytorch-eb6dedead817\n",
    "  \n",
    "  https://www.reneshbedre.com/blog/pytorch-regression.html\n",
    "  \n",
    "  https://www.kaggle.com/joseguzman/multiple-regression-explained-with-pytorch?scriptVersionId=73005237\n",
    "  \n",
    "  https://www.deeplearningwizard.com/deep_learning/practical_pytorch/pytorch_linear_regression/#building-a-linear-regression-model-with-pytorch-gpu\n",
    "  \n",
    "Evaluations:\n",
    "\n",
    "  https://www.analyticsvidhya.com/blog/2021/05/know-the-best-evaluation-metrics-for-your-regression-model/\n",
    "  \n",
    "Quick Ordinary Lineary Regression Calculator:\n",
    "\n",
    "  https://www.socscistatistics.com/tests/regression/default.aspx\n"
   ]
  }
 ],
 "metadata": {
  "colab": {
   "name": "PyTorch_models_Ben.ipynb",
   "provenance": []
  },
  "kernelspec": {
   "display_name": "Python 3 (ipykernel)",
   "language": "python",
   "name": "python3"
  },
  "language_info": {
   "codemirror_mode": {
    "name": "ipython",
    "version": 3
   },
   "file_extension": ".py",
   "mimetype": "text/x-python",
   "name": "python",
   "nbconvert_exporter": "python",
   "pygments_lexer": "ipython3",
   "version": "3.9.10"
  }
 },
 "nbformat": 4,
 "nbformat_minor": 5
}
