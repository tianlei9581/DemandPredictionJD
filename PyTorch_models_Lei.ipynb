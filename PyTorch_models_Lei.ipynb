{
 "cells": [
  {
   "cell_type": "code",
   "execution_count": 1,
   "id": "4cedd241",
   "metadata": {
    "executionInfo": {
     "elapsed": 173,
     "status": "ok",
     "timestamp": 1647236224020,
     "user": {
      "displayName": "Peng Xu",
      "photoUrl": "https://lh3.googleusercontent.com/a-/AOh14GihYc7h5im61ge3uVxyNDW7QWZ3KrL0gLMarQHM=s64",
      "userId": "13852652645537005974"
     },
     "user_tz": 420
    },
    "id": "4cedd241"
   },
   "outputs": [],
   "source": [
    "import pandas as pd\n",
    "import json\n",
    "import numpy as np\n",
    "import torch\n",
    "from torch.autograd import Variable\n",
    "import matplotlib.pyplot as plt\n",
    "from sklearn.metrics import r2_score\n",
    "from sklearn.metrics import mean_squared_error\n",
    "from sklearn.preprocessing import StandardScaler\n",
    "from sklearn.linear_model import LinearRegression\n",
    "import seaborn as sns\n",
    "\n",
    "from sklearn.model_selection import KFold"
   ]
  },
  {
   "cell_type": "code",
   "execution_count": 2,
   "id": "0b97ec81",
   "metadata": {
    "executionInfo": {
     "elapsed": 387,
     "status": "ok",
     "timestamp": 1647236229200,
     "user": {
      "displayName": "Peng Xu",
      "photoUrl": "https://lh3.googleusercontent.com/a-/AOh14GihYc7h5im61ge3uVxyNDW7QWZ3KrL0gLMarQHM=s64",
      "userId": "13852652645537005974"
     },
     "user_tz": 420
    },
    "id": "0b97ec81"
   },
   "outputs": [],
   "source": [
    "with open('order_dict.json') as f:\n",
    "    data = json.load(f)\n",
    "with open('capstone_jd_msom_data-minus-click-data/warehouse_capacity.json') as f2:\n",
    "    warehouse_capacity = json.load(f2)"
   ]
  },
  {
   "cell_type": "code",
   "execution_count": null,
   "id": "1b889161",
   "metadata": {},
   "outputs": [],
   "source": []
  },
  {
   "cell_type": "code",
   "execution_count": 3,
   "id": "d244a6c4",
   "metadata": {},
   "outputs": [],
   "source": [
    "capacity = {int(k):v[1] for k, v in warehouse_capacity.items()}"
   ]
  },
  {
   "cell_type": "code",
   "execution_count": 4,
   "id": "8fc98d70",
   "metadata": {},
   "outputs": [
    {
     "data": {
      "text/plain": [
       "{57: 374.0,\n",
       " 43: 3135.0,\n",
       " 42: 3646.0,\n",
       " 66: 139.0,\n",
       " 20: 5329.0,\n",
       " 58: 6226.0,\n",
       " 15: 1429.0,\n",
       " 6: 5177.0,\n",
       " 2: 16037.0,\n",
       " 64: 2164.0,\n",
       " 14: 616.0,\n",
       " 33: 4281.0,\n",
       " 34: 2317.0,\n",
       " 35: 2680.0,\n",
       " 3: 14326.0,\n",
       " 45: 2025.0,\n",
       " 44: 2162.0,\n",
       " 51: 892.0,\n",
       " 63: 973.0,\n",
       " 19: 936.0,\n",
       " 4: 8593.0,\n",
       " 12: 389.0,\n",
       " 28: 4278.0,\n",
       " 5: 21558.0,\n",
       " 13: 666.0,\n",
       " 55: 1549.0,\n",
       " 54: 781.0,\n",
       " 26: 4913.0,\n",
       " 65: 1977.0,\n",
       " 53: 1758.0,\n",
       " 39: 3748.0,\n",
       " 8: 672.0,\n",
       " 46: 2264.0,\n",
       " 31: 4825.0,\n",
       " 67: 996.0,\n",
       " 1: 1030.0,\n",
       " 7: 14975.0,\n",
       " 59: 9066.0,\n",
       " 9: 23580.0,\n",
       " 56: 2214.0,\n",
       " 25: 2038.0,\n",
       " 27: 12200.0,\n",
       " 32: 3112.0,\n",
       " 61: 1236.0,\n",
       " 36: 3499.0,\n",
       " 50: 2292.0,\n",
       " 37: 2513.0,\n",
       " 11: 898.0,\n",
       " 10: 6057.0,\n",
       " 38: 1420.0,\n",
       " 47: 2039.0,\n",
       " 40: 1163.0,\n",
       " 41: 2352.0,\n",
       " 52: 838.0,\n",
       " 24: 5830.0,\n",
       " 21: 743.0}"
      ]
     },
     "execution_count": 4,
     "metadata": {},
     "output_type": "execute_result"
    }
   ],
   "source": [
    "capacity"
   ]
  },
  {
   "cell_type": "code",
   "execution_count": 5,
   "id": "faa5bbbc",
   "metadata": {
    "executionInfo": {
     "elapsed": 282,
     "status": "ok",
     "timestamp": 1647236229459,
     "user": {
      "displayName": "Peng Xu",
      "photoUrl": "https://lh3.googleusercontent.com/a-/AOh14GihYc7h5im61ge3uVxyNDW7QWZ3KrL0gLMarQHM=s64",
      "userId": "13852652645537005974"
     },
     "user_tz": 420
    },
    "id": "faa5bbbc"
   },
   "outputs": [],
   "source": [
    "order_dict = {int(k):pd.DataFrame(v).set_index('day_of_month') for k, v in data.items()}"
   ]
  },
  {
   "cell_type": "code",
   "execution_count": 6,
   "id": "6557eeab",
   "metadata": {},
   "outputs": [],
   "source": [
    "def preprocessing(df_i):\n",
    "    \n",
    "    df = df_i.copy()\n",
    "    df = df.fillna(0)\n",
    "    df.replace(np.inf,0, inplace = True)\n",
    "\n",
    "    # convert data type for categorical features\n",
    "    df['cluster_id'] = df['cluster_id'].astype('object')\n",
    "    df['dc_ori_mode'] = df['dc_ori_mode'].astype('object')\n",
    "    df['day_of_week'] = df['day_of_week'].astype('object')\n",
    "\n",
    "    cat = ['cluster_id','dc_ori_mode','day_of_week']\n",
    "    num = df.drop(cat+['demand'], axis = 1).columns\n",
    "    #print(num)\n",
    "    \n",
    "    \n",
    "    # train test split\n",
    "    df_enc = pd.get_dummies(df, columns = cat, drop_first = True)\n",
    "    train_enc = df_enc.query('1<= day_of_month <= 24')\n",
    "    test_enc = df_enc.query('24 < day_of_month <= 31')\n",
    "\n",
    "    # train = df.query('1<= day_of_month <= 24')\n",
    "    # test = df.query('24 < day_of_month <= 31')\n",
    "\n",
    "    # train_enc = pd.get_dummies(train, columns = cat, drop_first = True)\n",
    "    # test_enc = pd.get_dummies(test, columns = cat)\n",
    "\n",
    "    # print(train_enc.dtypes)\n",
    "    # print(test_enc.dtypes)\n",
    "\n",
    "    # standardize data\n",
    "    scaler = StandardScaler()\n",
    "\n",
    "    # x_train = train_enc[['quantity_discount_rate_mean','day_of_week_3','cluster_id_6','cluster_id_7','cluster_id_8','cluster_id_10','dc_ori_num','dc_ori_mode_7']].to_numpy()\n",
    "    # x_test = test_enc[['quantity_discount_rate_mean','day_of_week_3','cluster_id_6','cluster_id_7','cluster_id_8','cluster_id_10','dc_ori_num','dc_ori_mode_7']]\n",
    "\n",
    "    x_train = train_enc.drop(['demand', 'discount_rate_mean','type_1_percent'], axis = 1).to_numpy() # only remove highest vif column\n",
    "    x_train = scaler.fit_transform(x_train)\n",
    "\n",
    "    y_train = train_enc['demand'].to_numpy().reshape(len(train_enc), 1)\n",
    "\n",
    "\n",
    "    x_test = test_enc.drop(['demand', 'discount_rate_mean','type_1_percent'], axis = 1) \n",
    "    x_test = scaler.fit_transform(x_test)\n",
    "\n",
    "    y_test = test_enc['demand'].to_numpy().reshape(len(test_enc), 1)\n",
    "    \n",
    "    #print(x_train.shape, y_train.shape)\n",
    "    #print(x_test.shape, y_test.shape)\n",
    "\n",
    "    return x_train, y_train, x_test, y_test"
   ]
  },
  {
   "cell_type": "code",
   "execution_count": 7,
   "id": "32206393",
   "metadata": {},
   "outputs": [
    {
     "name": "stdout",
     "output_type": "stream",
     "text": [
      "tensor(-5.0176)\n",
      "tensor(-5.0176)\n"
     ]
    }
   ],
   "source": [
    "def r2_loss(outputs, targets):\n",
    "    target_mean = torch.mean(targets)\n",
    "    ss_tot = torch.sum((targets - target_mean) ** 2)\n",
    "    ss_res = torch.sum((targets - outputs) ** 2)\n",
    "    r2 = 1 - ss_res / ss_tot\n",
    "    return r2\n",
    "\n",
    "def r2_loss_2(outputs, targets):\n",
    "    ss_tot = 0.0\n",
    "    ss_res = 0.0\n",
    "    target_mean = torch.mean(targets)\n",
    "    for i in range(0,len(outputs)):\n",
    "        ss_tot += (targets[i] - target_mean) ** 2\n",
    "        ss_res += (targets[i] - outputs[i]) ** 2\n",
    "    r2 = 1 - ss_res / ss_tot\n",
    "    return r2\n",
    "\n",
    "# TODO: need to work with tensor objects.\n",
    "def SPOLoss (d_pred, d_actual):\n",
    "    # W: items to stock the warehouse\n",
    "    # h: inventory cost\n",
    "    # s: shipping cost\n",
    "    # ci: capacity limit for warehouse i = 1000 (per month)\n",
    "    cost = 0.0\n",
    "    max_capacity = capacity_i / 31 # capacity_i is defined outside of this function\n",
    "    for i in range(0, len(d_pred)):\n",
    "        if d_pred[i] <= max_capacity:\n",
    "            w = d_pred[i]\n",
    "        else:\n",
    "            w = max_capacity\n",
    "        if w > d_actual[i]:\n",
    "            h = 2.920 * (w - d_actual[i])  # average inventory cost per sku * (w - target)\n",
    "            s = 0\n",
    "        else:\n",
    "            h = 0\n",
    "            s = 0.803 * (d_actual[i] - w)\n",
    "        cost += h + s\n",
    "    return cost\n",
    "\n",
    "def SPO_MSE_Loss(d_pred, d_actual):\n",
    "    spo_loss = SPOLoss(d_pred, d_actual)\n",
    "    mse_loss = 0.0\n",
    "    for i in range(0, len(d_pred)):\n",
    "        mse_loss += (d_pred[i] - d_actual[i]) ** 2\n",
    "    mse_loss = mse_loss / len(d_pred)\n",
    "    # mse_loss = sum((d_pred - d_actual) ** 2) / len(d_pred)    # don't use this, because d_pred can is 1*N dimention but d_actual can be N*1 dimension\n",
    "    return spo_loss + 0.1 * mse_loss\n",
    " \n",
    "# print(torch.Tensor.float(1.0))\n",
    "outputs = torch.randn(5)\n",
    "targets = torch.randn(5)\n",
    "# print(outputs.size())\n",
    "# for i in range(0,len(outputs)):\n",
    "#   print(2)\n",
    "print(r2_loss(outputs,targets))\n",
    "print(r2_loss_2(outputs,targets))\n",
    "#print(SPOLoss(outputs,targets))\n",
    "# print(torch.randn(5))\n",
    "# print(SPOLoss(1, 2))"
   ]
  },
  {
   "cell_type": "code",
   "execution_count": 8,
   "id": "d696570d",
   "metadata": {},
   "outputs": [],
   "source": [
    "# define model structure\n",
    "class linearRegression(torch.nn.Module):\n",
    "    def __init__(self, inputSize, outputSize):\n",
    "        super(linearRegression, self).__init__()\n",
    "        self.linear = torch.nn.Linear(inputSize, outputSize)\n",
    "\n",
    "    def forward(self, x):\n",
    "        out = self.linear(x)\n",
    "        return out"
   ]
  },
  {
   "cell_type": "code",
   "execution_count": 9,
   "id": "a142e18e",
   "metadata": {
    "colab": {
     "base_uri": "https://localhost:8080/",
     "height": 1000
    },
    "executionInfo": {
     "elapsed": 1341,
     "status": "ok",
     "timestamp": 1647244512390,
     "user": {
      "displayName": "Peng Xu",
      "photoUrl": "https://lh3.googleusercontent.com/a-/AOh14GihYc7h5im61ge3uVxyNDW7QWZ3KrL0gLMarQHM=s64",
      "userId": "13852652645537005974"
     },
     "user_tz": 420
    },
    "id": "a142e18e",
    "outputId": "d8e7987d-40ba-4d35-aa11-58399b13dc29"
   },
   "outputs": [],
   "source": [
    "# define training and evaluation functions\n",
    "\n",
    "def predict(model, x):\n",
    "    \n",
    "    \"\"\"\n",
    "    takes in a pytorch model and a matrix of features\n",
    "    return a list of predictions\n",
    "    \"\"\"\n",
    "    \n",
    "    with torch.no_grad(): # we don't need gradients in the testing phase\n",
    "    # if torch.cuda.is_available():\n",
    "    #     pred_y_train = model(Variable(torch.from_numpy(x_train).float().cuda())).cpu().data.numpy()\n",
    "    # else:\n",
    "    #     pred_y_train = model(Variable(torch.from_numpy(x_train).float())).data.numpy()\n",
    "        pred_y = model(Variable(torch.from_numpy(x).float())).data.numpy()\n",
    "        pred_y = [pred_y[x].item() for x in range(len(pred_y))]\n",
    "    return pred_y\n",
    "\n",
    "def linearRegressionTrain(x_train, y_train, learningRate, epochs, loss_type = 'MSE', regularize = 'None', l1_penalty = 0, l2_penalty = 0, plot = True, verbose = True):\n",
    "    \"\"\"\n",
    "    input: \n",
    "        - x_train whose type is numpy.ndarray\n",
    "        - y_train whose type is numpy.ndarray\n",
    "        - learningRate\n",
    "        - epochs\n",
    "        - regularization can be either \"None\" or \"l1\" or \"l2\", default is none\n",
    "        - loss_type can be either \"MSE\" or \"SPO\" or \"SPO_MSE\", default is 'MSE'\n",
    "        - plot: whether you want to plot the loss against epochs, default is True\n",
    "        \n",
    "    output:\n",
    "        trained pytorch linear regression model\n",
    "    \"\"\"\n",
    "    _, inputDim = x_train.shape\n",
    "    outputDim = 1       # takes variable 'y'\n",
    "    \n",
    "    loss_list = []\n",
    "\n",
    "    model = linearRegression(inputDim, outputDim)\n",
    "    \n",
    "    ##### For GPU #######\n",
    "    # if torch.cuda.is_available():\n",
    "    #     model.cuda()\n",
    "    \n",
    "    # initialize the loss function and optimizer\n",
    "    if loss_type == 'MSE': \n",
    "        \n",
    "        criterion = torch.nn.MSELoss()  \n",
    "        # criterion = r2_loss\n",
    "        \n",
    "        if regularize == 'None' or regularize == 'l1':\n",
    "            optimizer = torch.optim.SGD(model.parameters(), lr=learningRate)\n",
    "        else: # regularize = 'l2'\n",
    "            optimizer = torch.optim.SGD(model.parameters(),weight_decay = l2_penalty, lr=learningRate)\n",
    "            \n",
    "    elif loss_type == 'SPO': # change loss function and switch to adam optimizer\n",
    "        \n",
    "        criterion = SPOLoss\n",
    "        \n",
    "        if regularize == 'None' or regularize == 'l1':\n",
    "            optimizer = torch.optim.Adam(model.parameters(), lr=learningRate)\n",
    "        else: # regularize = 'l2'\n",
    "            optimizer = torch.optim.Adam(model.parameters(),weight_decay = l2_penalty, lr=learningRate)\n",
    "\n",
    "    elif loss_type == 'SPO_MSE': # change loss function and switch to adam optimizer\n",
    "        \n",
    "        criterion = SPO_MSE_Loss\n",
    "        \n",
    "        if regularize == 'None' or regularize == 'l1':\n",
    "            optimizer = torch.optim.Adam(model.parameters(), lr=learningRate)\n",
    "        else: # regularize = 'l2'\n",
    "            optimizer = torch.optim.Adam(model.parameters(),weight_decay = l2_penalty, lr=learningRate)\n",
    "\n",
    "    else:\n",
    "        raise Exception('wrong loss_type')\n",
    "        \n",
    "    # model training\n",
    "\n",
    "    for epoch in range(epochs):\n",
    "        # Converting inputs and labels to Variable\n",
    "        # if torch.cuda.is_available():\n",
    "        #     inputs = Variable(torch.from_numpy(x_train).cuda())\n",
    "        #     labels = Variable(torch.from_numpy(y_train).cuda())\n",
    "        # else:\n",
    "        #     inputs = Variable(torch.from_numpy(x_train))\n",
    "        #     labels = Variable(torch.from_numpy(y_train))\n",
    "        inputs = Variable(torch.from_numpy(x_train))\n",
    "        labels = Variable(torch.from_numpy(y_train))\n",
    "\n",
    "        # Clear gradient buffers because we don't want any gradient from previous epoch to carry forward, dont want to cummulate gradients\n",
    "        optimizer.zero_grad()\n",
    "\n",
    "        # get output from the model, given the inputs\n",
    "        outputs = model(inputs.type(torch.FloatTensor))\n",
    "\n",
    "        # get loss for the predicted output\n",
    "        loss = criterion(outputs, labels.type(torch.FloatTensor))\n",
    "        \n",
    "        if regularize == 'l1':\n",
    "            l1_norm = l1_penalty * torch.norm(model.linear.weight, p=1) # double check\n",
    "            loss += l1_norm\n",
    "            \n",
    "        # get gradients w.r.t to parameters\n",
    "        loss.backward()\n",
    "\n",
    "        # update parameters\n",
    "        optimizer.step()\n",
    "\n",
    "        # store loss\n",
    "        loss_list.append(loss.data)\n",
    "\n",
    "        # print loss\n",
    "        #if(epoch % 100 == 0):\n",
    "            #print('epoch {}, loss {}'.format(epoch, loss.data))\n",
    "    \n",
    "    if plot:\n",
    "        plt.plot(range(epochs),loss_list)\n",
    "        plt.xlabel(\"Number of Iterations\")\n",
    "        plt.ylabel(\"Loss\")\n",
    "        plt\n",
    "        \n",
    "    if verbose:\n",
    "        print('model trained using {} loss'.format(loss_type))\n",
    "        # bias b (offset or y-intercept)\n",
    "        print('y-intercept ', model.linear.bias.item())\n",
    "        # weight (w)\n",
    "        print('Coefficients ',  model.linear.weight.detach().numpy())\n",
    "    \n",
    "        pred_y_train = predict(model, x_train)\n",
    "        \n",
    "        print(\"Train MSE =\",mean_squared_error(y_train,pred_y_train))\n",
    "        print('Train R^2 =', r2_score(y_train, pred_y_train)) \n",
    "        print('Train SPO Loss =', SPOLoss(pred_y_train, y_train))\n",
    "\n",
    "    return model\n",
    "\n",
    "\n",
    "def generate_scores(y_true, y_pred):\n",
    "    MSE = mean_squared_error(y_true, y_pred)\n",
    "    R2 = r2_score(y_true, y_pred)\n",
    "    SPO = SPOLoss(y_pred, y_true)\n",
    "    SPO_mean = SPO / len(y_pred)\n",
    "    SPO_MSE = SPO_MSE_Loss(y_pred, y_true)\n",
    "    SPO_MSE_mean = SPO_MSE / len(y_pred)\n",
    "    #print(\"Train MSE =\", MSE)\n",
    "    #print('Train R^2 =', R2) \n",
    "    #print('Train SPO Loss =', SPO)\n",
    "    return pd.DataFrame({'MSE': MSE, 'R^2': R2, 'SPO Loss': SPO, 'SPO_MSE_Weighted_Loss':SPO_MSE, 'SPO_MSE_Weighted_Loss Ave': SPO_MSE_mean, 'SPO Loss Ave': SPO_mean})\n",
    "\n",
    "def evaluation(model, x_train, x_test, y_train, y_test, plot = True):\n",
    "    \n",
    "    \"\"\"\n",
    "    this function only works for pytorch model\n",
    "    \n",
    "    return a 2x4 dataframe: \n",
    "        - one row for training set, the other row for testing\n",
    "        - 4 columns are 4 scores: MSE, R2, SPO, SPO Ave\n",
    "    \"\"\"\n",
    "\n",
    "    pred_y_train = predict(model, x_train)\n",
    "    pred_y_test = predict(model, x_test)\n",
    "\n",
    "    # Comparing Actual and predicted values\n",
    "    if plot:\n",
    "        plt.figure(figsize=(7,7))\n",
    "        plt.scatter(y_train, pred_y_train, c='b', s=10)\n",
    "        plt.xlabel('Train Actual Demand'), plt.ylabel('Train Predicted Demand');\n",
    "        lim = 100\n",
    "        x = y = range(lim)\n",
    "        plt.plot(x,y, c='brown')\n",
    "        plt.xlim(0,lim), plt.ylim(0,lim);\n",
    "        plt\n",
    "\n",
    "        plt.figure(figsize=(7,7))\n",
    "        plt.scatter(y_test, pred_y_test, c='b', s=10)\n",
    "        plt.xlabel('Test Actual Demand'), plt.ylabel('Test Predicted Demand');\n",
    "        lim = 100\n",
    "        x = y = range(lim)\n",
    "        plt.plot(x,y, c='brown')\n",
    "        plt.xlim(0,lim), plt.ylim(0,lim);\n",
    "        plt\n",
    "\n",
    "    score_df = pd.concat([generate_scores(y_train, pred_y_train), generate_scores(y_test, pred_y_test)])\n",
    "    score_df.index = ['train', 'test']\n",
    "    \n",
    "    return score_df"
   ]
  },
  {
   "cell_type": "code",
   "execution_count": 10,
   "id": "d86ba545",
   "metadata": {},
   "outputs": [],
   "source": [
    "import timeit\n",
    "def cross_validate(x_train, y_train, loss_type, regularize, plot = True):\n",
    "    \n",
    "    # return the best penalty coefficient that minimize average validation error\n",
    "    start = timeit.default_timer()\n",
    "    \n",
    "    aveloss = dict()\n",
    "    kfold = KFold(n_splits = 5)\n",
    "    \n",
    "    if loss_type == 'MSE':\n",
    "        learningRate = 0.02\n",
    "        epochs = 501\n",
    "        grid = np.linspace(0,0.5,11) if regularize == 'l2' else np.linspace(0,1,11)\n",
    "        \n",
    "    elif loss_type == 'SPO':\n",
    "        learningRate = 0.05\n",
    "        epochs = 301\n",
    "        grid = np.linspace(0,5,6) if regularize == 'l2' else np.linspace(0,10,6)\n",
    "        \n",
    "\n",
    "    if regularize == 'l2':\n",
    "        \n",
    "        for i in grid:\n",
    "            loss = 0\n",
    "            \n",
    "            for train_index, test_index in kfold.split(x_train, y_train):\n",
    "                x_train_fold = x_train[train_index]\n",
    "                y_train_fold = y_train[train_index]\n",
    "                x_test_fold = x_train[test_index]\n",
    "                y_test_fold = y_train[test_index]\n",
    "\n",
    "                model_i = linearRegressionTrain(x_train_fold, y_train_fold, learningRate, epochs, loss_type, regularize, l2_penalty = i, plot = False, verbose = False)\n",
    "\n",
    "                pred_y_validate = predict(model_i, x_test_fold)\n",
    "                \n",
    "                loss_i = generate_scores(y_test_fold, pred_y_validate)['MSE'][0] if loss_type == 'MSE' else  generate_scores(y_test_fold, pred_y_validate)['SPO Loss'][0]\n",
    "                loss += loss_i\n",
    "                \n",
    "            aveloss[i]  = loss / 5\n",
    "            #print(i)\n",
    "            \n",
    "    elif regularize == 'l1':\n",
    "        \n",
    "        for i in grid:\n",
    "            loss = 0\n",
    "            \n",
    "            for train_index, test_index in kfold.split(x_train, y_train):\n",
    "                x_train_fold = x_train[train_index]\n",
    "                y_train_fold = y_train[train_index]\n",
    "                x_test_fold = x_train[test_index]\n",
    "                y_test_fold = y_train[test_index]\n",
    "\n",
    "                model_i = linearRegressionTrain(x_train_fold, y_train_fold, learningRate, epochs, loss_type, regularize, l1_penalty = i, plot = False, verbose = False)\n",
    "\n",
    "                pred_y_validate = predict(model_i, x_test_fold)\n",
    "                \n",
    "                loss_i = generate_scores(y_test_fold, pred_y_validate)['MSE'][0] if loss_type == 'MSE' else  generate_scores(y_test_fold, pred_y_validate)['SPO Loss'][0]\n",
    "                loss += loss_i\n",
    "                \n",
    "            aveloss[i]  = loss / 5\n",
    "    else:\n",
    "        raise Exception('wrong regularization type')\n",
    "        \n",
    "    if plot:\n",
    "        plt.plot(aveloss.keys(), aveloss.values())\n",
    "        plt.xlabel('penalty coefficient')\n",
    "        plt.ylabel('average {} error on validation sets'.format(loss_type))\n",
    "        plt.title('Cross Validation for {} Regularization'.format(regularize))\n",
    "        plt.show()\n",
    "        \n",
    "    best = min(aveloss, key = aveloss.get)\n",
    "    print('The best penalty coefficient is '+ str(best))\n",
    "    \n",
    "    stop = timeit.default_timer()\n",
    "    print('Time: ', stop - start)  \n",
    "    return best"
   ]
  },
  {
   "cell_type": "code",
   "execution_count": 11,
   "id": "17423fbe",
   "metadata": {},
   "outputs": [],
   "source": [
    "i = 3\n",
    "x_train, y_train, x_test, y_test = preprocessing(order_dict[i])\n",
    "capacity_i = capacity[i] if i in capacity.keys() else pd.Series(capacity).mean()"
   ]
  },
  {
   "cell_type": "code",
   "execution_count": 12,
   "id": "f96156b5",
   "metadata": {},
   "outputs": [],
   "source": [
    "#cross_validate(x_train, y_train, 'MSE', 'l2')"
   ]
  },
  {
   "cell_type": "code",
   "execution_count": 13,
   "id": "da87a468",
   "metadata": {},
   "outputs": [],
   "source": [
    "#cross_validate(x_train, y_train, 'MSE', 'l1')"
   ]
  },
  {
   "cell_type": "code",
   "execution_count": 14,
   "id": "6f102738",
   "metadata": {},
   "outputs": [],
   "source": [
    "#cross_validate(x_train, y_train, 'SPO', 'l2')"
   ]
  },
  {
   "cell_type": "code",
   "execution_count": 15,
   "id": "c1452b3a",
   "metadata": {},
   "outputs": [],
   "source": [
    "#cross_validate(x_train, y_train, 'SPO', 'l1')"
   ]
  },
  {
   "cell_type": "markdown",
   "id": "d67e1c24",
   "metadata": {},
   "source": [
    "## MSE loss models"
   ]
  },
  {
   "cell_type": "markdown",
   "id": "38f36f6d",
   "metadata": {},
   "source": [
    "### MSE loss model training"
   ]
  },
  {
   "cell_type": "code",
   "execution_count": 16,
   "id": "aa517e1a",
   "metadata": {},
   "outputs": [
    {
     "name": "stdout",
     "output_type": "stream",
     "text": [
      "model trained using MSE loss\n",
      "y-intercept  13.838532447814941\n",
      "Coefficients  [[ 0.3078934  -0.19107021 -0.19814631  0.7083689   0.220008    0.36287886\n",
      "   0.21296798  1.3468022   0.94522524 -0.6984909   0.00845467  2.521112\n",
      "   1.1227063   0.99478346  6.4637933  -2.2449176   2.0348039   1.3085676\n",
      "  -0.5386305   6.8908997   1.737028   -1.4001608  -2.4001567  -0.5527562\n",
      "  -1.6491722  -0.01577971 -0.5179199  -0.6813105   0.44675824  0.47866976\n",
      "  -0.1935405   1.1145138   1.0673766   0.538708   -0.01072267 -0.79925764]]\n",
      "Train MSE = 43.72471256578421\n",
      "Train R^2 = 0.7712494276828393\n",
      "Train SPO Loss = [1710.14782457]\n"
     ]
    },
    {
     "data": {
      "image/png": "[encoded data removed]",
      "text/plain": [
       "<Figure size 432x288 with 1 Axes>"
      ]
     },
     "metadata": {
      "needs_background": "light"
     },
     "output_type": "display_data"
    }
   ],
   "source": [
    "# ols model training\n",
    "\n",
    "learningRate = 0.02\n",
    "epochs = 501\n",
    "\n",
    "model_ols = linearRegressionTrain(x_train, y_train, learningRate, epochs,'MSE','None')"
   ]
  },
  {
   "cell_type": "code",
   "execution_count": 17,
   "id": "dfe69765",
   "metadata": {
    "scrolled": true
   },
   "outputs": [
    {
     "data": {
      "image/png": "[encoded data removed]",
      "text/plain": [
       "<Figure size 432x288 with 1 Axes>"
      ]
     },
     "metadata": {
      "needs_background": "light"
     },
     "output_type": "display_data"
    },
    {
     "name": "stdout",
     "output_type": "stream",
     "text": [
      "The best penalty coefficient is 0.15000000000000002\n",
      "Time:  10.391608064\n",
      "model trained using MSE loss\n",
      "y-intercept  12.873053550720215\n",
      "Coefficients  [[ 0.34263432  0.06393147 -0.07979822  0.6112578   0.15318274  0.41704902\n",
      "   0.16769904  0.5927535   0.66314197 -0.84072363  0.37017274  2.1818185\n",
      "   0.712468    0.6470762   5.434514   -1.9361153   2.324317    0.55317444\n",
      "  -0.930611    6.194454    1.4630159  -1.1404741  -2.1956825  -0.7986935\n",
      "  -1.1527323   0.04598478 -0.4717171  -0.60206616  0.5343753   0.32840845\n",
      "  -0.16858907  0.939102    0.9499379   0.39242247 -0.06329697 -0.8125722 ]]\n",
      "Train MSE = 45.894148595889106\n",
      "Train R^2 = 0.7598997879854865\n",
      "Train SPO Loss = [1493.76667332]\n"
     ]
    },
    {
     "data": {
      "image/png": "[encoded data removed]",
      "text/plain": [
       "<Figure size 432x288 with 1 Axes>"
      ]
     },
     "metadata": {
      "needs_background": "light"
     },
     "output_type": "display_data"
    }
   ],
   "source": [
    "# ridge regression (l2 regrularization)\n",
    "\n",
    "learningRate = 0.02\n",
    "epochs = 501\n",
    "\n",
    "# model training \n",
    "\n",
    "best_l2 = cross_validate(x_train, y_train, 'MSE', 'l2')\n",
    "model_ridge = linearRegressionTrain(x_train, y_train, learningRate, epochs,'MSE','l2', l2_penalty = best_l2)"
   ]
  },
  {
   "cell_type": "code",
   "execution_count": 18,
   "id": "ff26e800",
   "metadata": {},
   "outputs": [
    {
     "data": {
      "image/png": "[encoded data removed]",
      "text/plain": [
       "<Figure size 432x288 with 1 Axes>"
      ]
     },
     "metadata": {
      "needs_background": "light"
     },
     "output_type": "display_data"
    },
    {
     "name": "stdout",
     "output_type": "stream",
     "text": [
      "The best penalty coefficient is 0.8\n",
      "Time:  14.896831101000004\n",
      "model trained using MSE loss\n",
      "y-intercept  13.838532447814941\n",
      "Coefficients  [[-1.1412450e-03  1.3563287e-02  6.5867626e-03  4.4222480e-01\n",
      "  -1.0767134e-02  1.9168778e-01  3.9352318e-03 -1.1635858e-02\n",
      "   1.7986864e-02 -9.0064161e-02 -1.8609527e-03  1.3057604e+00\n",
      "  -1.8364113e-02  1.8605527e-02  6.2399888e+00 -3.9734796e-01\n",
      "   3.0105481e+00  5.4314572e-01 -3.5689884e-01  6.4317288e+00\n",
      "   2.3125808e+00 -3.7938424e-03 -1.0289383e+00 -3.2584846e-01\n",
      "   2.2861283e-04 -3.6833363e-03 -1.8694465e-01 -1.7374068e-01\n",
      "   1.6011079e-01  9.2725560e-02 -1.7241452e-02  4.8406765e-01\n",
      "   3.7138331e-01 -6.2337760e-03 -9.6760038e-04 -6.7938083e-01]]\n",
      "Train MSE = 48.78445982545705\n",
      "Train R^2 = 0.7447788115595428\n",
      "Train SPO Loss = [1765.0527143]\n"
     ]
    },
    {
     "data": {
      "image/png": "[encoded data removed]",
      "text/plain": [
       "<Figure size 432x288 with 1 Axes>"
      ]
     },
     "metadata": {
      "needs_background": "light"
     },
     "output_type": "display_data"
    }
   ],
   "source": [
    "# l1 regularization (lasso) - penalty coefficient set to be 0.1\n",
    "\n",
    "learningRate = 0.02\n",
    "epochs = 501\n",
    "\n",
    "best_l1 = cross_validate(x_train, y_train, 'MSE', 'l1')\n",
    "model_lasso = linearRegressionTrain(x_train, y_train, learningRate, epochs,'MSE', 'l1', l1_penalty = best_l1)"
   ]
  },
  {
   "cell_type": "markdown",
   "id": "b90a18a2",
   "metadata": {},
   "source": [
    "### MSE loss model evaluation"
   ]
  },
  {
   "cell_type": "code",
   "execution_count": 19,
   "id": "120d4a31",
   "metadata": {},
   "outputs": [
    {
     "data": {
      "text/html": [
       "<div>\n",
       "<style scoped>\n",
       "    .dataframe tbody tr th:only-of-type {\n",
       "        vertical-align: middle;\n",
       "    }\n",
       "\n",
       "    .dataframe tbody tr th {\n",
       "        vertical-align: top;\n",
       "    }\n",
       "\n",
       "    .dataframe thead th {\n",
       "        text-align: right;\n",
       "    }\n",
       "</style>\n",
       "<table border=\"1\" class=\"dataframe\">\n",
       "  <thead>\n",
       "    <tr style=\"text-align: right;\">\n",
       "      <th></th>\n",
       "      <th></th>\n",
       "      <th>MSE</th>\n",
       "      <th>R^2</th>\n",
       "      <th>SPO Loss</th>\n",
       "      <th>SPO Loss Ave</th>\n",
       "    </tr>\n",
       "  </thead>\n",
       "  <tbody>\n",
       "    <tr>\n",
       "      <th rowspan=\"2\" valign=\"top\">mse_ols</th>\n",
       "      <th>train</th>\n",
       "      <td>43.724713</td>\n",
       "      <td>0.771249</td>\n",
       "      <td>1710.147825</td>\n",
       "      <td>8.907020</td>\n",
       "    </tr>\n",
       "    <tr>\n",
       "      <th>test</th>\n",
       "      <td>221.016194</td>\n",
       "      <td>0.589767</td>\n",
       "      <td>506.942417</td>\n",
       "      <td>8.592244</td>\n",
       "    </tr>\n",
       "    <tr>\n",
       "      <th rowspan=\"2\" valign=\"top\">mse_ridge</th>\n",
       "      <th>train</th>\n",
       "      <td>45.894149</td>\n",
       "      <td>0.759900</td>\n",
       "      <td>1493.766673</td>\n",
       "      <td>7.780035</td>\n",
       "    </tr>\n",
       "    <tr>\n",
       "      <th>test</th>\n",
       "      <td>253.067885</td>\n",
       "      <td>0.530275</td>\n",
       "      <td>518.852746</td>\n",
       "      <td>8.794114</td>\n",
       "    </tr>\n",
       "    <tr>\n",
       "      <th rowspan=\"2\" valign=\"top\">mse_lasso</th>\n",
       "      <th>train</th>\n",
       "      <td>48.784460</td>\n",
       "      <td>0.744779</td>\n",
       "      <td>1765.052714</td>\n",
       "      <td>9.192983</td>\n",
       "    </tr>\n",
       "    <tr>\n",
       "      <th>test</th>\n",
       "      <td>242.087701</td>\n",
       "      <td>0.550656</td>\n",
       "      <td>527.910712</td>\n",
       "      <td>8.947639</td>\n",
       "    </tr>\n",
       "  </tbody>\n",
       "</table>\n",
       "</div>"
      ],
      "text/plain": [
       "                        MSE       R^2     SPO Loss  SPO Loss Ave\n",
       "mse_ols   train   43.724713  0.771249  1710.147825      8.907020\n",
       "          test   221.016194  0.589767   506.942417      8.592244\n",
       "mse_ridge train   45.894149  0.759900  1493.766673      7.780035\n",
       "          test   253.067885  0.530275   518.852746      8.794114\n",
       "mse_lasso train   48.784460  0.744779  1765.052714      9.192983\n",
       "          test   242.087701  0.550656   527.910712      8.947639"
      ]
     },
     "execution_count": 19,
     "metadata": {},
     "output_type": "execute_result"
    }
   ],
   "source": [
    "# compile results for models trained on MSE loss\n",
    "MSE_result = []\n",
    "\n",
    "for model, name in zip([model_ols, model_ridge, model_lasso],['mse_ols','mse_ridge','mse_lasso']):\n",
    "    score_df = evaluation(model, x_train, x_test, y_train, y_test, plot = False)\n",
    "    MSE_result.append(pd.concat({name:score_df}))\n",
    "    \n",
    "MSE_scores = pd.concat([MSE_result[0], MSE_result[1],MSE_result[2]])\n",
    "MSE_scores"
   ]
  },
  {
   "cell_type": "markdown",
   "id": "eedf5884",
   "metadata": {},
   "source": [
    "## SPO loss models"
   ]
  },
  {
   "cell_type": "markdown",
   "id": "e5bed1a9",
   "metadata": {},
   "source": [
    "### SPO loss model training"
   ]
  },
  {
   "cell_type": "code",
   "execution_count": 20,
   "id": "7c79bdd2",
   "metadata": {},
   "outputs": [
    {
     "name": "stderr",
     "output_type": "stream",
     "text": [
      "/usr/local/lib/python3.9/site-packages/numpy/core/shape_base.py:65: FutureWarning: The input object of type 'Tensor' is an array-like implementing one of the corresponding protocols (`__array__`, `__array_interface__` or `__array_struct__`); but not a sequence (or 0-D). In the future, this object will be coerced as if it was first converted using `np.array(obj)`. To retain the old behaviour, you have to either modify the type 'Tensor', or assign to an empty array created with `np.empty(correct_shape, dtype=object)`.\n",
      "  ary = asanyarray(ary)\n",
      "/usr/local/lib/python3.9/site-packages/numpy/core/shape_base.py:65: VisibleDeprecationWarning: Creating an ndarray from ragged nested sequences (which is a list-or-tuple of lists-or-tuples-or ndarrays with different lengths or shapes) is deprecated. If you meant to do this, you must specify 'dtype=object' when creating the ndarray.\n",
      "  ary = asanyarray(ary)\n"
     ]
    },
    {
     "name": "stdout",
     "output_type": "stream",
     "text": [
      "model trained using SPO loss\n",
      "y-intercept  9.471031188964844\n",
      "Coefficients  [[-3.1487286e-01 -4.3638736e-01 -4.3062994e-01  3.2471099e-01\n",
      "  -1.0139402e-03  3.2728606e-01  3.8130319e-01 -7.6773755e-02\n",
      "  -3.5879880e-01 -5.0351560e-01 -2.3518595e-01  5.6453937e-01\n",
      "   3.0908313e-01 -6.5455461e-01  4.9858775e+00 -6.8590319e-01\n",
      "   1.2850791e+00  1.0684723e+00 -1.1427641e-01  5.7976937e+00\n",
      "   1.9548630e+00 -4.1426301e-01 -9.4650590e-01 -6.3168079e-01\n",
      "  -6.0209066e-01  1.6213244e-01 -2.4267131e-01 -1.4216162e-01\n",
      "   1.0823193e+00 -2.4461193e-01 -2.4523064e-01  3.6075482e-01\n",
      "   2.6954398e-01  3.2005557e-01  2.1944055e-01 -7.6757506e-02]]\n",
      "Train MSE = 80.70473561434359\n",
      "Train R^2 = 0.5777844295097168\n",
      "Train SPO Loss = [982.30435917]\n"
     ]
    },
    {
     "data": {
      "image/png": "[encoded data removed]",
      "text/plain": [
       "<Figure size 432x288 with 1 Axes>"
      ]
     },
     "metadata": {
      "needs_background": "light"
     },
     "output_type": "display_data"
    }
   ],
   "source": [
    "# ols\n",
    "\n",
    "learningRate = 0.05\n",
    "epochs = 501\n",
    "\n",
    "# model training\n",
    "model_ols2 = linearRegressionTrain(x_train, y_train, learningRate, epochs,'SPO','None')"
   ]
  },
  {
   "cell_type": "code",
   "execution_count": 21,
   "id": "df4d1e32",
   "metadata": {},
   "outputs": [
    {
     "data": {
      "image/png": "[encoded data removed]",
      "text/plain": [
       "<Figure size 432x288 with 1 Axes>"
      ]
     },
     "metadata": {
      "needs_background": "light"
     },
     "output_type": "display_data"
    },
    {
     "name": "stdout",
     "output_type": "stream",
     "text": [
      "The best penalty coefficient is 4.0\n",
      "Time:  111.26229416799998\n"
     ]
    },
    {
     "name": "stderr",
     "output_type": "stream",
     "text": [
      "/usr/local/lib/python3.9/site-packages/numpy/core/shape_base.py:65: FutureWarning: The input object of type 'Tensor' is an array-like implementing one of the corresponding protocols (`__array__`, `__array_interface__` or `__array_struct__`); but not a sequence (or 0-D). In the future, this object will be coerced as if it was first converted using `np.array(obj)`. To retain the old behaviour, you have to either modify the type 'Tensor', or assign to an empty array created with `np.empty(correct_shape, dtype=object)`.\n",
      "  ary = asanyarray(ary)\n",
      "/usr/local/lib/python3.9/site-packages/numpy/core/shape_base.py:65: VisibleDeprecationWarning: Creating an ndarray from ragged nested sequences (which is a list-or-tuple of lists-or-tuples-or ndarrays with different lengths or shapes) is deprecated. If you meant to do this, you must specify 'dtype=object' when creating the ndarray.\n",
      "  ary = asanyarray(ary)\n"
     ]
    },
    {
     "name": "stdout",
     "output_type": "stream",
     "text": [
      "model trained using SPO loss\n",
      "y-intercept  8.184385299682617\n",
      "Coefficients  [[-1.40951291e-01 -2.37671301e-01 -3.19828480e-01  2.30489239e-01\n",
      "  -1.20689953e-03  7.81154335e-02  2.46081725e-01 -1.31047055e-01\n",
      "   4.44494076e-02 -3.70332658e-01  1.17169708e-01  5.61973631e-01\n",
      "   2.98299372e-01 -7.91793764e-02  3.13760185e+00 -8.83832157e-01\n",
      "   1.48995829e+00  4.02166128e-01 -4.43379641e-01  5.25500441e+00\n",
      "   7.62389004e-01  1.22541033e-01 -1.03305566e+00 -6.43173456e-01\n",
      "  -2.65839666e-01  2.02904806e-01 -2.52630264e-01 -1.99245717e-02\n",
      "  -2.21518636e-01 -1.72575772e-01 -6.82232156e-02  2.92454839e-01\n",
      "   1.07568376e-01  2.47403175e-01  2.34177038e-01  4.77765091e-02]]\n",
      "Train MSE = 107.51792678741982\n",
      "Train R^2 = 0.4375083140918583\n",
      "Train SPO Loss = [1028.37225648]\n"
     ]
    },
    {
     "data": {
      "image/png": "[encoded data removed]",
      "text/plain": [
       "<Figure size 432x288 with 1 Axes>"
      ]
     },
     "metadata": {
      "needs_background": "light"
     },
     "output_type": "display_data"
    }
   ],
   "source": [
    "# ridge regression (l2 regrularization)\n",
    "\n",
    "learningRate = 0.05\n",
    "epochs = 501\n",
    "\n",
    "# model training\n",
    "best_l2_spo = cross_validate(x_train, y_train, 'SPO', 'l2')\n",
    "model_ridge2 = linearRegressionTrain(x_train, y_train, learningRate, epochs,'SPO','l2', l2_penalty = best_l2_spo)"
   ]
  },
  {
   "cell_type": "code",
   "execution_count": 22,
   "id": "ee8d1a54",
   "metadata": {},
   "outputs": [
    {
     "data": {
      "image/png": "[encoded data removed]",
      "text/plain": [
       "<Figure size 432x288 with 1 Axes>"
      ]
     },
     "metadata": {
      "needs_background": "light"
     },
     "output_type": "display_data"
    },
    {
     "name": "stdout",
     "output_type": "stream",
     "text": [
      "The best penalty coefficient is 0.7000000000000001\n",
      "Time:  11.045101346000024\n",
      "model trained using SPO loss\n",
      "y-intercept  9.411511421203613\n",
      "Coefficients  [[-2.20327914e-01 -4.05242652e-01 -4.33989316e-01  3.05483580e-01\n",
      "   1.94459478e-03  1.50126040e-01  2.92483360e-01  6.65450618e-02\n",
      "  -4.24954016e-03 -3.98153901e-01 -1.99847315e-02  6.52740240e-01\n",
      "   2.95797229e-01 -2.37882406e-01  4.60394621e+00 -8.33721042e-01\n",
      "   1.40523124e+00  7.70425737e-01 -2.98912376e-01  5.61319923e+00\n",
      "   1.56273019e+00 -2.59251148e-01 -1.09379435e+00 -6.05494499e-01\n",
      "  -2.88170218e-01  2.10172072e-01 -2.64995664e-01 -1.10265456e-01\n",
      "   9.92158949e-01 -1.16512805e-01 -2.65413582e-01  2.47981489e-01\n",
      "   6.26615435e-02  2.07239836e-01  8.15757439e-02 -1.19460881e-01]]\n",
      "Train MSE = 82.73630859255987\n",
      "Train R^2 = 0.5671560353087972\n",
      "Train SPO Loss = [983.10011449]\n"
     ]
    },
    {
     "name": "stderr",
     "output_type": "stream",
     "text": [
      "/usr/local/lib/python3.9/site-packages/numpy/core/shape_base.py:65: FutureWarning: The input object of type 'Tensor' is an array-like implementing one of the corresponding protocols (`__array__`, `__array_interface__` or `__array_struct__`); but not a sequence (or 0-D). In the future, this object will be coerced as if it was first converted using `np.array(obj)`. To retain the old behaviour, you have to either modify the type 'Tensor', or assign to an empty array created with `np.empty(correct_shape, dtype=object)`.\n",
      "  ary = asanyarray(ary)\n",
      "/usr/local/lib/python3.9/site-packages/numpy/core/shape_base.py:65: VisibleDeprecationWarning: Creating an ndarray from ragged nested sequences (which is a list-or-tuple of lists-or-tuples-or ndarrays with different lengths or shapes) is deprecated. If you meant to do this, you must specify 'dtype=object' when creating the ndarray.\n",
      "  ary = asanyarray(ary)\n"
     ]
    },
    {
     "data": {
      "image/png": "[encoded data removed]",
      "text/plain": [
       "<Figure size 432x288 with 1 Axes>"
      ]
     },
     "metadata": {
      "needs_background": "light"
     },
     "output_type": "display_data"
    }
   ],
   "source": [
    "# l1 regularization (lasso)\n",
    "\n",
    "learningRate = 0.05\n",
    "epochs = 501\n",
    "\n",
    "best_l1_spo = cross_validate(x_train, y_train, 'MSE', 'l1')\n",
    "model_lasso2 = linearRegressionTrain(x_train, y_train, learningRate, epochs,'SPO', 'l1', l1_penalty = best_l1_spo)"
   ]
  },
  {
   "cell_type": "markdown",
   "id": "b898dad2",
   "metadata": {},
   "source": [
    "### SPO loss model evaluation"
   ]
  },
  {
   "cell_type": "code",
   "execution_count": 23,
   "id": "6d389cf1",
   "metadata": {
    "scrolled": true
   },
   "outputs": [
    {
     "data": {
      "text/html": [
       "<div>\n",
       "<style scoped>\n",
       "    .dataframe tbody tr th:only-of-type {\n",
       "        vertical-align: middle;\n",
       "    }\n",
       "\n",
       "    .dataframe tbody tr th {\n",
       "        vertical-align: top;\n",
       "    }\n",
       "\n",
       "    .dataframe thead th {\n",
       "        text-align: right;\n",
       "    }\n",
       "</style>\n",
       "<table border=\"1\" class=\"dataframe\">\n",
       "  <thead>\n",
       "    <tr style=\"text-align: right;\">\n",
       "      <th></th>\n",
       "      <th></th>\n",
       "      <th>MSE</th>\n",
       "      <th>R^2</th>\n",
       "      <th>SPO Loss</th>\n",
       "      <th>SPO Loss Ave</th>\n",
       "    </tr>\n",
       "  </thead>\n",
       "  <tbody>\n",
       "    <tr>\n",
       "      <th rowspan=\"2\" valign=\"top\">spo_ols</th>\n",
       "      <th>train</th>\n",
       "      <td>80.704736</td>\n",
       "      <td>0.577784</td>\n",
       "      <td>982.304359</td>\n",
       "      <td>5.116169</td>\n",
       "    </tr>\n",
       "    <tr>\n",
       "      <th>test</th>\n",
       "      <td>369.102518</td>\n",
       "      <td>0.314901</td>\n",
       "      <td>594.665599</td>\n",
       "      <td>10.079078</td>\n",
       "    </tr>\n",
       "    <tr>\n",
       "      <th rowspan=\"2\" valign=\"top\">spo_ridge</th>\n",
       "      <th>train</th>\n",
       "      <td>107.517927</td>\n",
       "      <td>0.437508</td>\n",
       "      <td>1028.372256</td>\n",
       "      <td>5.356106</td>\n",
       "    </tr>\n",
       "    <tr>\n",
       "      <th>test</th>\n",
       "      <td>440.739721</td>\n",
       "      <td>0.181934</td>\n",
       "      <td>658.194314</td>\n",
       "      <td>11.155836</td>\n",
       "    </tr>\n",
       "    <tr>\n",
       "      <th rowspan=\"2\" valign=\"top\">spo_lasso</th>\n",
       "      <th>train</th>\n",
       "      <td>82.736309</td>\n",
       "      <td>0.567156</td>\n",
       "      <td>983.100114</td>\n",
       "      <td>5.120313</td>\n",
       "    </tr>\n",
       "    <tr>\n",
       "      <th>test</th>\n",
       "      <td>377.280962</td>\n",
       "      <td>0.299721</td>\n",
       "      <td>599.747262</td>\n",
       "      <td>10.165208</td>\n",
       "    </tr>\n",
       "  </tbody>\n",
       "</table>\n",
       "</div>"
      ],
      "text/plain": [
       "                        MSE       R^2     SPO Loss  SPO Loss Ave\n",
       "spo_ols   train   80.704736  0.577784   982.304359      5.116169\n",
       "          test   369.102518  0.314901   594.665599     10.079078\n",
       "spo_ridge train  107.517927  0.437508  1028.372256      5.356106\n",
       "          test   440.739721  0.181934   658.194314     11.155836\n",
       "spo_lasso train   82.736309  0.567156   983.100114      5.120313\n",
       "          test   377.280962  0.299721   599.747262     10.165208"
      ]
     },
     "execution_count": 23,
     "metadata": {},
     "output_type": "execute_result"
    }
   ],
   "source": [
    "# compile results for models trained on SPO loss\n",
    "SPO_result = []\n",
    "\n",
    "for model, name in zip([model_ols2, model_ridge2, model_lasso2],['spo_ols','spo_ridge','spo_lasso']):\n",
    "    score_df = evaluation(model, x_train, x_test, y_train, y_test, plot = False)\n",
    "    SPO_result.append(pd.concat({name:score_df}))\n",
    "    \n",
    "SPO_scores = pd.concat([SPO_result[0], SPO_result[1], SPO_result[2]])\n",
    "SPO_scores"
   ]
  },
  {
   "cell_type": "code",
   "execution_count": 24,
   "id": "829d4e5c",
   "metadata": {},
   "outputs": [
    {
     "data": {
      "text/html": [
       "<div>\n",
       "<style scoped>\n",
       "    .dataframe tbody tr th:only-of-type {\n",
       "        vertical-align: middle;\n",
       "    }\n",
       "\n",
       "    .dataframe tbody tr th {\n",
       "        vertical-align: top;\n",
       "    }\n",
       "\n",
       "    .dataframe thead th {\n",
       "        text-align: right;\n",
       "    }\n",
       "</style>\n",
       "<table border=\"1\" class=\"dataframe\">\n",
       "  <thead>\n",
       "    <tr style=\"text-align: right;\">\n",
       "      <th></th>\n",
       "      <th></th>\n",
       "      <th>MSE</th>\n",
       "      <th>R^2</th>\n",
       "      <th>SPO Loss</th>\n",
       "      <th>SPO Loss Ave</th>\n",
       "    </tr>\n",
       "  </thead>\n",
       "  <tbody>\n",
       "    <tr>\n",
       "      <th rowspan=\"2\" valign=\"top\">mse_ols</th>\n",
       "      <th>train</th>\n",
       "      <td>43.724713</td>\n",
       "      <td>0.771249</td>\n",
       "      <td>1710.147825</td>\n",
       "      <td>8.907020</td>\n",
       "    </tr>\n",
       "    <tr>\n",
       "      <th>test</th>\n",
       "      <td>221.016194</td>\n",
       "      <td>0.589767</td>\n",
       "      <td>506.942417</td>\n",
       "      <td>8.592244</td>\n",
       "    </tr>\n",
       "    <tr>\n",
       "      <th rowspan=\"2\" valign=\"top\">mse_ridge</th>\n",
       "      <th>train</th>\n",
       "      <td>45.894149</td>\n",
       "      <td>0.759900</td>\n",
       "      <td>1493.766673</td>\n",
       "      <td>7.780035</td>\n",
       "    </tr>\n",
       "    <tr>\n",
       "      <th>test</th>\n",
       "      <td>253.067885</td>\n",
       "      <td>0.530275</td>\n",
       "      <td>518.852746</td>\n",
       "      <td>8.794114</td>\n",
       "    </tr>\n",
       "    <tr>\n",
       "      <th rowspan=\"2\" valign=\"top\">mse_lasso</th>\n",
       "      <th>train</th>\n",
       "      <td>48.784460</td>\n",
       "      <td>0.744779</td>\n",
       "      <td>1765.052714</td>\n",
       "      <td>9.192983</td>\n",
       "    </tr>\n",
       "    <tr>\n",
       "      <th>test</th>\n",
       "      <td>242.087701</td>\n",
       "      <td>0.550656</td>\n",
       "      <td>527.910712</td>\n",
       "      <td>8.947639</td>\n",
       "    </tr>\n",
       "  </tbody>\n",
       "</table>\n",
       "</div>"
      ],
      "text/plain": [
       "                        MSE       R^2     SPO Loss  SPO Loss Ave\n",
       "mse_ols   train   43.724713  0.771249  1710.147825      8.907020\n",
       "          test   221.016194  0.589767   506.942417      8.592244\n",
       "mse_ridge train   45.894149  0.759900  1493.766673      7.780035\n",
       "          test   253.067885  0.530275   518.852746      8.794114\n",
       "mse_lasso train   48.784460  0.744779  1765.052714      9.192983\n",
       "          test   242.087701  0.550656   527.910712      8.947639"
      ]
     },
     "execution_count": 24,
     "metadata": {},
     "output_type": "execute_result"
    }
   ],
   "source": [
    "MSE_scores"
   ]
  },
  {
   "cell_type": "code",
   "execution_count": null,
   "id": "ed6871b4",
   "metadata": {},
   "outputs": [],
   "source": [
    "# SPO MSE weighted loss\n",
    "SPO_result = []\n",
    "\n",
    "for model, name in zip([model_ols_spo_mse, model_ridge_spo_mse, model_lasso_spo_mse],['spo_mse_ols','spo_mse_ridge','spo_mse_lasso']):\n",
    "    score_df = evaluation(model, x_train, x_test, y_train, y_test, plot = False)\n",
    "    SPO_result.append(pd.concat({name:score_df}))\n",
    "    \n",
    "SPO_scores = pd.concat([SPO_result[0], SPO_result[1], SPO_result[2]])\n",
    "SPO_scores"
   ]
  },
  {
   "cell_type": "code",
   "execution_count": null,
   "id": "93df3bba",
   "metadata": {},
   "outputs": [],
   "source": []
  },
  {
   "cell_type": "markdown",
   "id": "eb1ce3f6",
   "metadata": {},
   "source": [
    "# References"
   ]
  },
  {
   "cell_type": "code",
   "execution_count": 25,
   "id": "70b340dc",
   "metadata": {},
   "outputs": [],
   "source": [
    "%%script false --no-raise-error\n",
    "import time\n",
    "# Batch Gradient Descent Using Numpy - For comparison purpose\n",
    "\n",
    "\"\"\"\n",
    "code is based on Yuhan Cheng's code, approved use\n",
    "\"\"\"\n",
    "\n",
    "def multivariate_ols(xvalue_matrix, yvalues, R=0.01, MaxIterations=1000):\n",
    "    start_time = time.time()\n",
    "    alpha = 0.0\n",
    "    beta = np.zeros((xvalue_matrix.shape[1],))\n",
    "    epsilon = 0.00001\n",
    "    n = float(len(xvalue_matrix))\n",
    "    loss = []\n",
    "    for i in range(MaxIterations):\n",
    "        # compute new coefficients\n",
    "        y_pred = alpha + np.matmul(xvalue_matrix, beta)\n",
    "        loss.append(mean_squared_error(y_pred,yvalues))\n",
    "#         if i % 100 == 0:\n",
    "#             print('Current Loss:', loss)\n",
    "        d_alpha = np.mean(y_pred - yvalues)\n",
    "        d_beta = np.mean((y_pred - yvalues) * xvalue_matrix.T, axis = 1)\n",
    "        alpha_1 = alpha - (R * d_alpha)\n",
    "        beta_1 = beta - (R * d_beta)\n",
    "        \n",
    "        if np.isnan(alpha_1):\n",
    "            print('nan at iter', str(i))\n",
    "            break\n",
    "        \n",
    "        # check to see whether stopping criteria has been met\n",
    "        if (np.abs(alpha_1-alpha)<epsilon) and np.all(np.abs(beta_1-beta)<epsilon):\n",
    "            alpha, beta = alpha_1, beta_1\n",
    "            print('error < epsilon, criteria met')\n",
    "            break\n",
    "        alpha, beta = alpha_1, beta_1\n",
    "            \n",
    "    print(\"Time taken: {:.2f} seconds\".format(time.time() - start_time))\n",
    "    print('MSE:', str(loss[-1]))\n",
    "    print('R2:', str(r2_score(y_true=yvalues, y_pred = y_pred)))\n",
    "    \n",
    "    plt.plot(range(len(loss)),loss)\n",
    "    plt.xlabel(\"Number of Iterations\")\n",
    "    plt.ylabel(\"Loss\")\n",
    "    plt.show()\n",
    "    return alpha, beta"
   ]
  },
  {
   "cell_type": "markdown",
   "id": "70029af4",
   "metadata": {},
   "source": [
    "Ref:\n",
    "Lineary Regression with Pytorch\n",
    "  \n",
    "  https://medium.com/analytics-vidhya/linear-regression-with-pytorch-147fed55f138\n",
    "  \n",
    "  https://linuxhint.com/pytorch_linear_regression_tutorial/\n",
    "  \n",
    "  https://medium.com/biaslyai/pytorch-linear-and-logistic-regression-models-5c5f0da2cb9\n",
    "  \n",
    "  https://towardsdatascience.com/linear-regression-with-pytorch-eb6dedead817\n",
    "  \n",
    "  https://www.reneshbedre.com/blog/pytorch-regression.html\n",
    "  \n",
    "  https://www.kaggle.com/joseguzman/multiple-regression-explained-with-pytorch?scriptVersionId=73005237\n",
    "  \n",
    "  https://www.deeplearningwizard.com/deep_learning/practical_pytorch/pytorch_linear_regression/#building-a-linear-regression-model-with-pytorch-gpu\n",
    "  \n",
    "Evaluations:\n",
    "\n",
    "  https://www.analyticsvidhya.com/blog/2021/05/know-the-best-evaluation-metrics-for-your-regression-model/\n",
    "  \n",
    "Quick Ordinary Lineary Regression Calculator:\n",
    "\n",
    "  https://www.socscistatistics.com/tests/regression/default.aspx\n"
   ]
  }
 ],
 "metadata": {
  "colab": {
   "name": "PyTorch_models_Ben.ipynb",
   "provenance": []
  },
  "kernelspec": {
   "display_name": "Python 3 (ipykernel)",
   "language": "python",
   "name": "python3"
  },
  "language_info": {
   "codemirror_mode": {
    "name": "ipython",
    "version": 3
   },
   "file_extension": ".py",
   "mimetype": "text/x-python",
   "name": "python",
   "nbconvert_exporter": "python",
   "pygments_lexer": "ipython3",
   "version": "3.9.10"
  }
 },
 "nbformat": 4,
 "nbformat_minor": 5
}
