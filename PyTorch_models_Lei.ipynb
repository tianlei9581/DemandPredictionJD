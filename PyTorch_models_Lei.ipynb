{
 "cells": [
  {
   "cell_type": "code",
   "execution_count": 95,
   "id": "4cedd241",
   "metadata": {
    "executionInfo": {
     "elapsed": 173,
     "status": "ok",
     "timestamp": 1647236224020,
     "user": {
      "displayName": "Peng Xu",
      "photoUrl": "https://lh3.googleusercontent.com/a-/AOh14GihYc7h5im61ge3uVxyNDW7QWZ3KrL0gLMarQHM=s64",
      "userId": "13852652645537005974"
     },
     "user_tz": 420
    },
    "id": "4cedd241"
   },
   "outputs": [],
   "source": [
    "import pandas as pd\n",
    "import json\n",
    "import numpy as np\n",
    "import torch\n",
    "from torch.autograd import Variable\n",
    "import matplotlib.pyplot as plt\n",
    "from sklearn.metrics import r2_score\n",
    "from sklearn.metrics import mean_squared_error\n",
    "from sklearn.preprocessing import StandardScaler\n",
    "from sklearn.linear_model import LinearRegression\n",
    "import seaborn as sns"
   ]
  },
  {
   "cell_type": "code",
   "execution_count": 96,
   "id": "0b97ec81",
   "metadata": {
    "executionInfo": {
     "elapsed": 387,
     "status": "ok",
     "timestamp": 1647236229200,
     "user": {
      "displayName": "Peng Xu",
      "photoUrl": "https://lh3.googleusercontent.com/a-/AOh14GihYc7h5im61ge3uVxyNDW7QWZ3KrL0gLMarQHM=s64",
      "userId": "13852652645537005974"
     },
     "user_tz": 420
    },
    "id": "0b97ec81"
   },
   "outputs": [],
   "source": [
    "with open('order_dict.json') as f:\n",
    "    data = json.load(f)"
   ]
  },
  {
   "cell_type": "code",
   "execution_count": 97,
   "id": "faa5bbbc",
   "metadata": {
    "executionInfo": {
     "elapsed": 282,
     "status": "ok",
     "timestamp": 1647236229459,
     "user": {
      "displayName": "Peng Xu",
      "photoUrl": "https://lh3.googleusercontent.com/a-/AOh14GihYc7h5im61ge3uVxyNDW7QWZ3KrL0gLMarQHM=s64",
      "userId": "13852652645537005974"
     },
     "user_tz": 420
    },
    "id": "faa5bbbc"
   },
   "outputs": [],
   "source": [
    "order_dict = {int(k):pd.DataFrame(v).set_index('day_of_month') for k, v in data.items()}"
   ]
  },
  {
   "cell_type": "code",
   "execution_count": 98,
   "id": "ab4156e4",
   "metadata": {
    "colab": {
     "base_uri": "https://localhost:8080/",
     "height": 519
    },
    "executionInfo": {
     "elapsed": 23,
     "status": "ok",
     "timestamp": 1647236229461,
     "user": {
      "displayName": "Peng Xu",
      "photoUrl": "https://lh3.googleusercontent.com/a-/AOh14GihYc7h5im61ge3uVxyNDW7QWZ3KrL0gLMarQHM=s64",
      "userId": "13852652645537005974"
     },
     "user_tz": 420
    },
    "id": "ab4156e4",
    "outputId": "150fbbfa-8efe-4fbe-abf6-5a0df74289a2"
   },
   "outputs": [
    {
     "data": {
      "text/html": [
       "<div>\n",
       "<style scoped>\n",
       "    .dataframe tbody tr th:only-of-type {\n",
       "        vertical-align: middle;\n",
       "    }\n",
       "\n",
       "    .dataframe tbody tr th {\n",
       "        vertical-align: top;\n",
       "    }\n",
       "\n",
       "    .dataframe thead th {\n",
       "        text-align: right;\n",
       "    }\n",
       "</style>\n",
       "<table border=\"1\" class=\"dataframe\">\n",
       "  <thead>\n",
       "    <tr style=\"text-align: right;\">\n",
       "      <th></th>\n",
       "      <th>demand</th>\n",
       "      <th>day_of_week</th>\n",
       "      <th>order_hour_mode</th>\n",
       "      <th>order_hour_08</th>\n",
       "      <th>order_hour_95</th>\n",
       "      <th>att1_high</th>\n",
       "      <th>att1_miss</th>\n",
       "      <th>att2_high</th>\n",
       "      <th>att2_miss</th>\n",
       "      <th>type_1_percent</th>\n",
       "      <th>...</th>\n",
       "      <th>fast_promise</th>\n",
       "      <th>original_unit_price_mean</th>\n",
       "      <th>discount_rate_mean</th>\n",
       "      <th>direct_discount_rate_mean</th>\n",
       "      <th>quantity_discount_rate_mean</th>\n",
       "      <th>bundle_discount_mean</th>\n",
       "      <th>gift_mean</th>\n",
       "      <th>dc_ori_mode</th>\n",
       "      <th>dc_ori_num</th>\n",
       "      <th>cluster_id</th>\n",
       "    </tr>\n",
       "    <tr>\n",
       "      <th>day_of_month</th>\n",
       "      <th></th>\n",
       "      <th></th>\n",
       "      <th></th>\n",
       "      <th></th>\n",
       "      <th></th>\n",
       "      <th></th>\n",
       "      <th></th>\n",
       "      <th></th>\n",
       "      <th></th>\n",
       "      <th></th>\n",
       "      <th></th>\n",
       "      <th></th>\n",
       "      <th></th>\n",
       "      <th></th>\n",
       "      <th></th>\n",
       "      <th></th>\n",
       "      <th></th>\n",
       "      <th></th>\n",
       "      <th></th>\n",
       "      <th></th>\n",
       "      <th></th>\n",
       "    </tr>\n",
       "  </thead>\n",
       "  <tbody>\n",
       "    <tr>\n",
       "      <th>1</th>\n",
       "      <td>5</td>\n",
       "      <td>3</td>\n",
       "      <td>12</td>\n",
       "      <td>0.000000</td>\n",
       "      <td>1.000000</td>\n",
       "      <td>0.750000</td>\n",
       "      <td>0.250000</td>\n",
       "      <td>0.000000</td>\n",
       "      <td>0.750000</td>\n",
       "      <td>0.000000</td>\n",
       "      <td>...</td>\n",
       "      <td>0.250000</td>\n",
       "      <td>121.475000</td>\n",
       "      <td>0.070538</td>\n",
       "      <td>0.061069</td>\n",
       "      <td>0.009470</td>\n",
       "      <td>0.000000</td>\n",
       "      <td>0.000000</td>\n",
       "      <td>7</td>\n",
       "      <td>1</td>\n",
       "      <td>0</td>\n",
       "    </tr>\n",
       "    <tr>\n",
       "      <th>1</th>\n",
       "      <td>18</td>\n",
       "      <td>3</td>\n",
       "      <td>5</td>\n",
       "      <td>0.444444</td>\n",
       "      <td>0.555556</td>\n",
       "      <td>1.000000</td>\n",
       "      <td>0.000000</td>\n",
       "      <td>1.000000</td>\n",
       "      <td>0.000000</td>\n",
       "      <td>1.000000</td>\n",
       "      <td>...</td>\n",
       "      <td>1.000000</td>\n",
       "      <td>0.000000</td>\n",
       "      <td>1.000000</td>\n",
       "      <td>0.000000</td>\n",
       "      <td>0.000000</td>\n",
       "      <td>0.000000</td>\n",
       "      <td>1.000000</td>\n",
       "      <td>7</td>\n",
       "      <td>1</td>\n",
       "      <td>1</td>\n",
       "    </tr>\n",
       "    <tr>\n",
       "      <th>1</th>\n",
       "      <td>57</td>\n",
       "      <td>3</td>\n",
       "      <td>23</td>\n",
       "      <td>0.111111</td>\n",
       "      <td>0.400000</td>\n",
       "      <td>0.488889</td>\n",
       "      <td>0.222222</td>\n",
       "      <td>0.333333</td>\n",
       "      <td>0.355556</td>\n",
       "      <td>0.933333</td>\n",
       "      <td>...</td>\n",
       "      <td>0.888889</td>\n",
       "      <td>108.322222</td>\n",
       "      <td>0.468941</td>\n",
       "      <td>0.104816</td>\n",
       "      <td>0.238231</td>\n",
       "      <td>0.000000</td>\n",
       "      <td>0.044444</td>\n",
       "      <td>7</td>\n",
       "      <td>3</td>\n",
       "      <td>2</td>\n",
       "    </tr>\n",
       "    <tr>\n",
       "      <th>1</th>\n",
       "      <td>11</td>\n",
       "      <td>3</td>\n",
       "      <td>14</td>\n",
       "      <td>0.090909</td>\n",
       "      <td>0.636364</td>\n",
       "      <td>1.000000</td>\n",
       "      <td>0.000000</td>\n",
       "      <td>0.545455</td>\n",
       "      <td>0.090909</td>\n",
       "      <td>0.090909</td>\n",
       "      <td>...</td>\n",
       "      <td>0.272727</td>\n",
       "      <td>144.081818</td>\n",
       "      <td>0.669827</td>\n",
       "      <td>0.568953</td>\n",
       "      <td>0.027548</td>\n",
       "      <td>0.000000</td>\n",
       "      <td>0.000000</td>\n",
       "      <td>7</td>\n",
       "      <td>1</td>\n",
       "      <td>3</td>\n",
       "    </tr>\n",
       "    <tr>\n",
       "      <th>1</th>\n",
       "      <td>58</td>\n",
       "      <td>3</td>\n",
       "      <td>12</td>\n",
       "      <td>0.111111</td>\n",
       "      <td>0.416667</td>\n",
       "      <td>0.777778</td>\n",
       "      <td>0.083333</td>\n",
       "      <td>0.500000</td>\n",
       "      <td>0.111111</td>\n",
       "      <td>0.333333</td>\n",
       "      <td>...</td>\n",
       "      <td>0.472222</td>\n",
       "      <td>125.488889</td>\n",
       "      <td>0.421472</td>\n",
       "      <td>0.170375</td>\n",
       "      <td>0.178280</td>\n",
       "      <td>0.000000</td>\n",
       "      <td>0.000000</td>\n",
       "      <td>7</td>\n",
       "      <td>1</td>\n",
       "      <td>6</td>\n",
       "    </tr>\n",
       "    <tr>\n",
       "      <th>...</th>\n",
       "      <td>...</td>\n",
       "      <td>...</td>\n",
       "      <td>...</td>\n",
       "      <td>...</td>\n",
       "      <td>...</td>\n",
       "      <td>...</td>\n",
       "      <td>...</td>\n",
       "      <td>...</td>\n",
       "      <td>...</td>\n",
       "      <td>...</td>\n",
       "      <td>...</td>\n",
       "      <td>...</td>\n",
       "      <td>...</td>\n",
       "      <td>...</td>\n",
       "      <td>...</td>\n",
       "      <td>...</td>\n",
       "      <td>...</td>\n",
       "      <td>...</td>\n",
       "      <td>...</td>\n",
       "      <td>...</td>\n",
       "      <td>...</td>\n",
       "    </tr>\n",
       "    <tr>\n",
       "      <th>31</th>\n",
       "      <td>39</td>\n",
       "      <td>5</td>\n",
       "      <td>14</td>\n",
       "      <td>0.028571</td>\n",
       "      <td>0.742857</td>\n",
       "      <td>0.400000</td>\n",
       "      <td>0.342857</td>\n",
       "      <td>0.628571</td>\n",
       "      <td>0.057143</td>\n",
       "      <td>0.057143</td>\n",
       "      <td>...</td>\n",
       "      <td>0.171429</td>\n",
       "      <td>104.162857</td>\n",
       "      <td>0.335590</td>\n",
       "      <td>0.118868</td>\n",
       "      <td>0.003852</td>\n",
       "      <td>0.013378</td>\n",
       "      <td>0.028571</td>\n",
       "      <td>7</td>\n",
       "      <td>2</td>\n",
       "      <td>6</td>\n",
       "    </tr>\n",
       "    <tr>\n",
       "      <th>31</th>\n",
       "      <td>16</td>\n",
       "      <td>5</td>\n",
       "      <td>15</td>\n",
       "      <td>0.000000</td>\n",
       "      <td>0.866667</td>\n",
       "      <td>0.733333</td>\n",
       "      <td>0.200000</td>\n",
       "      <td>0.533333</td>\n",
       "      <td>0.200000</td>\n",
       "      <td>0.000000</td>\n",
       "      <td>...</td>\n",
       "      <td>0.000000</td>\n",
       "      <td>1.200000</td>\n",
       "      <td>0.933333</td>\n",
       "      <td>0.000000</td>\n",
       "      <td>0.000000</td>\n",
       "      <td>0.000000</td>\n",
       "      <td>0.933333</td>\n",
       "      <td>7</td>\n",
       "      <td>1</td>\n",
       "      <td>7</td>\n",
       "    </tr>\n",
       "    <tr>\n",
       "      <th>31</th>\n",
       "      <td>26</td>\n",
       "      <td>5</td>\n",
       "      <td>13</td>\n",
       "      <td>0.090909</td>\n",
       "      <td>0.636364</td>\n",
       "      <td>0.590909</td>\n",
       "      <td>0.272727</td>\n",
       "      <td>0.454545</td>\n",
       "      <td>0.272727</td>\n",
       "      <td>0.727273</td>\n",
       "      <td>...</td>\n",
       "      <td>0.727273</td>\n",
       "      <td>111.381818</td>\n",
       "      <td>0.412384</td>\n",
       "      <td>0.084126</td>\n",
       "      <td>NaN</td>\n",
       "      <td>0.039330</td>\n",
       "      <td>0.272727</td>\n",
       "      <td>1</td>\n",
       "      <td>3</td>\n",
       "      <td>8</td>\n",
       "    </tr>\n",
       "    <tr>\n",
       "      <th>31</th>\n",
       "      <td>1</td>\n",
       "      <td>5</td>\n",
       "      <td>8</td>\n",
       "      <td>1.000000</td>\n",
       "      <td>0.000000</td>\n",
       "      <td>1.000000</td>\n",
       "      <td>0.000000</td>\n",
       "      <td>1.000000</td>\n",
       "      <td>0.000000</td>\n",
       "      <td>0.000000</td>\n",
       "      <td>...</td>\n",
       "      <td>0.000000</td>\n",
       "      <td>79.000000</td>\n",
       "      <td>0.000000</td>\n",
       "      <td>0.000000</td>\n",
       "      <td>0.000000</td>\n",
       "      <td>0.000000</td>\n",
       "      <td>0.000000</td>\n",
       "      <td>7</td>\n",
       "      <td>1</td>\n",
       "      <td>10</td>\n",
       "    </tr>\n",
       "    <tr>\n",
       "      <th>31</th>\n",
       "      <td>2</td>\n",
       "      <td>5</td>\n",
       "      <td>1</td>\n",
       "      <td>1.000000</td>\n",
       "      <td>0.000000</td>\n",
       "      <td>0.000000</td>\n",
       "      <td>1.000000</td>\n",
       "      <td>0.000000</td>\n",
       "      <td>1.000000</td>\n",
       "      <td>0.000000</td>\n",
       "      <td>...</td>\n",
       "      <td>0.000000</td>\n",
       "      <td>111.500000</td>\n",
       "      <td>0.378788</td>\n",
       "      <td>0.000000</td>\n",
       "      <td>0.000000</td>\n",
       "      <td>0.000000</td>\n",
       "      <td>0.000000</td>\n",
       "      <td>7</td>\n",
       "      <td>1</td>\n",
       "      <td>11</td>\n",
       "    </tr>\n",
       "  </tbody>\n",
       "</table>\n",
       "<p>255 rows × 21 columns</p>\n",
       "</div>"
      ],
      "text/plain": [
       "              demand  day_of_week  order_hour_mode  order_hour_08  \\\n",
       "day_of_month                                                        \n",
       "1                  5            3               12       0.000000   \n",
       "1                 18            3                5       0.444444   \n",
       "1                 57            3               23       0.111111   \n",
       "1                 11            3               14       0.090909   \n",
       "1                 58            3               12       0.111111   \n",
       "...              ...          ...              ...            ...   \n",
       "31                39            5               14       0.028571   \n",
       "31                16            5               15       0.000000   \n",
       "31                26            5               13       0.090909   \n",
       "31                 1            5                8       1.000000   \n",
       "31                 2            5                1       1.000000   \n",
       "\n",
       "              order_hour_95  att1_high  att1_miss  att2_high  att2_miss  \\\n",
       "day_of_month                                                              \n",
       "1                  1.000000   0.750000   0.250000   0.000000   0.750000   \n",
       "1                  0.555556   1.000000   0.000000   1.000000   0.000000   \n",
       "1                  0.400000   0.488889   0.222222   0.333333   0.355556   \n",
       "1                  0.636364   1.000000   0.000000   0.545455   0.090909   \n",
       "1                  0.416667   0.777778   0.083333   0.500000   0.111111   \n",
       "...                     ...        ...        ...        ...        ...   \n",
       "31                 0.742857   0.400000   0.342857   0.628571   0.057143   \n",
       "31                 0.866667   0.733333   0.200000   0.533333   0.200000   \n",
       "31                 0.636364   0.590909   0.272727   0.454545   0.272727   \n",
       "31                 0.000000   1.000000   0.000000   1.000000   0.000000   \n",
       "31                 0.000000   0.000000   1.000000   0.000000   1.000000   \n",
       "\n",
       "              type_1_percent  ...  fast_promise  original_unit_price_mean  \\\n",
       "day_of_month                  ...                                           \n",
       "1                   0.000000  ...      0.250000                121.475000   \n",
       "1                   1.000000  ...      1.000000                  0.000000   \n",
       "1                   0.933333  ...      0.888889                108.322222   \n",
       "1                   0.090909  ...      0.272727                144.081818   \n",
       "1                   0.333333  ...      0.472222                125.488889   \n",
       "...                      ...  ...           ...                       ...   \n",
       "31                  0.057143  ...      0.171429                104.162857   \n",
       "31                  0.000000  ...      0.000000                  1.200000   \n",
       "31                  0.727273  ...      0.727273                111.381818   \n",
       "31                  0.000000  ...      0.000000                 79.000000   \n",
       "31                  0.000000  ...      0.000000                111.500000   \n",
       "\n",
       "              discount_rate_mean  direct_discount_rate_mean  \\\n",
       "day_of_month                                                  \n",
       "1                       0.070538                   0.061069   \n",
       "1                       1.000000                   0.000000   \n",
       "1                       0.468941                   0.104816   \n",
       "1                       0.669827                   0.568953   \n",
       "1                       0.421472                   0.170375   \n",
       "...                          ...                        ...   \n",
       "31                      0.335590                   0.118868   \n",
       "31                      0.933333                   0.000000   \n",
       "31                      0.412384                   0.084126   \n",
       "31                      0.000000                   0.000000   \n",
       "31                      0.378788                   0.000000   \n",
       "\n",
       "              quantity_discount_rate_mean  bundle_discount_mean  gift_mean  \\\n",
       "day_of_month                                                                 \n",
       "1                                0.009470              0.000000   0.000000   \n",
       "1                                0.000000              0.000000   1.000000   \n",
       "1                                0.238231              0.000000   0.044444   \n",
       "1                                0.027548              0.000000   0.000000   \n",
       "1                                0.178280              0.000000   0.000000   \n",
       "...                                   ...                   ...        ...   \n",
       "31                               0.003852              0.013378   0.028571   \n",
       "31                               0.000000              0.000000   0.933333   \n",
       "31                                    NaN              0.039330   0.272727   \n",
       "31                               0.000000              0.000000   0.000000   \n",
       "31                               0.000000              0.000000   0.000000   \n",
       "\n",
       "              dc_ori_mode  dc_ori_num  cluster_id  \n",
       "day_of_month                                       \n",
       "1                       7           1           0  \n",
       "1                       7           1           1  \n",
       "1                       7           3           2  \n",
       "1                       7           1           3  \n",
       "1                       7           1           6  \n",
       "...                   ...         ...         ...  \n",
       "31                      7           2           6  \n",
       "31                      7           1           7  \n",
       "31                      1           3           8  \n",
       "31                      7           1          10  \n",
       "31                      7           1          11  \n",
       "\n",
       "[255 rows x 21 columns]"
      ]
     },
     "execution_count": 98,
     "metadata": {},
     "output_type": "execute_result"
    }
   ],
   "source": [
    "order_dict[1]"
   ]
  },
  {
   "cell_type": "code",
   "execution_count": 99,
   "id": "d21917cb",
   "metadata": {
    "colab": {
     "base_uri": "https://localhost:8080/"
    },
    "executionInfo": {
     "elapsed": 139,
     "status": "ok",
     "timestamp": 1647239184609,
     "user": {
      "displayName": "Peng Xu",
      "photoUrl": "https://lh3.googleusercontent.com/a-/AOh14GihYc7h5im61ge3uVxyNDW7QWZ3KrL0gLMarQHM=s64",
      "userId": "13852652645537005974"
     },
     "user_tz": 420
    },
    "id": "d21917cb",
    "outputId": "0e33fa25-6c8b-403c-a0f0-a389dcfff834"
   },
   "outputs": [
    {
     "name": "stdout",
     "output_type": "stream",
     "text": [
      "Index(['order_hour_mode', 'order_hour_08', 'order_hour_95', 'att1_high',\n",
      "       'att1_miss', 'att2_high', 'att2_miss', 'type_1_percent', 'no_promise',\n",
      "       'fast_promise', 'original_unit_price_mean', 'discount_rate_mean',\n",
      "       'direct_discount_rate_mean', 'quantity_discount_rate_mean',\n",
      "       'bundle_discount_mean', 'gift_mean', 'dc_ori_num'],\n",
      "      dtype='object')\n"
     ]
    }
   ],
   "source": [
    "df = order_dict[1].copy()\n",
    "df = df.fillna(0)\n",
    "df.replace(np.inf,0, inplace = True)\n",
    "\n",
    "# only filter by sigfinicant features\n",
    "# df = df[['demand','quantity_discount_rate_mean','cluster_id','dc_ori_mode','day_of_week']]\n",
    "# df = df[['demand','quantity_discount_rate_mean']]\n",
    "# df\n",
    "\n",
    "# convert data type for categorical features\n",
    "df['cluster_id'] = df['cluster_id'].astype('object')\n",
    "df['dc_ori_mode'] = df['dc_ori_mode'].astype('object')\n",
    "df['day_of_week'] = df['day_of_week'].astype('object')\n",
    "# order_hour_mode??\n",
    "\n",
    "cat = ['cluster_id','dc_ori_mode','day_of_week']\n",
    "num = df.drop(cat+['demand'], axis = 1).columns\n",
    "print(num)"
   ]
  },
  {
   "cell_type": "code",
   "execution_count": 100,
   "id": "5d79c829",
   "metadata": {
    "colab": {
     "base_uri": "https://localhost:8080/"
    },
    "executionInfo": {
     "elapsed": 162,
     "status": "ok",
     "timestamp": 1647243067192,
     "user": {
      "displayName": "Peng Xu",
      "photoUrl": "https://lh3.googleusercontent.com/a-/AOh14GihYc7h5im61ge3uVxyNDW7QWZ3KrL0gLMarQHM=s64",
      "userId": "13852652645537005974"
     },
     "user_tz": 420
    },
    "id": "5d79c829",
    "outputId": "8f19189f-aa3f-4cfe-fa5a-50a6f8ad7542",
    "scrolled": false
   },
   "outputs": [
    {
     "name": "stdout",
     "output_type": "stream",
     "text": [
      "(198, 35) (198, 1)\n",
      "(57, 35) (57, 1)\n"
     ]
    }
   ],
   "source": [
    "# train test split\n",
    "df_enc = pd.get_dummies(df, columns = cat, drop_first = True)\n",
    "train_enc = df_enc.query('1<= day_of_month <= 24')\n",
    "test_enc = df_enc.query('24 < day_of_month <= 31')\n",
    "\n",
    "# train = df.query('1<= day_of_month <= 24')\n",
    "# test = df.query('24 < day_of_month <= 31')\n",
    "\n",
    "# train_enc = pd.get_dummies(train, columns = cat, drop_first = True)\n",
    "# test_enc = pd.get_dummies(test, columns = cat)\n",
    "\n",
    "# print(train_enc.dtypes)\n",
    "# print(test_enc.dtypes)\n",
    "\n",
    "# standardize data\n",
    "scaler = StandardScaler()\n",
    "\n",
    "# x_train = train_enc[['quantity_discount_rate_mean','day_of_week_3','cluster_id_6','cluster_id_7','cluster_id_8','cluster_id_10','dc_ori_num','dc_ori_mode_7']].to_numpy()\n",
    "# x_test = test_enc[['quantity_discount_rate_mean','day_of_week_3','cluster_id_6','cluster_id_7','cluster_id_8','cluster_id_10','dc_ori_num','dc_ori_mode_7']]\n",
    "\n",
    "x_train = train_enc.drop(['demand', 'discount_rate_mean','type_1_percent'], axis = 1).to_numpy() # only remove highest vif column\n",
    "x_train = scaler.fit_transform(x_train)\n",
    "\n",
    "y_train = train_enc['demand'].to_numpy().reshape(len(train_enc), 1)\n",
    "\n",
    "\n",
    "x_test = test_enc.drop(['demand', 'discount_rate_mean','type_1_percent'], axis = 1) \n",
    "x_test = scaler.fit_transform(x_test)\n",
    "\n",
    "y_test = test_enc['demand'].to_numpy().reshape(len(test_enc), 1)\n",
    "\n",
    "\n",
    "# print(list(zip(x_train, y_train)))\n",
    "# torch.from_numpy(x_train)\n",
    "print(x_train.shape, y_train.shape)\n",
    "print(x_test.shape, y_test.shape)"
   ]
  },
  {
   "cell_type": "code",
   "execution_count": 101,
   "id": "32206393",
   "metadata": {},
   "outputs": [
    {
     "name": "stdout",
     "output_type": "stream",
     "text": [
      "tensor(-5.9292)\n",
      "tensor(-5.9292)\n",
      "tensor(9.2588)\n"
     ]
    }
   ],
   "source": [
    "def r2_loss(outputs, targets):\n",
    "    target_mean = torch.mean(targets)\n",
    "    ss_tot = torch.sum((targets - target_mean) ** 2)\n",
    "    ss_res = torch.sum((targets - outputs) ** 2)\n",
    "    r2 = 1 - ss_res / ss_tot\n",
    "    return r2\n",
    "\n",
    "def r2_loss_2(outputs, targets):\n",
    "    ss_tot = 0.0\n",
    "    ss_res = 0.0\n",
    "    target_mean = torch.mean(targets)\n",
    "    for i in range(0,len(outputs)):\n",
    "        ss_tot += (targets[i] - target_mean) ** 2\n",
    "        ss_res += (targets[i] - outputs[i]) ** 2\n",
    "    r2 = 1 - ss_res / ss_tot\n",
    "    return r2\n",
    "\n",
    "# TODO: need to work with tensor objects.\n",
    "def SPOLoss (d_pred, d_actual):\n",
    "    # W: items to stock the warehouse\n",
    "    # h: inventory cost\n",
    "    # s: shipping cost\n",
    "    # ci: capacity limit for warehouse i = 1000 (per month)\n",
    "    cost = 0.0\n",
    "    max_capacity = 1000.0 / 31\n",
    "    for i in range(0, len(d_pred)):\n",
    "        if d_pred[i] <= max_capacity:\n",
    "            w = d_pred[i]\n",
    "        else:\n",
    "            w = max_capacity\n",
    "        if w > d_actual[i]:\n",
    "            h = 2.920 * (w - d_actual[i])  # average inventory cost per sku * (w - target)\n",
    "            s = 0\n",
    "        else:\n",
    "            h = 0\n",
    "            s = 0.803 * (d_actual[i] - w)\n",
    "        cost += h + s\n",
    "    return cost\n",
    " \n",
    "# print(torch.Tensor.float(1.0))\n",
    "outputs = torch.randn(5)\n",
    "targets = torch.randn(5)\n",
    "# print(outputs.size())\n",
    "# for i in range(0,len(outputs)):\n",
    "#   print(2)\n",
    "print(r2_loss(outputs,targets))\n",
    "print(r2_loss_2(outputs,targets))\n",
    "print(SPOLoss(outputs,targets))\n",
    "# print(torch.randn(5))\n",
    "# print(SPOLoss(1, 2))"
   ]
  },
  {
   "cell_type": "code",
   "execution_count": 102,
   "id": "d696570d",
   "metadata": {},
   "outputs": [],
   "source": [
    "# define model structure\n",
    "class linearRegression(torch.nn.Module):\n",
    "    def __init__(self, inputSize, outputSize):\n",
    "        super(linearRegression, self).__init__()\n",
    "        self.linear = torch.nn.Linear(inputSize, outputSize)\n",
    "\n",
    "    def forward(self, x):\n",
    "        out = self.linear(x)\n",
    "        return out"
   ]
  },
  {
   "cell_type": "code",
   "execution_count": 103,
   "id": "a142e18e",
   "metadata": {
    "colab": {
     "base_uri": "https://localhost:8080/",
     "height": 1000
    },
    "executionInfo": {
     "elapsed": 1341,
     "status": "ok",
     "timestamp": 1647244512390,
     "user": {
      "displayName": "Peng Xu",
      "photoUrl": "https://lh3.googleusercontent.com/a-/AOh14GihYc7h5im61ge3uVxyNDW7QWZ3KrL0gLMarQHM=s64",
      "userId": "13852652645537005974"
     },
     "user_tz": 420
    },
    "id": "a142e18e",
    "outputId": "d8e7987d-40ba-4d35-aa11-58399b13dc29"
   },
   "outputs": [],
   "source": [
    "# define training and evaluation functions\n",
    "\n",
    "def predict(model, x):\n",
    "    \n",
    "    \"\"\"\n",
    "    takes in a pytorch model and a matrix of features\n",
    "    return a list of predictions\n",
    "    \"\"\"\n",
    "    \n",
    "    with torch.no_grad(): # we don't need gradients in the testing phase\n",
    "    # if torch.cuda.is_available():\n",
    "    #     pred_y_train = model(Variable(torch.from_numpy(x_train).float().cuda())).cpu().data.numpy()\n",
    "    # else:\n",
    "    #     pred_y_train = model(Variable(torch.from_numpy(x_train).float())).data.numpy()\n",
    "        pred_y = model(Variable(torch.from_numpy(x).float())).data.numpy()\n",
    "        pred_y = [pred_y[x].item() for x in range(len(pred_y))]\n",
    "    return pred_y\n",
    "\n",
    "def linearRegressionTrain(x_train, y_train, learningRate, epochs, loss_type = 'MSE', regularize = 'None', plot = True):\n",
    "    \"\"\"\n",
    "    input: \n",
    "        - x_train whose type is numpy.ndarray\n",
    "        - y_train whose type is numpy.ndarray\n",
    "        - learningRate\n",
    "        - epochs\n",
    "        - regularization can be either \"None\" or \"l1\" or \"l2\", default is none\n",
    "        - loss_type can be either \"MSE\" or \"SPO\", default is 'MSE'\n",
    "        - plot: whether you want to plot the loss against epochs, default is True\n",
    "        \n",
    "    output:\n",
    "        trained pytorch linear regression model\n",
    "    \"\"\"\n",
    "    _, inputDim = x_train.shape\n",
    "    outputDim = 1       # takes variable 'y'\n",
    "    \n",
    "    loss_list = []\n",
    "\n",
    "    model = linearRegression(inputDim, outputDim)\n",
    "    \n",
    "    ##### For GPU #######\n",
    "    # if torch.cuda.is_available():\n",
    "    #     model.cuda()\n",
    "    \n",
    "    # initialize the loss function and optimizer\n",
    "    if loss_type == 'MSE': \n",
    "        \n",
    "        criterion = torch.nn.MSELoss()  \n",
    "        # criterion = r2_loss\n",
    "        \n",
    "        if regularize == 'None' or regularize == 'l1':\n",
    "            optimizer = torch.optim.SGD(model.parameters(), lr=learningRate)\n",
    "        else: # regularize = 'l2'\n",
    "            optimizer = torch.optim.SGD(model.parameters(),weight_decay = 0.2, lr=learningRate)\n",
    "            \n",
    "    elif loss_type == 'SPO': # change loss function and switch to adam optimizer\n",
    "        \n",
    "        criterion = SPOLoss\n",
    "        \n",
    "        if regularize == 'None' or regularize == 'l1':\n",
    "            optimizer = torch.optim.Adam(model.parameters(), lr=learningRate)\n",
    "        else: # regularize = 'l2'\n",
    "            optimizer = torch.optim.Adam(model.parameters(),weight_decay = 0.2, lr=learningRate)\n",
    "\n",
    "    else:\n",
    "        raise Exception('wrong loss_type')\n",
    "        \n",
    "    # model training\n",
    "\n",
    "    for epoch in range(epochs):\n",
    "        # Converting inputs and labels to Variable\n",
    "        # if torch.cuda.is_available():\n",
    "        #     inputs = Variable(torch.from_numpy(x_train).cuda())\n",
    "        #     labels = Variable(torch.from_numpy(y_train).cuda())\n",
    "        # else:\n",
    "        #     inputs = Variable(torch.from_numpy(x_train))\n",
    "        #     labels = Variable(torch.from_numpy(y_train))\n",
    "        inputs = Variable(torch.from_numpy(x_train))\n",
    "        labels = Variable(torch.from_numpy(y_train))\n",
    "\n",
    "        # Clear gradient buffers because we don't want any gradient from previous epoch to carry forward, dont want to cummulate gradients\n",
    "        optimizer.zero_grad()\n",
    "\n",
    "        # get output from the model, given the inputs\n",
    "        outputs = model(inputs.type(torch.FloatTensor))\n",
    "\n",
    "        # get loss for the predicted output\n",
    "        loss = criterion(outputs, labels.type(torch.FloatTensor))\n",
    "        \n",
    "        if loss_type == 'l1':\n",
    "            l1_norm = 0.1 * torch.norm(model.linear.weight, p=1) # double check\n",
    "            loss += l1_norm\n",
    "            \n",
    "        # get gradients w.r.t to parameters\n",
    "        loss.backward()\n",
    "\n",
    "        # update parameters\n",
    "        optimizer.step()\n",
    "\n",
    "        # store loss\n",
    "        loss_list.append(loss.data)\n",
    "\n",
    "        # print loss\n",
    "        #if(epoch % 100 == 0):\n",
    "            #print('epoch {}, loss {}'.format(epoch, loss.data))\n",
    "    \n",
    "    if plot:\n",
    "        plt.plot(range(epochs),loss_list)\n",
    "        plt.xlabel(\"Number of Iterations\")\n",
    "        plt.ylabel(\"Loss\")\n",
    "        plt\n",
    "\n",
    "    print('model trained using {} loss'.format(loss_type))\n",
    "    # bias b (offset or y-intercept)\n",
    "    print('y-intercept ', model.linear.bias.item())\n",
    "    # weight (w)\n",
    "    print('Coefficients ',  model.linear.weight.detach().numpy())\n",
    "    \n",
    "    pred_y_train = predict(model, x_train)\n",
    "    \n",
    "    print(\"Train MSE =\",mean_squared_error(y_train,pred_y_train))\n",
    "    print('Train R^2 =', r2_score(y_train, pred_y_train)) \n",
    "    print('Train SPO Loss =', SPOLoss(pred_y_train, y_train))\n",
    "    \n",
    "    return model\n",
    "\n",
    "\n",
    "def generate_scores(y_true, y_pred):\n",
    "    MSE = mean_squared_error(y_true, y_pred)\n",
    "    R2 = r2_score(y_true, y_pred)\n",
    "    SPO = SPOLoss(y_pred, y_true)\n",
    "    SPO_mean = SPO / len(y_pred)\n",
    "    #print(\"Train MSE =\", MSE)\n",
    "    #print('Train R^2 =', R2) \n",
    "    #print('Train SPO Loss =', SPO)\n",
    "    return pd.DataFrame({'MSE': MSE, 'R^2': R2, 'SPO Loss': SPO, 'SPO Loss Ave': SPO_mean})\n",
    "\n",
    "def evaluation(model, x_train, x_test, y_train, y_test, plot = True):\n",
    "    \n",
    "    \"\"\"\n",
    "    this function only works for pytorch model\n",
    "    \n",
    "    return a 2x4 dataframe: \n",
    "        - one row for training set, the other row for testing\n",
    "        - 4 columns are 4 scores: MSE, R2, SPO, SPO Ave\n",
    "    \"\"\"\n",
    "\n",
    "    pred_y_train = predict(model, x_train)\n",
    "    pred_y_test = predict(model, x_test)\n",
    "\n",
    "    # Comparing Actual and predicted values\n",
    "    if plot:\n",
    "        plt.figure(figsize=(7,7))\n",
    "        plt.scatter(y_train, pred_y_train, c='b', s=10)\n",
    "        plt.xlabel('Train Actual Demand'), plt.ylabel('Train Predicted Demand');\n",
    "        lim = 100\n",
    "        x = y = range(lim)\n",
    "        plt.plot(x,y, c='brown')\n",
    "        plt.xlim(0,lim), plt.ylim(0,lim);\n",
    "        plt\n",
    "\n",
    "        plt.figure(figsize=(7,7))\n",
    "        plt.scatter(y_test, pred_y_test, c='b', s=10)\n",
    "        plt.xlabel('Test Actual Demand'), plt.ylabel('Test Predicted Demand');\n",
    "        lim = 100\n",
    "        x = y = range(lim)\n",
    "        plt.plot(x,y, c='brown')\n",
    "        plt.xlim(0,lim), plt.ylim(0,lim);\n",
    "        plt\n",
    "\n",
    "    score_df = pd.concat([generate_scores(y_train, pred_y_train), generate_scores(y_test, pred_y_test)])\n",
    "    score_df.index = ['train', 'test']\n",
    "    \n",
    "    return score_df"
   ]
  },
  {
   "cell_type": "markdown",
   "id": "4ef3db6e",
   "metadata": {},
   "source": [
    "## MSE loss models"
   ]
  },
  {
   "cell_type": "markdown",
   "id": "0c8c15a2",
   "metadata": {},
   "source": [
    "### MSE loss model training"
   ]
  },
  {
   "cell_type": "code",
   "execution_count": 104,
   "id": "6215e0b1",
   "metadata": {},
   "outputs": [
    {
     "name": "stdout",
     "output_type": "stream",
     "text": [
      "model trained using MSE loss\n",
      "y-intercept  14.35352611541748\n",
      "Coefficients  [[-0.48755166 -0.04149816 -0.14702661  0.47343874  1.3565971   0.20318975\n",
      "  -0.9990774  -0.37483573  0.84117335  0.23917854  2.020081    5.215161\n",
      "  -0.5687409   0.16444607  5.994254    0.15934804  1.2438387  -1.3627551\n",
      "  -1.8316791   5.4256787   3.8038793   2.4466274   6.244605   -6.471545\n",
      "  -0.5474878   2.73983     0.03707725  0.7249532   0.3574881  -0.04374064\n",
      "   0.41297325  2.219526    0.6996357  -0.4318304  -0.3673639 ]]\n",
      "Train MSE = 57.95564003384165\n",
      "Train R^2 = 0.7640943783365753\n",
      "Train SPO Loss = [2050.43970906]\n"
     ]
    },
    {
     "data": {
      "image/png": "[encoded data removed]",
      "text/plain": [
       "<Figure size 432x288 with 1 Axes>"
      ]
     },
     "metadata": {
      "needs_background": "light"
     },
     "output_type": "display_data"
    }
   ],
   "source": [
    "# ols model training\n",
    "\n",
    "learningRate = 0.02\n",
    "epochs = 501\n",
    "\n",
    "model_ols = linearRegressionTrain(x_train, y_train, learningRate, epochs,'MSE','None')"
   ]
  },
  {
   "cell_type": "code",
   "execution_count": 105,
   "id": "5fefefaa",
   "metadata": {},
   "outputs": [
    {
     "name": "stdout",
     "output_type": "stream",
     "text": [
      "model trained using MSE loss\n",
      "y-intercept  13.048659324645996\n",
      "Coefficients  [[-0.36739314  0.02707228 -0.1542679   0.22996421  0.5299348   0.3334918\n",
      "  -0.2930901  -0.73024493  1.0631715  -0.01695778  1.388473    2.8734305\n",
      "  -0.49558654  0.85020745  5.3315663  -0.36863288  1.4188898  -1.0546482\n",
      "  -1.5443624   4.9779935   2.276709    1.4377056   5.708305   -4.3515162\n",
      "  -0.9209504   2.1090071  -0.09949403  0.30264282  0.06168602 -0.05044136\n",
      "   0.2959875   2.058706    0.5589809  -0.43541434 -0.37736088]]\n",
      "Train MSE = 63.744431524039655\n",
      "Train R^2 = 0.7405313833566616\n",
      "Train SPO Loss = [1821.43402753]\n"
     ]
    },
    {
     "data": {
      "image/png": "[encoded data removed]",
      "text/plain": [
       "<Figure size 432x288 with 1 Axes>"
      ]
     },
     "metadata": {
      "needs_background": "light"
     },
     "output_type": "display_data"
    }
   ],
   "source": [
    "# ridge regression (l2 regrularization)\n",
    "\n",
    "learningRate = 0.02\n",
    "epochs = 501\n",
    "\n",
    "# model training with weight_decay = 0.2\n",
    "model_ridge = linearRegressionTrain(x_train, y_train, learningRate, epochs,'MSE','l2')"
   ]
  },
  {
   "cell_type": "code",
   "execution_count": 106,
   "id": "4198cab4",
   "metadata": {},
   "outputs": [
    {
     "name": "stdout",
     "output_type": "stream",
     "text": [
      "model trained using MSE loss\n",
      "y-intercept  14.35352611541748\n",
      "Coefficients  [[-0.48474973 -0.03918249 -0.14485346  0.4420736   1.3431004   0.20228782\n",
      "  -1.0144827  -0.38716227  0.85040164  0.25234815  2.083052    5.2201743\n",
      "  -0.54463303  0.28554255  6.0118966   0.11184903  1.1653612  -1.4451077\n",
      "  -1.8746225   5.387849    3.6843035   2.3613033   6.233604   -6.4977446\n",
      "  -0.56353146  2.7302535   0.03340375  0.71932715  0.3574352  -0.05078746\n",
      "   0.40691435  2.2106566   0.6933362  -0.43861523 -0.36805457]]\n",
      "Train MSE = 57.9882827746078\n",
      "Train R^2 = 0.7639615076435982\n",
      "Train SPO Loss = [2051.30643716]\n"
     ]
    },
    {
     "data": {
      "image/png": "[encoded data removed]",
      "text/plain": [
       "<Figure size 432x288 with 1 Axes>"
      ]
     },
     "metadata": {
      "needs_background": "light"
     },
     "output_type": "display_data"
    }
   ],
   "source": [
    "# l1 regularization (lasso) - penalty coefficient set to be 0.1\n",
    "\n",
    "learningRate = 0.02\n",
    "epochs = 501\n",
    "\n",
    "model_lasso = linearRegressionTrain(x_train, y_train, learningRate, epochs,'MSE', 'l1')"
   ]
  },
  {
   "cell_type": "markdown",
   "id": "70b719f3",
   "metadata": {},
   "source": [
    "### MSE loss model evaluation"
   ]
  },
  {
   "cell_type": "code",
   "execution_count": 107,
   "id": "aa9b9e40",
   "metadata": {},
   "outputs": [
    {
     "data": {
      "text/html": [
       "<div>\n",
       "<style scoped>\n",
       "    .dataframe tbody tr th:only-of-type {\n",
       "        vertical-align: middle;\n",
       "    }\n",
       "\n",
       "    .dataframe tbody tr th {\n",
       "        vertical-align: top;\n",
       "    }\n",
       "\n",
       "    .dataframe thead th {\n",
       "        text-align: right;\n",
       "    }\n",
       "</style>\n",
       "<table border=\"1\" class=\"dataframe\">\n",
       "  <thead>\n",
       "    <tr style=\"text-align: right;\">\n",
       "      <th></th>\n",
       "      <th>MSE</th>\n",
       "      <th>R^2</th>\n",
       "      <th>SPO Loss</th>\n",
       "      <th>SPO Loss Ave</th>\n",
       "    </tr>\n",
       "  </thead>\n",
       "  <tbody>\n",
       "    <tr>\n",
       "      <th>train</th>\n",
       "      <td>57.95564</td>\n",
       "      <td>0.764094</td>\n",
       "      <td>2050.439709</td>\n",
       "      <td>10.355756</td>\n",
       "    </tr>\n",
       "    <tr>\n",
       "      <th>test</th>\n",
       "      <td>65.59301</td>\n",
       "      <td>0.594843</td>\n",
       "      <td>644.566505</td>\n",
       "      <td>11.308184</td>\n",
       "    </tr>\n",
       "  </tbody>\n",
       "</table>\n",
       "</div>"
      ],
      "text/plain": [
       "            MSE       R^2     SPO Loss  SPO Loss Ave\n",
       "train  57.95564  0.764094  2050.439709     10.355756\n",
       "test   65.59301  0.594843   644.566505     11.308184"
      ]
     },
     "execution_count": 107,
     "metadata": {},
     "output_type": "execute_result"
    },
    {
     "data": {
      "image/png": "[encoded data removed]",
      "text/plain": [
       "<Figure size 504x504 with 1 Axes>"
      ]
     },
     "metadata": {
      "needs_background": "light"
     },
     "output_type": "display_data"
    },
    {
     "data": {
      "image/png": "[encoded data removed]",
      "text/plain": [
       "<Figure size 504x504 with 1 Axes>"
      ]
     },
     "metadata": {
      "needs_background": "light"
     },
     "output_type": "display_data"
    }
   ],
   "source": [
    "# ols model Evaluation\n",
    "\n",
    "evaluation(model_ols, x_train, x_test, y_train, y_test)"
   ]
  },
  {
   "cell_type": "code",
   "execution_count": 108,
   "id": "8cc8394c",
   "metadata": {},
   "outputs": [
    {
     "data": {
      "text/html": [
       "<div>\n",
       "<style scoped>\n",
       "    .dataframe tbody tr th:only-of-type {\n",
       "        vertical-align: middle;\n",
       "    }\n",
       "\n",
       "    .dataframe tbody tr th {\n",
       "        vertical-align: top;\n",
       "    }\n",
       "\n",
       "    .dataframe thead th {\n",
       "        text-align: right;\n",
       "    }\n",
       "</style>\n",
       "<table border=\"1\" class=\"dataframe\">\n",
       "  <thead>\n",
       "    <tr style=\"text-align: right;\">\n",
       "      <th></th>\n",
       "      <th>MSE</th>\n",
       "      <th>R^2</th>\n",
       "      <th>SPO Loss</th>\n",
       "      <th>SPO Loss Ave</th>\n",
       "    </tr>\n",
       "  </thead>\n",
       "  <tbody>\n",
       "    <tr>\n",
       "      <th>train</th>\n",
       "      <td>56.959344</td>\n",
       "      <td>0.768150</td>\n",
       "      <td>2054.963949</td>\n",
       "      <td>10.378606</td>\n",
       "    </tr>\n",
       "    <tr>\n",
       "      <th>test</th>\n",
       "      <td>77.052244</td>\n",
       "      <td>0.524061</td>\n",
       "      <td>729.699173</td>\n",
       "      <td>12.801740</td>\n",
       "    </tr>\n",
       "  </tbody>\n",
       "</table>\n",
       "</div>"
      ],
      "text/plain": [
       "             MSE       R^2     SPO Loss  SPO Loss Ave\n",
       "train  56.959344  0.768150  2054.963949     10.378606\n",
       "test   77.052244  0.524061   729.699173     12.801740"
      ]
     },
     "execution_count": 108,
     "metadata": {},
     "output_type": "execute_result"
    }
   ],
   "source": [
    "# sklearn result for comparison\n",
    "ols = LinearRegression().fit(x_train, y_train)\n",
    "\n",
    "score_df2 = pd.concat([generate_scores(y_train, ols.predict(x_train)), generate_scores(y_test, ols.predict(x_test))])\n",
    "score_df2.index = ['train', 'test']\n",
    "score_df2"
   ]
  },
  {
   "cell_type": "code",
   "execution_count": 109,
   "id": "fcf7943a",
   "metadata": {},
   "outputs": [
    {
     "data": {
      "text/html": [
       "<div>\n",
       "<style scoped>\n",
       "    .dataframe tbody tr th:only-of-type {\n",
       "        vertical-align: middle;\n",
       "    }\n",
       "\n",
       "    .dataframe tbody tr th {\n",
       "        vertical-align: top;\n",
       "    }\n",
       "\n",
       "    .dataframe thead th {\n",
       "        text-align: right;\n",
       "    }\n",
       "</style>\n",
       "<table border=\"1\" class=\"dataframe\">\n",
       "  <thead>\n",
       "    <tr style=\"text-align: right;\">\n",
       "      <th></th>\n",
       "      <th>MSE</th>\n",
       "      <th>R^2</th>\n",
       "      <th>SPO Loss</th>\n",
       "      <th>SPO Loss Ave</th>\n",
       "    </tr>\n",
       "  </thead>\n",
       "  <tbody>\n",
       "    <tr>\n",
       "      <th>train</th>\n",
       "      <td>63.744432</td>\n",
       "      <td>0.740531</td>\n",
       "      <td>1821.434028</td>\n",
       "      <td>9.199162</td>\n",
       "    </tr>\n",
       "    <tr>\n",
       "      <th>test</th>\n",
       "      <td>61.367588</td>\n",
       "      <td>0.620943</td>\n",
       "      <td>539.572173</td>\n",
       "      <td>9.466178</td>\n",
       "    </tr>\n",
       "  </tbody>\n",
       "</table>\n",
       "</div>"
      ],
      "text/plain": [
       "             MSE       R^2     SPO Loss  SPO Loss Ave\n",
       "train  63.744432  0.740531  1821.434028      9.199162\n",
       "test   61.367588  0.620943   539.572173      9.466178"
      ]
     },
     "execution_count": 109,
     "metadata": {},
     "output_type": "execute_result"
    },
    {
     "data": {
      "image/png": "[encoded data removed]",
      "text/plain": [
       "<Figure size 504x504 with 1 Axes>"
      ]
     },
     "metadata": {
      "needs_background": "light"
     },
     "output_type": "display_data"
    },
    {
     "data": {
      "image/png": "[encoded data removed]",
      "text/plain": [
       "<Figure size 504x504 with 1 Axes>"
      ]
     },
     "metadata": {
      "needs_background": "light"
     },
     "output_type": "display_data"
    }
   ],
   "source": [
    "# ridge model evaluation\n",
    "evaluation(model_ridge, x_train, x_test, y_train, y_test)"
   ]
  },
  {
   "cell_type": "code",
   "execution_count": 110,
   "id": "e2056aae",
   "metadata": {},
   "outputs": [
    {
     "data": {
      "text/html": [
       "<div>\n",
       "<style scoped>\n",
       "    .dataframe tbody tr th:only-of-type {\n",
       "        vertical-align: middle;\n",
       "    }\n",
       "\n",
       "    .dataframe tbody tr th {\n",
       "        vertical-align: top;\n",
       "    }\n",
       "\n",
       "    .dataframe thead th {\n",
       "        text-align: right;\n",
       "    }\n",
       "</style>\n",
       "<table border=\"1\" class=\"dataframe\">\n",
       "  <thead>\n",
       "    <tr style=\"text-align: right;\">\n",
       "      <th></th>\n",
       "      <th>MSE</th>\n",
       "      <th>R^2</th>\n",
       "      <th>SPO Loss</th>\n",
       "      <th>SPO Loss Ave</th>\n",
       "    </tr>\n",
       "  </thead>\n",
       "  <tbody>\n",
       "    <tr>\n",
       "      <th>train</th>\n",
       "      <td>57.988283</td>\n",
       "      <td>0.763962</td>\n",
       "      <td>2051.306437</td>\n",
       "      <td>10.360134</td>\n",
       "    </tr>\n",
       "    <tr>\n",
       "      <th>test</th>\n",
       "      <td>65.671918</td>\n",
       "      <td>0.594356</td>\n",
       "      <td>644.313560</td>\n",
       "      <td>11.303747</td>\n",
       "    </tr>\n",
       "  </tbody>\n",
       "</table>\n",
       "</div>"
      ],
      "text/plain": [
       "             MSE       R^2     SPO Loss  SPO Loss Ave\n",
       "train  57.988283  0.763962  2051.306437     10.360134\n",
       "test   65.671918  0.594356   644.313560     11.303747"
      ]
     },
     "execution_count": 110,
     "metadata": {},
     "output_type": "execute_result"
    },
    {
     "data": {
      "image/png": "[encoded data removed]",
      "text/plain": [
       "<Figure size 504x504 with 1 Axes>"
      ]
     },
     "metadata": {
      "needs_background": "light"
     },
     "output_type": "display_data"
    },
    {
     "data": {
      "image/png": "[encoded data removed]",
      "text/plain": [
       "<Figure size 504x504 with 1 Axes>"
      ]
     },
     "metadata": {
      "needs_background": "light"
     },
     "output_type": "display_data"
    }
   ],
   "source": [
    "# lasso evaluation\n",
    "evaluation(model_lasso, x_train, x_test, y_train, y_test)"
   ]
  },
  {
   "cell_type": "code",
   "execution_count": 111,
   "id": "120d4a31",
   "metadata": {},
   "outputs": [
    {
     "data": {
      "text/html": [
       "<div>\n",
       "<style scoped>\n",
       "    .dataframe tbody tr th:only-of-type {\n",
       "        vertical-align: middle;\n",
       "    }\n",
       "\n",
       "    .dataframe tbody tr th {\n",
       "        vertical-align: top;\n",
       "    }\n",
       "\n",
       "    .dataframe thead th {\n",
       "        text-align: right;\n",
       "    }\n",
       "</style>\n",
       "<table border=\"1\" class=\"dataframe\">\n",
       "  <thead>\n",
       "    <tr style=\"text-align: right;\">\n",
       "      <th></th>\n",
       "      <th></th>\n",
       "      <th>MSE</th>\n",
       "      <th>R^2</th>\n",
       "      <th>SPO Loss</th>\n",
       "      <th>SPO Loss Ave</th>\n",
       "    </tr>\n",
       "  </thead>\n",
       "  <tbody>\n",
       "    <tr>\n",
       "      <th rowspan=\"2\" valign=\"top\">mse_ols</th>\n",
       "      <th>train</th>\n",
       "      <td>57.955640</td>\n",
       "      <td>0.764094</td>\n",
       "      <td>2050.439709</td>\n",
       "      <td>10.355756</td>\n",
       "    </tr>\n",
       "    <tr>\n",
       "      <th>test</th>\n",
       "      <td>65.593010</td>\n",
       "      <td>0.594843</td>\n",
       "      <td>644.566505</td>\n",
       "      <td>11.308184</td>\n",
       "    </tr>\n",
       "    <tr>\n",
       "      <th rowspan=\"2\" valign=\"top\">mse_ridge</th>\n",
       "      <th>train</th>\n",
       "      <td>63.744432</td>\n",
       "      <td>0.740531</td>\n",
       "      <td>1821.434028</td>\n",
       "      <td>9.199162</td>\n",
       "    </tr>\n",
       "    <tr>\n",
       "      <th>test</th>\n",
       "      <td>61.367588</td>\n",
       "      <td>0.620943</td>\n",
       "      <td>539.572173</td>\n",
       "      <td>9.466178</td>\n",
       "    </tr>\n",
       "    <tr>\n",
       "      <th rowspan=\"2\" valign=\"top\">mse_lasso</th>\n",
       "      <th>train</th>\n",
       "      <td>57.988283</td>\n",
       "      <td>0.763962</td>\n",
       "      <td>2051.306437</td>\n",
       "      <td>10.360134</td>\n",
       "    </tr>\n",
       "    <tr>\n",
       "      <th>test</th>\n",
       "      <td>65.671918</td>\n",
       "      <td>0.594356</td>\n",
       "      <td>644.313560</td>\n",
       "      <td>11.303747</td>\n",
       "    </tr>\n",
       "  </tbody>\n",
       "</table>\n",
       "</div>"
      ],
      "text/plain": [
       "                       MSE       R^2     SPO Loss  SPO Loss Ave\n",
       "mse_ols   train  57.955640  0.764094  2050.439709     10.355756\n",
       "          test   65.593010  0.594843   644.566505     11.308184\n",
       "mse_ridge train  63.744432  0.740531  1821.434028      9.199162\n",
       "          test   61.367588  0.620943   539.572173      9.466178\n",
       "mse_lasso train  57.988283  0.763962  2051.306437     10.360134\n",
       "          test   65.671918  0.594356   644.313560     11.303747"
      ]
     },
     "execution_count": 111,
     "metadata": {},
     "output_type": "execute_result"
    }
   ],
   "source": [
    "# compile results for models trained on MSE loss\n",
    "MSE_result = []\n",
    "\n",
    "for model, name in zip([model_ols, model_ridge, model_lasso],['mse_ols','mse_ridge','mse_lasso']):\n",
    "    score_df = evaluation(model, x_train, x_test, y_train, y_test, plot = False)\n",
    "    MSE_result.append(pd.concat({name:score_df}))\n",
    "    \n",
    "MSE_scores = pd.concat([MSE_result[0], MSE_result[1],MSE_result[2]])\n",
    "MSE_scores"
   ]
  },
  {
   "cell_type": "markdown",
   "id": "9b1e1025",
   "metadata": {},
   "source": [
    "## SPO loss models"
   ]
  },
  {
   "cell_type": "markdown",
   "id": "76d745ce",
   "metadata": {},
   "source": [
    "### SPO loss model training"
   ]
  },
  {
   "cell_type": "code",
   "execution_count": 112,
   "id": "dcc1e517",
   "metadata": {},
   "outputs": [
    {
     "name": "stdout",
     "output_type": "stream",
     "text": [
      "model trained using SPO loss\n",
      "y-intercept  8.557459831237793\n",
      "Coefficients  [[ 2.18463063e-01  3.26665998e-01  4.54758644e-01  1.46578208e-01\n",
      "   1.10693924e-01  3.25534716e-02  1.39951900e-01  1.09259553e-01\n",
      "  -2.77433451e-02  3.36235613e-01  1.61747634e+00  2.02326035e+00\n",
      "   1.50668159e-01  3.10677934e+00  1.85480618e+00 -3.93117070e-01\n",
      "   2.35492682e+00 -1.08948493e+00 -1.26899290e+00  4.36139584e+00\n",
      "   3.77322853e-01  1.10162616e+00  1.81051397e+00 -2.49158573e+00\n",
      "  -2.78723270e-01  8.91296566e-01  2.68579841e-01  4.34431851e-01\n",
      "  -2.72882003e-02 -4.95578870e-02 -3.22400942e-03  3.10566247e-01\n",
      "  -1.34094320e-02 -6.33127332e-01 -1.24476540e+00]]\n",
      "Train MSE = 149.1157025995607\n",
      "Train R^2 = 0.3930317653124543\n",
      "Train SPO Loss = [1089.61379937]\n"
     ]
    },
    {
     "name": "stderr",
     "output_type": "stream",
     "text": [
      "/usr/local/lib/python3.9/site-packages/numpy/core/shape_base.py:65: FutureWarning: The input object of type 'Tensor' is an array-like implementing one of the corresponding protocols (`__array__`, `__array_interface__` or `__array_struct__`); but not a sequence (or 0-D). In the future, this object will be coerced as if it was first converted using `np.array(obj)`. To retain the old behaviour, you have to either modify the type 'Tensor', or assign to an empty array created with `np.empty(correct_shape, dtype=object)`.\n",
      "  ary = asanyarray(ary)\n",
      "/usr/local/lib/python3.9/site-packages/numpy/core/shape_base.py:65: VisibleDeprecationWarning: Creating an ndarray from ragged nested sequences (which is a list-or-tuple of lists-or-tuples-or ndarrays with different lengths or shapes) is deprecated. If you meant to do this, you must specify 'dtype=object' when creating the ndarray.\n",
      "  ary = asanyarray(ary)\n"
     ]
    },
    {
     "data": {
      "image/png": "[encoded data removed]",
      "text/plain": [
       "<Figure size 432x288 with 1 Axes>"
      ]
     },
     "metadata": {
      "needs_background": "light"
     },
     "output_type": "display_data"
    }
   ],
   "source": [
    "# ols\n",
    "\n",
    "learningRate = 0.02\n",
    "epochs = 1001\n",
    "\n",
    "# model training with weight_decay = 0.2\n",
    "model_ols2 = linearRegressionTrain(x_train, y_train, learningRate, epochs,'SPO','None')"
   ]
  },
  {
   "cell_type": "code",
   "execution_count": 113,
   "id": "c60d3a77",
   "metadata": {},
   "outputs": [
    {
     "name": "stdout",
     "output_type": "stream",
     "text": [
      "model trained using SPO loss\n",
      "y-intercept  8.554770469665527\n",
      "Coefficients  [[ 1.9929528e-01  3.1826138e-01  4.4167864e-01  1.4628421e-01\n",
      "   1.1072145e-01  1.9916808e-02  1.2509537e-01  1.0659948e-01\n",
      "  -5.1695209e-02  3.2560104e-01  1.6000701e+00  1.9824287e+00\n",
      "   1.4887135e-01  3.0224218e+00  1.8391422e+00 -3.9906454e-01\n",
      "   2.3748569e+00 -1.0787982e+00 -1.2528518e+00  4.3735952e+00\n",
      "   4.4331232e-01  1.1342974e+00  1.8259633e+00 -2.4442105e+00\n",
      "  -2.8468791e-01  8.9195198e-01  2.7575067e-01  4.2914233e-01\n",
      "  -2.5781674e-02 -4.1086271e-02  2.6128304e-03  3.0989867e-01\n",
      "  -1.4138795e-02 -6.2213629e-01 -1.2122384e+00]]\n",
      "Train MSE = 149.361811731354\n",
      "Train R^2 = 0.3920299900288263\n",
      "Train SPO Loss = [1089.57420555]\n"
     ]
    },
    {
     "name": "stderr",
     "output_type": "stream",
     "text": [
      "/usr/local/lib/python3.9/site-packages/numpy/core/shape_base.py:65: FutureWarning: The input object of type 'Tensor' is an array-like implementing one of the corresponding protocols (`__array__`, `__array_interface__` or `__array_struct__`); but not a sequence (or 0-D). In the future, this object will be coerced as if it was first converted using `np.array(obj)`. To retain the old behaviour, you have to either modify the type 'Tensor', or assign to an empty array created with `np.empty(correct_shape, dtype=object)`.\n",
      "  ary = asanyarray(ary)\n",
      "/usr/local/lib/python3.9/site-packages/numpy/core/shape_base.py:65: VisibleDeprecationWarning: Creating an ndarray from ragged nested sequences (which is a list-or-tuple of lists-or-tuples-or ndarrays with different lengths or shapes) is deprecated. If you meant to do this, you must specify 'dtype=object' when creating the ndarray.\n",
      "  ary = asanyarray(ary)\n"
     ]
    },
    {
     "data": {
      "image/png": "[encoded data removed]",
      "text/plain": [
       "<Figure size 432x288 with 1 Axes>"
      ]
     },
     "metadata": {
      "needs_background": "light"
     },
     "output_type": "display_data"
    }
   ],
   "source": [
    "# ridge regression (l2 regrularization)\n",
    "\n",
    "learningRate = 0.02\n",
    "epochs = 1001\n",
    "\n",
    "# model training with weight_decay = 0.2\n",
    "model_ridge2 = linearRegressionTrain(x_train, y_train, learningRate, epochs,'SPO','l2')"
   ]
  },
  {
   "cell_type": "code",
   "execution_count": 114,
   "id": "e074cf11",
   "metadata": {},
   "outputs": [
    {
     "name": "stdout",
     "output_type": "stream",
     "text": [
      "model trained using SPO loss\n",
      "y-intercept  8.557825088500977\n",
      "Coefficients  [[ 2.2306675e-01  3.2934368e-01  4.5949322e-01  1.5172373e-01\n",
      "   1.1314541e-01  1.7895292e-02  1.3329236e-01  9.5941469e-02\n",
      "  -4.9401022e-02  3.3400050e-01  1.6240931e+00  2.0345809e+00\n",
      "   1.4658338e-01  3.0889745e+00  1.8585044e+00 -3.9113700e-01\n",
      "   2.3359346e+00 -1.0926110e+00 -1.2612000e+00  4.3575592e+00\n",
      "   3.8874790e-01  1.1035242e+00  1.7783793e+00 -2.5184443e+00\n",
      "  -2.8627372e-01  8.9921862e-01  2.7611312e-01  4.4294250e-01\n",
      "  -3.5266586e-02 -5.4525882e-02 -2.2518034e-03  3.1116793e-01\n",
      "  -1.7718356e-02 -6.3810873e-01 -1.2390753e+00]]\n",
      "Train MSE = 149.44501122952107\n",
      "Train R^2 = 0.39169133050706584\n",
      "Train SPO Loss = [1089.26495131]\n"
     ]
    },
    {
     "name": "stderr",
     "output_type": "stream",
     "text": [
      "/usr/local/lib/python3.9/site-packages/numpy/core/shape_base.py:65: FutureWarning: The input object of type 'Tensor' is an array-like implementing one of the corresponding protocols (`__array__`, `__array_interface__` or `__array_struct__`); but not a sequence (or 0-D). In the future, this object will be coerced as if it was first converted using `np.array(obj)`. To retain the old behaviour, you have to either modify the type 'Tensor', or assign to an empty array created with `np.empty(correct_shape, dtype=object)`.\n",
      "  ary = asanyarray(ary)\n",
      "/usr/local/lib/python3.9/site-packages/numpy/core/shape_base.py:65: VisibleDeprecationWarning: Creating an ndarray from ragged nested sequences (which is a list-or-tuple of lists-or-tuples-or ndarrays with different lengths or shapes) is deprecated. If you meant to do this, you must specify 'dtype=object' when creating the ndarray.\n",
      "  ary = asanyarray(ary)\n"
     ]
    },
    {
     "data": {
      "image/png": "[encoded data removed]",
      "text/plain": [
       "<Figure size 432x288 with 1 Axes>"
      ]
     },
     "metadata": {
      "needs_background": "light"
     },
     "output_type": "display_data"
    }
   ],
   "source": [
    "# l1 regularization (lasso) - penalty coefficient set to be 0.1\n",
    "\n",
    "learningRate = 0.02\n",
    "epochs = 1001\n",
    "\n",
    "model_lasso2 = linearRegressionTrain(x_train, y_train, learningRate, epochs,'SPO', 'l1')"
   ]
  },
  {
   "cell_type": "markdown",
   "id": "540af02a",
   "metadata": {},
   "source": [
    "### SPO loss model evaluation"
   ]
  },
  {
   "cell_type": "code",
   "execution_count": 115,
   "id": "00c9a9fd",
   "metadata": {
    "scrolled": true
   },
   "outputs": [
    {
     "data": {
      "text/html": [
       "<div>\n",
       "<style scoped>\n",
       "    .dataframe tbody tr th:only-of-type {\n",
       "        vertical-align: middle;\n",
       "    }\n",
       "\n",
       "    .dataframe tbody tr th {\n",
       "        vertical-align: top;\n",
       "    }\n",
       "\n",
       "    .dataframe thead th {\n",
       "        text-align: right;\n",
       "    }\n",
       "</style>\n",
       "<table border=\"1\" class=\"dataframe\">\n",
       "  <thead>\n",
       "    <tr style=\"text-align: right;\">\n",
       "      <th></th>\n",
       "      <th></th>\n",
       "      <th>MSE</th>\n",
       "      <th>R^2</th>\n",
       "      <th>SPO Loss</th>\n",
       "      <th>SPO Loss Ave</th>\n",
       "    </tr>\n",
       "  </thead>\n",
       "  <tbody>\n",
       "    <tr>\n",
       "      <th rowspan=\"2\" valign=\"top\">spo_ols</th>\n",
       "      <th>train</th>\n",
       "      <td>149.115703</td>\n",
       "      <td>0.393032</td>\n",
       "      <td>1089.613799</td>\n",
       "      <td>5.503100</td>\n",
       "    </tr>\n",
       "    <tr>\n",
       "      <th>test</th>\n",
       "      <td>98.619059</td>\n",
       "      <td>0.390847</td>\n",
       "      <td>404.820776</td>\n",
       "      <td>7.102119</td>\n",
       "    </tr>\n",
       "    <tr>\n",
       "      <th rowspan=\"2\" valign=\"top\">spo_ridge</th>\n",
       "      <th>train</th>\n",
       "      <td>149.361812</td>\n",
       "      <td>0.392030</td>\n",
       "      <td>1089.574206</td>\n",
       "      <td>5.502900</td>\n",
       "    </tr>\n",
       "    <tr>\n",
       "      <th>test</th>\n",
       "      <td>98.534607</td>\n",
       "      <td>0.391369</td>\n",
       "      <td>403.616350</td>\n",
       "      <td>7.080989</td>\n",
       "    </tr>\n",
       "    <tr>\n",
       "      <th rowspan=\"2\" valign=\"top\">spo_lasso</th>\n",
       "      <th>train</th>\n",
       "      <td>149.445011</td>\n",
       "      <td>0.391691</td>\n",
       "      <td>1089.264951</td>\n",
       "      <td>5.501338</td>\n",
       "    </tr>\n",
       "    <tr>\n",
       "      <th>test</th>\n",
       "      <td>98.717715</td>\n",
       "      <td>0.390237</td>\n",
       "      <td>404.959398</td>\n",
       "      <td>7.104551</td>\n",
       "    </tr>\n",
       "  </tbody>\n",
       "</table>\n",
       "</div>"
      ],
      "text/plain": [
       "                        MSE       R^2     SPO Loss  SPO Loss Ave\n",
       "spo_ols   train  149.115703  0.393032  1089.613799      5.503100\n",
       "          test    98.619059  0.390847   404.820776      7.102119\n",
       "spo_ridge train  149.361812  0.392030  1089.574206      5.502900\n",
       "          test    98.534607  0.391369   403.616350      7.080989\n",
       "spo_lasso train  149.445011  0.391691  1089.264951      5.501338\n",
       "          test    98.717715  0.390237   404.959398      7.104551"
      ]
     },
     "execution_count": 115,
     "metadata": {},
     "output_type": "execute_result"
    }
   ],
   "source": [
    "# compile results for models trained on SPO loss\n",
    "SPO_result = []\n",
    "\n",
    "for model, name in zip([model_ols2, model_ridge2, model_lasso2],['spo_ols','spo_ridge','spo_lasso']):\n",
    "    score_df = evaluation(model, x_train, x_test, y_train, y_test, plot = False)\n",
    "    SPO_result.append(pd.concat({name:score_df}))\n",
    "    \n",
    "SPO_scores = pd.concat([SPO_result[0], SPO_result[1], SPO_result[2]])\n",
    "SPO_scores"
   ]
  },
  {
   "cell_type": "code",
   "execution_count": 116,
   "id": "04689b54",
   "metadata": {},
   "outputs": [
    {
     "data": {
      "text/html": [
       "<div>\n",
       "<style scoped>\n",
       "    .dataframe tbody tr th:only-of-type {\n",
       "        vertical-align: middle;\n",
       "    }\n",
       "\n",
       "    .dataframe tbody tr th {\n",
       "        vertical-align: top;\n",
       "    }\n",
       "\n",
       "    .dataframe thead th {\n",
       "        text-align: right;\n",
       "    }\n",
       "</style>\n",
       "<table border=\"1\" class=\"dataframe\">\n",
       "  <thead>\n",
       "    <tr style=\"text-align: right;\">\n",
       "      <th></th>\n",
       "      <th></th>\n",
       "      <th>MSE</th>\n",
       "      <th>R^2</th>\n",
       "      <th>SPO Loss</th>\n",
       "      <th>SPO Loss Ave</th>\n",
       "    </tr>\n",
       "  </thead>\n",
       "  <tbody>\n",
       "    <tr>\n",
       "      <th rowspan=\"2\" valign=\"top\">mse_ols</th>\n",
       "      <th>train</th>\n",
       "      <td>57.955640</td>\n",
       "      <td>0.764094</td>\n",
       "      <td>2050.439709</td>\n",
       "      <td>10.355756</td>\n",
       "    </tr>\n",
       "    <tr>\n",
       "      <th>test</th>\n",
       "      <td>65.593010</td>\n",
       "      <td>0.594843</td>\n",
       "      <td>644.566505</td>\n",
       "      <td>11.308184</td>\n",
       "    </tr>\n",
       "    <tr>\n",
       "      <th rowspan=\"2\" valign=\"top\">mse_ridge</th>\n",
       "      <th>train</th>\n",
       "      <td>63.744432</td>\n",
       "      <td>0.740531</td>\n",
       "      <td>1821.434028</td>\n",
       "      <td>9.199162</td>\n",
       "    </tr>\n",
       "    <tr>\n",
       "      <th>test</th>\n",
       "      <td>61.367588</td>\n",
       "      <td>0.620943</td>\n",
       "      <td>539.572173</td>\n",
       "      <td>9.466178</td>\n",
       "    </tr>\n",
       "    <tr>\n",
       "      <th rowspan=\"2\" valign=\"top\">mse_lasso</th>\n",
       "      <th>train</th>\n",
       "      <td>57.988283</td>\n",
       "      <td>0.763962</td>\n",
       "      <td>2051.306437</td>\n",
       "      <td>10.360134</td>\n",
       "    </tr>\n",
       "    <tr>\n",
       "      <th>test</th>\n",
       "      <td>65.671918</td>\n",
       "      <td>0.594356</td>\n",
       "      <td>644.313560</td>\n",
       "      <td>11.303747</td>\n",
       "    </tr>\n",
       "  </tbody>\n",
       "</table>\n",
       "</div>"
      ],
      "text/plain": [
       "                       MSE       R^2     SPO Loss  SPO Loss Ave\n",
       "mse_ols   train  57.955640  0.764094  2050.439709     10.355756\n",
       "          test   65.593010  0.594843   644.566505     11.308184\n",
       "mse_ridge train  63.744432  0.740531  1821.434028      9.199162\n",
       "          test   61.367588  0.620943   539.572173      9.466178\n",
       "mse_lasso train  57.988283  0.763962  2051.306437     10.360134\n",
       "          test   65.671918  0.594356   644.313560     11.303747"
      ]
     },
     "execution_count": 116,
     "metadata": {},
     "output_type": "execute_result"
    }
   ],
   "source": [
    "MSE_scores"
   ]
  },
  {
   "cell_type": "code",
   "execution_count": null,
   "id": "cba9a801",
   "metadata": {},
   "outputs": [],
   "source": []
  },
  {
   "cell_type": "code",
   "execution_count": null,
   "id": "0a8961b9",
   "metadata": {},
   "outputs": [],
   "source": []
  },
  {
   "cell_type": "markdown",
   "id": "e5fbbcf7",
   "metadata": {},
   "source": [
    "# References"
   ]
  },
  {
   "cell_type": "code",
   "execution_count": 117,
   "id": "70b340dc",
   "metadata": {},
   "outputs": [],
   "source": [
    "%%script false --no-raise-error\n",
    "import time\n",
    "# Batch Gradient Descent Using Numpy - For comparison purpose\n",
    "\n",
    "\"\"\"\n",
    "code is based on Yuhan Cheng's code, approved use\n",
    "\"\"\"\n",
    "\n",
    "def multivariate_ols(xvalue_matrix, yvalues, R=0.01, MaxIterations=1000):\n",
    "    start_time = time.time()\n",
    "    alpha = 0.0\n",
    "    beta = np.zeros((xvalue_matrix.shape[1],))\n",
    "    epsilon = 0.00001\n",
    "    n = float(len(xvalue_matrix))\n",
    "    loss = []\n",
    "    for i in range(MaxIterations):\n",
    "        # compute new coefficients\n",
    "        y_pred = alpha + np.matmul(xvalue_matrix, beta)\n",
    "        loss.append(mean_squared_error(y_pred,yvalues))\n",
    "#         if i % 100 == 0:\n",
    "#             print('Current Loss:', loss)\n",
    "        d_alpha = np.mean(y_pred - yvalues)\n",
    "        d_beta = np.mean((y_pred - yvalues) * xvalue_matrix.T, axis = 1)\n",
    "        alpha_1 = alpha - (R * d_alpha)\n",
    "        beta_1 = beta - (R * d_beta)\n",
    "        \n",
    "        if np.isnan(alpha_1):\n",
    "            print('nan at iter', str(i))\n",
    "            break\n",
    "        \n",
    "        # check to see whether stopping criteria has been met\n",
    "        if (np.abs(alpha_1-alpha)<epsilon) and np.all(np.abs(beta_1-beta)<epsilon):\n",
    "            alpha, beta = alpha_1, beta_1\n",
    "            print('error < epsilon, criteria met')\n",
    "            break\n",
    "        alpha, beta = alpha_1, beta_1\n",
    "            \n",
    "    print(\"Time taken: {:.2f} seconds\".format(time.time() - start_time))\n",
    "    print('MSE:', str(loss[-1]))\n",
    "    print('R2:', str(r2_score(y_true=yvalues, y_pred = y_pred)))\n",
    "    \n",
    "    plt.plot(range(len(loss)),loss)\n",
    "    plt.xlabel(\"Number of Iterations\")\n",
    "    plt.ylabel(\"Loss\")\n",
    "    plt.show()\n",
    "    return alpha, beta"
   ]
  },
  {
   "cell_type": "markdown",
   "id": "70029af4",
   "metadata": {},
   "source": [
    "Ref:\n",
    "Lineary Regression with Pytorch\n",
    "  \n",
    "  https://medium.com/analytics-vidhya/linear-regression-with-pytorch-147fed55f138\n",
    "  \n",
    "  https://linuxhint.com/pytorch_linear_regression_tutorial/\n",
    "  \n",
    "  https://medium.com/biaslyai/pytorch-linear-and-logistic-regression-models-5c5f0da2cb9\n",
    "  \n",
    "  https://towardsdatascience.com/linear-regression-with-pytorch-eb6dedead817\n",
    "  \n",
    "  https://www.reneshbedre.com/blog/pytorch-regression.html\n",
    "  \n",
    "  https://www.kaggle.com/joseguzman/multiple-regression-explained-with-pytorch?scriptVersionId=73005237\n",
    "  \n",
    "  https://www.deeplearningwizard.com/deep_learning/practical_pytorch/pytorch_linear_regression/#building-a-linear-regression-model-with-pytorch-gpu\n",
    "  \n",
    "Evaluations:\n",
    "\n",
    "  https://www.analyticsvidhya.com/blog/2021/05/know-the-best-evaluation-metrics-for-your-regression-model/\n",
    "  \n",
    "Quick Ordinary Lineary Regression Calculator:\n",
    "\n",
    "  https://www.socscistatistics.com/tests/regression/default.aspx\n"
   ]
  }
 ],
 "metadata": {
  "colab": {
   "name": "PyTorch_models_Ben.ipynb",
   "provenance": []
  },
  "kernelspec": {
   "display_name": "Python 3 (ipykernel)",
   "language": "python",
   "name": "python3"
  },
  "language_info": {
   "codemirror_mode": {
    "name": "ipython",
    "version": 3
   },
   "file_extension": ".py",
   "mimetype": "text/x-python",
   "name": "python",
   "nbconvert_exporter": "python",
   "pygments_lexer": "ipython3",
   "version": "3.9.10"
  }
 },
 "nbformat": 4,
 "nbformat_minor": 5
}
